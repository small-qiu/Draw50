{
 "cells": [
  {
   "cell_type": "markdown",
   "metadata": {},
   "source": [
    "## 第一期 关联图：06边缘直方图 & 07边缘箱线图"
   ]
  },
  {
   "cell_type": "markdown",
   "metadata": {},
   "source": [
    "## o新知识点\n",
    "\n",
    "1.fig = plt.figure(figsize=(16, 10), dpi= 80)\n",
    "\n",
    "2.grid = plt.GridSpec(4, 4, hspace=0.5, wspace=0.2) #grid是一个二维列表,将画布切成块，采用索引的方式获得画布的内容\n",
    "\n",
    "3.plt.hist()\n",
    "\n",
    "4.sns.boxplot(）\n",
    "\n",
    "5.c=df.manufacturer.astype('category').cat.codes #这是按类别编码的一种写法，之前用不同float\n"
   ]
  },
  {
   "cell_type": "markdown",
   "metadata": {},
   "source": [
    "<img src=\"http://pictes.oss-cn-beijing.aliyuncs.com/microclass-virtualisation/week1correlation/line4.png\" align=\"center\" />"
   ]
  },
  {
   "cell_type": "markdown",
   "metadata": {},
   "source": [
    "### 06/50 边缘直方图"
   ]
  },
  {
   "cell_type": "markdown",
   "metadata": {},
   "source": [
    "边缘直方图是在使用散点图探索横纵坐标关系的基础上，还使用直方图对横坐标和纵坐标分别进行分布探索的图像。  \n",
    "这个图像在统计学的探索性分析（EDA）中常用，以探求数据是否符合统计学的一系列要求，比如说线性回归要求残差需满足正态分布，即因变量y满足正态分布等等。  \n",
    "在机器学习中，我们也会探索数据是否处于偏态，以指导是否需要对数据做归一化或者标准化等处理。"
   ]
  },
  {
   "cell_type": "markdown",
   "metadata": {},
   "source": [
    "<img src=\"http://pictes.oss-cn-beijing.aliyuncs.com/microclass-virtualisation/week1correlation/06%20%E7%9B%B4%E6%96%B9%E5%9B%BE.PNG\" align=\"center\" />"
   ]
  },
  {
   "cell_type": "markdown",
   "metadata": {},
   "source": [
    "横坐标：发动机排量(L)<br>\n",
    "纵坐标：公路里程/加仑  \n",
    "虽然没有显示图例不过散点有颜色：制造商的名称"
   ]
  },
  {
   "cell_type": "markdown",
   "metadata": {},
   "source": [
    "### 1. 导入需要的绘图库"
   ]
  },
  {
   "cell_type": "code",
   "execution_count": 1,
   "metadata": {},
   "outputs": [],
   "source": [
    "import numpy as np\n",
    "import pandas as pd\n",
    "import matplotlib as mpl\n",
    "import matplotlib.pyplot as plt\n",
    "import seaborn as sns\n",
    "%matplotlib inline"
   ]
  },
  {
   "cell_type": "markdown",
   "metadata": {},
   "source": [
    "要绘制出这张图，我们不仅是了解绘图的函数这么简单了。之前绘制的图像都是一画布一图，或者一个画布上多个图，但多个图都是同类型的图。  \n",
    "现在要绘制的这张图上有三张图，并且这三张图的类型还不同：一张散点图，两张直方图。我们则我们首先需要来了解，如何构筑出可以容纳多个画布的图。"
   ]
  },
  {
   "cell_type": "markdown",
   "metadata": {},
   "source": [
    "### 2. 准备画布与子图"
   ]
  },
  {
   "cell_type": "markdown",
   "metadata": {},
   "source": [
    "#### **plt.figure，plt.GridSpec与fig.add_subplot**  "
   ]
  },
  {
   "cell_type": "markdown",
   "metadata": {},
   "source": [
    "> **plt.figure**：构建画布  \n",
    ">> figsize：画布大小  \n",
    ">> dpi：该图像分辨率  "
   ]
  },
  {
   "cell_type": "markdown",
   "metadata": {},
   "source": [
    "> **plt.GridSpec**：在画布上进行分割\n",
    ">> nrows：画布上存在多少行  \n",
    ">> ncols：画布上存在多少列  \n",
    ">> hspace：格子之间上下的间隔  \n",
    ">> wspace：格子之间左右的间隔"
   ]
  },
  {
   "cell_type": "code",
   "execution_count": 2,
   "metadata": {},
   "outputs": [
    {
     "data": {
      "text/plain": [
       "<Figure size 1280x800 with 0 Axes>"
      ]
     },
     "metadata": {},
     "output_type": "display_data"
    }
   ],
   "source": [
    "#创建画布与格子\n",
    "fig = plt.figure(figsize=(16, 10), dpi= 80)\n",
    "grid = plt.GridSpec(4, 4, hspace=0.5, wspace=0.2)"
   ]
  },
  {
   "cell_type": "markdown",
   "metadata": {},
   "source": [
    "<img src=\"http://pictes.oss-cn-beijing.aliyuncs.com/microclass-virtualisation/week1correlation/plt.GridSpec%E5%9C%A8%E5%B9%B2%E5%95%A5.PNG\" align=\"center\" />"
   ]
  },
  {
   "cell_type": "markdown",
   "metadata": {},
   "source": [
    "> **fig.add_subplot**：在画布上建立子图\n",
    ">> \\*args：一个3位整数或三个独立的整数，用于描述子图的位置。如果三个整数按顺序为行，列和索引，则子图将采用行\\*列网格上的索引所对应的位置。索引从左上角的0开始，向右增加，最右及最下用-1表示。与Python中所有的索引一样，取前不取后。  "
   ]
  },
  {
   "cell_type": "code",
   "execution_count": 3,
   "metadata": {},
   "outputs": [],
   "source": [
    "#添加子图\n",
    "ax_main = fig.add_subplot(grid[:-1, :-1])\n",
    "ax_right = fig.add_subplot(grid[:-1, -1], xticklabels=[], yticklabels=[])\n",
    "ax_bottom = fig.add_subplot(grid[-1, 0:-1], xticklabels=[], yticklabels=[])\n",
    "#有了子图之后，就可以在每个子图上来进行绘图了"
   ]
  },
  {
   "cell_type": "markdown",
   "metadata": {},
   "source": [
    "<img src=\"http://pictes.oss-cn-beijing.aliyuncs.com/microclass-virtualisation/week1correlation/line4.png\" align=\"center\" />"
   ]
  },
  {
   "cell_type": "markdown",
   "metadata": {},
   "source": [
    "#### 小练习：你能写出创建下面五个子图的代码吗？"
   ]
  },
  {
   "cell_type": "markdown",
   "metadata": {},
   "source": [
    "<img src=\"http://pictes.oss-cn-beijing.aliyuncs.com/microclass-virtualisation/week1correlation/%E7%BB%83%E4%B9%A0%E9%A2%98.png\" align=\"center\" />"
   ]
  },
  {
   "cell_type": "markdown",
   "metadata": {},
   "source": [
    "#### 正确答案\n",
    "gs = plt.GridSpec(3, 3) <br>\n",
    "ax1 = plt.subplot(gs[0, :],xticklabels=[], yticklabels=[])<br>\n",
    "ax2 = plt.subplot(gs[1, :-1],xticklabels=[], yticklabels=[])<br>\n",
    "ax3 = plt.subplot(gs[1:, -1],xticklabels=[], yticklabels=[])<br>\n",
    "ax4 = plt.subplot(gs[-1, 0],xticklabels=[], yticklabels=[])<br>\n",
    "ax5 = plt.subplot(gs[-1, -2],xticklabels=[], yticklabels=[])"
   ]
  },
  {
   "cell_type": "markdown",
   "metadata": {},
   "source": [
    "<img src=\"http://pictes.oss-cn-beijing.aliyuncs.com/microclass-virtualisation/week1correlation/line4.png\" align=\"center\" />"
   ]
  },
  {
   "cell_type": "markdown",
   "metadata": {},
   "source": [
    "### 3. 认识绘制直方图的函数"
   ]
  },
  {
   "cell_type": "markdown",
   "metadata": {},
   "source": [
    "直方图是用来表示数据分布的图像，所谓的分布，就是“在一个连续型变量的不同取值范围内存在多少个值”的表示"
   ]
  },
  {
   "cell_type": "markdown",
   "metadata": {},
   "source": [
    "#### 条形图 vs 直方图\n",
    "> 1. 条形图中的“条”一般是分开的，而直方图中的“条”一般是没有距离的\n",
    "> 2. 条形图的横坐标一般都是**分类型变量的不同类别**（比如不同的人，不同的城市等等），纵坐标一般都是**这一类别上的值之和或者计数**（工资，人口等等），而直方图的横坐标一般是某个**连续型变量上不同的取值区间**（比如体重，价格等等），纵坐标是这一段取值范围内**样本的个数之和**  \n",
    "> 3. 所以条形图表示的是不同类别下的取值，核心是对比不同类别下的值的差异（所以条形图属于偏差图），而直方图表示的是不同取值区间内含有的样本个数，核心是查看某个变量的分布，以指导后续的预处理或者模型建立\n",
    "> 4. 也因此，条形图是和两个变量相关，而直方图一般只和一个变量以及我们在变量上进行的分箱有关"
   ]
  },
  {
   "cell_type": "markdown",
   "metadata": {},
   "source": [
    "<img src=\"http://pictes.oss-cn-beijing.aliyuncs.com/microclass-virtualisation/week1correlation/bar%20charts%20vs%20his.PNG\" align=\"center\" />"
   ]
  },
  {
   "cell_type": "markdown",
   "metadata": {},
   "source": [
    "#### **直方图 plt.hist()**"
   ]
  },
  {
   "cell_type": "markdown",
   "metadata": {},
   "source": [
    "> 重要参数\n",
    ">> x & bins：需要分析的变量以及把变量分成多少段  \n",
    ">> orientation：直方图的方向，可分为横向(horizontal)和纵向(vertical)  \n",
    ">> histtype：生成的直方图类型，可输入{'bar', 'barstacked', 'step',  'stepfilled'}四种类型，分别代表着：\n",
    ">>>'bar'是传统的条形直方图。 如果给出多个数据，则条并排排列  \n",
    ">>>'barstacked'是条形直方图，其中多个数据堆叠在一起  \n",
    ">>>'step'生成一个默认未填充的线条轮廓  \n",
    ">>>'stepfilled'生成一个默认填充的线条轮廓"
   ]
  },
  {
   "cell_type": "code",
   "execution_count": 11,
   "metadata": {},
   "outputs": [],
   "source": [
    "#构建数据\n",
    "X = np.random.randn(10000)"
   ]
  },
  {
   "cell_type": "code",
   "execution_count": 14,
   "metadata": {
    "scrolled": true
   },
   "outputs": [
    {
     "data": {
      "image/png": "[encoded data removed]",
      "text/plain": [
       "<Figure size 432x288 with 1 Axes>"
      ]
     },
     "metadata": {
      "needs_background": "light"
     },
     "output_type": "display_data"
    }
   ],
   "source": [
    "n, bins, patches = plt.hist(x=X #需要分析的变量\n",
    "                           , bins=1000 #需要把变量分成多少段，即形成多少个柱子的分布\n",
    "                           , histtype='stepfilled' \n",
    "                           , orientation='vertical' \n",
    "                           , color='deeppink'\n",
    "                          )\n",
    "#自动返回三项内容：每个箱子中含有多少个样本，在变量中划分出的箱子的宽度，用于创建直方图的补丁"
   ]
  },
  {
   "cell_type": "code",
   "execution_count": 88,
   "metadata": {},
   "outputs": [
    {
     "data": {
      "text/plain": [
       "array([  2.,   1.,   3.,   0.,   5.,   6.,   4.,   9.,   5.,   7.,   4.,\n",
       "         8.,   7.,  11.,  21.,  29.,  34.,  32.,  39.,  52.,  51.,  75.,\n",
       "        73.,  77.,  96.,  58.,  95.,  88., 115., 122., 164., 162., 171.,\n",
       "       212., 214., 206., 251., 238., 249., 271., 272., 288., 275., 327.,\n",
       "       302., 315., 287., 283., 286., 259., 245., 281., 262., 238., 234.,\n",
       "       208., 232., 215., 202., 163., 158., 155., 156., 138., 132.,  95.,\n",
       "       103.,  84.,  71.,  87.,  64.,  55.,  34.,  36.,  33.,  24.,  28.,\n",
       "        13.,  18.,  20.,  20.,   2.,   8.,   3.,   3.,   5.,   5.,   0.,\n",
       "         2.,   4.,   1.,   0.,   1.,   0.,   0.,   0.,   0.,   0.,   0.,\n",
       "         1.])"
      ]
     },
     "execution_count": 88,
     "metadata": {},
     "output_type": "execute_result"
    }
   ],
   "source": [
    "n # 每个箱子中含有多少个样本"
   ]
  },
  {
   "cell_type": "code",
   "execution_count": 89,
   "metadata": {},
   "outputs": [
    {
     "data": {
      "text/plain": [
       "array([-3.44194858, -3.3673664 , -3.29278421, -3.21820202, -3.14361983,\n",
       "       -3.06903764, -2.99445546, -2.91987327, -2.84529108, -2.77070889,\n",
       "       -2.6961267 , -2.62154452, -2.54696233, -2.47238014, -2.39779795,\n",
       "       -2.32321576, -2.24863358, -2.17405139, -2.0994692 , -2.02488701,\n",
       "       -1.95030482, -1.87572264, -1.80114045, -1.72655826, -1.65197607,\n",
       "       -1.57739388, -1.5028117 , -1.42822951, -1.35364732, -1.27906513,\n",
       "       -1.20448294, -1.12990076, -1.05531857, -0.98073638, -0.90615419,\n",
       "       -0.831572  , -0.75698982, -0.68240763, -0.60782544, -0.53324325,\n",
       "       -0.45866106, -0.38407888, -0.30949669, -0.2349145 , -0.16033231,\n",
       "       -0.08575012, -0.01116794,  0.06341425,  0.13799644,  0.21257863,\n",
       "        0.28716082,  0.361743  ,  0.43632519,  0.51090738,  0.58548957,\n",
       "        0.66007176,  0.73465394,  0.80923613,  0.88381832,  0.95840051,\n",
       "        1.0329827 ,  1.10756488,  1.18214707,  1.25672926,  1.33131145,\n",
       "        1.40589364,  1.48047582,  1.55505801,  1.6296402 ,  1.70422239,\n",
       "        1.77880458,  1.85338676,  1.92796895,  2.00255114,  2.07713333,\n",
       "        2.15171552,  2.2262977 ,  2.30087989,  2.37546208,  2.45004427,\n",
       "        2.52462646,  2.59920864,  2.67379083,  2.74837302,  2.82295521,\n",
       "        2.8975374 ,  2.97211958,  3.04670177,  3.12128396,  3.19586615,\n",
       "        3.27044834,  3.34503052,  3.41961271,  3.4941949 ,  3.56877709,\n",
       "        3.64335928,  3.71794146,  3.79252365,  3.86710584,  3.94168803,\n",
       "        4.01627022])"
      ]
     },
     "execution_count": 89,
     "metadata": {},
     "output_type": "execute_result"
    }
   ],
   "source": [
    "bins # 在变量中划分出的箱子的宽度"
   ]
  },
  {
   "cell_type": "code",
   "execution_count": 91,
   "metadata": {},
   "outputs": [
    {
     "data": {
      "text/plain": [
       "<a list of 1 Patch objects>"
      ]
     },
     "execution_count": 91,
     "metadata": {},
     "output_type": "execute_result"
    }
   ],
   "source": [
    "patches  #用于创建直方图的补丁,一个一个补上去"
   ]
  },
  {
   "cell_type": "code",
   "execution_count": 92,
   "metadata": {},
   "outputs": [
    {
     "data": {
      "text/plain": [
       "[<matplotlib.patches.Polygon at 0x21aadd85518>]"
      ]
     },
     "execution_count": 92,
     "metadata": {},
     "output_type": "execute_result"
    }
   ],
   "source": [
    "[*patches]  "
   ]
  },
  {
   "cell_type": "markdown",
   "metadata": {},
   "source": [
    "### 4. 认识数据"
   ]
  },
  {
   "cell_type": "code",
   "execution_count": 16,
   "metadata": {},
   "outputs": [],
   "source": [
    "df = pd.read_csv(\"data/mpg_ggplot2.csv\")"
   ]
  },
  {
   "cell_type": "code",
   "execution_count": 17,
   "metadata": {},
   "outputs": [
    {
     "data": {
      "text/html": [
       "<div>\n",
       "<style scoped>\n",
       "    .dataframe tbody tr th:only-of-type {\n",
       "        vertical-align: middle;\n",
       "    }\n",
       "\n",
       "    .dataframe tbody tr th {\n",
       "        vertical-align: top;\n",
       "    }\n",
       "\n",
       "    .dataframe thead th {\n",
       "        text-align: right;\n",
       "    }\n",
       "</style>\n",
       "<table border=\"1\" class=\"dataframe\">\n",
       "  <thead>\n",
       "    <tr style=\"text-align: right;\">\n",
       "      <th></th>\n",
       "      <th>manufacturer</th>\n",
       "      <th>model</th>\n",
       "      <th>displ</th>\n",
       "      <th>year</th>\n",
       "      <th>cyl</th>\n",
       "      <th>trans</th>\n",
       "      <th>drv</th>\n",
       "      <th>cty</th>\n",
       "      <th>hwy</th>\n",
       "      <th>fl</th>\n",
       "      <th>class</th>\n",
       "    </tr>\n",
       "  </thead>\n",
       "  <tbody>\n",
       "    <tr>\n",
       "      <th>0</th>\n",
       "      <td>audi</td>\n",
       "      <td>a4</td>\n",
       "      <td>1.8</td>\n",
       "      <td>1999</td>\n",
       "      <td>4</td>\n",
       "      <td>auto(l5)</td>\n",
       "      <td>f</td>\n",
       "      <td>18</td>\n",
       "      <td>29</td>\n",
       "      <td>p</td>\n",
       "      <td>compact</td>\n",
       "    </tr>\n",
       "    <tr>\n",
       "      <th>1</th>\n",
       "      <td>audi</td>\n",
       "      <td>a4</td>\n",
       "      <td>1.8</td>\n",
       "      <td>1999</td>\n",
       "      <td>4</td>\n",
       "      <td>manual(m5)</td>\n",
       "      <td>f</td>\n",
       "      <td>21</td>\n",
       "      <td>29</td>\n",
       "      <td>p</td>\n",
       "      <td>compact</td>\n",
       "    </tr>\n",
       "    <tr>\n",
       "      <th>2</th>\n",
       "      <td>audi</td>\n",
       "      <td>a4</td>\n",
       "      <td>2.0</td>\n",
       "      <td>2008</td>\n",
       "      <td>4</td>\n",
       "      <td>manual(m6)</td>\n",
       "      <td>f</td>\n",
       "      <td>20</td>\n",
       "      <td>31</td>\n",
       "      <td>p</td>\n",
       "      <td>compact</td>\n",
       "    </tr>\n",
       "    <tr>\n",
       "      <th>3</th>\n",
       "      <td>audi</td>\n",
       "      <td>a4</td>\n",
       "      <td>2.0</td>\n",
       "      <td>2008</td>\n",
       "      <td>4</td>\n",
       "      <td>auto(av)</td>\n",
       "      <td>f</td>\n",
       "      <td>21</td>\n",
       "      <td>30</td>\n",
       "      <td>p</td>\n",
       "      <td>compact</td>\n",
       "    </tr>\n",
       "    <tr>\n",
       "      <th>4</th>\n",
       "      <td>audi</td>\n",
       "      <td>a4</td>\n",
       "      <td>2.8</td>\n",
       "      <td>1999</td>\n",
       "      <td>6</td>\n",
       "      <td>auto(l5)</td>\n",
       "      <td>f</td>\n",
       "      <td>16</td>\n",
       "      <td>26</td>\n",
       "      <td>p</td>\n",
       "      <td>compact</td>\n",
       "    </tr>\n",
       "  </tbody>\n",
       "</table>\n",
       "</div>"
      ],
      "text/plain": [
       "  manufacturer model  displ  year  cyl       trans drv  cty  hwy fl    class\n",
       "0         audi    a4    1.8  1999    4    auto(l5)   f   18   29  p  compact\n",
       "1         audi    a4    1.8  1999    4  manual(m5)   f   21   29  p  compact\n",
       "2         audi    a4    2.0  2008    4  manual(m6)   f   20   31  p  compact\n",
       "3         audi    a4    2.0  2008    4    auto(av)   f   21   30  p  compact\n",
       "4         audi    a4    2.8  1999    6    auto(l5)   f   16   26  p  compact"
      ]
     },
     "execution_count": 17,
     "metadata": {},
     "output_type": "execute_result"
    }
   ],
   "source": [
    "df.head()"
   ]
  },
  {
   "cell_type": "code",
   "execution_count": 18,
   "metadata": {},
   "outputs": [
    {
     "data": {
      "text/plain": [
       "Index(['manufacturer', 'model', 'displ', 'year', 'cyl', 'trans', 'drv', 'cty',\n",
       "       'hwy', 'fl', 'class'],\n",
       "      dtype='object')"
      ]
     },
     "execution_count": 18,
     "metadata": {},
     "output_type": "execute_result"
    }
   ],
   "source": [
    "df.columns"
   ]
  },
  {
   "cell_type": "code",
   "execution_count": 19,
   "metadata": {},
   "outputs": [],
   "source": [
    "name = [\"汽车制造商\",\"型号名称\",\"发动机排量(L)\",\"制造年份\",\"气缸数量\",\"手动/自动\"\n",
    "              ,\"驱动类型\",\"城市里程/加仑\",\"公路里程/加仑\",\"汽油种类\",\"车辆种类\"]\n",
    "\n",
    "#驱动类型：四轮，前轮，后轮\n",
    "#能源种类：汽油，柴油，用电等等\n",
    "#车辆种类：皮卡，SUV，小型，中型等等\n",
    "#城市里程/加仑，公路里程/加仑：表示使用没加仑汽油能够跑的英里数，所以这个数值越大代表汽车越节能"
   ]
  },
  {
   "cell_type": "code",
   "execution_count": 20,
   "metadata": {},
   "outputs": [
    {
     "data": {
      "text/plain": [
       "[('manufacturer', '汽车制造商'),\n",
       " ('model', '型号名称'),\n",
       " ('displ', '发动机排量(L)'),\n",
       " ('year', '制造年份'),\n",
       " ('cyl', '气缸数量'),\n",
       " ('trans', '手动/自动'),\n",
       " ('drv', '驱动类型'),\n",
       " ('cty', '城市里程/加仑'),\n",
       " ('hwy', '公路里程/加仑'),\n",
       " ('fl', '汽油种类'),\n",
       " ('class', '车辆种类')]"
      ]
     },
     "execution_count": 20,
     "metadata": {},
     "output_type": "execute_result"
    }
   ],
   "source": [
    "[*zip(df.columns.values,np.array(name))]"
   ]
  },
  {
   "cell_type": "markdown",
   "metadata": {},
   "source": [
    "### 5. 绘制图像，代码详解"
   ]
  },
  {
   "cell_type": "markdown",
   "metadata": {},
   "source": [
    "<img src=\"http://pictes.oss-cn-beijing.aliyuncs.com/microclass-virtualisation/week1correlation/plt.GridSpec%E5%9C%A8%E5%B9%B2%E5%95%A5.PNG\" align=\"center\" />"
   ]
  },
  {
   "cell_type": "code",
   "execution_count": 26,
   "metadata": {},
   "outputs": [
    {
     "data": {
      "image/png": "[encoded data removed]",
      "text/plain": [
       "<Figure size 1280x800 with 3 Axes>"
      ]
     },
     "metadata": {},
     "output_type": "display_data"
    }
   ],
   "source": [
    "#分割画布\n",
    "fig = plt.figure(figsize=(16, 10), dpi= 80,facecolor=\"white\")\n",
    "grid = plt.GridSpec(4, 4, hspace=0.5, wspace=0.2)\n",
    "\n",
    "#在分割完毕的画布上确认子图的位置\n",
    "ax_main = fig.add_subplot(grid[:-1, :-1])\n",
    "ax_right = fig.add_subplot(grid[:-1, -1], xticklabels=[], yticklabels=[])\n",
    "ax_bottom = fig.add_subplot(grid[-1, 0:-1], xticklabels=[], yticklabels=[])\n",
    "\n",
    "#在中心绘制气泡图\n",
    "ax_main.scatter('displ', 'hwy'\n",
    "                , s=df.cty*4 #设置尺寸以影响气泡图，这里是城市里程/加仑\n",
    "                , data=df\n",
    "                , c=df.manufacturer.astype('category').cat.codes #这是按类别编码的一种写法，之前用不同float\n",
    "                , cmap=\"tab20\" #colormap可以根据自己喜欢的随意修改\n",
    "                , edgecolors='gray', linewidths=.5, alpha=.9)\n",
    "\n",
    "#绘制底部的直方图\n",
    "ax_bottom.hist(df.displ, 40, histtype='stepfilled', orientation='vertical', color='deeppink')\n",
    "ax_bottom.invert_yaxis() #让y轴反向，为了美观所以让分布形成朝下的分布，倒一下\n",
    "\n",
    "#绘制右边的直方图\n",
    "ax_right.hist(df.hwy, 40, histtype='stepfilled', orientation='horizontal', color='deeppink')\n",
    "\n",
    "#装饰图像\n",
    "plt.rcParams['font.sans-serif']=['Simhei']  # 显示中文\n",
    "# 设置主题\n",
    "ax_main.set(title='边缘直方图 \\n 发动机排量 vs 公路里程/加仑'\n",
    "            , xlabel='发动机排量(L)'\n",
    "            , ylabel='公里路程/加仑')#设置标题，横坐标轴和纵坐标轴的名称\n",
    "ax_main.title.set_fontsize(20) #对标题设置字体大小\n",
    "\n",
    "for item in ([ax_main.xaxis.label, ax_main.yaxis.label] + ax_main.get_xticklabels() + ax_main.get_yticklabels()):\n",
    "    item.set_fontsize(14) #对所有横坐标纵坐标上的标题和标尺都设置字体，一次性对所有标尺和label字体进行设置\n",
    "\n",
    "for item in [ax_bottom,ax_right]:\n",
    "    item.set_xticks([])\n",
    "    item.set_yticks([]) #去掉两个直方图上的标尺，一点点凸起\n",
    "    \n",
    "xlabels = ax_main.get_xticks().tolist() #将现有的标尺取出来，转化为带一位小数的浮点数\n",
    "ax_main.set_xticklabels(xlabels) #再将带一位小数的浮点数变成标尺\n",
    "plt.show()"
   ]
  },
  {
   "cell_type": "code",
   "execution_count": 27,
   "metadata": {},
   "outputs": [
    {
     "data": {
      "text/plain": [
       "Text(0.5, 1, '边缘直方图 \\n 发动机排量 vs 公路里程/加仑')"
      ]
     },
     "execution_count": 27,
     "metadata": {},
     "output_type": "execute_result"
    }
   ],
   "source": [
    "ax_main.title #标题的位置 + 标题的内容  0.5正中央"
   ]
  },
  {
   "cell_type": "code",
   "execution_count": 28,
   "metadata": {
    "collapsed": true
   },
   "outputs": [
    {
     "data": {
      "text/plain": [
       "0            audi\n",
       "1            audi\n",
       "2            audi\n",
       "3            audi\n",
       "4            audi\n",
       "5            audi\n",
       "6            audi\n",
       "7            audi\n",
       "8            audi\n",
       "9            audi\n",
       "10           audi\n",
       "11           audi\n",
       "12           audi\n",
       "13           audi\n",
       "14           audi\n",
       "15           audi\n",
       "16           audi\n",
       "17           audi\n",
       "18      chevrolet\n",
       "19      chevrolet\n",
       "20      chevrolet\n",
       "21      chevrolet\n",
       "22      chevrolet\n",
       "23      chevrolet\n",
       "24      chevrolet\n",
       "25      chevrolet\n",
       "26      chevrolet\n",
       "27      chevrolet\n",
       "28      chevrolet\n",
       "29      chevrolet\n",
       "          ...    \n",
       "204        toyota\n",
       "205        toyota\n",
       "206        toyota\n",
       "207    volkswagen\n",
       "208    volkswagen\n",
       "209    volkswagen\n",
       "210    volkswagen\n",
       "211    volkswagen\n",
       "212    volkswagen\n",
       "213    volkswagen\n",
       "214    volkswagen\n",
       "215    volkswagen\n",
       "216    volkswagen\n",
       "217    volkswagen\n",
       "218    volkswagen\n",
       "219    volkswagen\n",
       "220    volkswagen\n",
       "221    volkswagen\n",
       "222    volkswagen\n",
       "223    volkswagen\n",
       "224    volkswagen\n",
       "225    volkswagen\n",
       "226    volkswagen\n",
       "227    volkswagen\n",
       "228    volkswagen\n",
       "229    volkswagen\n",
       "230    volkswagen\n",
       "231    volkswagen\n",
       "232    volkswagen\n",
       "233    volkswagen\n",
       "Name: manufacturer, Length: 234, dtype: category\n",
       "Categories (15, object): [audi, chevrolet, dodge, ford, ..., pontiac, subaru, toyota, volkswagen]"
      ]
     },
     "execution_count": 28,
     "metadata": {},
     "output_type": "execute_result"
    }
   ],
   "source": [
    "df.manufacturer.astype('category') # 将字符串变成分类型"
   ]
  },
  {
   "cell_type": "code",
   "execution_count": 29,
   "metadata": {
    "collapsed": true
   },
   "outputs": [
    {
     "data": {
      "text/plain": [
       "0       0\n",
       "1       0\n",
       "2       0\n",
       "3       0\n",
       "4       0\n",
       "5       0\n",
       "6       0\n",
       "7       0\n",
       "8       0\n",
       "9       0\n",
       "10      0\n",
       "11      0\n",
       "12      0\n",
       "13      0\n",
       "14      0\n",
       "15      0\n",
       "16      0\n",
       "17      0\n",
       "18      1\n",
       "19      1\n",
       "20      1\n",
       "21      1\n",
       "22      1\n",
       "23      1\n",
       "24      1\n",
       "25      1\n",
       "26      1\n",
       "27      1\n",
       "28      1\n",
       "29      1\n",
       "       ..\n",
       "204    13\n",
       "205    13\n",
       "206    13\n",
       "207    14\n",
       "208    14\n",
       "209    14\n",
       "210    14\n",
       "211    14\n",
       "212    14\n",
       "213    14\n",
       "214    14\n",
       "215    14\n",
       "216    14\n",
       "217    14\n",
       "218    14\n",
       "219    14\n",
       "220    14\n",
       "221    14\n",
       "222    14\n",
       "223    14\n",
       "224    14\n",
       "225    14\n",
       "226    14\n",
       "227    14\n",
       "228    14\n",
       "229    14\n",
       "230    14\n",
       "231    14\n",
       "232    14\n",
       "233    14\n",
       "Length: 234, dtype: int8"
      ]
     },
     "execution_count": 29,
     "metadata": {},
     "output_type": "execute_result"
    }
   ],
   "source": [
    "df.manufacturer.astype('category').cat.codes #常用的编码方式，变成数字"
   ]
  },
  {
   "cell_type": "code",
   "execution_count": 30,
   "metadata": {
    "collapsed": true
   },
   "outputs": [
    {
     "data": {
      "text/plain": [
       "[Text(0.5, 152.39393939393932, '发动机排量(L)'),\n",
       " Text(22.921875000000007, 0.5, '公里路程/加仑'),\n",
       " Text(1.0, 0, '1.0'),\n",
       " Text(2.0, 0, '2.0'),\n",
       " Text(3.0, 0, '3.0'),\n",
       " Text(4.0, 0, '4.0'),\n",
       " Text(5.0, 0, '5.0'),\n",
       " Text(6.0, 0, '6.0'),\n",
       " Text(7.0, 0, '7.0'),\n",
       " Text(8.0, 0, '8.0'),\n",
       " Text(0, 10.0, '10'),\n",
       " Text(0, 15.0, '15'),\n",
       " Text(0, 20.0, '20'),\n",
       " Text(0, 25.0, '25'),\n",
       " Text(0, 30.0, '30'),\n",
       " Text(0, 35.0, '35'),\n",
       " Text(0, 40.0, '40'),\n",
       " Text(0, 45.0, '45'),\n",
       " Text(0, 50.0, '50')]"
      ]
     },
     "execution_count": 30,
     "metadata": {},
     "output_type": "execute_result"
    }
   ],
   "source": [
    "([ax_main.xaxis.label, ax_main.yaxis.label] + ax_main.get_xticklabels() + ax_main.get_yticklabels())\n",
    "#所有标文字位置"
   ]
  },
  {
   "cell_type": "code",
   "execution_count": 31,
   "metadata": {},
   "outputs": [
    {
     "data": {
      "text/plain": [
       "Text(0.5, 152.39393939393932, '发动机排量(L)')"
      ]
     },
     "execution_count": 31,
     "metadata": {},
     "output_type": "execute_result"
    }
   ],
   "source": [
    "ax_main.xaxis.label #提取出我们的X轴的标签"
   ]
  },
  {
   "cell_type": "code",
   "execution_count": 32,
   "metadata": {},
   "outputs": [
    {
     "data": {
      "text/plain": [
       "Text(22.921875000000007, 0.5, '公里路程/加仑')"
      ]
     },
     "execution_count": 32,
     "metadata": {},
     "output_type": "execute_result"
    }
   ],
   "source": [
    "ax_main.yaxis.label"
   ]
  },
  {
   "cell_type": "code",
   "execution_count": 33,
   "metadata": {},
   "outputs": [
    {
     "data": {
      "text/plain": [
       "[Text(0.5, 152.39393939393932, '发动机排量(L)'),\n",
       " Text(22.921875000000007, 0.5, '公里路程/加仑')]"
      ]
     },
     "execution_count": 33,
     "metadata": {},
     "output_type": "execute_result"
    }
   ],
   "source": [
    "[ax_main.xaxis.label, ax_main.yaxis.label]"
   ]
  },
  {
   "cell_type": "code",
   "execution_count": 34,
   "metadata": {},
   "outputs": [
    {
     "data": {
      "text/plain": [
       "[Text(1.0, 0, '1.0'),\n",
       " Text(2.0, 0, '2.0'),\n",
       " Text(3.0, 0, '3.0'),\n",
       " Text(4.0, 0, '4.0'),\n",
       " Text(5.0, 0, '5.0'),\n",
       " Text(6.0, 0, '6.0'),\n",
       " Text(7.0, 0, '7.0'),\n",
       " Text(8.0, 0, '8.0'),\n",
       " Text(0, 10.0, '10'),\n",
       " Text(0, 15.0, '15'),\n",
       " Text(0, 20.0, '20'),\n",
       " Text(0, 25.0, '25'),\n",
       " Text(0, 30.0, '30'),\n",
       " Text(0, 35.0, '35'),\n",
       " Text(0, 40.0, '40'),\n",
       " Text(0, 45.0, '45'),\n",
       " Text(0, 50.0, '50')]"
      ]
     },
     "execution_count": 34,
     "metadata": {},
     "output_type": "execute_result"
    }
   ],
   "source": [
    "ax_main.get_xticklabels() + ax_main.get_yticklabels() #前两个数字表示位置，最后表示我们设定的标签"
   ]
  },
  {
   "cell_type": "code",
   "execution_count": 124,
   "metadata": {},
   "outputs": [
    {
     "data": {
      "text/plain": [
       "[1.0, 2.0, 3.0, 4.0, 5.0, 6.0, 7.0, 8.0]"
      ]
     },
     "execution_count": 124,
     "metadata": {},
     "output_type": "execute_result"
    }
   ],
   "source": [
    "ax_main.get_xticks().tolist()"
   ]
  },
  {
   "cell_type": "markdown",
   "metadata": {},
   "source": [
    "### 6. 解读图像"
   ]
  },
  {
   "cell_type": "markdown",
   "metadata": {},
   "source": [
    "直方图探索分布，直方越高点越多"
   ]
  },
  {
   "cell_type": "markdown",
   "metadata": {},
   "source": [
    "<img src=\"http://pictes.oss-cn-beijing.aliyuncs.com/microclass-virtualisation/week1correlation/line4.png\" align=\"center\" />"
   ]
  },
  {
   "cell_type": "markdown",
   "metadata": {},
   "source": [
    "### 07/50 边缘箱线图"
   ]
  },
  {
   "cell_type": "markdown",
   "metadata": {},
   "source": [
    "边缘箱线图是在散点图的边缘分别画上对横纵坐标的箱线图，以对原始的散点图进行补充的图像。  "
   ]
  },
  {
   "cell_type": "markdown",
   "metadata": {},
   "source": [
    "<img src=\"http://pictes.oss-cn-beijing.aliyuncs.com/microclass-virtualisation/week1correlation/07%20%E7%AE%B1%E7%BA%BF%E5%9B%BE.PNG\" align=\"center\" />"
   ]
  },
  {
   "cell_type": "markdown",
   "metadata": {},
   "source": [
    "横坐标：发动机排量(L)<br>\n",
    "纵坐标：公路里程/加仑  \n",
    "虽然没有显示图例不过散点有颜色：制造商"
   ]
  },
  {
   "cell_type": "markdown",
   "metadata": {},
   "source": [
    "### 1. 导入需要的绘图库"
   ]
  },
  {
   "cell_type": "code",
   "execution_count": 1,
   "metadata": {},
   "outputs": [],
   "source": [
    "import numpy as np\n",
    "import pandas as pd\n",
    "import matplotlib as mpl\n",
    "import matplotlib.pyplot as plt\n",
    "import seaborn as sns\n",
    "%matplotlib inline"
   ]
  },
  {
   "cell_type": "markdown",
   "metadata": {},
   "source": [
    "### 2. 认识箱线图及绘制箱线图的函数"
   ]
  },
  {
   "cell_type": "markdown",
   "metadata": {},
   "source": [
    "箱线图，又叫做箱型图，箱图，是一种用于显示一个变量分布情况的统计图。其核心作用和直方图类似，我们在统计学和机器学习中也使用它来观察数据是否处于偏态，只不过直方图更著重于看到数据在整个取值区间上的分布，而箱线图更着重于观察变量上的重要分割点。箱线图能够精确地显示有关数据分布的关键数据节点，因此也常被用来作为查找异常值的方式。  \n",
    "  \n",
    "认识箱线图的第一步是学会阅读箱线图："
   ]
  },
  {
   "cell_type": "markdown",
   "metadata": {},
   "source": [
    "<img src=\"http://pictes.oss-cn-beijing.aliyuncs.com/microclass-virtualisation/week1correlation/%E7%AE%B1%E7%BA%BF%E5%9B%BE.PNG\" align=\"center\" />"
   ]
  },
  {
   "cell_type": "markdown",
   "metadata": {},
   "source": [
    "其中上四分位数就是直方图中占75%数据量的位置，下四分位数就是直方图中占25%数据量的位置。但这些在分布上代表了什么含义呢？"
   ]
  },
  {
   "cell_type": "markdown",
   "metadata": {},
   "source": [
    "### **箱线图 vs 直方图**"
   ]
  },
  {
   "cell_type": "markdown",
   "metadata": {},
   "source": [
    "直方图和箱线图都表达数据的分布，从下面的图可以看出来，两者是一一对应的。  \n",
    "当直方图的分布越接近正太分布，箱线图也会越对称  \n",
    "直方图的柱子较高较多的地方，就会是箱线图的箱子所在的地方  \n",
    "箱线图所显示的中位数一般都会非常接近直方图中最高的柱子（毕竟这个取值范围内的样本点最多）"
   ]
  },
  {
   "cell_type": "markdown",
   "metadata": {},
   "source": [
    "<img src=\"http://pictes.oss-cn-beijing.aliyuncs.com/microclass-virtualisation/week1correlation/%E7%9B%B4%E6%96%B9%E5%9B%BEvs%E7%AE%B1%E7%BA%BF%E5%9B%BE.PNG\" align=\"center\" />"
   ]
  },
  {
   "cell_type": "markdown",
   "metadata": {},
   "source": [
    "#### **sns.boxplot()**"
   ]
  },
  {
   "cell_type": "markdown",
   "metadata": {},
   "source": [
    "> **重要参数**\n",
    ">> x ：需要绘制箱线图的变量  \n",
    ">> ax ：需要绘制箱线图的子图  \n",
    ">> orient ：箱线图的方向，可选填\"v\"或者\"h\"来决定箱线图的方向  \n",
    ">> meanline ：是否显示均值线  "
   ]
  },
  {
   "cell_type": "code",
   "execution_count": 14,
   "metadata": {},
   "outputs": [],
   "source": [
    "#正态分布下的随机数\n",
    "X = np.random.randn(1000)\n",
    "#严重偏态分布下的随机数\n",
    "#X = np.random.randint(0,300,50).tolist() + np.random.randint(300,800,50).tolist() + np.random.randint(800,1000,900).tolist() "
   ]
  },
  {
   "cell_type": "code",
   "execution_count": 15,
   "metadata": {
    "scrolled": true
   },
   "outputs": [
    {
     "data": {
      "image/png": "[encoded data removed]",
      "text/plain": [
       "<Figure size 432x288 with 2 Axes>"
      ]
     },
     "metadata": {
      "needs_background": "light"
     },
     "output_type": "display_data"
    }
   ],
   "source": [
    "fig, (ax1,ax2) = plt.subplots(2)  # 画布和子图 \n",
    "# fig = plt.figure()\n",
    "# ax = fig.add_subplot(2,1,1)\n",
    "\n",
    "#直方图\n",
    "ax1.hist(X,bins=100)\n",
    "\n",
    "#箱线图\n",
    "sns.boxplot(x=X #研究的变量\n",
    "            ,ax=ax2 #绘制的子图\n",
    "            , orient=\"h\"\n",
    "            , color=\"red\"\n",
    "           ,meanline=True);"
   ]
  },
  {
   "cell_type": "markdown",
   "metadata": {},
   "source": [
    "来计算下极值？首先找出四分位距。NumPy中的percentile功能可以帮助我们找出位于分布a%处的分位数  "
   ]
  },
  {
   "cell_type": "code",
   "execution_count": 18,
   "metadata": {},
   "outputs": [],
   "source": [
    "Q3, Q1 = np.percentile(X, [75 ,25]) # 分位数位置"
   ]
  },
  {
   "cell_type": "code",
   "execution_count": 19,
   "metadata": {},
   "outputs": [],
   "source": [
    "iqr = Q3-Q1  # x值差"
   ]
  },
  {
   "cell_type": "code",
   "execution_count": 20,
   "metadata": {},
   "outputs": [
    {
     "data": {
      "text/plain": [
       "1.403438261034169"
      ]
     },
     "execution_count": 20,
     "metadata": {},
     "output_type": "execute_result"
    }
   ],
   "source": [
    "iqr"
   ]
  },
  {
   "cell_type": "code",
   "execution_count": 21,
   "metadata": {},
   "outputs": [
    {
     "data": {
      "text/plain": [
       "-3.130147104799591"
      ]
     },
     "execution_count": 21,
     "metadata": {},
     "output_type": "execute_result"
    }
   ],
   "source": [
    "min(X)"
   ]
  },
  {
   "cell_type": "code",
   "execution_count": 22,
   "metadata": {},
   "outputs": [
    {
     "data": {
      "text/plain": [
       "-2.8804641416713186"
      ]
     },
     "execution_count": 22,
     "metadata": {},
     "output_type": "execute_result"
    }
   ],
   "source": [
    "Q1 - 1.5*iqr"
   ]
  },
  {
   "cell_type": "code",
   "execution_count": 23,
   "metadata": {},
   "outputs": [
    {
     "data": {
      "text/plain": [
       "2.784322695672688"
      ]
     },
     "execution_count": 23,
     "metadata": {},
     "output_type": "execute_result"
    }
   ],
   "source": [
    "max(X)"
   ]
  },
  {
   "cell_type": "code",
   "execution_count": 24,
   "metadata": {},
   "outputs": [
    {
     "data": {
      "text/plain": [
       "2.733288902465357"
      ]
     },
     "execution_count": 24,
     "metadata": {},
     "output_type": "execute_result"
    }
   ],
   "source": [
    "Q3 + 1.5*iqr"
   ]
  },
  {
   "cell_type": "markdown",
   "metadata": {},
   "source": [
    "### 3. 导入数据，绘制图像"
   ]
  },
  {
   "cell_type": "code",
   "execution_count": 26,
   "metadata": {},
   "outputs": [],
   "source": [
    "#导入数据\n",
    "df = pd.read_csv(\"data/mpg_ggplot2.csv\")"
   ]
  },
  {
   "cell_type": "code",
   "execution_count": 27,
   "metadata": {
    "scrolled": true
   },
   "outputs": [
    {
     "data": {
      "image/png": "[encoded data removed]",
      "text/plain": [
       "<Figure size 1280x800 with 3 Axes>"
      ]
     },
     "metadata": {},
     "output_type": "display_data"
    }
   ],
   "source": [
    "#分割画布\n",
    "fig = plt.figure(figsize=(16, 10), dpi= 80,facecolor=\"white\")\n",
    "grid = plt.GridSpec(4, 4, hspace=0.5, wspace=0.2)\n",
    "\n",
    "#在分割完毕的画布上确认子图的位置\n",
    "ax_main = fig.add_subplot(grid[:-1, :-1])\n",
    "ax_right = fig.add_subplot(grid[:-1, -1], xticklabels=[], yticklabels=[])\n",
    "ax_bottom = fig.add_subplot(grid[-1, 0:-1], xticklabels=[], yticklabels=[])\n",
    "\n",
    "#在中心绘制气泡图\n",
    "ax_main.scatter('displ', 'hwy', s=df.cty*4\n",
    "                , c=df.manufacturer.astype('category').cat.codes\n",
    "                , alpha=.9, data=df, cmap=\"autumn\", linewidths=.5)\n",
    "\n",
    "\n",
    "\n",
    "#对右侧和下方绘制箱线图\n",
    "sns.boxplot(x=df.hwy,ax=ax_right, orient=\"v\", color=\"red\")\n",
    "sns.boxplot(df.displ, ax=ax_bottom, orient=\"h\",color='orange')\n",
    "\n",
    "\n",
    "\n",
    "\n",
    "#装饰图像\n",
    "\n",
    "#移除箱线图自带的坐标轴名称\n",
    "ax_bottom.set(xlabel='')\n",
    "ax_right.set(ylabel='')\n",
    "\n",
    "\n",
    "#设置标题，横坐标轴和纵坐标轴的名称\n",
    "plt.rcParams['font.sans-serif']=['Simhei']\n",
    "ax_main.set(title='边缘箱线图 \\n 发动机排量 vs 公路里程/加仑', xlabel='发动机排量(L)', ylabel='公里路程/加仑')\n",
    "\n",
    "#去掉两个直方图上的标尺\n",
    "for item in [ax_bottom,ax_right]:\n",
    "    item.set_xticks([])\n",
    "    item.set_yticks([])\n",
    "\n",
    "#对标题设置字体大小\n",
    "ax_main.title.set_fontsize(20) \n",
    "\n",
    "#对所有横坐标纵坐标上的标题和标尺都设置字体大小\n",
    "for item in ([ax_main.xaxis.label, ax_main.yaxis.label] + ax_main.get_xticklabels() + ax_main.get_yticklabels()):\n",
    "    item.set_fontsize(14) "
   ]
  },
  {
   "cell_type": "markdown",
   "metadata": {},
   "source": [
    "<img src=\"http://pictes.oss-cn-beijing.aliyuncs.com/microclass-virtualisation/week1correlation/line4.png\" align=\"center\" />"
   ]
  },
  {
   "cell_type": "markdown",
   "metadata": {},
   "source": [
    "#做业务分析是异常值是宝，训练时才去除"
   ]
  }
 ],
 "metadata": {
  "kernelspec": {
   "display_name": "Python 3",
   "language": "python",
   "name": "python3"
  },
  "language_info": {
   "codemirror_mode": {
    "name": "ipython",
    "version": 3
   },
   "file_extension": ".py",
   "mimetype": "text/x-python",
   "name": "python",
   "nbconvert_exporter": "python",
   "pygments_lexer": "ipython3",
   "version": "3.7.0"
  }
 },
 "nbformat": 4,
 "nbformat_minor": 2
}
