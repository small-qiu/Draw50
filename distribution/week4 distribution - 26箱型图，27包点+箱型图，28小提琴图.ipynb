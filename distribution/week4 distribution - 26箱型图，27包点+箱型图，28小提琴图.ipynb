{
 "cells": [
  {
   "cell_type": "markdown",
   "metadata": {},
   "source": [
    "### <font color='bule'>第四期  分布图：26箱型图"
   ]
  },
  {
   "cell_type": "markdown",
   "metadata": {},
   "source": [
    "## o新知识点"
   ]
  },
  {
   "cell_type": "markdown",
   "metadata": {},
   "source": [
    "<img src=\"https://pictes.oss-cn-beijing.aliyuncs.com/microclass-virtualisation/week1correlation/line4.png\" align=\"center\" />"
   ]
  },
  {
   "cell_type": "markdown",
   "metadata": {},
   "source": [
    "### <font color=bule> 26/50 箱型图"
   ]
  },
  {
   "cell_type": "markdown",
   "metadata": {},
   "source": [
    "箱线图，又叫做箱型图，箱图，是一种用于显示一个变量分布情况的统计图。其核心作用和直方图类似，我们在统计学和机器学习中也使用它来观察数据是否处于偏态，只不过直方图更著重于看到数据在整个取值区间上的分布，而箱线图更着重于观察变量上的重要分割点。箱线图能够精确地显示有关数据分布的关键数据节点，因此也常被用来作为查找异常值的方式。  \n",
    "  \n",
    "认识箱线图的第一步是学会阅读箱线图："
   ]
  },
  {
   "cell_type": "markdown",
   "metadata": {},
   "source": [
    "<img src=\"http://pictes.oss-cn-beijing.aliyuncs.com/microclass-virtualisation/week1correlation/%E7%AE%B1%E7%BA%BF%E5%9B%BE.PNG\" align=\"center\" />"
   ]
  },
  {
   "cell_type": "markdown",
   "metadata": {},
   "source": [
    "其中上四分位数就是直方图中占75%数据量的位置，下四分位数就是直方图中占25%数据量的位置。    \n",
    "那……，相同大小的箱子里数据量一定相同嘛？    "
   ]
  },
  {
   "cell_type": "markdown",
   "metadata": {},
   "source": [
    "<img src='http://pictes.oss-cn-beijing.aliyuncs.com/microclass-virtualisation/week4%20Distribution/%E7%AE%B1%E5%9E%8B%E5%9B%BE.png' width=600>"
   ]
  },
  {
   "cell_type": "markdown",
   "metadata": {},
   "source": [
    "这幅图的主要目的就是反映不同类型车辆的公路里程的分布状况"
   ]
  },
  {
   "cell_type": "markdown",
   "metadata": {},
   "source": [
    "横坐标：不同类型的车辆      \n",
    "纵坐标：公路里程     "
   ]
  },
  {
   "cell_type": "markdown",
   "metadata": {},
   "source": [
    "### 1. 导入需要的绘图库"
   ]
  },
  {
   "cell_type": "code",
   "execution_count": 1,
   "metadata": {},
   "outputs": [],
   "source": [
    "import pandas as pd\n",
    "import numpy as np\n",
    "import seaborn as sns \n",
    "import matplotlib.pyplot as plt\n",
    "%matplotlib inline\n",
    "#如果用jupyter notebook则需要这行代码让你的图像显示，如果是jupyterlab则不需要\n",
    "\n",
    "plt.rcParams['font.sans-serif']=['Simhei'] #显示中文\n",
    "plt.rcParams['axes.unicode_minus']=False   #显示负号"
   ]
  },
  {
   "cell_type": "markdown",
   "metadata": {},
   "source": [
    "### 2.认识绘制箱型图的函数"
   ]
  },
  {
   "cell_type": "markdown",
   "metadata": {},
   "source": [
    "**sns.boxplot**   \n",
    "函数功能： 绘制箱型图以展示不同类别之间的分布  \n",
    "\n",
    "重要参数：   \n",
    ">x/y/hue：“data”或矢量数据中变量的名称     \n",
    ">'data=None'：用于绘图的数据集   \n",
    ">order/hue_order:控制箱型图顺序，list形式   \n",
    ">'color=None':颜色    \n",
    ">'saturation=0.75':色彩饱和度   \n",
    ">'width=0.8':控制箱体宽度    \n",
    ">'fliersize=5':异常值的大小    \n",
    ">'linewidth=None'：线宽    \n",
    ">'whis=1.5':四分位距的倍数，异常值的参考系     \n",
    ">'notch=False'：在中位数两边显示切口    "
   ]
  },
  {
   "cell_type": "code",
   "execution_count": 96,
   "metadata": {},
   "outputs": [],
   "source": [
    "# sns.boxplot?"
   ]
  },
  {
   "cell_type": "markdown",
   "metadata": {},
   "source": [
    "### 3.绘制箱型图"
   ]
  },
  {
   "cell_type": "code",
   "execution_count": 3,
   "metadata": {},
   "outputs": [],
   "source": [
    "df = pd.read_csv(\"data/mpg_ggplot2.csv\")"
   ]
  },
  {
   "cell_type": "code",
   "execution_count": 3,
   "metadata": {},
   "outputs": [
    {
     "data": {
      "text/html": [
       "<div>\n",
       "<style scoped>\n",
       "    .dataframe tbody tr th:only-of-type {\n",
       "        vertical-align: middle;\n",
       "    }\n",
       "\n",
       "    .dataframe tbody tr th {\n",
       "        vertical-align: top;\n",
       "    }\n",
       "\n",
       "    .dataframe thead th {\n",
       "        text-align: right;\n",
       "    }\n",
       "</style>\n",
       "<table border=\"1\" class=\"dataframe\">\n",
       "  <thead>\n",
       "    <tr style=\"text-align: right;\">\n",
       "      <th></th>\n",
       "      <th>manufacturer</th>\n",
       "      <th>model</th>\n",
       "      <th>displ</th>\n",
       "      <th>year</th>\n",
       "      <th>cyl</th>\n",
       "      <th>trans</th>\n",
       "      <th>drv</th>\n",
       "      <th>cty</th>\n",
       "      <th>hwy</th>\n",
       "      <th>fl</th>\n",
       "      <th>class</th>\n",
       "    </tr>\n",
       "  </thead>\n",
       "  <tbody>\n",
       "    <tr>\n",
       "      <th>0</th>\n",
       "      <td>audi</td>\n",
       "      <td>a4</td>\n",
       "      <td>1.8</td>\n",
       "      <td>1999</td>\n",
       "      <td>4</td>\n",
       "      <td>auto(l5)</td>\n",
       "      <td>f</td>\n",
       "      <td>18</td>\n",
       "      <td>29</td>\n",
       "      <td>p</td>\n",
       "      <td>compact</td>\n",
       "    </tr>\n",
       "    <tr>\n",
       "      <th>1</th>\n",
       "      <td>audi</td>\n",
       "      <td>a4</td>\n",
       "      <td>1.8</td>\n",
       "      <td>1999</td>\n",
       "      <td>4</td>\n",
       "      <td>manual(m5)</td>\n",
       "      <td>f</td>\n",
       "      <td>21</td>\n",
       "      <td>29</td>\n",
       "      <td>p</td>\n",
       "      <td>compact</td>\n",
       "    </tr>\n",
       "    <tr>\n",
       "      <th>2</th>\n",
       "      <td>audi</td>\n",
       "      <td>a4</td>\n",
       "      <td>2.0</td>\n",
       "      <td>2008</td>\n",
       "      <td>4</td>\n",
       "      <td>manual(m6)</td>\n",
       "      <td>f</td>\n",
       "      <td>20</td>\n",
       "      <td>31</td>\n",
       "      <td>p</td>\n",
       "      <td>compact</td>\n",
       "    </tr>\n",
       "    <tr>\n",
       "      <th>3</th>\n",
       "      <td>audi</td>\n",
       "      <td>a4</td>\n",
       "      <td>2.0</td>\n",
       "      <td>2008</td>\n",
       "      <td>4</td>\n",
       "      <td>auto(av)</td>\n",
       "      <td>f</td>\n",
       "      <td>21</td>\n",
       "      <td>30</td>\n",
       "      <td>p</td>\n",
       "      <td>compact</td>\n",
       "    </tr>\n",
       "    <tr>\n",
       "      <th>4</th>\n",
       "      <td>audi</td>\n",
       "      <td>a4</td>\n",
       "      <td>2.8</td>\n",
       "      <td>1999</td>\n",
       "      <td>6</td>\n",
       "      <td>auto(l5)</td>\n",
       "      <td>f</td>\n",
       "      <td>16</td>\n",
       "      <td>26</td>\n",
       "      <td>p</td>\n",
       "      <td>compact</td>\n",
       "    </tr>\n",
       "  </tbody>\n",
       "</table>\n",
       "</div>"
      ],
      "text/plain": [
       "  manufacturer model  displ  year  cyl       trans drv  cty  hwy fl    class\n",
       "0         audi    a4    1.8  1999    4    auto(l5)   f   18   29  p  compact\n",
       "1         audi    a4    1.8  1999    4  manual(m5)   f   21   29  p  compact\n",
       "2         audi    a4    2.0  2008    4  manual(m6)   f   20   31  p  compact\n",
       "3         audi    a4    2.0  2008    4    auto(av)   f   21   30  p  compact\n",
       "4         audi    a4    2.8  1999    6    auto(l5)   f   16   26  p  compact"
      ]
     },
     "execution_count": 3,
     "metadata": {},
     "output_type": "execute_result"
    }
   ],
   "source": [
    "df.head()"
   ]
  },
  {
   "cell_type": "code",
   "execution_count": 4,
   "metadata": {},
   "outputs": [
    {
     "data": {
      "text/plain": [
       "(234, 11)"
      ]
     },
     "execution_count": 4,
     "metadata": {},
     "output_type": "execute_result"
    }
   ],
   "source": [
    "df.shape"
   ]
  },
  {
   "cell_type": "markdown",
   "metadata": {},
   "source": [
    "#### 绘制简单箱型图"
   ]
  },
  {
   "cell_type": "code",
   "execution_count": 5,
   "metadata": {},
   "outputs": [
    {
     "data": {
      "image/png": "[encoded data removed]",
      "text/plain": [
       "<Figure size 432x288 with 1 Axes>"
      ]
     },
     "metadata": {
      "needs_background": "light"
     },
     "output_type": "display_data"
    }
   ],
   "source": [
    "# 绘制多个箱型图\n",
    "sns.boxplot(x='class', y='hwy', data=df\n",
    "#             ,saturation=.9 \n",
    "#             ,width=0.8\n",
    "#             ,fliersize=2\n",
    "#             ,linewidth=1\n",
    "#             ,whis=1.5\n",
    "#             ,notch=True\n",
    "            );"
   ]
  },
  {
   "cell_type": "code",
   "execution_count": 6,
   "metadata": {},
   "outputs": [
    {
     "data": {
      "image/png": "[encoded data removed]",
      "text/plain": [
       "<Figure size 720x480 with 1 Axes>"
      ]
     },
     "metadata": {
      "needs_background": "light"
     },
     "output_type": "display_data"
    }
   ],
   "source": [
    "plt.figure(figsize=(12,8), dpi= 60) #创建画布\n",
    "sns.boxplot(x='class', y='hwy', data=df ) #绘制基础箱型图\n",
    "\n",
    "#添加装饰\n",
    "plt.title('Box Plot of Highway Mileage by Vehicle Class', fontsize=20) #添加标题\n",
    "plt.xlabel('class',fontdict={'size':18}) #设定X轴标题大小\n",
    "plt.ylabel('hwy',fontdict={'size':18}) #设定Y轴标题大小\n",
    "plt.xticks(fontsize=15)  #设定X轴刻度大小\n",
    "plt.yticks(fontsize=15)  #设定Y轴刻度大小\n",
    "plt.ylim(10,40) #设定Y轴刻度范围\n",
    "plt.show() #本地显示图形"
   ]
  },
  {
   "cell_type": "markdown",
   "metadata": {},
   "source": [
    "#### 添加每个箱体中数据的个数\n",
    "- 以compact此款汽车为例"
   ]
  },
  {
   "cell_type": "code",
   "execution_count": 7,
   "metadata": {
    "collapsed": true
   },
   "outputs": [
    {
     "data": {
      "text/plain": [
       "[('2seater',     hwy    class\n",
       "  23   26  2seater\n",
       "  24   23  2seater\n",
       "  25   26  2seater\n",
       "  26   25  2seater\n",
       "  27   24  2seater), ('compact',      hwy    class\n",
       "  0     29  compact\n",
       "  1     29  compact\n",
       "  2     31  compact\n",
       "  3     30  compact\n",
       "  4     26  compact\n",
       "  5     26  compact\n",
       "  6     27  compact\n",
       "  7     26  compact\n",
       "  8     25  compact\n",
       "  9     28  compact\n",
       "  10    27  compact\n",
       "  11    25  compact\n",
       "  12    25  compact\n",
       "  13    25  compact\n",
       "  14    25  compact\n",
       "  141   29  compact\n",
       "  142   27  compact\n",
       "  169   25  compact\n",
       "  170   27  compact\n",
       "  171   25  compact\n",
       "  172   27  compact\n",
       "  186   27  compact\n",
       "  187   29  compact\n",
       "  188   31  compact\n",
       "  189   31  compact\n",
       "  190   26  compact\n",
       "  191   26  compact\n",
       "  192   27  compact\n",
       "  193   30  compact\n",
       "  194   33  compact\n",
       "  195   35  compact\n",
       "  196   37  compact\n",
       "  197   35  compact\n",
       "  207   29  compact\n",
       "  208   26  compact\n",
       "  209   29  compact\n",
       "  210   29  compact\n",
       "  211   24  compact\n",
       "  212   44  compact\n",
       "  213   29  compact\n",
       "  214   26  compact\n",
       "  215   29  compact\n",
       "  216   29  compact\n",
       "  217   29  compact\n",
       "  218   29  compact\n",
       "  219   23  compact\n",
       "  220   24  compact), ('midsize',      hwy    class\n",
       "  15    24  midsize\n",
       "  16    25  midsize\n",
       "  17    23  midsize\n",
       "  32    27  midsize\n",
       "  33    30  midsize\n",
       "  34    26  midsize\n",
       "  35    29  midsize\n",
       "  36    26  midsize\n",
       "  108   26  midsize\n",
       "  109   27  midsize\n",
       "  110   30  midsize\n",
       "  111   31  midsize\n",
       "  112   26  midsize\n",
       "  113   26  midsize\n",
       "  114   28  midsize\n",
       "  143   31  midsize\n",
       "  144   32  midsize\n",
       "  145   27  midsize\n",
       "  146   26  midsize\n",
       "  147   26  midsize\n",
       "  148   25  midsize\n",
       "  149   25  midsize\n",
       "  154   26  midsize\n",
       "  155   26  midsize\n",
       "  156   27  midsize\n",
       "  157   28  midsize\n",
       "  158   25  midsize\n",
       "  179   29  midsize\n",
       "  180   27  midsize\n",
       "  181   31  midsize\n",
       "  182   31  midsize\n",
       "  183   26  midsize\n",
       "  184   26  midsize\n",
       "  185   28  midsize\n",
       "  227   29  midsize\n",
       "  228   29  midsize\n",
       "  229   28  midsize\n",
       "  230   29  midsize\n",
       "  231   26  midsize\n",
       "  232   26  midsize\n",
       "  233   26  midsize), ('minivan',     hwy    class\n",
       "  37   24  minivan\n",
       "  38   24  minivan\n",
       "  39   22  minivan\n",
       "  40   22  minivan\n",
       "  41   24  minivan\n",
       "  42   24  minivan\n",
       "  43   17  minivan\n",
       "  44   22  minivan\n",
       "  45   21  minivan\n",
       "  46   23  minivan\n",
       "  47   23  minivan), ('pickup',      hwy   class\n",
       "  48    19  pickup\n",
       "  49    18  pickup\n",
       "  50    17  pickup\n",
       "  51    17  pickup\n",
       "  52    19  pickup\n",
       "  53    19  pickup\n",
       "  54    12  pickup\n",
       "  55    17  pickup\n",
       "  56    15  pickup\n",
       "  64    16  pickup\n",
       "  65    12  pickup\n",
       "  66    17  pickup\n",
       "  67    17  pickup\n",
       "  68    16  pickup\n",
       "  69    12  pickup\n",
       "  70    15  pickup\n",
       "  71    16  pickup\n",
       "  72    17  pickup\n",
       "  73    15  pickup\n",
       "  83    17  pickup\n",
       "  84    17  pickup\n",
       "  85    16  pickup\n",
       "  86    16  pickup\n",
       "  87    17  pickup\n",
       "  88    15  pickup\n",
       "  89    17  pickup\n",
       "  200   20  pickup\n",
       "  201   20  pickup\n",
       "  202   22  pickup\n",
       "  203   17  pickup\n",
       "  204   19  pickup\n",
       "  205   18  pickup\n",
       "  206   20  pickup), ('subcompact',      hwy       class\n",
       "  90    26  subcompact\n",
       "  91    25  subcompact\n",
       "  92    26  subcompact\n",
       "  93    24  subcompact\n",
       "  94    21  subcompact\n",
       "  95    22  subcompact\n",
       "  96    23  subcompact\n",
       "  97    22  subcompact\n",
       "  98    20  subcompact\n",
       "  99    33  subcompact\n",
       "  100   32  subcompact\n",
       "  101   32  subcompact\n",
       "  102   29  subcompact\n",
       "  103   32  subcompact\n",
       "  104   34  subcompact\n",
       "  105   36  subcompact\n",
       "  106   36  subcompact\n",
       "  107   29  subcompact\n",
       "  115   26  subcompact\n",
       "  116   29  subcompact\n",
       "  117   28  subcompact\n",
       "  118   27  subcompact\n",
       "  119   24  subcompact\n",
       "  120   24  subcompact\n",
       "  121   24  subcompact\n",
       "  165   26  subcompact\n",
       "  166   26  subcompact\n",
       "  167   26  subcompact\n",
       "  168   26  subcompact\n",
       "  221   44  subcompact\n",
       "  222   41  subcompact\n",
       "  223   29  subcompact\n",
       "  224   26  subcompact\n",
       "  225   28  subcompact\n",
       "  226   29  subcompact), ('suv',      hwy class\n",
       "  18    20   suv\n",
       "  19    15   suv\n",
       "  20    20   suv\n",
       "  21    17   suv\n",
       "  22    17   suv\n",
       "  28    19   suv\n",
       "  29    14   suv\n",
       "  30    15   suv\n",
       "  31    17   suv\n",
       "  57    17   suv\n",
       "  58    17   suv\n",
       "  59    12   suv\n",
       "  60    17   suv\n",
       "  61    16   suv\n",
       "  62    18   suv\n",
       "  63    15   suv\n",
       "  74    17   suv\n",
       "  75    17   suv\n",
       "  76    18   suv\n",
       "  77    17   suv\n",
       "  78    19   suv\n",
       "  79    17   suv\n",
       "  80    19   suv\n",
       "  81    19   suv\n",
       "  82    17   suv\n",
       "  122   22   suv\n",
       "  123   19   suv\n",
       "  124   20   suv\n",
       "  125   17   suv\n",
       "  126   12   suv\n",
       "  ..   ...   ...\n",
       "  129   14   suv\n",
       "  130   15   suv\n",
       "  131   18   suv\n",
       "  132   18   suv\n",
       "  133   15   suv\n",
       "  134   17   suv\n",
       "  135   16   suv\n",
       "  136   18   suv\n",
       "  137   17   suv\n",
       "  138   19   suv\n",
       "  139   19   suv\n",
       "  140   17   suv\n",
       "  150   17   suv\n",
       "  151   17   suv\n",
       "  152   20   suv\n",
       "  153   18   suv\n",
       "  159   25   suv\n",
       "  160   24   suv\n",
       "  161   27   suv\n",
       "  162   25   suv\n",
       "  163   26   suv\n",
       "  164   23   suv\n",
       "  173   20   suv\n",
       "  174   20   suv\n",
       "  175   19   suv\n",
       "  176   17   suv\n",
       "  177   20   suv\n",
       "  178   17   suv\n",
       "  198   15   suv\n",
       "  199   18   suv\n",
       "  \n",
       "  [62 rows x 2 columns])]"
      ]
     },
     "execution_count": 7,
     "metadata": {},
     "output_type": "execute_result"
    }
   ],
   "source": [
    "#根据class对所有汽车进行分组\n",
    "[*df[['hwy','class']].groupby('class')]"
   ]
  },
  {
   "cell_type": "code",
   "execution_count": 22,
   "metadata": {},
   "outputs": [
    {
     "data": {
      "text/plain": [
       "class\n",
       "compact       47\n",
       "midsize       41\n",
       "suv           62\n",
       "2seater        5\n",
       "minivan       11\n",
       "pickup        33\n",
       "subcompact    35\n",
       "dtype: int64"
      ]
     },
     "execution_count": 22,
     "metadata": {},
     "output_type": "execute_result"
    }
   ],
   "source": [
    "#计算出每组的大小\n",
    "df[['hwy','class']].groupby('class',sort=False).size()   # 2列,不排序"
   ]
  },
  {
   "cell_type": "code",
   "execution_count": 17,
   "metadata": {},
   "outputs": [
    {
     "data": {
      "text/plain": [
       "{'compact': 27.0,\n",
       " 'midsize': 27.0,\n",
       " 'suv': 17.5,\n",
       " '2seater': 25.0,\n",
       " 'minivan': 23.0,\n",
       " 'pickup': 17.0,\n",
       " 'subcompact': 26.0}"
      ]
     },
     "execution_count": 17,
     "metadata": {},
     "output_type": "execute_result"
    }
   ],
   "source": [
    "#计算每种类型汽车的中位数并转换为字典\n",
    "{grp[0]:grp[1]['hwy'].median() for grp in df[['hwy','class']].groupby('class',sort=False)}  # grp为string+dataframe,grp[0]为string"
   ]
  },
  {
   "cell_type": "code",
   "execution_count": 15,
   "metadata": {
    "collapsed": true
   },
   "outputs": [
    {
     "name": "stdout",
     "output_type": "stream",
     "text": [
      "     hwy    class\n",
      "0     29  compact\n",
      "1     29  compact\n",
      "2     31  compact\n",
      "3     30  compact\n",
      "4     26  compact\n",
      "5     26  compact\n",
      "6     27  compact\n",
      "7     26  compact\n",
      "8     25  compact\n",
      "9     28  compact\n",
      "10    27  compact\n",
      "11    25  compact\n",
      "12    25  compact\n",
      "13    25  compact\n",
      "14    25  compact\n",
      "141   29  compact\n",
      "142   27  compact\n",
      "169   25  compact\n",
      "170   27  compact\n",
      "171   25  compact\n",
      "172   27  compact\n",
      "186   27  compact\n",
      "187   29  compact\n",
      "188   31  compact\n",
      "189   31  compact\n",
      "190   26  compact\n",
      "191   26  compact\n",
      "192   27  compact\n",
      "193   30  compact\n",
      "194   33  compact\n",
      "195   35  compact\n",
      "196   37  compact\n",
      "197   35  compact\n",
      "207   29  compact\n",
      "208   26  compact\n",
      "209   29  compact\n",
      "210   29  compact\n",
      "211   24  compact\n",
      "212   44  compact\n",
      "213   29  compact\n",
      "214   26  compact\n",
      "215   29  compact\n",
      "216   29  compact\n",
      "217   29  compact\n",
      "218   29  compact\n",
      "219   23  compact\n",
      "220   24  compact\n",
      "     hwy    class\n",
      "15    24  midsize\n",
      "16    25  midsize\n",
      "17    23  midsize\n",
      "32    27  midsize\n",
      "33    30  midsize\n",
      "34    26  midsize\n",
      "35    29  midsize\n",
      "36    26  midsize\n",
      "108   26  midsize\n",
      "109   27  midsize\n",
      "110   30  midsize\n",
      "111   31  midsize\n",
      "112   26  midsize\n",
      "113   26  midsize\n",
      "114   28  midsize\n",
      "143   31  midsize\n",
      "144   32  midsize\n",
      "145   27  midsize\n",
      "146   26  midsize\n",
      "147   26  midsize\n",
      "148   25  midsize\n",
      "149   25  midsize\n",
      "154   26  midsize\n",
      "155   26  midsize\n",
      "156   27  midsize\n",
      "157   28  midsize\n",
      "158   25  midsize\n",
      "179   29  midsize\n",
      "180   27  midsize\n",
      "181   31  midsize\n",
      "182   31  midsize\n",
      "183   26  midsize\n",
      "184   26  midsize\n",
      "185   28  midsize\n",
      "227   29  midsize\n",
      "228   29  midsize\n",
      "229   28  midsize\n",
      "230   29  midsize\n",
      "231   26  midsize\n",
      "232   26  midsize\n",
      "233   26  midsize\n",
      "     hwy class\n",
      "18    20   suv\n",
      "19    15   suv\n",
      "20    20   suv\n",
      "21    17   suv\n",
      "22    17   suv\n",
      "28    19   suv\n",
      "29    14   suv\n",
      "30    15   suv\n",
      "31    17   suv\n",
      "57    17   suv\n",
      "58    17   suv\n",
      "59    12   suv\n",
      "60    17   suv\n",
      "61    16   suv\n",
      "62    18   suv\n",
      "63    15   suv\n",
      "74    17   suv\n",
      "75    17   suv\n",
      "76    18   suv\n",
      "77    17   suv\n",
      "78    19   suv\n",
      "79    17   suv\n",
      "80    19   suv\n",
      "81    19   suv\n",
      "82    17   suv\n",
      "122   22   suv\n",
      "123   19   suv\n",
      "124   20   suv\n",
      "125   17   suv\n",
      "126   12   suv\n",
      "..   ...   ...\n",
      "129   14   suv\n",
      "130   15   suv\n",
      "131   18   suv\n",
      "132   18   suv\n",
      "133   15   suv\n",
      "134   17   suv\n",
      "135   16   suv\n",
      "136   18   suv\n",
      "137   17   suv\n",
      "138   19   suv\n",
      "139   19   suv\n",
      "140   17   suv\n",
      "150   17   suv\n",
      "151   17   suv\n",
      "152   20   suv\n",
      "153   18   suv\n",
      "159   25   suv\n",
      "160   24   suv\n",
      "161   27   suv\n",
      "162   25   suv\n",
      "163   26   suv\n",
      "164   23   suv\n",
      "173   20   suv\n",
      "174   20   suv\n",
      "175   19   suv\n",
      "176   17   suv\n",
      "177   20   suv\n",
      "178   17   suv\n",
      "198   15   suv\n",
      "199   18   suv\n",
      "\n",
      "[62 rows x 2 columns]\n",
      "    hwy    class\n",
      "23   26  2seater\n",
      "24   23  2seater\n",
      "25   26  2seater\n",
      "26   25  2seater\n",
      "27   24  2seater\n",
      "    hwy    class\n",
      "37   24  minivan\n",
      "38   24  minivan\n",
      "39   22  minivan\n",
      "40   22  minivan\n",
      "41   24  minivan\n",
      "42   24  minivan\n",
      "43   17  minivan\n",
      "44   22  minivan\n",
      "45   21  minivan\n",
      "46   23  minivan\n",
      "47   23  minivan\n",
      "     hwy   class\n",
      "48    19  pickup\n",
      "49    18  pickup\n",
      "50    17  pickup\n",
      "51    17  pickup\n",
      "52    19  pickup\n",
      "53    19  pickup\n",
      "54    12  pickup\n",
      "55    17  pickup\n",
      "56    15  pickup\n",
      "64    16  pickup\n",
      "65    12  pickup\n",
      "66    17  pickup\n",
      "67    17  pickup\n",
      "68    16  pickup\n",
      "69    12  pickup\n",
      "70    15  pickup\n",
      "71    16  pickup\n",
      "72    17  pickup\n",
      "73    15  pickup\n",
      "83    17  pickup\n",
      "84    17  pickup\n",
      "85    16  pickup\n",
      "86    16  pickup\n",
      "87    17  pickup\n",
      "88    15  pickup\n",
      "89    17  pickup\n",
      "200   20  pickup\n",
      "201   20  pickup\n",
      "202   22  pickup\n",
      "203   17  pickup\n",
      "204   19  pickup\n",
      "205   18  pickup\n",
      "206   20  pickup\n",
      "     hwy       class\n",
      "90    26  subcompact\n",
      "91    25  subcompact\n",
      "92    26  subcompact\n",
      "93    24  subcompact\n",
      "94    21  subcompact\n",
      "95    22  subcompact\n",
      "96    23  subcompact\n",
      "97    22  subcompact\n",
      "98    20  subcompact\n",
      "99    33  subcompact\n",
      "100   32  subcompact\n",
      "101   32  subcompact\n",
      "102   29  subcompact\n",
      "103   32  subcompact\n",
      "104   34  subcompact\n",
      "105   36  subcompact\n",
      "106   36  subcompact\n",
      "107   29  subcompact\n",
      "115   26  subcompact\n",
      "116   29  subcompact\n",
      "117   28  subcompact\n",
      "118   27  subcompact\n",
      "119   24  subcompact\n",
      "120   24  subcompact\n",
      "121   24  subcompact\n",
      "165   26  subcompact\n",
      "166   26  subcompact\n",
      "167   26  subcompact\n",
      "168   26  subcompact\n",
      "221   44  subcompact\n",
      "222   41  subcompact\n",
      "223   29  subcompact\n",
      "224   26  subcompact\n",
      "225   28  subcompact\n",
      "226   29  subcompact\n"
     ]
    }
   ],
   "source": [
    "for grp in df[['hwy','class']].groupby('class',sort=False):\n",
    "    print(grp[1])  #  grp为string+dataframe,grp[1]为dataframe"
   ]
  },
  {
   "cell_type": "code",
   "execution_count": 29,
   "metadata": {},
   "outputs": [
    {
     "data": {
      "image/png": "[encoded data removed]",
      "text/plain": [
       "<Figure size 720x480 with 1 Axes>"
      ]
     },
     "metadata": {
      "needs_background": "light"
     },
     "output_type": "display_data"
    }
   ],
   "source": [
    "#添加compact汽车的观察数量\n",
    "\n",
    "plt.figure(figsize=(12,8), dpi= 60)#创建画布\n",
    "sns.boxplot(x='class', y='hwy', data=df) #绘制基础箱型图  ,,每一个文字标签其实对应0123\n",
    "\n",
    "xticklabels = [x.get_text() for x in plt.gca().get_xticklabels()] #横坐标刻度标签\n",
    "# xticklabels :['compact', 'midsize', 'suv', '2seater', 'minivan', 'pickup', 'subcompact']\n",
    "\n",
    "medians_dict={grp[0]:grp[1]['hwy'].median() for grp in df.groupby('class',sort=False)} #每种类型汽车对应中位数的字典\n",
    "nums = df[['hwy','class']].groupby('class',sort=False).size().values #每种类型车的数量，计数图中区别可见，不排序才能对应上\n",
    "\n",
    "#添加compact汽车的观察数量\n",
    "plt.text(range(len(nums))[0],medians_dict[xticklabels[0]],'#obs:'+str(nums[0])  # 第一个,画在中位线上\n",
    "         ,horizontalalignment='center'\n",
    "         ,verticalalignment='bottom'\n",
    "         ,fontdict={'size':14,'color':'w'})\n",
    "\n",
    "#添加装饰\n",
    "plt.title('Box Plot of Highway Mileage by Vehicle Class', fontsize=20) #添加标题\n",
    "plt.xlabel('class',fontdict={'size':18}) #设定X轴标题大小\n",
    "plt.ylabel('hwy',fontdict={'size':18}) #设定Y轴标题大小\n",
    "plt.xticks(fontsize=15)  #设定X轴刻度大小\n",
    "plt.yticks(fontsize=15)  #设定Y轴刻度大小\n",
    "plt.ylim(10,40) #设定Y轴刻度范围\n",
    "plt.show() #本地显示图形"
   ]
  },
  {
   "cell_type": "markdown",
   "metadata": {},
   "source": [
    "#### 绘制目标图形"
   ]
  },
  {
   "cell_type": "code",
   "execution_count": 24,
   "metadata": {},
   "outputs": [
    {
     "data": {
      "image/png": "[encoded data removed]",
      "text/plain": [
       "<Figure size 720x480 with 1 Axes>"
      ]
     },
     "metadata": {
      "needs_background": "light"
     },
     "output_type": "display_data"
    }
   ],
   "source": [
    "plt.figure(figsize=(12,8), dpi= 60)#创建画布\n",
    "sns.boxplot(x='class', y='hwy', data=df) #绘制基础箱型图\n",
    "\n",
    "xticklabels = [x.get_text() for x in plt.gca().get_xticklabels()] #横坐标刻度标签\n",
    "medians_dict={grp[0]:grp[1]['hwy'].median() for grp in df.groupby('class',sort=False)} #每种类型汽车的中位数\n",
    "nums = df[['hwy','class']].groupby('class',sort=False).size().values #每种类型车的数量，不排序才能对应上\n",
    "\n",
    "#添加所有类型汽车的观察数量\n",
    "for i in range(len(nums)):\n",
    "    plt.text(i,medians_dict[xticklabels[i]],'#obs:'+str(nums[i])   \n",
    "             ,horizontalalignment='center'\n",
    "             ,verticalalignment='bottom'\n",
    "             ,fontdict={'size':14,'color':'w'})\n",
    "\n",
    "#添加装饰\n",
    "plt.title('Box Plot of Highway Mileage by Vehicle Class', fontsize=20) #添加标题\n",
    "plt.xlabel('class',fontdict={'size':18}) #设定X轴标题大小\n",
    "plt.ylabel('hwy',fontdict={'size':18}) #设定Y轴标题大小\n",
    "plt.xticks(fontsize=15)  #设定X轴刻度大小\n",
    "plt.yticks(fontsize=15)  #设定Y轴刻度大小\n",
    "plt.ylim(10,40) #设定Y轴刻度范围\n",
    "plt.show() #本地显示图形"
   ]
  },
  {
   "cell_type": "markdown",
   "metadata": {},
   "source": [
    "#### 源码解读"
   ]
  },
  {
   "cell_type": "code",
   "execution_count": 31,
   "metadata": {},
   "outputs": [
    {
     "data": {
      "image/png": "[encoded data removed]",
      "text/plain": [
       "<Figure size 720x480 with 1 Axes>"
      ]
     },
     "metadata": {
      "needs_background": "light"
     },
     "output_type": "display_data"
    }
   ],
   "source": [
    "# Import Data\n",
    "df = pd.read_csv(\"data/mpg_ggplot2.csv\")\n",
    "\n",
    "# Draw Plot\n",
    "plt.figure(figsize=(12,8), dpi= 60) #创建画布\n",
    "sns.boxplot(x='class', y='hwy', data=df, notch=False) #绘制基础箱型图\n",
    "\n",
    "# Add N Obs inside boxplot (optional) \n",
    "def add_n_obs(df,group_col,y):\n",
    "    medians_dict = {grp[0]:grp[1][y].median() for grp in df.groupby(group_col)} #根据group_col分组，计算每组中y的中位数字典\n",
    "    xticklabels = [x.get_text() for x in plt.gca().get_xticklabels()] #提取当前子图中的X轴刻度标签  \n",
    "    n_obs = df.groupby(group_col)[y].size().values  ##根据group_col分组，获取每组的数量  \n",
    "    for (x, xticklabel), n_ob in zip(enumerate(xticklabels), n_obs): #对每种汽车添加文本   \n",
    "        plt.text(x, medians_dict[xticklabel]*1.01, \n",
    "                 \"#obs : \"+str(n_ob), horizontalalignment='center', \n",
    "                 fontdict={'size':14}, color='white')\n",
    "\n",
    "add_n_obs(df,group_col='class',y='hwy')  #把每种类型汽车的观察数量添加到箱型图中  \n",
    "\n",
    "# Decoration\n",
    "plt.title('Box Plot of Highway Mileage by Vehicle Class', fontsize=22) #添加标题\n",
    "plt.ylim(10, 40) #设定Y轴刻度范围\n",
    "plt.show() #本地显示图形"
   ]
  },
  {
   "cell_type": "markdown",
   "metadata": {},
   "source": [
    "到这里，相信细心的你一定发现这里的代码是有问题的~~~~"
   ]
  },
  {
   "cell_type": "markdown",
   "metadata": {},
   "source": [
    "那我们一起来看一下，问题出在哪里！！！"
   ]
  },
  {
   "cell_type": "markdown",
   "metadata": {},
   "source": [
    "首先可以确定的是箱型图的绘制是没有问题的，那就是添加文本的时候顺序出错了~"
   ]
  },
  {
   "cell_type": "code",
   "execution_count": 32,
   "metadata": {},
   "outputs": [
    {
     "data": {
      "text/plain": [
       "suv           62\n",
       "compact       47\n",
       "midsize       41\n",
       "subcompact    35\n",
       "pickup        33\n",
       "minivan       11\n",
       "2seater        5\n",
       "Name: class, dtype: int64"
      ]
     },
     "execution_count": 32,
     "metadata": {},
     "output_type": "execute_result"
    }
   ],
   "source": [
    "#统计每种类型汽车的数量\n",
    "df['class'].value_counts()  #顺序按计数大小"
   ]
  },
  {
   "cell_type": "code",
   "execution_count": 33,
   "metadata": {},
   "outputs": [
    {
     "data": {
      "image/png": "[encoded data removed]",
      "text/plain": [
       "<Figure size 720x480 with 1 Axes>"
      ]
     },
     "metadata": {
      "needs_background": "light"
     },
     "output_type": "display_data"
    }
   ],
   "source": [
    "plt.figure(figsize=(12,8), dpi= 60) #创建画布\n",
    "sns.boxplot(x='class', y='hwy', data=df, notch=False) #绘制基础箱型图\n",
    "xticklabels = [x.get_text() for x in plt.gca().get_xticklabels()] #箱型图X轴刻度标签"
   ]
  },
  {
   "cell_type": "code",
   "execution_count": 34,
   "metadata": {},
   "outputs": [
    {
     "data": {
      "text/plain": [
       "['compact', 'midsize', 'suv', '2seater', 'minivan', 'pickup', 'subcompact']"
      ]
     },
     "execution_count": 34,
     "metadata": {},
     "output_type": "execute_result"
    }
   ],
   "source": [
    "#这是箱型图中X轴的刻度标签顺序\n",
    "xticklabels "
   ]
  },
  {
   "cell_type": "code",
   "execution_count": 35,
   "metadata": {},
   "outputs": [],
   "source": [
    "group_col='class'\n",
    "y='hwy'"
   ]
  },
  {
   "cell_type": "code",
   "execution_count": 36,
   "metadata": {},
   "outputs": [
    {
     "data": {
      "text/plain": [
       "{'2seater': 25.0,\n",
       " 'compact': 27.0,\n",
       " 'midsize': 27.0,\n",
       " 'minivan': 23.0,\n",
       " 'pickup': 17.0,\n",
       " 'subcompact': 26.0,\n",
       " 'suv': 17.5}"
      ]
     },
     "execution_count": 36,
     "metadata": {},
     "output_type": "execute_result"
    }
   ],
   "source": [
    "#这是每种汽车的中位数，groupby顺序自动排\n",
    "medians_dict = {grp[0]:grp[1][y].median() for grp in df.groupby(group_col)}\n",
    "medians_dict"
   ]
  },
  {
   "cell_type": "code",
   "execution_count": 37,
   "metadata": {},
   "outputs": [
    {
     "data": {
      "text/plain": [
       "array([ 5, 47, 41, 11, 33, 35, 62], dtype=int64)"
      ]
     },
     "execution_count": 37,
     "metadata": {},
     "output_type": "execute_result"
    }
   ],
   "source": [
    "#这是每种汽车的数量 groupby顺序自动排\n",
    "n_obs = df.groupby(group_col)[y].size().values\n",
    "n_obs"
   ]
  },
  {
   "cell_type": "code",
   "execution_count": 38,
   "metadata": {},
   "outputs": [
    {
     "data": {
      "text/plain": [
       "class\n",
       "2seater        5\n",
       "compact       47\n",
       "midsize       41\n",
       "minivan       11\n",
       "pickup        33\n",
       "subcompact    35\n",
       "suv           62\n",
       "Name: hwy, dtype: int64"
      ]
     },
     "execution_count": 38,
     "metadata": {},
     "output_type": "execute_result"
    }
   ],
   "source": [
    "df.groupby(group_col)[y].size() #groupby顺序自动排"
   ]
  },
  {
   "cell_type": "code",
   "execution_count": 39,
   "metadata": {},
   "outputs": [
    {
     "data": {
      "text/plain": [
       "[((0, 'compact'), 5),\n",
       " ((1, 'midsize'), 47),\n",
       " ((2, 'suv'), 41),\n",
       " ((3, '2seater'), 11),\n",
       " ((4, 'minivan'), 33),\n",
       " ((5, 'pickup'), 35),\n",
       " ((6, 'subcompact'), 62)]"
      ]
     },
     "execution_count": 39,
     "metadata": {},
     "output_type": "execute_result"
    }
   ],
   "source": [
    "[*zip(enumerate(xticklabels), n_obs)]  #顺序按列表出现先后"
   ]
  },
  {
   "cell_type": "markdown",
   "metadata": {},
   "source": [
    "到这里，可以发现：xticklabels，medians_dict，n_obs三者的顺序是不一致的"
   ]
  },
  {
   "cell_type": "markdown",
   "metadata": {},
   "source": [
    "解决办法就是把三者顺序统一"
   ]
  },
  {
   "cell_type": "markdown",
   "metadata": {},
   "source": [
    "- 方法一：改变原箱型图的xticklabels的顺序，使其与medians_dict和n_obs的顺序一致"
   ]
  },
  {
   "cell_type": "code",
   "execution_count": 54,
   "metadata": {},
   "outputs": [
    {
     "data": {
      "image/png": "[encoded data removed]",
      "text/plain": [
       "<Figure size 720x480 with 1 Axes>"
      ]
     },
     "metadata": {
      "needs_background": "light"
     },
     "output_type": "display_data"
    }
   ],
   "source": [
    "#修正后的源码1\n",
    "# Draw Plot\n",
    "plt.figure(figsize=(12,8), dpi= 60) #创建画布\n",
    "sns.boxplot(x='class', y='hwy', data=df, notch=False\n",
    "            ,order=['2seater', 'compact', 'midsize', 'minivan', 'pickup', 'subcompact','suv']) #绘制基础箱型图，改变原按出现顺序\n",
    "\n",
    "# Add N Obs inside boxplot (optional) \n",
    "def add_n_obs(df,group_col,y):\n",
    "    medians_dict = {grp[0]:grp[1][y].median() for grp in df.groupby(group_col)} # 有排序\n",
    "    xticklabels = [x.get_text() for x in plt.gca().get_xticklabels()] #同上绘图部分\n",
    "    n_obs = df.groupby(group_col)[y].size().values  # 有排序\n",
    "    for (x, xticklabel), n_ob in zip(enumerate(xticklabels), n_obs):\n",
    "        plt.text(x, medians_dict[xticklabel]*1.01, \n",
    "                 \"#obs : \"+str(n_ob), horizontalalignment='center', \n",
    "                 fontdict={'size':14}, color='white')\n",
    "\n",
    "add_n_obs(df,group_col='class',y='hwy')  #把每种类型汽车的观察数量添加到箱型图中  \n",
    "\n",
    "# Decoration\n",
    "plt.title('Box Plot of Highway Mileage by Vehicle Class', fontsize=22) #添加标题\n",
    "plt.ylim(10, 40) #设定Y轴刻度范围\n",
    "plt.show() #本地显示图形"
   ]
  },
  {
   "cell_type": "markdown",
   "metadata": {},
   "source": [
    "- 方法二：改变medians_dict和n_obs的顺序，使其与xticklabels保持一致"
   ]
  },
  {
   "cell_type": "code",
   "execution_count": 40,
   "metadata": {},
   "outputs": [
    {
     "data": {
      "image/png": "[encoded data removed]",
      "text/plain": [
       "<Figure size 432x288 with 1 Axes>"
      ]
     },
     "metadata": {
      "needs_background": "light"
     },
     "output_type": "display_data"
    }
   ],
   "source": [
    "sns.boxplot(x='class', y='hwy', data=df, notch=False); \n",
    "#绘制基础箱型图的时候是没有设定顺序的"
   ]
  },
  {
   "cell_type": "code",
   "execution_count": 41,
   "metadata": {},
   "outputs": [
    {
     "data": {
      "text/plain": [
       "{'compact': 27.0,\n",
       " 'midsize': 27.0,\n",
       " 'suv': 17.5,\n",
       " '2seater': 25.0,\n",
       " 'minivan': 23.0,\n",
       " 'pickup': 17.0,\n",
       " 'subcompact': 26.0}"
      ]
     },
     "execution_count": 41,
     "metadata": {},
     "output_type": "execute_result"
    }
   ],
   "source": [
    "medians_dict = {grp[0]:grp[1][y].median() for grp in df.groupby(group_col,sort=False)}#groupby默认sort=True，是排序的\n",
    "medians_dict"
   ]
  },
  {
   "cell_type": "code",
   "execution_count": 42,
   "metadata": {},
   "outputs": [
    {
     "data": {
      "text/plain": [
       "class\n",
       "compact       47\n",
       "midsize       41\n",
       "suv           62\n",
       "2seater        5\n",
       "minivan       11\n",
       "pickup        33\n",
       "subcompact    35\n",
       "Name: hwy, dtype: int64"
      ]
     },
     "execution_count": 42,
     "metadata": {},
     "output_type": "execute_result"
    }
   ],
   "source": [
    "df.groupby(group_col,sort=False)[y].size()"
   ]
  },
  {
   "cell_type": "code",
   "execution_count": 59,
   "metadata": {},
   "outputs": [
    {
     "data": {
      "text/plain": [
       "array([47, 41, 62,  5, 11, 33, 35], dtype=int64)"
      ]
     },
     "execution_count": 59,
     "metadata": {},
     "output_type": "execute_result"
    }
   ],
   "source": [
    "n_obs = df.groupby(group_col,sort=False)[y].size().values\n",
    "n_obs"
   ]
  },
  {
   "cell_type": "code",
   "execution_count": 43,
   "metadata": {},
   "outputs": [
    {
     "data": {
      "image/png": "[encoded data removed]",
      "text/plain": [
       "<Figure size 720x480 with 1 Axes>"
      ]
     },
     "metadata": {
      "needs_background": "light"
     },
     "output_type": "display_data"
    }
   ],
   "source": [
    "#修正后的源码2\n",
    "# Draw Plot\n",
    "plt.figure(figsize=(12,8), dpi= 60) #创建画布\n",
    "sns.boxplot(x='class', y='hwy', data=df, notch=False) #绘制基础箱型图\n",
    "\n",
    "# Add N Obs inside boxplot (optional) \n",
    "def add_n_obs(df,group_col,y):\n",
    "    medians_dict = {grp[0]:grp[1][y].median() for grp in df.groupby(group_col,sort=False)}\n",
    "    xticklabels = [x.get_text() for x in plt.gca().get_xticklabels()]\n",
    "    n_obs = df.groupby(group_col,sort=False)[y].size().values\n",
    "    for (x, xticklabel), n_ob in zip(enumerate(xticklabels), n_obs):\n",
    "        plt.text(x, medians_dict[xticklabel]*1.01, \n",
    "                 \"#obs : \"+str(n_ob), horizontalalignment='center', \n",
    "                 fontdict={'size':14}, color='white')\n",
    "\n",
    "add_n_obs(df,group_col='class',y='hwy')  #把每种类型汽车的观察数量添加到箱型图中  \n",
    "\n",
    "# Decoration\n",
    "plt.title('Box Plot of Highway Mileage by Vehicle Class', fontsize=22) #添加标题\n",
    "plt.ylim(10, 40) #设定Y轴刻度范围\n",
    "plt.show() #本地显示图形"
   ]
  },
  {
   "cell_type": "markdown",
   "metadata": {},
   "source": [
    "### 4.图形解读"
   ]
  },
  {
   "cell_type": "code",
   "execution_count": null,
   "metadata": {},
   "outputs": [],
   "source": []
  },
  {
   "cell_type": "code",
   "execution_count": null,
   "metadata": {},
   "outputs": [],
   "source": []
  },
  {
   "cell_type": "markdown",
   "metadata": {},
   "source": [
    "### <font color='bule'>27/50 包点+箱型图（Dot + Box Plot）"
   ]
  },
  {
   "cell_type": "markdown",
   "metadata": {},
   "source": [
    "包点+箱型图就是把包点图和箱型图结合起来的图形"
   ]
  },
  {
   "cell_type": "markdown",
   "metadata": {},
   "source": [
    "<img src='http://pictes.oss-cn-beijing.aliyuncs.com/microclass-virtualisation/week4%20Distribution/%E5%8C%85%E7%82%B9%2B%E7%AE%B1%E5%BD%A2%E5%9B%BE.png' width=600>"
   ]
  },
  {
   "cell_type": "markdown",
   "metadata": {},
   "source": [
    "- 横坐标：汽车类型\n",
    "- 纵坐标：公路里程/加仑 \n",
    "- 图例：气缸数"
   ]
  },
  {
   "cell_type": "markdown",
   "metadata": {},
   "source": [
    "### 1.导入绘图需要的包"
   ]
  },
  {
   "cell_type": "code",
   "execution_count": 1,
   "metadata": {},
   "outputs": [],
   "source": [
    "import pandas as pd\n",
    "import numpy as np\n",
    "import seaborn as sns \n",
    "import matplotlib.pyplot as plt\n",
    "%matplotlib inline\n",
    "#如果用jupyter notebook则需要这行代码让你的图像显示，如果是jupyterlab则不需要\n",
    "\n",
    "plt.rcParams['font.sans-serif']=['Simhei'] #显示中文\n",
    "plt.rcParams['axes.unicode_minus']=False   #显示负号"
   ]
  },
  {
   "cell_type": "markdown",
   "metadata": {},
   "source": [
    "### 2.认识绘制包点+箱型图的函数"
   ]
  },
  {
   "cell_type": "markdown",
   "metadata": {},
   "source": [
    "**sns.boxplot**   \n",
    "函数功能： 绘制箱型图以展示不同类别之间的分布  \n",
    "\n",
    "重要参数：   \n",
    ">x/y/hue：“data”或矢量数据中变量的名称     \n",
    ">'data=None'：用于绘图的数据集   \n",
    ">order/hue_order:控制箱型图顺序，list形式   \n",
    ">'color=None':颜色    \n",
    ">'saturation=0.75':色彩饱和度   \n",
    ">'width=0.8':控制箱体宽度    \n",
    ">'fliersize=5':异常值的大小    \n",
    ">'linewidth=None'：线宽    \n",
    ">'whis=1.5':四分位距的倍数，异常值的参考系     \n",
    ">'notch=False'：在中位数两边显示切口    \n",
    "\n",
    "**sns.stripplot**   \n",
    "函数功能：绘制含有分类变量的散点图   \n",
    "\n",
    "重要参数：   \n",
    ">x/y/hue：“data”或矢量数据中变量的名称     \n",
    ">'data=None'：用于绘图的数据集   \n",
    ">order/hue_order:控制箱型图顺序，list形式   \n",
    ">'color=None':颜色  \n",
    ">'jitter=True':沿分类轴抖动的大小，默认为True,可选项：float/True/1   \n",
    ">'size=5'：散点的大小   \n",
    ">\"edgecolor='gray'\"：散点边缘颜色    \n",
    ">'linewidth=0'：散点线宽   "
   ]
  },
  {
   "cell_type": "code",
   "execution_count": 104,
   "metadata": {},
   "outputs": [],
   "source": [
    "# sns.stripplot?"
   ]
  },
  {
   "cell_type": "code",
   "execution_count": 5,
   "metadata": {},
   "outputs": [
    {
     "data": {
      "image/png": "[encoded data removed]",
      "text/plain": [
       "<Figure size 840x480 with 1 Axes>"
      ]
     },
     "metadata": {
      "needs_background": "light"
     },
     "output_type": "display_data"
    }
   ],
   "source": [
    "# 绘制简单散点图 \n",
    "plt.figure(figsize=(14,8),dpi=60)\n",
    "sns.boxplot(x='class', y='hwy', data=df\n",
    "          # , hue='cyl' # 根据2个分类变量嵌套分组绘制一个箱型图\n",
    "           );"
   ]
  },
  {
   "cell_type": "code",
   "execution_count": 18,
   "metadata": {},
   "outputs": [
    {
     "data": {
      "image/png": "[encoded data removed]",
      "text/plain": [
       "<Figure size 960x480 with 1 Axes>"
      ]
     },
     "metadata": {
      "needs_background": "light"
     },
     "output_type": "display_data"
    }
   ],
   "source": [
    "#绘制简单散点图\n",
    "plt.figure(figsize=(16,8),dpi=60)\n",
    "sns.stripplot(x='class', y='hwy', data=df\n",
    "#              ,color='b'\n",
    "#               ,alpha=.5\n",
    "#               ,size=10\n",
    "#               ,edgecolor='r'\n",
    "#               ,linewidth=1\n",
    "              ,jitter=True   # jitter=False为一直线，不抖动\n",
    "             );"
   ]
  },
  {
   "cell_type": "markdown",
   "metadata": {},
   "source": [
    "### 3.绘制包点+箱型图   "
   ]
  },
  {
   "cell_type": "code",
   "execution_count": 8,
   "metadata": {},
   "outputs": [],
   "source": [
    "#导入数据集\n",
    "df= pd.read_csv(\"data/mpg_ggplot2.csv\")"
   ]
  },
  {
   "cell_type": "code",
   "execution_count": 9,
   "metadata": {},
   "outputs": [
    {
     "data": {
      "text/html": [
       "<div>\n",
       "<style scoped>\n",
       "    .dataframe tbody tr th:only-of-type {\n",
       "        vertical-align: middle;\n",
       "    }\n",
       "\n",
       "    .dataframe tbody tr th {\n",
       "        vertical-align: top;\n",
       "    }\n",
       "\n",
       "    .dataframe thead th {\n",
       "        text-align: right;\n",
       "    }\n",
       "</style>\n",
       "<table border=\"1\" class=\"dataframe\">\n",
       "  <thead>\n",
       "    <tr style=\"text-align: right;\">\n",
       "      <th></th>\n",
       "      <th>manufacturer</th>\n",
       "      <th>model</th>\n",
       "      <th>displ</th>\n",
       "      <th>year</th>\n",
       "      <th>cyl</th>\n",
       "      <th>trans</th>\n",
       "      <th>drv</th>\n",
       "      <th>cty</th>\n",
       "      <th>hwy</th>\n",
       "      <th>fl</th>\n",
       "      <th>class</th>\n",
       "    </tr>\n",
       "  </thead>\n",
       "  <tbody>\n",
       "    <tr>\n",
       "      <th>0</th>\n",
       "      <td>audi</td>\n",
       "      <td>a4</td>\n",
       "      <td>1.8</td>\n",
       "      <td>1999</td>\n",
       "      <td>4</td>\n",
       "      <td>auto(l5)</td>\n",
       "      <td>f</td>\n",
       "      <td>18</td>\n",
       "      <td>29</td>\n",
       "      <td>p</td>\n",
       "      <td>compact</td>\n",
       "    </tr>\n",
       "    <tr>\n",
       "      <th>1</th>\n",
       "      <td>audi</td>\n",
       "      <td>a4</td>\n",
       "      <td>1.8</td>\n",
       "      <td>1999</td>\n",
       "      <td>4</td>\n",
       "      <td>manual(m5)</td>\n",
       "      <td>f</td>\n",
       "      <td>21</td>\n",
       "      <td>29</td>\n",
       "      <td>p</td>\n",
       "      <td>compact</td>\n",
       "    </tr>\n",
       "    <tr>\n",
       "      <th>2</th>\n",
       "      <td>audi</td>\n",
       "      <td>a4</td>\n",
       "      <td>2.0</td>\n",
       "      <td>2008</td>\n",
       "      <td>4</td>\n",
       "      <td>manual(m6)</td>\n",
       "      <td>f</td>\n",
       "      <td>20</td>\n",
       "      <td>31</td>\n",
       "      <td>p</td>\n",
       "      <td>compact</td>\n",
       "    </tr>\n",
       "    <tr>\n",
       "      <th>3</th>\n",
       "      <td>audi</td>\n",
       "      <td>a4</td>\n",
       "      <td>2.0</td>\n",
       "      <td>2008</td>\n",
       "      <td>4</td>\n",
       "      <td>auto(av)</td>\n",
       "      <td>f</td>\n",
       "      <td>21</td>\n",
       "      <td>30</td>\n",
       "      <td>p</td>\n",
       "      <td>compact</td>\n",
       "    </tr>\n",
       "    <tr>\n",
       "      <th>4</th>\n",
       "      <td>audi</td>\n",
       "      <td>a4</td>\n",
       "      <td>2.8</td>\n",
       "      <td>1999</td>\n",
       "      <td>6</td>\n",
       "      <td>auto(l5)</td>\n",
       "      <td>f</td>\n",
       "      <td>16</td>\n",
       "      <td>26</td>\n",
       "      <td>p</td>\n",
       "      <td>compact</td>\n",
       "    </tr>\n",
       "  </tbody>\n",
       "</table>\n",
       "</div>"
      ],
      "text/plain": [
       "  manufacturer model  displ  year  cyl       trans drv  cty  hwy fl    class\n",
       "0         audi    a4    1.8  1999    4    auto(l5)   f   18   29  p  compact\n",
       "1         audi    a4    1.8  1999    4  manual(m5)   f   21   29  p  compact\n",
       "2         audi    a4    2.0  2008    4  manual(m6)   f   20   31  p  compact\n",
       "3         audi    a4    2.0  2008    4    auto(av)   f   21   30  p  compact\n",
       "4         audi    a4    2.8  1999    6    auto(l5)   f   16   26  p  compact"
      ]
     },
     "execution_count": 9,
     "metadata": {},
     "output_type": "execute_result"
    }
   ],
   "source": [
    "df.head() #这个数据集我们已经非常熟悉了"
   ]
  },
  {
   "cell_type": "code",
   "execution_count": 157,
   "metadata": {},
   "outputs": [
    {
     "data": {
      "image/png": "[encoded data removed]",
      "text/plain": [
       "<Figure size 720x480 with 1 Axes>"
      ]
     },
     "metadata": {
      "needs_background": "light"
     },
     "output_type": "display_data"
    }
   ],
   "source": [
    "plt.figure(figsize=(12,8), dpi= 60) #创建画布\n",
    "sns.boxplot(x='class', y='hwy', data=df, hue='cyl') #绘制箱型图\n",
    "sns.stripplot(x='class', y='hwy', data=df, size=3, jitter=1) #绘制散点图,有抖动\n",
    "\n",
    "#添加分割线（10，45）\n",
    "for i in range(len(df['class'].unique())-1):\n",
    "    plt.vlines(i+.5, 10, 45, linestyles='solid', colors='gray', alpha=0.2)\n",
    "\n",
    "#添加装饰\n",
    "plt.title('不同种类车辆的公路里程箱型图', fontsize=20) #添加标题\n",
    "plt.legend(title='Cylinders',frameon=False,fontsize=12) #添加图例\n",
    "plt.show()"
   ]
  },
  {
   "cell_type": "markdown",
   "metadata": {},
   "source": [
    "源码解读"
   ]
  },
  {
   "cell_type": "code",
   "execution_count": 16,
   "metadata": {},
   "outputs": [
    {
     "data": {
      "image/png": "[encoded data removed]",
      "text/plain": [
       "<Figure size 780x600 with 1 Axes>"
      ]
     },
     "metadata": {
      "needs_background": "light"
     },
     "output_type": "display_data"
    }
   ],
   "source": [
    "# Import Data\n",
    "# df = pd.read_csv(\"https://github.com/selva86/datasets/raw/master/mpg_ggplot2.csv\") #导入原始数据集\n",
    "\n",
    "# Draw Plot\n",
    "plt.figure(figsize=(13,10), dpi= 60) #创建画布 \n",
    "sns.boxplot(x='class', y='hwy', data=df, hue='cyl') #绘制箱型图\n",
    "sns.stripplot(x='class', y='hwy', data=df, color='black', size=3, jitter=1) #绘制散点图\n",
    "\n",
    "for i in range(len(df['class'].unique())-1):\n",
    "    plt.vlines(i+.5, 10, 45, linestyles='solid', colors='gray', alpha=0.2) #添加垂直分割线\n",
    "\n",
    "# Decoration\n",
    "plt.title('Box Plot of Highway Mileage by Vehicle Class', fontsize=22) #添加标题\n",
    "plt.legend(title='$Cylinders$') #添加图例\n",
    "plt.show()  #本地显示"
   ]
  },
  {
   "cell_type": "markdown",
   "metadata": {},
   "source": [
    "### 4.图像解读"
   ]
  },
  {
   "cell_type": "markdown",
   "metadata": {},
   "source": [
    "### <font color='bule'>28/50 小提琴图（violin Plot）"
   ]
  },
  {
   "cell_type": "markdown",
   "metadata": {},
   "source": [
    "小提琴图是箱形图的视觉替代。小提琴的形状或面积取决于其可观察的次数。但是，小提琴图很难阅读，在专业环境中不常用。"
   ]
  },
  {
   "cell_type": "markdown",
   "metadata": {},
   "source": [
    "<img src='https://www.machinelearningplus.com/wp-content/uploads/2018/11/28_Violin_Plot_Seaborn-min-1024x788.png' width=600>"
   ]
  },
  {
   "cell_type": "code",
   "execution_count": 21,
   "metadata": {},
   "outputs": [
    {
     "data": {
      "image/png": "[encoded data removed]",
      "text/plain": [
       "<Figure size 800x560 with 1 Axes>"
      ]
     },
     "metadata": {
      "needs_background": "light"
     },
     "output_type": "display_data"
    }
   ],
   "source": [
    "# Import Data\n",
    "df = pd.read_csv(\"data/mpg_ggplot2.csv\")\n",
    "\n",
    "# Draw Plot\n",
    "plt.figure(figsize=(10,7), dpi= 80)\n",
    "sns.violinplot(x='class', y='hwy', data=df, scale='width', inner='quartile')\n",
    "\n",
    "# Decoration\n",
    "plt.title('Violin Plot of Highway Mileage by Vehicle Class', fontsize=22)\n",
    "plt.show()"
   ]
  }
 ],
 "metadata": {
  "kernelspec": {
   "display_name": "Python 3",
   "language": "python",
   "name": "python3"
  },
  "language_info": {
   "codemirror_mode": {
    "name": "ipython",
    "version": 3
   },
   "file_extension": ".py",
   "mimetype": "text/x-python",
   "name": "python",
   "nbconvert_exporter": "python",
   "pygments_lexer": "ipython3",
   "version": "3.7.0"
  }
 },
 "nbformat": 4,
 "nbformat_minor": 2
}
