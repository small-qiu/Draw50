{
 "cells": [
  {
   "cell_type": "markdown",
   "metadata": {},
   "source": [
    "## **第四期 分布图 Distribution**"
   ]
  },
  {
   "cell_type": "markdown",
   "metadata": {},
   "source": [
    "分布图是python机器学习中比较常见的一种图形    \n",
    "如果你想要查看多组数据之间的分布有什么不同的时候，分布图就是一个很好的选择。   \n",
    "你可以用分布图查看一个特征中不同种类之间的分布关系，也可以查看多个特征之间的分布    "
   ]
  },
  {
   "cell_type": "markdown",
   "metadata": {},
   "source": [
    "典型的分布图有：直方图、密度图、箱型图……"
   ]
  },
  {
   "cell_type": "markdown",
   "metadata": {},
   "source": [
    "<img src='http://pictes.oss-cn-beijing.aliyuncs.com/microclass-virtualisation/week4%20Distribution/%E5%88%86%E5%B8%83%E5%9B%BE.png'>"
   ]
  },
  {
   "cell_type": "markdown",
   "metadata": {},
   "source": [
    "### 我们什么时候需要分布图呢？  \n",
    "1. 数据探索 & 数据解读：<br>\n",
    ">探索数据关系，了解数据分布状况，为决策提供依据<br>\n",
    "2. 数据报告 & 学术研究：<br>\n",
    ">纵向对比：同一个特征中不同类别之间的分布状况<br>\n",
    ">横向对比：不同特征之间的分布状况\n"
   ]
  },
  {
   "cell_type": "markdown",
   "metadata": {},
   "source": [
    "<img src=\"http://pictes.oss-cn-beijing.aliyuncs.com/microclass-virtualisation/week1correlation/line4.png\" align=\"center\" />"
   ]
  },
  {
   "cell_type": "markdown",
   "metadata": {},
   "source": [
    "### <font color='bule'>第四期  分布图：20连续变量直方图 & 21分类变量直方图\n"
   ]
  },
  {
   "cell_type": "markdown",
   "metadata": {},
   "source": [
    "## o新知识点\n",
    "\n",
    "1.plt.hist()\n",
    "\n",
    "2.df0['displ'].values.tolist()\n",
    "\n",
    "3.vals =[df0['displ'].values.tolist() for i,df0 in df_agg] # 重复displ值\n",
    "\n",
    "4.plt.hist(vals,30,stacked=True);  # vals是二维连续变量列表，30个bins\n",
    "\n",
    "5.[round(b,1) for b in bins[::3]]"
   ]
  },
  {
   "cell_type": "markdown",
   "metadata": {},
   "source": [
    "<img src=\"http://pictes.oss-cn-beijing.aliyuncs.com/microclass-virtualisation/week1correlation/line4.png\" align=\"center\" />"
   ]
  },
  {
   "cell_type": "markdown",
   "metadata": {},
   "source": [
    "### <font color=bule> 20/50 连续变量直方图（Histogram for Continuous Variable）\n",
    "#### 类型与排量"
   ]
  },
  {
   "cell_type": "markdown",
   "metadata": {},
   "source": [
    "直方图是我们探索数据时常用的一种方法，它可以显示给定变量的频率分布，非常直观。     \n",
    "一般的直方图对于单变量来说非常的友好，能够清晰的表达出变量的分布状况。     \n",
    "但是对于多变量来说，一般的直方图就没办法清楚的传递信息，解决方案之一就是堆积直方图（如下图所示）。     \n",
    "下图基于分类变量对频率条进行分组，可以更好地了解连续变量和分类变量。   "
   ]
  },
  {
   "cell_type": "markdown",
   "metadata": {},
   "source": [
    "<img src=\"http://pictes.oss-cn-beijing.aliyuncs.com/microclass-virtualisation/week4%20Distribution/%E8%BF%9E%E7%BB%AD%E5%8F%98%E9%87%8F%E7%9B%B4%E6%96%B9%E5%9B%BE.png\" width=700>"
   ]
  },
  {
   "cell_type": "markdown",
   "metadata": {},
   "source": [
    "- 横坐标：发动机排量   \n",
    "- 纵坐标：频数   \n",
    "- 图例：汽车类型   "
   ]
  },
  {
   "cell_type": "markdown",
   "metadata": {},
   "source": [
    "### 1.导入绘图的包"
   ]
  },
  {
   "cell_type": "code",
   "execution_count": 2,
   "metadata": {},
   "outputs": [],
   "source": [
    "import pandas as pd\n",
    "import numpy as np\n",
    "import seaborn as sns\n",
    "import matplotlib.pyplot as plt\n",
    "%matplotlib inline\n",
    "#如果用jupyter notebook则需要这行代码让你的图像显示，如果是jupyterlab则不需要\n",
    "\n",
    "plt.rcParams['font.sans-serif']=['Simhei'] #显示中文\n",
    "plt.rcParams['axes.unicode_minus']=False   #显示负号"
   ]
  },
  {
   "cell_type": "markdown",
   "metadata": {},
   "source": [
    "### 2.认识绘制连续变量直方图的函数"
   ]
  },
  {
   "cell_type": "markdown",
   "metadata": {},
   "source": [
    "**plt.hist**    \n",
    "\n",
    "重要参数：    \n",
    ">'x':绘图数据,可为string    \n",
    ">'bins=None'：控制直方图的分组数（即条形的个数）   \n",
    ">'range=None'：直方图横坐标的范围     \n",
    ">'density=None'：如果设定True,则纵坐标表示为概率密度的值    \n",
    ">'weights=None'：设定每个数据的权重，长度与x相同    \n",
    ">'cumulative=False'：如果设定为True，则直方图累积显示   \n",
    ">\"histtype='bar'\"：绘制直方图的类型,默认为'bar'        \n",
    ">> 'bar':传统的直方图   \n",
    ">> 'barstacked':堆叠直方图   \n",
    ">> 'step':默认未填充的线图   \n",
    ">> 'stepfilled':默认填充的线图    \n",
    "\n",
    ">\"align='mid'\"：直方图对齐方式，可选项{'left'，'mid'，'right'}   \n",
    ">\"orientation='vertical'\":控制直方图的方向，{'horizontal', 'vertical'}   \n",
    ">'color=None':直方图的颜色    \n",
    ">'label=None'：标签    \n",
    ">'stacked=False'：控制堆叠参数   \n",
    "\n",
    "返回结果：     \n",
    "> n：直方图纵坐标的值    \n",
    "> bins:直方图箱体    \n",
    "> patches：patches对象   "
   ]
  },
  {
   "cell_type": "code",
   "execution_count": 9,
   "metadata": {},
   "outputs": [
    {
     "data": {
      "text/plain": [
       "\u001b[1;31mSignature:\u001b[0m\n",
       "\u001b[0mplt\u001b[0m\u001b[1;33m.\u001b[0m\u001b[0mhist\u001b[0m\u001b[1;33m(\u001b[0m\u001b[1;33m\n",
       "\u001b[0m    \u001b[1;33m[\u001b[0m\u001b[1;34m'x'\u001b[0m\u001b[1;33m,\u001b[0m \u001b[1;34m'bins=None'\u001b[0m\u001b[1;33m,\u001b[0m \u001b[1;34m'range=None'\u001b[0m\u001b[1;33m,\u001b[0m \u001b[1;34m'density=None'\u001b[0m\u001b[1;33m,\u001b[0m \u001b[1;34m'weights=None'\u001b[0m\u001b[1;33m,\u001b[0m \u001b[1;34m'cumulative=False'\u001b[0m\u001b[1;33m,\u001b[0m \u001b[1;34m'bottom=None'\u001b[0m\u001b[1;33m,\u001b[0m \u001b[1;34m\"histtype='bar'\"\u001b[0m\u001b[1;33m,\u001b[0m \u001b[1;34m\"align='mid'\"\u001b[0m\u001b[1;33m,\u001b[0m \u001b[1;34m\"orientation='vertical'\"\u001b[0m\u001b[1;33m,\u001b[0m \u001b[1;34m'rwidth=None'\u001b[0m\u001b[1;33m,\u001b[0m \u001b[1;34m'log=False'\u001b[0m\u001b[1;33m,\u001b[0m \u001b[1;34m'color=None'\u001b[0m\u001b[1;33m,\u001b[0m \u001b[1;34m'label=None'\u001b[0m\u001b[1;33m,\u001b[0m \u001b[1;34m'stacked=False'\u001b[0m\u001b[1;33m,\u001b[0m \u001b[1;34m'normed=None'\u001b[0m\u001b[1;33m,\u001b[0m \u001b[1;34m'*'\u001b[0m\u001b[1;33m,\u001b[0m \u001b[1;34m'data=None'\u001b[0m\u001b[1;33m,\u001b[0m \u001b[1;34m'**kwargs'\u001b[0m\u001b[1;33m]\u001b[0m\u001b[1;33m,\u001b[0m\u001b[1;33m\n",
       "\u001b[0m\u001b[1;33m)\u001b[0m\u001b[1;33m\u001b[0m\u001b[1;33m\u001b[0m\u001b[0m\n",
       "\u001b[1;31mDocstring:\u001b[0m\n",
       "Plot a histogram.\n",
       "\n",
       "Compute and draw the histogram of *x*. The return value is a\n",
       "tuple (*n*, *bins*, *patches*) or ([*n0*, *n1*, ...], *bins*,\n",
       "[*patches0*, *patches1*,...]) if the input contains multiple\n",
       "data.\n",
       "\n",
       "Multiple data can be provided via *x* as a list of datasets\n",
       "of potentially different length ([*x0*, *x1*, ...]), or as\n",
       "a 2-D ndarray in which each column is a dataset.  Note that\n",
       "the ndarray form is transposed relative to the list form.\n",
       "\n",
       "Masked arrays are not supported at present.\n",
       "\n",
       "Parameters\n",
       "----------\n",
       "x : (n,) array or sequence of (n,) arrays\n",
       "    Input values, this takes either a single array or a sequence of\n",
       "    arrays which are not required to be of the same length.\n",
       "\n",
       "bins : int or sequence or str, optional\n",
       "    If an integer is given, ``bins + 1`` bin edges are calculated and\n",
       "    returned, consistent with `numpy.histogram`.\n",
       "\n",
       "    If `bins` is a sequence, gives bin edges, including left edge of\n",
       "    first bin and right edge of last bin.  In this case, `bins` is\n",
       "    returned unmodified.\n",
       "\n",
       "    All but the last (righthand-most) bin is half-open.  In other\n",
       "    words, if `bins` is::\n",
       "\n",
       "        [1, 2, 3, 4]\n",
       "\n",
       "    then the first bin is ``[1, 2)`` (including 1, but excluding 2) and\n",
       "    the second ``[2, 3)``.  The last bin, however, is ``[3, 4]``, which\n",
       "    *includes* 4.\n",
       "\n",
       "    Unequally spaced bins are supported if *bins* is a sequence.\n",
       "\n",
       "    With Numpy 1.11 or newer, you can alternatively provide a string\n",
       "    describing a binning strategy, such as 'auto', 'sturges', 'fd',\n",
       "    'doane', 'scott', 'rice', 'sturges' or 'sqrt', see\n",
       "    `numpy.histogram`.\n",
       "\n",
       "    The default is taken from :rc:`hist.bins`.\n",
       "\n",
       "range : tuple or None, optional\n",
       "    The lower and upper range of the bins. Lower and upper outliers\n",
       "    are ignored. If not provided, *range* is ``(x.min(), x.max())``.\n",
       "    Range has no effect if *bins* is a sequence.\n",
       "\n",
       "    If *bins* is a sequence or *range* is specified, autoscaling\n",
       "    is based on the specified bin range instead of the\n",
       "    range of x.\n",
       "\n",
       "    Default is ``None``\n",
       "\n",
       "density : bool, optional\n",
       "    If ``True``, the first element of the return tuple will\n",
       "    be the counts normalized to form a probability density, i.e.,\n",
       "    the area (or integral) under the histogram will sum to 1.\n",
       "    This is achieved by dividing the count by the number of\n",
       "    observations times the bin width and not dividing by the total\n",
       "    number of observations. If *stacked* is also ``True``, the sum of\n",
       "    the histograms is normalized to 1.\n",
       "\n",
       "    Default is ``None`` for both *normed* and *density*. If either is\n",
       "    set, then that value will be used. If neither are set, then the\n",
       "    args will be treated as ``False``.\n",
       "\n",
       "    If both *density* and *normed* are set an error is raised.\n",
       "\n",
       "weights : (n, ) array_like or None, optional\n",
       "    An array of weights, of the same shape as *x*.  Each value in *x*\n",
       "    only contributes its associated weight towards the bin count\n",
       "    (instead of 1).  If *normed* or *density* is ``True``,\n",
       "    the weights are normalized, so that the integral of the density\n",
       "    over the range remains 1.\n",
       "\n",
       "    Default is ``None``\n",
       "\n",
       "cumulative : bool, optional\n",
       "    If ``True``, then a histogram is computed where each bin gives the\n",
       "    counts in that bin plus all bins for smaller values. The last bin\n",
       "    gives the total number of datapoints. If *normed* or *density*\n",
       "    is also ``True`` then the histogram is normalized such that the\n",
       "    last bin equals 1. If *cumulative* evaluates to less than 0\n",
       "    (e.g., -1), the direction of accumulation is reversed.\n",
       "    In this case, if *normed* and/or *density* is also ``True``, then\n",
       "    the histogram is normalized such that the first bin equals 1.\n",
       "\n",
       "    Default is ``False``\n",
       "\n",
       "bottom : array_like, scalar, or None\n",
       "    Location of the bottom baseline of each bin.  If a scalar,\n",
       "    the base line for each bin is shifted by the same amount.\n",
       "    If an array, each bin is shifted independently and the length\n",
       "    of bottom must match the number of bins.  If None, defaults to 0.\n",
       "\n",
       "    Default is ``None``\n",
       "\n",
       "histtype : {'bar', 'barstacked', 'step',  'stepfilled'}, optional\n",
       "    The type of histogram to draw.\n",
       "\n",
       "    - 'bar' is a traditional bar-type histogram.  If multiple data\n",
       "      are given the bars are arranged side by side.\n",
       "\n",
       "    - 'barstacked' is a bar-type histogram where multiple\n",
       "      data are stacked on top of each other.\n",
       "\n",
       "    - 'step' generates a lineplot that is by default\n",
       "      unfilled.\n",
       "\n",
       "    - 'stepfilled' generates a lineplot that is by default\n",
       "      filled.\n",
       "\n",
       "    Default is 'bar'\n",
       "\n",
       "align : {'left', 'mid', 'right'}, optional\n",
       "    Controls how the histogram is plotted.\n",
       "\n",
       "        - 'left': bars are centered on the left bin edges.\n",
       "\n",
       "        - 'mid': bars are centered between the bin edges.\n",
       "\n",
       "        - 'right': bars are centered on the right bin edges.\n",
       "\n",
       "    Default is 'mid'\n",
       "\n",
       "orientation : {'horizontal', 'vertical'}, optional\n",
       "    If 'horizontal', `~matplotlib.pyplot.barh` will be used for\n",
       "    bar-type histograms and the *bottom* kwarg will be the left edges.\n",
       "\n",
       "rwidth : scalar or None, optional\n",
       "    The relative width of the bars as a fraction of the bin width.  If\n",
       "    ``None``, automatically compute the width.\n",
       "\n",
       "    Ignored if *histtype* is 'step' or 'stepfilled'.\n",
       "\n",
       "    Default is ``None``\n",
       "\n",
       "log : bool, optional\n",
       "    If ``True``, the histogram axis will be set to a log scale. If\n",
       "    *log* is ``True`` and *x* is a 1D array, empty bins will be\n",
       "    filtered out and only the non-empty ``(n, bins, patches)``\n",
       "    will be returned.\n",
       "\n",
       "    Default is ``False``\n",
       "\n",
       "color : color or array_like of colors or None, optional\n",
       "    Color spec or sequence of color specs, one per dataset.  Default\n",
       "    (``None``) uses the standard line color sequence.\n",
       "\n",
       "    Default is ``None``\n",
       "\n",
       "label : str or None, optional\n",
       "    String, or sequence of strings to match multiple datasets.  Bar\n",
       "    charts yield multiple patches per dataset, but only the first gets\n",
       "    the label, so that the legend command will work as expected.\n",
       "\n",
       "    default is ``None``\n",
       "\n",
       "stacked : bool, optional\n",
       "    If ``True``, multiple data are stacked on top of each other If\n",
       "    ``False`` multiple data are arranged side by side if histtype is\n",
       "    'bar' or on top of each other if histtype is 'step'\n",
       "\n",
       "    Default is ``False``\n",
       "\n",
       "normed : bool, optional\n",
       "    Deprecated; use the density keyword argument instead.\n",
       "\n",
       "Returns\n",
       "-------\n",
       "n : array or list of arrays\n",
       "    The values of the histogram bins. See *normed* or *density*\n",
       "    and *weights* for a description of the possible semantics.\n",
       "    If input *x* is an array, then this is an array of length\n",
       "    *nbins*. If input is a sequence of arrays\n",
       "    ``[data1, data2,..]``, then this is a list of arrays with\n",
       "    the values of the histograms for each of the arrays in the\n",
       "    same order.\n",
       "\n",
       "bins : array\n",
       "    The edges of the bins. Length nbins + 1 (nbins left edges and right\n",
       "    edge of last bin).  Always a single array even when multiple data\n",
       "    sets are passed in.\n",
       "\n",
       "patches : list or list of lists\n",
       "    Silent list of individual patches used to create the histogram\n",
       "    or list of such list if multiple input datasets.\n",
       "\n",
       "Other Parameters\n",
       "----------------\n",
       "**kwargs : `~matplotlib.patches.Patch` properties\n",
       "\n",
       "See also\n",
       "--------\n",
       "hist2d : 2D histograms\n",
       "\n",
       "Notes\n",
       "-----\n",
       ".. [Notes section required for data comment. See #10189.]\n",
       "\n",
       ".. note::\n",
       "    In addition to the above described arguments, this function can take a\n",
       "    **data** keyword argument. If such a **data** argument is given, the\n",
       "    following arguments are replaced by **data[<arg>]**:\n",
       "\n",
       "    * All arguments with the following names: 'weights', 'x'.\n",
       "\n",
       "    Objects passed as **data** must support item access (``data[<arg>]``) and\n",
       "    membership test (``<arg> in data``).\n",
       "\u001b[1;31mFile:\u001b[0m      d:\\anaconda3\\lib\\site-packages\\matplotlib\\pyplot.py\n",
       "\u001b[1;31mType:\u001b[0m      function\n"
      ]
     },
     "metadata": {},
     "output_type": "display_data"
    }
   ],
   "source": [
    "plt.hist?"
   ]
  },
  {
   "cell_type": "markdown",
   "metadata": {},
   "source": [
    "### 3.导入绘图数据集"
   ]
  },
  {
   "cell_type": "code",
   "execution_count": 3,
   "metadata": {},
   "outputs": [],
   "source": [
    "df = pd.read_csv(\"data/mpg_ggplot2.csv\")"
   ]
  },
  {
   "cell_type": "code",
   "execution_count": 4,
   "metadata": {},
   "outputs": [
    {
     "data": {
      "text/html": [
       "<div>\n",
       "<style scoped>\n",
       "    .dataframe tbody tr th:only-of-type {\n",
       "        vertical-align: middle;\n",
       "    }\n",
       "\n",
       "    .dataframe tbody tr th {\n",
       "        vertical-align: top;\n",
       "    }\n",
       "\n",
       "    .dataframe thead th {\n",
       "        text-align: right;\n",
       "    }\n",
       "</style>\n",
       "<table border=\"1\" class=\"dataframe\">\n",
       "  <thead>\n",
       "    <tr style=\"text-align: right;\">\n",
       "      <th></th>\n",
       "      <th>manufacturer</th>\n",
       "      <th>model</th>\n",
       "      <th>displ</th>\n",
       "      <th>year</th>\n",
       "      <th>cyl</th>\n",
       "      <th>trans</th>\n",
       "      <th>drv</th>\n",
       "      <th>cty</th>\n",
       "      <th>hwy</th>\n",
       "      <th>fl</th>\n",
       "      <th>class</th>\n",
       "    </tr>\n",
       "  </thead>\n",
       "  <tbody>\n",
       "    <tr>\n",
       "      <th>0</th>\n",
       "      <td>audi</td>\n",
       "      <td>a4</td>\n",
       "      <td>1.8</td>\n",
       "      <td>1999</td>\n",
       "      <td>4</td>\n",
       "      <td>auto(l5)</td>\n",
       "      <td>f</td>\n",
       "      <td>18</td>\n",
       "      <td>29</td>\n",
       "      <td>p</td>\n",
       "      <td>compact</td>\n",
       "    </tr>\n",
       "    <tr>\n",
       "      <th>1</th>\n",
       "      <td>audi</td>\n",
       "      <td>a4</td>\n",
       "      <td>1.8</td>\n",
       "      <td>1999</td>\n",
       "      <td>4</td>\n",
       "      <td>manual(m5)</td>\n",
       "      <td>f</td>\n",
       "      <td>21</td>\n",
       "      <td>29</td>\n",
       "      <td>p</td>\n",
       "      <td>compact</td>\n",
       "    </tr>\n",
       "    <tr>\n",
       "      <th>2</th>\n",
       "      <td>audi</td>\n",
       "      <td>a4</td>\n",
       "      <td>2.0</td>\n",
       "      <td>2008</td>\n",
       "      <td>4</td>\n",
       "      <td>manual(m6)</td>\n",
       "      <td>f</td>\n",
       "      <td>20</td>\n",
       "      <td>31</td>\n",
       "      <td>p</td>\n",
       "      <td>compact</td>\n",
       "    </tr>\n",
       "    <tr>\n",
       "      <th>3</th>\n",
       "      <td>audi</td>\n",
       "      <td>a4</td>\n",
       "      <td>2.0</td>\n",
       "      <td>2008</td>\n",
       "      <td>4</td>\n",
       "      <td>auto(av)</td>\n",
       "      <td>f</td>\n",
       "      <td>21</td>\n",
       "      <td>30</td>\n",
       "      <td>p</td>\n",
       "      <td>compact</td>\n",
       "    </tr>\n",
       "    <tr>\n",
       "      <th>4</th>\n",
       "      <td>audi</td>\n",
       "      <td>a4</td>\n",
       "      <td>2.8</td>\n",
       "      <td>1999</td>\n",
       "      <td>6</td>\n",
       "      <td>auto(l5)</td>\n",
       "      <td>f</td>\n",
       "      <td>16</td>\n",
       "      <td>26</td>\n",
       "      <td>p</td>\n",
       "      <td>compact</td>\n",
       "    </tr>\n",
       "  </tbody>\n",
       "</table>\n",
       "</div>"
      ],
      "text/plain": [
       "  manufacturer model  displ  year  cyl       trans drv  cty  hwy fl    class\n",
       "0         audi    a4    1.8  1999    4    auto(l5)   f   18   29  p  compact\n",
       "1         audi    a4    1.8  1999    4  manual(m5)   f   21   29  p  compact\n",
       "2         audi    a4    2.0  2008    4  manual(m6)   f   20   31  p  compact\n",
       "3         audi    a4    2.0  2008    4    auto(av)   f   21   30  p  compact\n",
       "4         audi    a4    2.8  1999    6    auto(l5)   f   16   26  p  compact"
      ]
     },
     "execution_count": 4,
     "metadata": {},
     "output_type": "execute_result"
    }
   ],
   "source": [
    "df.head()"
   ]
  },
  {
   "cell_type": "code",
   "execution_count": 5,
   "metadata": {},
   "outputs": [
    {
     "data": {
      "text/plain": [
       "(234, 11)"
      ]
     },
     "execution_count": 5,
     "metadata": {},
     "output_type": "execute_result"
    }
   ],
   "source": [
    "df.shape"
   ]
  },
  {
   "cell_type": "code",
   "execution_count": 6,
   "metadata": {},
   "outputs": [],
   "source": [
    "name = [\"汽车制造商\",\"型号名称\",\"发动机排量(L)\",\"制造年份\",\"气缸数量\",\"手动/自动\"\n",
    "              ,\"驱动类型\",\"城市里程/加仑\",\"公路里程/加仑\",\"汽油种类\",\"车辆类型\"]"
   ]
  },
  {
   "cell_type": "code",
   "execution_count": 7,
   "metadata": {},
   "outputs": [
    {
     "data": {
      "text/plain": [
       "[('manufacturer', '汽车制造商'),\n",
       " ('model', '型号名称'),\n",
       " ('displ', '发动机排量(L)'),\n",
       " ('year', '制造年份'),\n",
       " ('cyl', '气缸数量'),\n",
       " ('trans', '手动/自动'),\n",
       " ('drv', '驱动类型'),\n",
       " ('cty', '城市里程/加仑'),\n",
       " ('hwy', '公路里程/加仑'),\n",
       " ('fl', '汽油种类'),\n",
       " ('class', '车辆类型')]"
      ]
     },
     "execution_count": 7,
     "metadata": {},
     "output_type": "execute_result"
    }
   ],
   "source": [
    "[*zip(df.columns,name)]"
   ]
  },
  {
   "cell_type": "markdown",
   "metadata": {},
   "source": [
    "**绘制简单的直方图**"
   ]
  },
  {
   "cell_type": "code",
   "execution_count": 8,
   "metadata": {},
   "outputs": [
    {
     "data": {
      "text/plain": [
       "(array([43., 39., 32., 23., 30., 29., 13., 19.,  4.,  2.]),\n",
       " array([1.6 , 2.14, 2.68, 3.22, 3.76, 4.3 , 4.84, 5.38, 5.92, 6.46, 7.  ]),\n",
       " <a list of 10 Patch objects>)"
      ]
     },
     "execution_count": 8,
     "metadata": {},
     "output_type": "execute_result"
    },
    {
     "data": {
      "image/png": "[encoded data removed]",
      "text/plain": [
       "<Figure size 432x288 with 1 Axes>"
      ]
     },
     "metadata": {
      "needs_background": "light"
     },
     "output_type": "display_data"
    }
   ],
   "source": [
    "plt.hist(df.displ   # 发动机排量(L)\n",
    "         #,bins=5\n",
    "         #,range=(df.displ.min(),df.displ.max()) #改变横坐标的范围\n",
    "         #,range=(2,5)\n",
    "         #,density=True   #将纵坐标变成密度概率\n",
    "         #,cumulative=True\n",
    "         #,histtype='stepfilled'  #可选项：'bar'/'barstacked'/'step'/'stepfilled'\n",
    "         #,align='left'       #可选项：'mid'/'left'/'right'\n",
    "         #,orientation='horizontal' #可选项:'horizontal'/'vertical'\n",
    "         #,stacked=True  # 分类变量堆叠上去\n",
    "        )"
   ]
  },
  {
   "cell_type": "markdown",
   "metadata": {},
   "source": [
    "### 4.绘制连续变量直方图"
   ]
  },
  {
   "cell_type": "markdown",
   "metadata": {},
   "source": [
    "根据目标图形可以看出，横坐标需要的是特征displ，还需要将class进行分组求和，得到每一种类车的数量"
   ]
  },
  {
   "cell_type": "code",
   "execution_count": 21,
   "metadata": {},
   "outputs": [
    {
     "data": {
      "text/html": [
       "<div>\n",
       "<style scoped>\n",
       "    .dataframe tbody tr th:only-of-type {\n",
       "        vertical-align: middle;\n",
       "    }\n",
       "\n",
       "    .dataframe tbody tr th {\n",
       "        vertical-align: top;\n",
       "    }\n",
       "\n",
       "    .dataframe thead th {\n",
       "        text-align: right;\n",
       "    }\n",
       "</style>\n",
       "<table border=\"1\" class=\"dataframe\">\n",
       "  <thead>\n",
       "    <tr style=\"text-align: right;\">\n",
       "      <th></th>\n",
       "      <th>displ</th>\n",
       "      <th>class</th>\n",
       "    </tr>\n",
       "  </thead>\n",
       "  <tbody>\n",
       "    <tr>\n",
       "      <th>0</th>\n",
       "      <td>1.8</td>\n",
       "      <td>compact</td>\n",
       "    </tr>\n",
       "    <tr>\n",
       "      <th>1</th>\n",
       "      <td>1.8</td>\n",
       "      <td>compact</td>\n",
       "    </tr>\n",
       "    <tr>\n",
       "      <th>2</th>\n",
       "      <td>2.0</td>\n",
       "      <td>compact</td>\n",
       "    </tr>\n",
       "    <tr>\n",
       "      <th>3</th>\n",
       "      <td>2.0</td>\n",
       "      <td>compact</td>\n",
       "    </tr>\n",
       "    <tr>\n",
       "      <th>4</th>\n",
       "      <td>2.8</td>\n",
       "      <td>compact</td>\n",
       "    </tr>\n",
       "    <tr>\n",
       "      <th>5</th>\n",
       "      <td>2.8</td>\n",
       "      <td>compact</td>\n",
       "    </tr>\n",
       "    <tr>\n",
       "      <th>6</th>\n",
       "      <td>3.1</td>\n",
       "      <td>compact</td>\n",
       "    </tr>\n",
       "    <tr>\n",
       "      <th>7</th>\n",
       "      <td>1.8</td>\n",
       "      <td>compact</td>\n",
       "    </tr>\n",
       "    <tr>\n",
       "      <th>8</th>\n",
       "      <td>1.8</td>\n",
       "      <td>compact</td>\n",
       "    </tr>\n",
       "    <tr>\n",
       "      <th>9</th>\n",
       "      <td>2.0</td>\n",
       "      <td>compact</td>\n",
       "    </tr>\n",
       "    <tr>\n",
       "      <th>10</th>\n",
       "      <td>2.0</td>\n",
       "      <td>compact</td>\n",
       "    </tr>\n",
       "    <tr>\n",
       "      <th>11</th>\n",
       "      <td>2.8</td>\n",
       "      <td>compact</td>\n",
       "    </tr>\n",
       "    <tr>\n",
       "      <th>12</th>\n",
       "      <td>2.8</td>\n",
       "      <td>compact</td>\n",
       "    </tr>\n",
       "    <tr>\n",
       "      <th>13</th>\n",
       "      <td>3.1</td>\n",
       "      <td>compact</td>\n",
       "    </tr>\n",
       "    <tr>\n",
       "      <th>14</th>\n",
       "      <td>3.1</td>\n",
       "      <td>compact</td>\n",
       "    </tr>\n",
       "    <tr>\n",
       "      <th>15</th>\n",
       "      <td>2.8</td>\n",
       "      <td>midsize</td>\n",
       "    </tr>\n",
       "    <tr>\n",
       "      <th>16</th>\n",
       "      <td>3.1</td>\n",
       "      <td>midsize</td>\n",
       "    </tr>\n",
       "    <tr>\n",
       "      <th>17</th>\n",
       "      <td>4.2</td>\n",
       "      <td>midsize</td>\n",
       "    </tr>\n",
       "    <tr>\n",
       "      <th>18</th>\n",
       "      <td>5.3</td>\n",
       "      <td>suv</td>\n",
       "    </tr>\n",
       "    <tr>\n",
       "      <th>19</th>\n",
       "      <td>5.3</td>\n",
       "      <td>suv</td>\n",
       "    </tr>\n",
       "    <tr>\n",
       "      <th>20</th>\n",
       "      <td>5.3</td>\n",
       "      <td>suv</td>\n",
       "    </tr>\n",
       "    <tr>\n",
       "      <th>21</th>\n",
       "      <td>5.7</td>\n",
       "      <td>suv</td>\n",
       "    </tr>\n",
       "    <tr>\n",
       "      <th>22</th>\n",
       "      <td>6.0</td>\n",
       "      <td>suv</td>\n",
       "    </tr>\n",
       "    <tr>\n",
       "      <th>23</th>\n",
       "      <td>5.7</td>\n",
       "      <td>2seater</td>\n",
       "    </tr>\n",
       "    <tr>\n",
       "      <th>24</th>\n",
       "      <td>5.7</td>\n",
       "      <td>2seater</td>\n",
       "    </tr>\n",
       "    <tr>\n",
       "      <th>25</th>\n",
       "      <td>6.2</td>\n",
       "      <td>2seater</td>\n",
       "    </tr>\n",
       "    <tr>\n",
       "      <th>26</th>\n",
       "      <td>6.2</td>\n",
       "      <td>2seater</td>\n",
       "    </tr>\n",
       "    <tr>\n",
       "      <th>27</th>\n",
       "      <td>7.0</td>\n",
       "      <td>2seater</td>\n",
       "    </tr>\n",
       "    <tr>\n",
       "      <th>28</th>\n",
       "      <td>5.3</td>\n",
       "      <td>suv</td>\n",
       "    </tr>\n",
       "    <tr>\n",
       "      <th>29</th>\n",
       "      <td>5.3</td>\n",
       "      <td>suv</td>\n",
       "    </tr>\n",
       "    <tr>\n",
       "      <th>...</th>\n",
       "      <td>...</td>\n",
       "      <td>...</td>\n",
       "    </tr>\n",
       "    <tr>\n",
       "      <th>204</th>\n",
       "      <td>3.4</td>\n",
       "      <td>pickup</td>\n",
       "    </tr>\n",
       "    <tr>\n",
       "      <th>205</th>\n",
       "      <td>4.0</td>\n",
       "      <td>pickup</td>\n",
       "    </tr>\n",
       "    <tr>\n",
       "      <th>206</th>\n",
       "      <td>4.0</td>\n",
       "      <td>pickup</td>\n",
       "    </tr>\n",
       "    <tr>\n",
       "      <th>207</th>\n",
       "      <td>2.0</td>\n",
       "      <td>compact</td>\n",
       "    </tr>\n",
       "    <tr>\n",
       "      <th>208</th>\n",
       "      <td>2.0</td>\n",
       "      <td>compact</td>\n",
       "    </tr>\n",
       "    <tr>\n",
       "      <th>209</th>\n",
       "      <td>2.0</td>\n",
       "      <td>compact</td>\n",
       "    </tr>\n",
       "    <tr>\n",
       "      <th>210</th>\n",
       "      <td>2.0</td>\n",
       "      <td>compact</td>\n",
       "    </tr>\n",
       "    <tr>\n",
       "      <th>211</th>\n",
       "      <td>2.8</td>\n",
       "      <td>compact</td>\n",
       "    </tr>\n",
       "    <tr>\n",
       "      <th>212</th>\n",
       "      <td>1.9</td>\n",
       "      <td>compact</td>\n",
       "    </tr>\n",
       "    <tr>\n",
       "      <th>213</th>\n",
       "      <td>2.0</td>\n",
       "      <td>compact</td>\n",
       "    </tr>\n",
       "    <tr>\n",
       "      <th>214</th>\n",
       "      <td>2.0</td>\n",
       "      <td>compact</td>\n",
       "    </tr>\n",
       "    <tr>\n",
       "      <th>215</th>\n",
       "      <td>2.0</td>\n",
       "      <td>compact</td>\n",
       "    </tr>\n",
       "    <tr>\n",
       "      <th>216</th>\n",
       "      <td>2.0</td>\n",
       "      <td>compact</td>\n",
       "    </tr>\n",
       "    <tr>\n",
       "      <th>217</th>\n",
       "      <td>2.5</td>\n",
       "      <td>compact</td>\n",
       "    </tr>\n",
       "    <tr>\n",
       "      <th>218</th>\n",
       "      <td>2.5</td>\n",
       "      <td>compact</td>\n",
       "    </tr>\n",
       "    <tr>\n",
       "      <th>219</th>\n",
       "      <td>2.8</td>\n",
       "      <td>compact</td>\n",
       "    </tr>\n",
       "    <tr>\n",
       "      <th>220</th>\n",
       "      <td>2.8</td>\n",
       "      <td>compact</td>\n",
       "    </tr>\n",
       "    <tr>\n",
       "      <th>221</th>\n",
       "      <td>1.9</td>\n",
       "      <td>subcompact</td>\n",
       "    </tr>\n",
       "    <tr>\n",
       "      <th>222</th>\n",
       "      <td>1.9</td>\n",
       "      <td>subcompact</td>\n",
       "    </tr>\n",
       "    <tr>\n",
       "      <th>223</th>\n",
       "      <td>2.0</td>\n",
       "      <td>subcompact</td>\n",
       "    </tr>\n",
       "    <tr>\n",
       "      <th>224</th>\n",
       "      <td>2.0</td>\n",
       "      <td>subcompact</td>\n",
       "    </tr>\n",
       "    <tr>\n",
       "      <th>225</th>\n",
       "      <td>2.5</td>\n",
       "      <td>subcompact</td>\n",
       "    </tr>\n",
       "    <tr>\n",
       "      <th>226</th>\n",
       "      <td>2.5</td>\n",
       "      <td>subcompact</td>\n",
       "    </tr>\n",
       "    <tr>\n",
       "      <th>227</th>\n",
       "      <td>1.8</td>\n",
       "      <td>midsize</td>\n",
       "    </tr>\n",
       "    <tr>\n",
       "      <th>228</th>\n",
       "      <td>1.8</td>\n",
       "      <td>midsize</td>\n",
       "    </tr>\n",
       "    <tr>\n",
       "      <th>229</th>\n",
       "      <td>2.0</td>\n",
       "      <td>midsize</td>\n",
       "    </tr>\n",
       "    <tr>\n",
       "      <th>230</th>\n",
       "      <td>2.0</td>\n",
       "      <td>midsize</td>\n",
       "    </tr>\n",
       "    <tr>\n",
       "      <th>231</th>\n",
       "      <td>2.8</td>\n",
       "      <td>midsize</td>\n",
       "    </tr>\n",
       "    <tr>\n",
       "      <th>232</th>\n",
       "      <td>2.8</td>\n",
       "      <td>midsize</td>\n",
       "    </tr>\n",
       "    <tr>\n",
       "      <th>233</th>\n",
       "      <td>3.6</td>\n",
       "      <td>midsize</td>\n",
       "    </tr>\n",
       "  </tbody>\n",
       "</table>\n",
       "<p>234 rows × 2 columns</p>\n",
       "</div>"
      ],
      "text/plain": [
       "     displ       class\n",
       "0      1.8     compact\n",
       "1      1.8     compact\n",
       "2      2.0     compact\n",
       "3      2.0     compact\n",
       "4      2.8     compact\n",
       "5      2.8     compact\n",
       "6      3.1     compact\n",
       "7      1.8     compact\n",
       "8      1.8     compact\n",
       "9      2.0     compact\n",
       "10     2.0     compact\n",
       "11     2.8     compact\n",
       "12     2.8     compact\n",
       "13     3.1     compact\n",
       "14     3.1     compact\n",
       "15     2.8     midsize\n",
       "16     3.1     midsize\n",
       "17     4.2     midsize\n",
       "18     5.3         suv\n",
       "19     5.3         suv\n",
       "20     5.3         suv\n",
       "21     5.7         suv\n",
       "22     6.0         suv\n",
       "23     5.7     2seater\n",
       "24     5.7     2seater\n",
       "25     6.2     2seater\n",
       "26     6.2     2seater\n",
       "27     7.0     2seater\n",
       "28     5.3         suv\n",
       "29     5.3         suv\n",
       "..     ...         ...\n",
       "204    3.4      pickup\n",
       "205    4.0      pickup\n",
       "206    4.0      pickup\n",
       "207    2.0     compact\n",
       "208    2.0     compact\n",
       "209    2.0     compact\n",
       "210    2.0     compact\n",
       "211    2.8     compact\n",
       "212    1.9     compact\n",
       "213    2.0     compact\n",
       "214    2.0     compact\n",
       "215    2.0     compact\n",
       "216    2.0     compact\n",
       "217    2.5     compact\n",
       "218    2.5     compact\n",
       "219    2.8     compact\n",
       "220    2.8     compact\n",
       "221    1.9  subcompact\n",
       "222    1.9  subcompact\n",
       "223    2.0  subcompact\n",
       "224    2.0  subcompact\n",
       "225    2.5  subcompact\n",
       "226    2.5  subcompact\n",
       "227    1.8     midsize\n",
       "228    1.8     midsize\n",
       "229    2.0     midsize\n",
       "230    2.0     midsize\n",
       "231    2.8     midsize\n",
       "232    2.8     midsize\n",
       "233    3.6     midsize\n",
       "\n",
       "[234 rows x 2 columns]"
      ]
     },
     "execution_count": 21,
     "metadata": {},
     "output_type": "execute_result"
    }
   ],
   "source": [
    "df.loc[:,['displ','class']]"
   ]
  },
  {
   "cell_type": "code",
   "execution_count": 22,
   "metadata": {},
   "outputs": [],
   "source": [
    "#数据处理\n",
    "df_agg = df.loc[:,['displ','class']].groupby('class')"
   ]
  },
  {
   "cell_type": "code",
   "execution_count": 23,
   "metadata": {},
   "outputs": [
    {
     "data": {
      "text/plain": [
       "<pandas.core.groupby.groupby.DataFrameGroupBy object at 0x00000000096630B8>"
      ]
     },
     "execution_count": 23,
     "metadata": {},
     "output_type": "execute_result"
    }
   ],
   "source": [
    "df_agg"
   ]
  },
  {
   "cell_type": "code",
   "execution_count": 24,
   "metadata": {},
   "outputs": [
    {
     "name": "stdout",
     "output_type": "stream",
     "text": [
      "2seater     displ    class\n",
      "23    5.7  2seater\n",
      "24    5.7  2seater\n",
      "25    6.2  2seater\n",
      "26    6.2  2seater\n",
      "27    7.0  2seater\n",
      "compact      displ    class\n",
      "0      1.8  compact\n",
      "1      1.8  compact\n",
      "2      2.0  compact\n",
      "3      2.0  compact\n",
      "4      2.8  compact\n",
      "5      2.8  compact\n",
      "6      3.1  compact\n",
      "7      1.8  compact\n",
      "8      1.8  compact\n",
      "9      2.0  compact\n",
      "10     2.0  compact\n",
      "11     2.8  compact\n",
      "12     2.8  compact\n",
      "13     3.1  compact\n",
      "14     3.1  compact\n",
      "141    2.4  compact\n",
      "142    2.4  compact\n",
      "169    2.5  compact\n",
      "170    2.5  compact\n",
      "171    2.5  compact\n",
      "172    2.5  compact\n",
      "186    2.2  compact\n",
      "187    2.2  compact\n",
      "188    2.4  compact\n",
      "189    2.4  compact\n",
      "190    3.0  compact\n",
      "191    3.0  compact\n",
      "192    3.3  compact\n",
      "193    1.8  compact\n",
      "194    1.8  compact\n",
      "195    1.8  compact\n",
      "196    1.8  compact\n",
      "197    1.8  compact\n",
      "207    2.0  compact\n",
      "208    2.0  compact\n",
      "209    2.0  compact\n",
      "210    2.0  compact\n",
      "211    2.8  compact\n",
      "212    1.9  compact\n",
      "213    2.0  compact\n",
      "214    2.0  compact\n",
      "215    2.0  compact\n",
      "216    2.0  compact\n",
      "217    2.5  compact\n",
      "218    2.5  compact\n",
      "219    2.8  compact\n",
      "220    2.8  compact\n",
      "midsize      displ    class\n",
      "15     2.8  midsize\n",
      "16     3.1  midsize\n",
      "17     4.2  midsize\n",
      "32     2.4  midsize\n",
      "33     2.4  midsize\n",
      "34     3.1  midsize\n",
      "35     3.5  midsize\n",
      "36     3.6  midsize\n",
      "108    2.4  midsize\n",
      "109    2.4  midsize\n",
      "110    2.4  midsize\n",
      "111    2.4  midsize\n",
      "112    2.5  midsize\n",
      "113    2.5  midsize\n",
      "114    3.3  midsize\n",
      "143    2.5  midsize\n",
      "144    2.5  midsize\n",
      "145    3.5  midsize\n",
      "146    3.5  midsize\n",
      "147    3.0  midsize\n",
      "148    3.0  midsize\n",
      "149    3.5  midsize\n",
      "154    3.1  midsize\n",
      "155    3.8  midsize\n",
      "156    3.8  midsize\n",
      "157    3.8  midsize\n",
      "158    5.3  midsize\n",
      "179    2.2  midsize\n",
      "180    2.2  midsize\n",
      "181    2.4  midsize\n",
      "182    2.4  midsize\n",
      "183    3.0  midsize\n",
      "184    3.0  midsize\n",
      "185    3.5  midsize\n",
      "227    1.8  midsize\n",
      "228    1.8  midsize\n",
      "229    2.0  midsize\n",
      "230    2.0  midsize\n",
      "231    2.8  midsize\n",
      "232    2.8  midsize\n",
      "233    3.6  midsize\n",
      "minivan     displ    class\n",
      "37    2.4  minivan\n",
      "38    3.0  minivan\n",
      "39    3.3  minivan\n",
      "40    3.3  minivan\n",
      "41    3.3  minivan\n",
      "42    3.3  minivan\n",
      "43    3.3  minivan\n",
      "44    3.8  minivan\n",
      "45    3.8  minivan\n",
      "46    3.8  minivan\n",
      "47    4.0  minivan\n",
      "pickup      displ   class\n",
      "48     3.7  pickup\n",
      "49     3.7  pickup\n",
      "50     3.9  pickup\n",
      "51     3.9  pickup\n",
      "52     4.7  pickup\n",
      "53     4.7  pickup\n",
      "54     4.7  pickup\n",
      "55     5.2  pickup\n",
      "56     5.2  pickup\n",
      "64     4.7  pickup\n",
      "65     4.7  pickup\n",
      "66     4.7  pickup\n",
      "67     4.7  pickup\n",
      "68     4.7  pickup\n",
      "69     4.7  pickup\n",
      "70     5.2  pickup\n",
      "71     5.2  pickup\n",
      "72     5.7  pickup\n",
      "73     5.9  pickup\n",
      "83     4.2  pickup\n",
      "84     4.2  pickup\n",
      "85     4.6  pickup\n",
      "86     4.6  pickup\n",
      "87     4.6  pickup\n",
      "88     5.4  pickup\n",
      "89     5.4  pickup\n",
      "200    2.7  pickup\n",
      "201    2.7  pickup\n",
      "202    2.7  pickup\n",
      "203    3.4  pickup\n",
      "204    3.4  pickup\n",
      "205    4.0  pickup\n",
      "206    4.0  pickup\n",
      "subcompact      displ       class\n",
      "90     3.8  subcompact\n",
      "91     3.8  subcompact\n",
      "92     4.0  subcompact\n",
      "93     4.0  subcompact\n",
      "94     4.6  subcompact\n",
      "95     4.6  subcompact\n",
      "96     4.6  subcompact\n",
      "97     4.6  subcompact\n",
      "98     5.4  subcompact\n",
      "99     1.6  subcompact\n",
      "100    1.6  subcompact\n",
      "101    1.6  subcompact\n",
      "102    1.6  subcompact\n",
      "103    1.6  subcompact\n",
      "104    1.8  subcompact\n",
      "105    1.8  subcompact\n",
      "106    1.8  subcompact\n",
      "107    2.0  subcompact\n",
      "115    2.0  subcompact\n",
      "116    2.0  subcompact\n",
      "117    2.0  subcompact\n",
      "118    2.0  subcompact\n",
      "119    2.7  subcompact\n",
      "120    2.7  subcompact\n",
      "121    2.7  subcompact\n",
      "165    2.2  subcompact\n",
      "166    2.2  subcompact\n",
      "167    2.5  subcompact\n",
      "168    2.5  subcompact\n",
      "221    1.9  subcompact\n",
      "222    1.9  subcompact\n",
      "223    2.0  subcompact\n",
      "224    2.0  subcompact\n",
      "225    2.5  subcompact\n",
      "226    2.5  subcompact\n",
      "suv      displ class\n",
      "18     5.3   suv\n",
      "19     5.3   suv\n",
      "20     5.3   suv\n",
      "21     5.7   suv\n",
      "22     6.0   suv\n",
      "28     5.3   suv\n",
      "29     5.3   suv\n",
      "30     5.7   suv\n",
      "31     6.5   suv\n",
      "57     3.9   suv\n",
      "58     4.7   suv\n",
      "59     4.7   suv\n",
      "60     4.7   suv\n",
      "61     5.2   suv\n",
      "62     5.7   suv\n",
      "63     5.9   suv\n",
      "74     4.6   suv\n",
      "75     5.4   suv\n",
      "76     5.4   suv\n",
      "77     4.0   suv\n",
      "78     4.0   suv\n",
      "79     4.0   suv\n",
      "80     4.0   suv\n",
      "81     4.6   suv\n",
      "82     5.0   suv\n",
      "122    3.0   suv\n",
      "123    3.7   suv\n",
      "124    4.0   suv\n",
      "125    4.7   suv\n",
      "126    4.7   suv\n",
      "..     ...   ...\n",
      "129    6.1   suv\n",
      "130    4.0   suv\n",
      "131    4.2   suv\n",
      "132    4.4   suv\n",
      "133    4.6   suv\n",
      "134    5.4   suv\n",
      "135    5.4   suv\n",
      "136    5.4   suv\n",
      "137    4.0   suv\n",
      "138    4.0   suv\n",
      "139    4.6   suv\n",
      "140    5.0   suv\n",
      "150    3.3   suv\n",
      "151    3.3   suv\n",
      "152    4.0   suv\n",
      "153    5.6   suv\n",
      "159    2.5   suv\n",
      "160    2.5   suv\n",
      "161    2.5   suv\n",
      "162    2.5   suv\n",
      "163    2.5   suv\n",
      "164    2.5   suv\n",
      "173    2.7   suv\n",
      "174    2.7   suv\n",
      "175    3.4   suv\n",
      "176    3.4   suv\n",
      "177    4.0   suv\n",
      "178    4.7   suv\n",
      "198    4.7   suv\n",
      "199    5.7   suv\n",
      "\n",
      "[62 rows x 2 columns]\n"
     ]
    }
   ],
   "source": [
    "for i,df0 in df_agg:    # i是每一类的class标签，一次循环一个，一个df0有\n",
    "    print(i,df0)           # 多个值"
   ]
  },
  {
   "cell_type": "code",
   "execution_count": 25,
   "metadata": {},
   "outputs": [
    {
     "data": {
      "text/plain": [
       "[5.3,\n",
       " 5.3,\n",
       " 5.3,\n",
       " 5.7,\n",
       " 6.0,\n",
       " 5.3,\n",
       " 5.3,\n",
       " 5.7,\n",
       " 6.5,\n",
       " 3.9,\n",
       " 4.7,\n",
       " 4.7,\n",
       " 4.7,\n",
       " 5.2,\n",
       " 5.7,\n",
       " 5.9,\n",
       " 4.6,\n",
       " 5.4,\n",
       " 5.4,\n",
       " 4.0,\n",
       " 4.0,\n",
       " 4.0,\n",
       " 4.0,\n",
       " 4.6,\n",
       " 5.0,\n",
       " 3.0,\n",
       " 3.7,\n",
       " 4.0,\n",
       " 4.7,\n",
       " 4.7,\n",
       " 4.7,\n",
       " 5.7,\n",
       " 6.1,\n",
       " 4.0,\n",
       " 4.2,\n",
       " 4.4,\n",
       " 4.6,\n",
       " 5.4,\n",
       " 5.4,\n",
       " 5.4,\n",
       " 4.0,\n",
       " 4.0,\n",
       " 4.6,\n",
       " 5.0,\n",
       " 3.3,\n",
       " 3.3,\n",
       " 4.0,\n",
       " 5.6,\n",
       " 2.5,\n",
       " 2.5,\n",
       " 2.5,\n",
       " 2.5,\n",
       " 2.5,\n",
       " 2.5,\n",
       " 2.7,\n",
       " 2.7,\n",
       " 3.4,\n",
       " 3.4,\n",
       " 4.0,\n",
       " 4.7,\n",
       " 4.7,\n",
       " 5.7]"
      ]
     },
     "execution_count": 25,
     "metadata": {},
     "output_type": "execute_result"
    }
   ],
   "source": [
    "df0['displ'].values.tolist()  #所有的disp1"
   ]
  },
  {
   "cell_type": "code",
   "execution_count": 26,
   "metadata": {},
   "outputs": [],
   "source": [
    "#提取出每一款车型的发动机排量\n",
    "vals =[df0['displ'].values.tolist() for i,df0 in df_agg]  # 一类装一列表"
   ]
  },
  {
   "cell_type": "code",
   "execution_count": 27,
   "metadata": {},
   "outputs": [
    {
     "data": {
      "text/plain": [
       "[[5.7, 5.7, 6.2, 6.2, 7.0],\n",
       " [1.8,\n",
       "  1.8,\n",
       "  2.0,\n",
       "  2.0,\n",
       "  2.8,\n",
       "  2.8,\n",
       "  3.1,\n",
       "  1.8,\n",
       "  1.8,\n",
       "  2.0,\n",
       "  2.0,\n",
       "  2.8,\n",
       "  2.8,\n",
       "  3.1,\n",
       "  3.1,\n",
       "  2.4,\n",
       "  2.4,\n",
       "  2.5,\n",
       "  2.5,\n",
       "  2.5,\n",
       "  2.5,\n",
       "  2.2,\n",
       "  2.2,\n",
       "  2.4,\n",
       "  2.4,\n",
       "  3.0,\n",
       "  3.0,\n",
       "  3.3,\n",
       "  1.8,\n",
       "  1.8,\n",
       "  1.8,\n",
       "  1.8,\n",
       "  1.8,\n",
       "  2.0,\n",
       "  2.0,\n",
       "  2.0,\n",
       "  2.0,\n",
       "  2.8,\n",
       "  1.9,\n",
       "  2.0,\n",
       "  2.0,\n",
       "  2.0,\n",
       "  2.0,\n",
       "  2.5,\n",
       "  2.5,\n",
       "  2.8,\n",
       "  2.8],\n",
       " [2.8,\n",
       "  3.1,\n",
       "  4.2,\n",
       "  2.4,\n",
       "  2.4,\n",
       "  3.1,\n",
       "  3.5,\n",
       "  3.6,\n",
       "  2.4,\n",
       "  2.4,\n",
       "  2.4,\n",
       "  2.4,\n",
       "  2.5,\n",
       "  2.5,\n",
       "  3.3,\n",
       "  2.5,\n",
       "  2.5,\n",
       "  3.5,\n",
       "  3.5,\n",
       "  3.0,\n",
       "  3.0,\n",
       "  3.5,\n",
       "  3.1,\n",
       "  3.8,\n",
       "  3.8,\n",
       "  3.8,\n",
       "  5.3,\n",
       "  2.2,\n",
       "  2.2,\n",
       "  2.4,\n",
       "  2.4,\n",
       "  3.0,\n",
       "  3.0,\n",
       "  3.5,\n",
       "  1.8,\n",
       "  1.8,\n",
       "  2.0,\n",
       "  2.0,\n",
       "  2.8,\n",
       "  2.8,\n",
       "  3.6],\n",
       " [2.4, 3.0, 3.3, 3.3, 3.3, 3.3, 3.3, 3.8, 3.8, 3.8, 4.0],\n",
       " [3.7,\n",
       "  3.7,\n",
       "  3.9,\n",
       "  3.9,\n",
       "  4.7,\n",
       "  4.7,\n",
       "  4.7,\n",
       "  5.2,\n",
       "  5.2,\n",
       "  4.7,\n",
       "  4.7,\n",
       "  4.7,\n",
       "  4.7,\n",
       "  4.7,\n",
       "  4.7,\n",
       "  5.2,\n",
       "  5.2,\n",
       "  5.7,\n",
       "  5.9,\n",
       "  4.2,\n",
       "  4.2,\n",
       "  4.6,\n",
       "  4.6,\n",
       "  4.6,\n",
       "  5.4,\n",
       "  5.4,\n",
       "  2.7,\n",
       "  2.7,\n",
       "  2.7,\n",
       "  3.4,\n",
       "  3.4,\n",
       "  4.0,\n",
       "  4.0],\n",
       " [3.8,\n",
       "  3.8,\n",
       "  4.0,\n",
       "  4.0,\n",
       "  4.6,\n",
       "  4.6,\n",
       "  4.6,\n",
       "  4.6,\n",
       "  5.4,\n",
       "  1.6,\n",
       "  1.6,\n",
       "  1.6,\n",
       "  1.6,\n",
       "  1.6,\n",
       "  1.8,\n",
       "  1.8,\n",
       "  1.8,\n",
       "  2.0,\n",
       "  2.0,\n",
       "  2.0,\n",
       "  2.0,\n",
       "  2.0,\n",
       "  2.7,\n",
       "  2.7,\n",
       "  2.7,\n",
       "  2.2,\n",
       "  2.2,\n",
       "  2.5,\n",
       "  2.5,\n",
       "  1.9,\n",
       "  1.9,\n",
       "  2.0,\n",
       "  2.0,\n",
       "  2.5,\n",
       "  2.5],\n",
       " [5.3,\n",
       "  5.3,\n",
       "  5.3,\n",
       "  5.7,\n",
       "  6.0,\n",
       "  5.3,\n",
       "  5.3,\n",
       "  5.7,\n",
       "  6.5,\n",
       "  3.9,\n",
       "  4.7,\n",
       "  4.7,\n",
       "  4.7,\n",
       "  5.2,\n",
       "  5.7,\n",
       "  5.9,\n",
       "  4.6,\n",
       "  5.4,\n",
       "  5.4,\n",
       "  4.0,\n",
       "  4.0,\n",
       "  4.0,\n",
       "  4.0,\n",
       "  4.6,\n",
       "  5.0,\n",
       "  3.0,\n",
       "  3.7,\n",
       "  4.0,\n",
       "  4.7,\n",
       "  4.7,\n",
       "  4.7,\n",
       "  5.7,\n",
       "  6.1,\n",
       "  4.0,\n",
       "  4.2,\n",
       "  4.4,\n",
       "  4.6,\n",
       "  5.4,\n",
       "  5.4,\n",
       "  5.4,\n",
       "  4.0,\n",
       "  4.0,\n",
       "  4.6,\n",
       "  5.0,\n",
       "  3.3,\n",
       "  3.3,\n",
       "  4.0,\n",
       "  5.6,\n",
       "  2.5,\n",
       "  2.5,\n",
       "  2.5,\n",
       "  2.5,\n",
       "  2.5,\n",
       "  2.5,\n",
       "  2.7,\n",
       "  2.7,\n",
       "  3.4,\n",
       "  3.4,\n",
       "  4.0,\n",
       "  4.7,\n",
       "  4.7,\n",
       "  5.7]]"
      ]
     },
     "execution_count": 27,
     "metadata": {},
     "output_type": "execute_result"
    }
   ],
   "source": [
    "vals"
   ]
  },
  {
   "cell_type": "markdown",
   "metadata": {},
   "source": [
    "绘制连续变量直方图"
   ]
  },
  {
   "cell_type": "code",
   "execution_count": 28,
   "metadata": {
    "scrolled": true
   },
   "outputs": [
    {
     "data": {
      "image/png": "[encoded data removed]",
      "text/plain": [
       "<Figure size 432x288 with 1 Axes>"
      ]
     },
     "metadata": {
      "needs_background": "light"
     },
     "output_type": "display_data"
    }
   ],
   "source": [
    "plt.hist(vals,30,stacked=True);  # vals是二维连续变量列表，30个bins"
   ]
  },
  {
   "cell_type": "markdown",
   "metadata": {},
   "source": [
    "添加装饰"
   ]
  },
  {
   "cell_type": "code",
   "execution_count": 28,
   "metadata": {},
   "outputs": [
    {
     "data": {
      "text/plain": [
       "array([1.6 , 1.78, 1.96, 2.14, 2.32, 2.5 , 2.68, 2.86, 3.04, 3.22, 3.4 ,\n",
       "       3.58, 3.76, 3.94, 4.12, 4.3 , 4.48, 4.66, 4.84, 5.02, 5.2 , 5.38,\n",
       "       5.56, 5.74, 5.92, 6.1 , 6.28, 6.46, 6.64, 6.82, 7.  ])"
      ]
     },
     "execution_count": 28,
     "metadata": {},
     "output_type": "execute_result"
    }
   ],
   "source": [
    "bins"
   ]
  },
  {
   "cell_type": "code",
   "execution_count": 29,
   "metadata": {},
   "outputs": [
    {
     "data": {
      "text/plain": [
       "31"
      ]
     },
     "execution_count": 29,
     "metadata": {},
     "output_type": "execute_result"
    }
   ],
   "source": [
    "len(bins)"
   ]
  },
  {
   "cell_type": "code",
   "execution_count": 44,
   "metadata": {},
   "outputs": [
    {
     "data": {
      "text/plain": [
       "array([1.6 , 2.14, 2.68, 3.22, 3.76, 4.3 , 4.84, 5.38, 5.92, 6.46, 7.  ])"
      ]
     },
     "execution_count": 44,
     "metadata": {},
     "output_type": "execute_result"
    }
   ],
   "source": [
    "bins[::3]"
   ]
  },
  {
   "cell_type": "code",
   "execution_count": 30,
   "metadata": {},
   "outputs": [
    {
     "data": {
      "text/plain": [
       "[1.6, 2.1, 2.7, 3.2, 3.8, 4.3, 4.8, 5.4, 5.9, 6.5, 7.0]"
      ]
     },
     "execution_count": 30,
     "metadata": {},
     "output_type": "execute_result"
    }
   ],
   "source": [
    "[round(b,1) for b in bins[::3]]"
   ]
  },
  {
   "cell_type": "code",
   "execution_count": 31,
   "metadata": {},
   "outputs": [
    {
     "data": {
      "text/plain": [
       "array(['2seater', 'compact', 'midsize', 'minivan', 'pickup', 'subcompact',\n",
       "       'suv'], dtype=object)"
      ]
     },
     "execution_count": 31,
     "metadata": {},
     "output_type": "execute_result"
    }
   ],
   "source": [
    "np.unique(df['class'])"
   ]
  },
  {
   "cell_type": "code",
   "execution_count": 27,
   "metadata": {},
   "outputs": [
    {
     "data": {
      "image/png": "[encoded data removed]",
      "text/plain": [
       "<Figure size 960x480 with 1 Axes>"
      ]
     },
     "metadata": {
      "needs_background": "light"
     },
     "output_type": "display_data"
    }
   ],
   "source": [
    "plt.figure(figsize=(16,8),dpi=60) #创建画布\n",
    "n,bins,patches = plt.hist(vals,30,stacked=True) #绘制堆叠直方图\n",
    "\n",
    "#添加装饰\n",
    "plt.title('Stacked Histogram of $displ$ colored by $class$',fontsize=22) #添加标题\n",
    "plt.xlabel('displ',fontsize=15) #X轴的标题\n",
    "plt.ylabel('Frequency',fontsize=15) #Y轴标题\n",
    "plt.xticks(bins[::3],[round(b,1) for b in bins[::3]],fontsize=12) #设定X轴的刻度标签\n",
    "plt.yticks(fontsize=12) #设定Y轴刻度大小\n",
    "plt.ylim(0,25)#设定Y轴刻度范围\n",
    "plt.legend(np.unique(df['class']),frameon=False,fontsize=12);  # frameon=False去掉边框"
   ]
  },
  {
   "cell_type": "markdown",
   "metadata": {},
   "source": [
    "### 5.源码及图像解读"
   ]
  },
  {
   "cell_type": "code",
   "execution_count": 35,
   "metadata": {},
   "outputs": [
    {
     "name": "stdout",
     "output_type": "stream",
     "text": [
      "5.7\n"
     ]
    },
    {
     "data": {
      "image/png": "[encoded data removed]",
      "text/plain": [
       "<Figure size 960x540 with 1 Axes>"
      ]
     },
     "metadata": {
      "needs_background": "light"
     },
     "output_type": "display_data"
    }
   ],
   "source": [
    "# Import Data\n",
    "df = pd.read_csv(\"data/mpg_ggplot2.csv\")\n",
    "\n",
    "# Prepare data\n",
    "x_var = 'displ' #横坐标所需特征         \n",
    "groupby_var = 'class' #分类变量\n",
    "df_agg = df.loc[:, [x_var, groupby_var]].groupby(groupby_var) #根据分类变量将所需数据分组\n",
    "vals = [df[x_var].values.tolist() for i, df in df_agg] #提取出每一组中的数据\n",
    "\n",
    "# Draw\n",
    "plt.figure(figsize=(16,9), dpi= 60)#创建画布并设定画布大小\n",
    "#colors = [plt.cm.Spectral(i/float(len(vals)-1)) for i in range(len(vals))]  #生成颜色列表\n",
    "colors = [plt.cm.Spectral(i/float(len(vals))) for i in range(len(vals))]\n",
    "n, bins, patches = plt.hist(vals, 30, stacked=True, density=False, color=colors[:len(vals)]) #绘制直方图\n",
    "\n",
    "# Decoration\n",
    "plt.legend({group:col for group, col in zip(np.unique(df[groupby_var]).tolist(), colors[:len(vals)])}) #添加图例\n",
    "plt.title(f\"Stacked Histogram of ${x_var}$ colored by ${groupby_var}$\", fontsize=22) #添加标题\n",
    "plt.xlabel(x_var)   #添加 X轴标题\n",
    "plt.ylabel(\"Frequency\")#添加 Y轴标题\n",
    "plt.ylim(0, 25) #设定Y轴刻度范围\n",
    "plt.xticks(ticks=bins[::3], labels=[round(b,1) for b in bins[::3]])#设定 X轴刻度\n",
    "plt.show() #本地显示图形"
   ]
  },
  {
   "cell_type": "code",
   "execution_count": 50,
   "metadata": {
    "collapsed": true
   },
   "outputs": [
    {
     "data": {
      "text/plain": [
       "\u001b[1;31mSignature:\u001b[0m      \u001b[0mplt\u001b[0m\u001b[1;33m.\u001b[0m\u001b[0mcm\u001b[0m\u001b[1;33m.\u001b[0m\u001b[0mSpectral\u001b[0m\u001b[1;33m(\u001b[0m\u001b[0mX\u001b[0m\u001b[1;33m,\u001b[0m \u001b[0malpha\u001b[0m\u001b[1;33m=\u001b[0m\u001b[1;32mNone\u001b[0m\u001b[1;33m,\u001b[0m \u001b[0mbytes\u001b[0m\u001b[1;33m=\u001b[0m\u001b[1;32mFalse\u001b[0m\u001b[1;33m)\u001b[0m\u001b[1;33m\u001b[0m\u001b[1;33m\u001b[0m\u001b[0m\n",
       "\u001b[1;31mType:\u001b[0m           LinearSegmentedColormap\n",
       "\u001b[1;31mString form:\u001b[0m    <matplotlib.colors.LinearSegmentedColormap object at 0x000001D007C62048>\n",
       "\u001b[1;31mFile:\u001b[0m           d:\\anaconda3\\lib\\site-packages\\matplotlib\\colors.py\n",
       "\u001b[1;31mDocstring:\u001b[0m     \n",
       "Colormap objects based on lookup tables using linear segments.\n",
       "\n",
       "The lookup table is generated using linear interpolation for each\n",
       "primary color, with the 0-1 domain divided into any number of\n",
       "segments.\n",
       "\u001b[1;31mInit docstring:\u001b[0m\n",
       "Create color map from linear mapping segments\n",
       "\n",
       "segmentdata argument is a dictionary with a red, green and blue\n",
       "entries. Each entry should be a list of *x*, *y0*, *y1* tuples,\n",
       "forming rows in a table. Entries for alpha are optional.\n",
       "\n",
       "Example: suppose you want red to increase from 0 to 1 over\n",
       "the bottom half, green to do the same over the middle half,\n",
       "and blue over the top half.  Then you would use::\n",
       "\n",
       "    cdict = {'red':   [(0.0,  0.0, 0.0),\n",
       "                       (0.5,  1.0, 1.0),\n",
       "                       (1.0,  1.0, 1.0)],\n",
       "\n",
       "             'green': [(0.0,  0.0, 0.0),\n",
       "                       (0.25, 0.0, 0.0),\n",
       "                       (0.75, 1.0, 1.0),\n",
       "                       (1.0,  1.0, 1.0)],\n",
       "\n",
       "             'blue':  [(0.0,  0.0, 0.0),\n",
       "                       (0.5,  0.0, 0.0),\n",
       "                       (1.0,  1.0, 1.0)]}\n",
       "\n",
       "Each row in the table for a given color is a sequence of\n",
       "*x*, *y0*, *y1* tuples.  In each sequence, *x* must increase\n",
       "monotonically from 0 to 1.  For any input value *z* falling\n",
       "between *x[i]* and *x[i+1]*, the output value of a given color\n",
       "will be linearly interpolated between *y1[i]* and *y0[i+1]*::\n",
       "\n",
       "    row i:   x  y0  y1\n",
       "                   /\n",
       "                  /\n",
       "    row i+1: x  y0  y1\n",
       "\n",
       "Hence y0 in the first row and y1 in the last row are never used.\n",
       "\n",
       "\n",
       ".. seealso::\n",
       "\n",
       "       :meth:`LinearSegmentedColormap.from_list`\n",
       "       Static method; factory function for generating a\n",
       "       smoothly-varying LinearSegmentedColormap.\n",
       "\n",
       "       :func:`makeMappingArray`\n",
       "       For information about making a mapping array.\n",
       "\u001b[1;31mCall docstring:\u001b[0m\n",
       "Parameters\n",
       "----------\n",
       "X : scalar, ndarray\n",
       "    The data value(s) to convert to RGBA.\n",
       "    For floats, X should be in the interval ``[0.0, 1.0]`` to\n",
       "    return the RGBA values ``X*100`` percent along the Colormap line.\n",
       "    For integers, X should be in the interval ``[0, Colormap.N)`` to\n",
       "    return RGBA values *indexed* from the Colormap with index ``X``.\n",
       "alpha : float, None\n",
       "    Alpha must be a scalar between 0 and 1, or None.\n",
       "bytes : bool\n",
       "    If False (default), the returned RGBA values will be floats in the\n",
       "    interval ``[0, 1]`` otherwise they will be uint8s in the interval\n",
       "    ``[0, 255]``.\n",
       "\n",
       "Returns\n",
       "-------\n",
       "Tuple of RGBA values if X is scalar, otherwise an array of\n",
       "RGBA values with a shape of ``X.shape + (4, )``.\n"
      ]
     },
     "metadata": {},
     "output_type": "display_data"
    }
   ],
   "source": [
    "plt.cm.Spectral?"
   ]
  },
  {
   "cell_type": "code",
   "execution_count": 51,
   "metadata": {},
   "outputs": [
    {
     "data": {
      "text/plain": [
       "(0.6280661284121491, 0.013302575932333718, 0.26082276047673975, 1.0)"
      ]
     },
     "execution_count": 51,
     "metadata": {},
     "output_type": "execute_result"
    }
   ],
   "source": [
    "plt.cm.Spectral(1) #RGBA色彩空间：红绿蓝+alpha"
   ]
  },
  {
   "cell_type": "code",
   "execution_count": 53,
   "metadata": {},
   "outputs": [
    {
     "data": {
      "text/plain": [
       "7"
      ]
     },
     "execution_count": 53,
     "metadata": {},
     "output_type": "execute_result"
    }
   ],
   "source": [
    "len(vals)"
   ]
  },
  {
   "cell_type": "code",
   "execution_count": 52,
   "metadata": {},
   "outputs": [
    {
     "data": {
      "text/plain": [
       "[(0.6196078431372549, 0.00392156862745098, 0.25882352941176473, 1.0),\n",
       " (0.8853517877739331, 0.3190311418685121, 0.29042675893886966, 1.0),\n",
       " (0.9873125720876587, 0.6473663975394078, 0.3642445213379469, 1.0),\n",
       " (0.9971549404075356, 0.9118031526336025, 0.6010765090349866, 1.0),\n",
       " (0.9288735101883892, 0.9715494040753557, 0.6380622837370243, 1.0),\n",
       " (0.6334486735870821, 0.8521337946943485, 0.6436755094194541, 1.0),\n",
       " (0.2800461361014994, 0.6269896193771626, 0.7024221453287197, 1.0)]"
      ]
     },
     "execution_count": 52,
     "metadata": {},
     "output_type": "execute_result"
    }
   ],
   "source": [
    "[plt.cm.Spectral(i/float(len(vals))) for i in range(len(vals))]"
   ]
  },
  {
   "cell_type": "code",
   "execution_count": 54,
   "metadata": {},
   "outputs": [
    {
     "data": {
      "text/plain": [
       "[(0.6196078431372549, 0.00392156862745098, 0.25882352941176473, 1.0),\n",
       " (0.9139561707035756, 0.36239907727797, 0.27935409457900806, 1.0),\n",
       " (0.9934640522875817, 0.7477124183006535, 0.4352941176470587, 1.0),\n",
       " (0.998077662437524, 0.9992310649750096, 0.7460207612456747, 1.0),\n",
       " (0.7477124183006538, 0.8980392156862746, 0.6274509803921569, 1.0),\n",
       " (0.3280276816608997, 0.6805074971164936, 0.6802768166089965, 1.0),\n",
       " (0.3686274509803922, 0.30980392156862746, 0.6352941176470588, 1.0)]"
      ]
     },
     "execution_count": 54,
     "metadata": {},
     "output_type": "execute_result"
    }
   ],
   "source": [
    "[plt.cm.Spectral(i/float(len(vals)-1)) for i in range(len(vals))]"
   ]
  },
  {
   "cell_type": "code",
   "execution_count": 34,
   "metadata": {},
   "outputs": [
    {
     "data": {
      "image/png": "[encoded data removed]",
      "text/plain": [
       "<Figure size 960x540 with 1 Axes>"
      ]
     },
     "metadata": {
      "needs_background": "light"
     },
     "output_type": "display_data"
    }
   ],
   "source": [
    "# Prepare data\n",
    "x_var = 'displ' #横坐标所需特征         \n",
    "groupby_var = 'class' #分类变量\n",
    "df_agg = df.loc[:, [x_var, groupby_var]].groupby(groupby_var) \n",
    "vals = [df[x_var].values.tolist() for i, df in df_agg] \n",
    "\n",
    "# Draw\n",
    "plt.figure(figsize=(16,9), dpi= 60)\n",
    "colors = [plt.cm.Spectral(i/float(len(vals))) for i in range(len(vals))]  #生成颜色列表\n",
    "n, bins, patches = plt.hist(vals, 30, stacked=True, density=False, color=colors[:len(vals)]) \n",
    "\n",
    "# Decoration\n",
    "plt.legend({group:col for group, col in zip(np.unique(df[groupby_var]).tolist(), colors[:len(vals)])}) \n",
    "plt.title(f\"Stacked Histogram of ${x_var}$ colored by ${groupby_var}$\", fontsize=22)\n",
    "plt.xlabel(x_var)\n",
    "plt.ylabel(\"Frequency\")\n",
    "plt.ylim(0, 25)\n",
    "plt.xticks(ticks=bins[::3], labels=[round(b,1) for b in bins[::3]])\n",
    "plt.show()"
   ]
  },
  {
   "cell_type": "markdown",
   "metadata": {},
   "source": [
    "**图形解读**"
   ]
  },
  {
   "cell_type": "markdown",
   "metadata": {},
   "source": [
    "- 从这样一个堆积直方图中，我们能够看出每一种类型车的排量基本处于什么样的位置\n",
    "- 还可以看出同一个排量下，有多少种类的车，每种车的占比如何   \n",
    "- 对于2seater两座车来说，基本上全部都是大排量\n",
    "- compact紧凑型车的排量基本上都比较小\n",
    "- 此外，我们还可以看出大部分类型车的排量都在5以下"
   ]
  },
  {
   "cell_type": "markdown",
   "metadata": {},
   "source": [
    "### <font color=bule> 21/50 分类变量直方图（Histogram for Categorical Variable）\n",
    "#### 分类变量和类型"
   ]
  },
  {
   "cell_type": "markdown",
   "metadata": {},
   "source": [
    "分类变量直方图与连续变量直方图非常的类似。它也可以显示每个变量的频率分布。   \n",
    "通过对条形图的不同着色，可以将分类变量与表示颜色的另一种分类变量相关联。"
   ]
  },
  {
   "cell_type": "markdown",
   "metadata": {},
   "source": [
    "<img src='http://pictes.oss-cn-beijing.aliyuncs.com/microclass-virtualisation/week4%20Distribution/%E5%88%86%E7%B1%BB%E5%8F%98%E9%87%8F%E7%9B%B4%E6%96%B9%E5%9B%BE.png' width=700>"
   ]
  },
  {
   "cell_type": "markdown",
   "metadata": {},
   "source": [
    "- 横坐标：汽车制造商manufacturer   \n",
    "- 纵坐标：频数  \n",
    "- 图例：汽车种类class"
   ]
  },
  {
   "cell_type": "code",
   "execution_count": 36,
   "metadata": {},
   "outputs": [],
   "source": [
    "# Import Data\n",
    "df = pd.read_csv(\"data/mpg_ggplot2.csv\") #导入数据集"
   ]
  },
  {
   "cell_type": "code",
   "execution_count": 37,
   "metadata": {},
   "outputs": [
    {
     "data": {
      "text/html": [
       "<div>\n",
       "<style scoped>\n",
       "    .dataframe tbody tr th:only-of-type {\n",
       "        vertical-align: middle;\n",
       "    }\n",
       "\n",
       "    .dataframe tbody tr th {\n",
       "        vertical-align: top;\n",
       "    }\n",
       "\n",
       "    .dataframe thead th {\n",
       "        text-align: right;\n",
       "    }\n",
       "</style>\n",
       "<table border=\"1\" class=\"dataframe\">\n",
       "  <thead>\n",
       "    <tr style=\"text-align: right;\">\n",
       "      <th></th>\n",
       "      <th>manufacturer</th>\n",
       "      <th>model</th>\n",
       "      <th>displ</th>\n",
       "      <th>year</th>\n",
       "      <th>cyl</th>\n",
       "      <th>trans</th>\n",
       "      <th>drv</th>\n",
       "      <th>cty</th>\n",
       "      <th>hwy</th>\n",
       "      <th>fl</th>\n",
       "      <th>class</th>\n",
       "    </tr>\n",
       "  </thead>\n",
       "  <tbody>\n",
       "    <tr>\n",
       "      <th>0</th>\n",
       "      <td>audi</td>\n",
       "      <td>a4</td>\n",
       "      <td>1.8</td>\n",
       "      <td>1999</td>\n",
       "      <td>4</td>\n",
       "      <td>auto(l5)</td>\n",
       "      <td>f</td>\n",
       "      <td>18</td>\n",
       "      <td>29</td>\n",
       "      <td>p</td>\n",
       "      <td>compact</td>\n",
       "    </tr>\n",
       "    <tr>\n",
       "      <th>1</th>\n",
       "      <td>audi</td>\n",
       "      <td>a4</td>\n",
       "      <td>1.8</td>\n",
       "      <td>1999</td>\n",
       "      <td>4</td>\n",
       "      <td>manual(m5)</td>\n",
       "      <td>f</td>\n",
       "      <td>21</td>\n",
       "      <td>29</td>\n",
       "      <td>p</td>\n",
       "      <td>compact</td>\n",
       "    </tr>\n",
       "    <tr>\n",
       "      <th>2</th>\n",
       "      <td>audi</td>\n",
       "      <td>a4</td>\n",
       "      <td>2.0</td>\n",
       "      <td>2008</td>\n",
       "      <td>4</td>\n",
       "      <td>manual(m6)</td>\n",
       "      <td>f</td>\n",
       "      <td>20</td>\n",
       "      <td>31</td>\n",
       "      <td>p</td>\n",
       "      <td>compact</td>\n",
       "    </tr>\n",
       "    <tr>\n",
       "      <th>3</th>\n",
       "      <td>audi</td>\n",
       "      <td>a4</td>\n",
       "      <td>2.0</td>\n",
       "      <td>2008</td>\n",
       "      <td>4</td>\n",
       "      <td>auto(av)</td>\n",
       "      <td>f</td>\n",
       "      <td>21</td>\n",
       "      <td>30</td>\n",
       "      <td>p</td>\n",
       "      <td>compact</td>\n",
       "    </tr>\n",
       "    <tr>\n",
       "      <th>4</th>\n",
       "      <td>audi</td>\n",
       "      <td>a4</td>\n",
       "      <td>2.8</td>\n",
       "      <td>1999</td>\n",
       "      <td>6</td>\n",
       "      <td>auto(l5)</td>\n",
       "      <td>f</td>\n",
       "      <td>16</td>\n",
       "      <td>26</td>\n",
       "      <td>p</td>\n",
       "      <td>compact</td>\n",
       "    </tr>\n",
       "  </tbody>\n",
       "</table>\n",
       "</div>"
      ],
      "text/plain": [
       "  manufacturer model  displ  year  cyl       trans drv  cty  hwy fl    class\n",
       "0         audi    a4    1.8  1999    4    auto(l5)   f   18   29  p  compact\n",
       "1         audi    a4    1.8  1999    4  manual(m5)   f   21   29  p  compact\n",
       "2         audi    a4    2.0  2008    4  manual(m6)   f   20   31  p  compact\n",
       "3         audi    a4    2.0  2008    4    auto(av)   f   21   30  p  compact\n",
       "4         audi    a4    2.8  1999    6    auto(l5)   f   16   26  p  compact"
      ]
     },
     "execution_count": 37,
     "metadata": {},
     "output_type": "execute_result"
    }
   ],
   "source": [
    "df.head()"
   ]
  },
  {
   "cell_type": "code",
   "execution_count": 38,
   "metadata": {},
   "outputs": [
    {
     "data": {
      "text/plain": [
       "{'2seater': (0.6196078431372549,\n",
       "  0.00392156862745098,\n",
       "  0.25882352941176473,\n",
       "  1.0),\n",
       " 'compact': (0.8853517877739331, 0.3190311418685121, 0.29042675893886966, 1.0),\n",
       " 'midsize': (0.9873125720876587, 0.6473663975394078, 0.3642445213379469, 1.0),\n",
       " 'minivan': (0.9971549404075356, 0.9118031526336025, 0.6010765090349866, 1.0),\n",
       " 'pickup': (0.9288735101883892, 0.9715494040753557, 0.6380622837370243, 1.0),\n",
       " 'subcompact': (0.6334486735870821,\n",
       "  0.8521337946943485,\n",
       "  0.6436755094194541,\n",
       "  1.0),\n",
       " 'suv': (0.2800461361014994, 0.6269896193771626, 0.7024221453287197, 1.0)}"
      ]
     },
     "execution_count": 38,
     "metadata": {},
     "output_type": "execute_result"
    }
   ],
   "source": [
    "{group:col for group, col in zip(np.unique(df[groupby_var]).tolist(), colors[:len(vals)])}\n",
    "# 一类对应一个颜色"
   ]
  },
  {
   "cell_type": "code",
   "execution_count": 43,
   "metadata": {
    "scrolled": true
   },
   "outputs": [
    {
     "data": {
      "image/png": "[encoded data removed]",
      "text/plain": [
       "<Figure size 840x480 with 1 Axes>"
      ]
     },
     "metadata": {
      "needs_background": "light"
     },
     "output_type": "display_data"
    }
   ],
   "source": [
    "# Prepare data\n",
    "x_var = 'manufacturer'   #X轴特征\n",
    "groupby_var = 'class'    #分类标签（颜色标签）\n",
    "df_agg = df.loc[:, [x_var, groupby_var]].groupby(groupby_var) #根据颜色标签将X轴特征分组\n",
    "vals = [df[x_var].values.tolist() for i, df in df_agg]  #提取出每组特征,做成二维string列表,也可画\n",
    "\n",
    "# Draw\n",
    "plt.figure(figsize=(14,8), dpi= 60) #创建画布\n",
    "colors = [plt.cm.Spectral(i/float(len(vals)-1)) for i in range(len(vals))]  #创建颜色列表\n",
    "n, bins, patches = plt.hist(vals, df[x_var].unique().__len__(), stacked=True, density=False, color=colors[:len(vals)]) #绘制堆叠直方图"
   ]
  },
  {
   "cell_type": "code",
   "execution_count": 42,
   "metadata": {},
   "outputs": [
    {
     "data": {
      "image/png": "[encoded data removed]",
      "text/plain": [
       "<Figure size 840x480 with 1 Axes>"
      ]
     },
     "metadata": {
      "needs_background": "light"
     },
     "output_type": "display_data"
    }
   ],
   "source": [
    "# Decoration\n",
    "plt.legend({group:col for group, col in zip(np.unique(df[groupby_var]).tolist(), colors[:len(vals)])}) #添加图例\n",
    "# plt.legend(np.unique(df[groupby_var]),frameon=False,fontsize=15)\n",
    "plt.title(f\"Stacked Histogram of ${x_var}$ colored by ${groupby_var}$\", fontsize=22) #添加标题\n",
    "plt.xlabel(x_var,fontsize=20) #设定X轴标签\n",
    "plt.ylabel(\"Frequency\",fontsize=20) #设定Y轴标签\n",
    "plt.ylim(0, 40) #设定Y轴刻度范围\n",
    "plt.xticks(ticks=bins, labels=np.unique(df[x_var]).tolist(), rotation=60, horizontalalignment='right',fontsize=16) #设定X轴刻度标签\n",
    "plt.yticks(fontsize=16)#设定Y轴刻度字体大小\n",
    "plt.show() #本地显示"
   ]
  },
  {
   "cell_type": "code",
   "execution_count": 41,
   "metadata": {},
   "outputs": [
    {
     "data": {
      "text/plain": [
       "array(['audi', 'chevrolet', 'dodge', 'ford', 'honda', 'hyundai', 'jeep',\n",
       "       'land rover', 'lincoln', 'mercury', 'nissan', 'pontiac', 'subaru',\n",
       "       'toyota', 'volkswagen'], dtype=object)"
      ]
     },
     "execution_count": 41,
     "metadata": {},
     "output_type": "execute_result"
    }
   ],
   "source": [
    "df[x_var].unique() #去重，与np.unique()作用相同"
   ]
  },
  {
   "cell_type": "code",
   "execution_count": 42,
   "metadata": {},
   "outputs": [
    {
     "data": {
      "text/plain": [
       "array(['audi', 'chevrolet', 'dodge', 'ford', 'honda', 'hyundai', 'jeep',\n",
       "       'land rover', 'lincoln', 'mercury', 'nissan', 'pontiac', 'subaru',\n",
       "       'toyota', 'volkswagen'], dtype=object)"
      ]
     },
     "execution_count": 42,
     "metadata": {},
     "output_type": "execute_result"
    }
   ],
   "source": [
    "np.unique(df[x_var])"
   ]
  },
  {
   "cell_type": "code",
   "execution_count": 43,
   "metadata": {},
   "outputs": [
    {
     "data": {
      "text/plain": [
       "15"
      ]
     },
     "execution_count": 43,
     "metadata": {},
     "output_type": "execute_result"
    }
   ],
   "source": [
    "df[x_var].unique().__len__() #返回对象长度，与len()作用相同"
   ]
  },
  {
   "cell_type": "code",
   "execution_count": 44,
   "metadata": {},
   "outputs": [
    {
     "data": {
      "text/plain": [
       "15"
      ]
     },
     "execution_count": 44,
     "metadata": {},
     "output_type": "execute_result"
    }
   ],
   "source": [
    "len(df[x_var].unique())"
   ]
  },
  {
   "cell_type": "code",
   "execution_count": 47,
   "metadata": {
    "collapsed": true
   },
   "outputs": [
    {
     "data": {
      "text/plain": [
       "[['chevrolet', 'chevrolet', 'chevrolet', 'chevrolet', 'chevrolet'],\n",
       " ['audi',\n",
       "  'audi',\n",
       "  'audi',\n",
       "  'audi',\n",
       "  'audi',\n",
       "  'audi',\n",
       "  'audi',\n",
       "  'audi',\n",
       "  'audi',\n",
       "  'audi',\n",
       "  'audi',\n",
       "  'audi',\n",
       "  'audi',\n",
       "  'audi',\n",
       "  'audi',\n",
       "  'nissan',\n",
       "  'nissan',\n",
       "  'subaru',\n",
       "  'subaru',\n",
       "  'subaru',\n",
       "  'subaru',\n",
       "  'toyota',\n",
       "  'toyota',\n",
       "  'toyota',\n",
       "  'toyota',\n",
       "  'toyota',\n",
       "  'toyota',\n",
       "  'toyota',\n",
       "  'toyota',\n",
       "  'toyota',\n",
       "  'toyota',\n",
       "  'toyota',\n",
       "  'toyota',\n",
       "  'volkswagen',\n",
       "  'volkswagen',\n",
       "  'volkswagen',\n",
       "  'volkswagen',\n",
       "  'volkswagen',\n",
       "  'volkswagen',\n",
       "  'volkswagen',\n",
       "  'volkswagen',\n",
       "  'volkswagen',\n",
       "  'volkswagen',\n",
       "  'volkswagen',\n",
       "  'volkswagen',\n",
       "  'volkswagen',\n",
       "  'volkswagen'],\n",
       " ['audi',\n",
       "  'audi',\n",
       "  'audi',\n",
       "  'chevrolet',\n",
       "  'chevrolet',\n",
       "  'chevrolet',\n",
       "  'chevrolet',\n",
       "  'chevrolet',\n",
       "  'hyundai',\n",
       "  'hyundai',\n",
       "  'hyundai',\n",
       "  'hyundai',\n",
       "  'hyundai',\n",
       "  'hyundai',\n",
       "  'hyundai',\n",
       "  'nissan',\n",
       "  'nissan',\n",
       "  'nissan',\n",
       "  'nissan',\n",
       "  'nissan',\n",
       "  'nissan',\n",
       "  'nissan',\n",
       "  'pontiac',\n",
       "  'pontiac',\n",
       "  'pontiac',\n",
       "  'pontiac',\n",
       "  'pontiac',\n",
       "  'toyota',\n",
       "  'toyota',\n",
       "  'toyota',\n",
       "  'toyota',\n",
       "  'toyota',\n",
       "  'toyota',\n",
       "  'toyota',\n",
       "  'volkswagen',\n",
       "  'volkswagen',\n",
       "  'volkswagen',\n",
       "  'volkswagen',\n",
       "  'volkswagen',\n",
       "  'volkswagen',\n",
       "  'volkswagen'],\n",
       " ['dodge',\n",
       "  'dodge',\n",
       "  'dodge',\n",
       "  'dodge',\n",
       "  'dodge',\n",
       "  'dodge',\n",
       "  'dodge',\n",
       "  'dodge',\n",
       "  'dodge',\n",
       "  'dodge',\n",
       "  'dodge'],\n",
       " ['dodge',\n",
       "  'dodge',\n",
       "  'dodge',\n",
       "  'dodge',\n",
       "  'dodge',\n",
       "  'dodge',\n",
       "  'dodge',\n",
       "  'dodge',\n",
       "  'dodge',\n",
       "  'dodge',\n",
       "  'dodge',\n",
       "  'dodge',\n",
       "  'dodge',\n",
       "  'dodge',\n",
       "  'dodge',\n",
       "  'dodge',\n",
       "  'dodge',\n",
       "  'dodge',\n",
       "  'dodge',\n",
       "  'ford',\n",
       "  'ford',\n",
       "  'ford',\n",
       "  'ford',\n",
       "  'ford',\n",
       "  'ford',\n",
       "  'ford',\n",
       "  'toyota',\n",
       "  'toyota',\n",
       "  'toyota',\n",
       "  'toyota',\n",
       "  'toyota',\n",
       "  'toyota',\n",
       "  'toyota'],\n",
       " ['ford',\n",
       "  'ford',\n",
       "  'ford',\n",
       "  'ford',\n",
       "  'ford',\n",
       "  'ford',\n",
       "  'ford',\n",
       "  'ford',\n",
       "  'ford',\n",
       "  'honda',\n",
       "  'honda',\n",
       "  'honda',\n",
       "  'honda',\n",
       "  'honda',\n",
       "  'honda',\n",
       "  'honda',\n",
       "  'honda',\n",
       "  'honda',\n",
       "  'hyundai',\n",
       "  'hyundai',\n",
       "  'hyundai',\n",
       "  'hyundai',\n",
       "  'hyundai',\n",
       "  'hyundai',\n",
       "  'hyundai',\n",
       "  'subaru',\n",
       "  'subaru',\n",
       "  'subaru',\n",
       "  'subaru',\n",
       "  'volkswagen',\n",
       "  'volkswagen',\n",
       "  'volkswagen',\n",
       "  'volkswagen',\n",
       "  'volkswagen',\n",
       "  'volkswagen'],\n",
       " ['chevrolet',\n",
       "  'chevrolet',\n",
       "  'chevrolet',\n",
       "  'chevrolet',\n",
       "  'chevrolet',\n",
       "  'chevrolet',\n",
       "  'chevrolet',\n",
       "  'chevrolet',\n",
       "  'chevrolet',\n",
       "  'dodge',\n",
       "  'dodge',\n",
       "  'dodge',\n",
       "  'dodge',\n",
       "  'dodge',\n",
       "  'dodge',\n",
       "  'dodge',\n",
       "  'ford',\n",
       "  'ford',\n",
       "  'ford',\n",
       "  'ford',\n",
       "  'ford',\n",
       "  'ford',\n",
       "  'ford',\n",
       "  'ford',\n",
       "  'ford',\n",
       "  'jeep',\n",
       "  'jeep',\n",
       "  'jeep',\n",
       "  'jeep',\n",
       "  'jeep',\n",
       "  'jeep',\n",
       "  'jeep',\n",
       "  'jeep',\n",
       "  'land rover',\n",
       "  'land rover',\n",
       "  'land rover',\n",
       "  'land rover',\n",
       "  'lincoln',\n",
       "  'lincoln',\n",
       "  'lincoln',\n",
       "  'mercury',\n",
       "  'mercury',\n",
       "  'mercury',\n",
       "  'mercury',\n",
       "  'nissan',\n",
       "  'nissan',\n",
       "  'nissan',\n",
       "  'nissan',\n",
       "  'subaru',\n",
       "  'subaru',\n",
       "  'subaru',\n",
       "  'subaru',\n",
       "  'subaru',\n",
       "  'subaru',\n",
       "  'toyota',\n",
       "  'toyota',\n",
       "  'toyota',\n",
       "  'toyota',\n",
       "  'toyota',\n",
       "  'toyota',\n",
       "  'toyota',\n",
       "  'toyota']]"
      ]
     },
     "execution_count": 47,
     "metadata": {},
     "output_type": "execute_result"
    }
   ],
   "source": [
    "[df[x_var].values.tolist() for i, df in df_agg] "
   ]
  },
  {
   "cell_type": "code",
   "execution_count": 48,
   "metadata": {},
   "outputs": [
    {
     "data": {
      "text/plain": [
       "['2seater', 'compact', 'midsize', 'minivan', 'pickup', 'subcompact', 'suv']"
      ]
     },
     "execution_count": 48,
     "metadata": {},
     "output_type": "execute_result"
    }
   ],
   "source": [
    "[i for i, df in df_agg] "
   ]
  }
 ],
 "metadata": {
  "kernelspec": {
   "display_name": "Python 3",
   "language": "python",
   "name": "python3"
  },
  "language_info": {
   "codemirror_mode": {
    "name": "ipython",
    "version": 3
   },
   "file_extension": ".py",
   "mimetype": "text/x-python",
   "name": "python",
   "nbconvert_exporter": "python",
   "pygments_lexer": "ipython3",
   "version": "3.7.0"
  }
 },
 "nbformat": 4,
 "nbformat_minor": 2
}
