{
 "cells": [
  {
   "cell_type": "markdown",
   "metadata": {},
   "source": [
    "### <font color='bule'>第四期  分布图：22密度图 & 23直方密度曲线图"
   ]
  },
  {
   "cell_type": "markdown",
   "metadata": {},
   "source": [
    "## o新知识点\n",
    "\n",
    "1.sns.kdeplot()\n",
    "\n",
    "2.sns.distplot()"
   ]
  },
  {
   "cell_type": "markdown",
   "metadata": {},
   "source": [
    "<img src=\"http://pictes.oss-cn-beijing.aliyuncs.com/microclass-virtualisation/week1correlation/line4.png\" align=\"center\" />"
   ]
  },
  {
   "cell_type": "markdown",
   "metadata": {},
   "source": [
    "### <font color=bule> 22/50 密度图（Density Plot）"
   ]
  },
  {
   "cell_type": "markdown",
   "metadata": {},
   "source": [
    "密度图，又称为密度曲线图。在分布图中，密度图是一种常用的工具。对于连续变量来说，如果想要把它的分布状况进行可视化，那密度图就是一个很好的选择。"
   ]
  },
  {
   "cell_type": "markdown",
   "metadata": {},
   "source": [
    "<img src='http://pictes.oss-cn-beijing.aliyuncs.com/microclass-virtualisation/week4%20Distribution/%E5%AF%86%E5%BA%A6%E5%9B%BE.png' width=500>"
   ]
  },
  {
   "cell_type": "markdown",
   "metadata": {},
   "source": [
    "这幅图的主要目的就是反映城市里程如何随着气缸数量的变化而变化"
   ]
  },
  {
   "cell_type": "markdown",
   "metadata": {},
   "source": [
    "横坐标：城市里程   \n",
    "纵坐标：概率密度   \n",
    "图例：不同种类气缸数量   "
   ]
  },
  {
   "cell_type": "markdown",
   "metadata": {},
   "source": [
    "### 1. 导入需要的绘图库"
   ]
  },
  {
   "cell_type": "code",
   "execution_count": 1,
   "metadata": {},
   "outputs": [],
   "source": [
    "import pandas as pd\n",
    "import numpy as np\n",
    "import seaborn as sns\n",
    "import matplotlib.pyplot as plt\n",
    "%matplotlib inline\n",
    "#如果用jupyter notebook则需要这行代码让你的图像显示，如果是jupyterlab则不需要\n",
    "\n",
    "plt.rcParams['font.sans-serif']=['Simhei'] #显示中文\n",
    "plt.rcParams['axes.unicode_minus']=False   #显示负号"
   ]
  },
  {
   "cell_type": "markdown",
   "metadata": {},
   "source": [
    "### 2.认识绘制密度图的函数"
   ]
  },
  {
   "cell_type": "markdown",
   "metadata": {},
   "source": [
    "#### <font color='blue'>密度图是直方图的一种变形\n",
    "下面我们一起来看一下直方图和密度图的对比。    \n",
    "（下面这两个图，用的是同一个数据）"
   ]
  },
  {
   "cell_type": "markdown",
   "metadata": {},
   "source": [
    "<img src = 'http://pictes.oss-cn-beijing.aliyuncs.com/microclass-virtualisation/week4%20Distribution/%E7%9B%B4%E6%96%B9%E5%9B%BEvs%E5%AF%86%E5%BA%A6%E5%9B%BE.png'>"
   ]
  },
  {
   "cell_type": "markdown",
   "metadata": {},
   "source": [
    "#### 直方图 vs 密度图\n",
    "> 1. 直方图表示的是在不同取值区间里分别有多少个值(频数)，而密度图表示的是在不同取值区间里的概率密度\n",
    "> 2. **密度图曲线下的总面积为1（可以用积分证明）**\n",
    "> 3. 大多数密度图使用的是核密度估计，核密度的计算就是一个比较复杂的数学过程了\n",
    "> 4. 通俗理解：密度图中的纵坐标用于不同类别之间的相对比较的值"
   ]
  },
  {
   "cell_type": "markdown",
   "metadata": {},
   "source": [
    "如果你还是比较困惑的话，可以看下面的例子:   \n",
    "假设我们有5个样本,每个样本点在下图中显示为X轴上的小黑色垂直线    \n",
    "各个内核（这里用的是高斯核）显示在每个点上方，用红色虚线绘制    \n",
    "通过对各个点的高斯核求和，形成了蓝色曲线，这一条曲线就是我们需要的密度曲线了。   "
   ]
  },
  {
   "cell_type": "markdown",
   "metadata": {},
   "source": [
    "<img src='http://pictes.oss-cn-beijing.aliyuncs.com/microclass-virtualisation/week4%20Distribution/%E5%AF%86%E5%BA%A6%E8%AE%B2%E8%A7%A3%E5%AE%9E%E4%BE%8B.png' width=300>"
   ]
  },
  {
   "cell_type": "markdown",
   "metadata": {},
   "source": [
    "<img src='http://pictes.oss-cn-beijing.aliyuncs.com/microclass-virtualisation/week4%20Distribution/%E5%AF%86%E5%BA%A6%E8%AE%B2%E8%A7%A3%E5%9B%BE%E5%BD%A2.png' width=300>"
   ]
  },
  {
   "cell_type": "markdown",
   "metadata": {},
   "source": [
    ">在密度图中，x轴是变量的值，就像在直方图中一样，但是y轴的值表示的是什么呢？密度图中的y轴表示的核密度估计的概率密度函数。但是我们需要注意的是这里是**概率密度**而不是概率。\n",
    "\n",
    ">概率密度与概率的差异就是，概率密度指的是x轴上每单位的概率。如果想要转换为实际概率的话，需要在x轴上找到特定区间的曲线下面积。这些听起来可能会非常的困惑，尤其是遇到y轴的取值大于1的时候，所以我们需要明白概率密度不是概率，而我们的**y轴是可以取到大于1**的值。    \n",
    "\n",
    ">所以通常情况下，我会将密度图上的y轴当做仅仅是用于比较不同类别之间的相对值。"
   ]
  },
  {
   "cell_type": "markdown",
   "metadata": {},
   "source": [
    "**sns.kdeplot()**\n",
    "> 函数功能\n",
    ">> 拟合并绘制单变量或双变量核密度估计值  \n",
    "\n",
    "> 重要参数   \n",
    ">> data：数据集，可以只输入一个，也可以输入两个   \n",
    ">> shade：在密度曲线下方加阴影（如果数据是双变量时，填充轮廓）   \n",
    ">> vertical：控制密度轴向   \n",
    ">> bw：类似于直方图中的binwidth，用于确定核大小    \n",
    ">> kernel：核函数(双变量KDE只能使用高斯核)\n",
    "\n",
    ">>> 核函数种类说明：   \n",
    ">>> gau:gaussian高斯核（常用）   \n",
    ">>> cos:cosine余弦     \n",
    ">>> biw:biweight 四次   \n",
    ">>> epa:Epanechnikov 抛物线   \n",
    ">>> tri:triangle三角   \n",
    ">>> triw:triweight 三次   "
   ]
  },
  {
   "cell_type": "markdown",
   "metadata": {},
   "source": [
    "参数说明：https://seaborn.pydata.org/generated/seaborn.kdeplot.html"
   ]
  },
  {
   "cell_type": "markdown",
   "metadata": {},
   "source": [
    "关于核种类：https://en.wikipedia.org/wiki/Kernel_%28statistics%29"
   ]
  },
  {
   "cell_type": "markdown",
   "metadata": {},
   "source": [
    "#### <font color='blue'>绘制简单的密度图"
   ]
  },
  {
   "cell_type": "code",
   "execution_count": 2,
   "metadata": {},
   "outputs": [],
   "source": [
    "#构造数据,满足正态分布的1000个数\n",
    "data = np.random.randn(1000)"
   ]
  },
  {
   "cell_type": "code",
   "execution_count": 3,
   "metadata": {},
   "outputs": [
    {
     "data": {
      "text/plain": [
       "array([-2.66940417e-01,  6.59670611e-01, -7.97724372e-02, -2.85358401e-01,\n",
       "        4.88144966e-01, -2.15421764e-01,  9.06495788e-01, -1.23690403e+00,\n",
       "       -1.08448846e+00, -8.46235940e-01, -4.67628490e-01, -1.73275438e+00,\n",
       "       -3.87609504e-01,  2.43700507e-01, -1.51251741e-01, -3.05689681e+00,\n",
       "       -1.47100708e+00,  5.55765791e-01, -1.40692399e+00,  3.00149351e-01,\n",
       "        1.65680303e+00, -3.24312663e-01, -1.30917691e+00,  8.46215918e-01,\n",
       "       -7.18052898e-03, -1.36021419e+00,  1.13366514e+00,  1.35325915e-01,\n",
       "        1.83915975e+00, -7.98599576e-01,  2.99438805e-01, -1.22168619e+00,\n",
       "        3.92853300e-01, -1.85596898e+00,  1.06854245e+00, -2.08852341e-01,\n",
       "       -3.50080913e+00, -1.76527982e+00,  5.52131627e-01,  9.17129796e-01,\n",
       "       -1.78849370e-01,  2.51990610e-02,  1.75609057e+00,  3.83395144e-01,\n",
       "        1.63670632e+00,  5.22641493e-03, -3.99800118e-01,  9.10916895e-01,\n",
       "       -5.91090667e-01, -6.32271982e-02, -7.82061128e-02,  3.24516332e-01,\n",
       "       -4.88183712e-01, -7.28829901e-02, -9.12125537e-01, -1.21128835e+00,\n",
       "       -1.24081104e-01,  7.22082493e-01, -6.32583461e-01, -1.11253871e+00,\n",
       "        2.82713358e-01,  6.77444532e-01,  6.69806889e-01,  4.78526889e-01,\n",
       "        1.31585721e-01,  2.33437588e-01,  1.14758658e+00,  3.88546767e-01,\n",
       "        4.34285123e-01,  1.65422233e+00, -1.19724116e+00, -6.27259778e-01,\n",
       "       -1.02061864e+00,  1.40611208e+00, -1.68789621e+00,  2.85808932e-01,\n",
       "        8.83495497e-01,  1.47683925e+00,  1.65486774e-01, -2.81703454e-01,\n",
       "        8.00077280e-02, -4.48100070e-01, -2.21759179e+00,  2.25321582e+00,\n",
       "        1.81251407e+00,  1.39588792e+00, -7.59277200e-01,  4.58306815e-01,\n",
       "       -1.91969739e+00,  3.64163645e-01, -4.67269987e-01,  3.52390147e+00,\n",
       "       -1.52587596e+00, -1.27257403e-01,  1.32005756e+00, -1.12298075e+00,\n",
       "        2.78401252e-01,  4.16300218e-02, -6.47921671e-02,  1.11789714e+00,\n",
       "       -1.11604857e+00, -8.23767661e-01,  2.05873511e+00, -1.15628952e+00,\n",
       "        2.30261998e+00,  7.64880253e-01, -2.82189997e-01, -9.22045641e-01,\n",
       "       -1.24491867e+00, -1.56005135e+00,  1.85244313e+00,  5.97941450e-01,\n",
       "        1.75993292e+00, -5.64318810e-01, -4.43494501e-01,  8.09384218e-01,\n",
       "       -5.94638389e-01, -2.81035679e-01,  1.03937531e+00, -8.93019318e-01,\n",
       "       -1.57174017e+00,  3.22973891e-01, -5.05276235e-01, -9.99184567e-01,\n",
       "       -2.79847389e-02, -4.52208741e-01,  5.10826420e-01, -2.29705117e-01,\n",
       "        1.27229438e+00,  5.04146017e-01, -1.80639982e+00,  1.15240287e+00,\n",
       "        7.91775953e-01, -1.47236843e-01,  1.98849953e-01,  3.18928632e-01,\n",
       "       -2.76578611e+00,  2.50531101e+00, -3.21704811e-01,  6.81528807e-01,\n",
       "       -5.22416417e-01,  5.13827237e-01,  4.97582259e-01, -3.33850317e-01,\n",
       "       -6.72507496e-01,  2.04503405e+00,  5.64982100e-01,  1.78338849e+00,\n",
       "        2.72333044e-01, -1.22901352e+00, -7.78866968e-01, -1.28286573e+00,\n",
       "       -1.16714910e-01,  1.63389814e+00, -1.07215396e+00, -1.32643200e+00,\n",
       "        3.52306832e-01,  5.84920714e-01,  2.10270388e-01, -9.69882563e-01,\n",
       "        1.41086389e-01,  7.46512348e-01,  7.92260587e-02, -3.20832343e-01,\n",
       "       -4.35017777e-01,  7.28737847e-02, -1.36190994e-01, -1.16247916e+00,\n",
       "       -8.10942209e-01,  8.60732331e-01, -2.16076013e-01,  1.62328443e+00,\n",
       "       -1.99561071e+00, -7.13182622e-01,  1.22190338e+00, -1.82917825e-02,\n",
       "        7.71069485e-01,  1.41019513e+00,  2.05983956e-02, -3.22050181e-02,\n",
       "        5.97313382e-01, -4.26355562e-01,  1.32048327e-01,  7.91852789e-01,\n",
       "       -1.41227001e+00,  1.88044985e+00, -6.26466287e-01,  6.10665535e-01,\n",
       "        2.64375622e+00, -9.68663756e-01,  8.96052653e-01,  9.29558250e-02,\n",
       "       -9.71722948e-01, -3.15745711e+00,  7.60114984e-01, -1.22913903e+00,\n",
       "        4.91824739e-02,  7.57854522e-01, -1.04057572e+00,  6.78468464e-01,\n",
       "       -6.71958114e-01,  2.89735186e-01, -1.78448652e+00, -2.20402005e-02,\n",
       "        1.01973370e+00, -8.96752135e-01, -1.00316534e-02,  1.64894362e+00,\n",
       "        1.69015444e+00,  8.13861946e-01, -4.02755538e-01,  1.47346510e-01,\n",
       "       -8.49807614e-01,  3.07589644e-02,  1.11153833e+00, -8.21912613e-01,\n",
       "        8.72763668e-01,  2.94104439e-01,  5.73605131e-01, -6.17549377e-01,\n",
       "        1.10390282e+00, -2.49377160e-02,  1.86493773e+00,  4.17098702e-01,\n",
       "       -7.15322730e-01, -1.11598095e+00,  2.25795648e+00,  1.20686035e+00,\n",
       "       -2.46294465e+00, -4.30744960e-01,  8.95887961e-02, -1.36872210e+00,\n",
       "       -1.47367876e-01,  8.70783569e-03,  1.59057226e+00,  9.63026030e-01,\n",
       "        1.57377081e+00, -5.62431345e-01,  3.64913991e-01,  3.78435946e-01,\n",
       "       -6.81775050e-02, -1.85613352e+00,  8.58265863e-01, -8.83558936e-01,\n",
       "        8.24825521e-02,  1.01383335e+00, -7.01074639e-02, -3.92801255e-02,\n",
       "       -7.85315299e-01,  7.57125064e-01, -9.36439659e-01, -1.03702936e-01,\n",
       "        1.10493813e+00, -6.82505206e-02,  2.26780605e+00, -5.56779310e-01,\n",
       "       -9.27358468e-01,  1.76549628e+00,  1.03085335e+00,  8.00879293e-01,\n",
       "        5.83025369e-01, -7.19552150e-01, -2.32080461e-01,  2.01004604e+00,\n",
       "        7.50707268e-01,  3.96170065e-01,  1.26606150e+00,  3.67036338e-02,\n",
       "        1.56615784e-01, -6.56197186e-01,  3.56221132e-01,  2.49390341e+00,\n",
       "       -4.06369196e-01,  8.40438618e-01, -1.20783752e-01, -1.77279477e+00,\n",
       "       -4.18822970e-01,  1.82588754e+00,  3.43449846e-01,  5.03164537e-01,\n",
       "        2.76083650e-01,  4.95691474e-01,  2.37321015e+00, -1.57586484e+00,\n",
       "        1.63091644e-01, -1.60189959e+00, -6.49443660e-01, -1.20088055e+00,\n",
       "        1.49432014e-01, -1.80013912e+00,  8.06818772e-01,  1.56165443e+00,\n",
       "        1.72228660e-01,  2.04454396e+00, -7.42071737e-01, -1.07649700e+00,\n",
       "        1.28417839e+00,  1.07830603e+00,  2.45126847e+00, -4.89084028e-01,\n",
       "        8.60869543e-01,  3.64476965e-01, -1.32925158e+00, -2.02497220e+00,\n",
       "        1.40691264e+00, -2.57016498e-01, -2.11714684e+00, -2.18180989e-01,\n",
       "       -1.04063482e+00,  7.99465545e-01, -1.56813355e+00,  1.40093518e+00,\n",
       "        6.24193883e-01,  3.78890041e+00, -4.86117143e-01, -1.03450932e+00,\n",
       "        1.41982931e+00, -1.23262154e+00, -9.01621791e-01, -8.03419101e-01,\n",
       "       -7.55413205e-01,  1.60210113e+00, -9.02041038e-01, -4.88601432e-01,\n",
       "        6.42117224e-01,  9.82906557e-01,  4.57865319e-01, -3.36068746e-01,\n",
       "       -5.09215587e-01,  3.76262195e-01, -7.46517698e-02, -1.61257957e+00,\n",
       "        8.10190232e-01,  1.14633435e+00, -6.38999853e-01,  5.81721983e-01,\n",
       "        9.68321264e-01,  1.19757078e-01, -3.67833396e-01, -1.91120138e+00,\n",
       "        1.06565811e-02, -5.57980804e-01,  1.09435500e+00, -6.48005745e-02,\n",
       "        7.31880739e-01, -1.31730970e+00, -1.16865432e+00, -1.82367056e-01,\n",
       "        7.04079725e-01, -3.22307200e-02, -5.12552188e-02,  3.17659592e-01,\n",
       "       -1.19144497e+00, -7.41838021e-01,  9.60870537e-01, -1.22265245e+00,\n",
       "        1.65003346e-01, -1.24760973e+00,  3.00999809e-01,  8.40618507e-01,\n",
       "       -8.54046004e-01, -2.42250565e+00, -7.65105162e-01,  7.77913425e-01,\n",
       "        1.75253261e+00, -2.13573263e-01,  6.79217418e-01, -5.48352708e-02,\n",
       "       -7.32677245e-01, -4.53494169e-01,  6.89671898e-01, -1.80189572e+00,\n",
       "       -9.06248287e-01,  5.36413276e-01, -6.49429269e-01,  5.05545598e-02,\n",
       "       -2.10526003e+00, -2.72318655e-01, -1.44406938e-01, -1.57847984e+00,\n",
       "       -9.61872390e-01,  1.50445004e+00, -8.06980072e-01,  8.41149016e-01,\n",
       "        2.57116315e+00, -1.24506035e+00,  5.35586869e-01, -8.95778441e-01,\n",
       "        2.98715806e+00, -5.86772780e-01,  3.67371909e-01, -2.03269576e-01,\n",
       "       -3.30352723e-01,  2.69249181e-01, -6.89294197e-01,  2.86348235e-01,\n",
       "       -2.67129160e-01, -1.20609639e+00,  1.44689800e-01,  9.40810857e-01,\n",
       "        4.25050828e-01,  4.11018129e-01, -1.57281484e+00,  1.58432826e-02,\n",
       "       -3.99542357e+00, -1.00703072e+00,  1.81763906e+00, -1.54587432e-01,\n",
       "        3.32375402e-01, -1.07457041e+00,  5.02406314e-02,  5.19924609e-01,\n",
       "        1.66629126e-01,  6.95160290e-01, -1.25946360e+00, -7.48204593e-01,\n",
       "       -8.91642805e-01, -1.90179262e-01,  3.26591343e-02,  1.48876048e+00,\n",
       "        3.13107301e-01,  8.38699802e-01, -2.94891365e-01, -4.61235667e-01,\n",
       "        5.78669796e-01, -2.20776883e+00, -8.62026577e-01, -1.17117986e+00,\n",
       "        4.16975519e-01,  1.84073079e+00, -6.55224404e-01, -8.22471763e-01,\n",
       "       -1.34983863e+00,  2.59632307e-01, -1.15212835e+00, -2.09756302e+00,\n",
       "       -1.98712610e-01, -2.80809678e-01,  3.87223790e-01, -1.24130017e+00,\n",
       "        1.78737795e-01,  1.55853668e+00, -1.10671997e+00,  1.27530667e+00,\n",
       "        5.15284756e-01,  1.15494066e+00,  7.00893764e-01, -2.01897687e+00,\n",
       "       -4.96550556e-01,  4.99297826e-01,  6.86552855e-01, -5.64433937e-01,\n",
       "        2.52417649e+00, -6.43985047e-01,  1.16291805e+00, -3.72656000e-01,\n",
       "        7.94685579e-02, -5.20639769e-01,  7.36043579e-01,  5.22874935e-01,\n",
       "        1.76060816e+00, -4.55048815e-01, -3.62454791e-01,  8.71034508e-01,\n",
       "        3.25622293e-01,  6.32316347e-01,  1.23233160e+00,  5.21296743e-01,\n",
       "       -6.23082046e-01, -3.94805887e-01,  7.78887045e-01, -2.22390890e+00,\n",
       "       -2.06569543e-02,  3.32962348e-01, -4.22937756e-01,  7.76322792e-01,\n",
       "       -6.70070569e-01,  1.06904485e+00, -4.03488529e-02,  5.00146352e-01,\n",
       "        1.01741421e+00, -7.98704109e-01,  6.35284260e-01, -4.84326609e-01,\n",
       "        1.29587938e-01, -9.42827055e-01,  6.80472370e-01,  1.20061436e+00,\n",
       "       -1.17735986e+00,  7.28002268e-01, -6.19448118e-01,  9.72320842e-01,\n",
       "        6.88627438e-01,  2.57729990e+00, -1.44117476e+00,  3.87723009e-01,\n",
       "        1.73387120e-01, -4.20081929e-01, -7.82350176e-01, -2.24353842e-01,\n",
       "       -8.05940745e-01, -6.60719126e-01,  4.72508778e-01, -7.80941369e-02,\n",
       "       -9.45534185e-01,  5.47009465e-01, -4.02983737e-01,  8.94246585e-01,\n",
       "       -3.94588783e-01, -1.14889133e+00,  2.62430041e-01,  5.88079853e-01,\n",
       "       -9.66610791e-01,  8.79885761e-01,  8.84123637e-01,  6.67770961e-02,\n",
       "       -7.58581419e-01,  1.26721526e+00, -5.80032464e-01,  7.17405664e-01,\n",
       "       -4.77569446e-01, -2.10355023e-01, -4.07436652e-01,  1.35154016e-01,\n",
       "       -5.89854493e-01, -1.12856461e+00, -2.77386763e-01,  5.82691148e-01,\n",
       "       -3.36932375e-01, -7.97932911e-01, -1.54797183e+00,  1.50971750e+00,\n",
       "        1.53488736e+00,  3.85623496e-01,  5.24156639e-01,  8.09626704e-01,\n",
       "       -3.54206829e-01,  7.50035086e-01,  1.80607535e-03, -5.45932611e-01,\n",
       "       -1.05129350e+00,  5.54886925e-01, -1.40729754e+00, -4.90153111e-01,\n",
       "        1.79022340e+00, -4.53521369e-01,  4.15612035e-01,  1.67086481e+00,\n",
       "       -1.65261914e+00,  1.03003570e+00,  3.02661421e-01,  3.91345092e-02,\n",
       "        1.25098876e+00,  2.25024638e+00, -8.56474301e-02,  6.34105933e-01,\n",
       "        2.05290501e-01,  7.14887491e-02, -1.25620697e+00,  8.35873074e-01,\n",
       "       -1.29031230e+00,  6.27749136e-01,  1.23705741e+00,  2.20059366e-01,\n",
       "       -7.08256267e-01, -5.00492499e-02,  1.36416901e+00,  1.18683554e+00,\n",
       "       -3.52561605e-01,  1.55617392e+00, -1.54886292e-01,  1.08413269e+00,\n",
       "       -5.30169724e-01, -3.35692093e-01,  9.04915652e-01,  2.40798968e-01,\n",
       "       -3.60914976e-01, -7.08115857e-01,  4.02758315e-01,  7.48679067e-02,\n",
       "       -5.46625565e-01,  1.57550556e+00,  2.57763250e-01, -1.39428002e+00,\n",
       "       -1.92656044e-01, -8.56858451e-01,  6.36567572e-01, -3.99386564e-01,\n",
       "        2.05341206e-01,  1.01014567e+00,  6.74143488e-01,  1.18592516e+00,\n",
       "       -2.74400841e-01,  1.11104868e+00, -6.37989864e-01, -1.77294201e-01,\n",
       "        4.38915540e-01, -1.13112773e-02,  4.04402996e-02,  5.62033741e-01,\n",
       "        4.47971179e-01,  2.73751037e+00,  1.38810594e-01,  7.22025579e-01,\n",
       "       -1.93906379e-01, -5.32292859e-01,  8.89788513e-01, -1.06645003e+00,\n",
       "        1.82761627e-01, -7.04606460e-01, -8.90988889e-01,  1.68006702e+00,\n",
       "       -2.34383381e-01, -4.07268846e-01,  1.17368236e+00,  6.56221776e-01,\n",
       "       -4.79557585e-01,  1.28960404e-01,  9.25172012e-01,  2.91847315e+00,\n",
       "       -1.36906810e+00, -1.46148406e+00, -5.91744385e-01, -1.24105711e+00,\n",
       "       -1.25629893e+00,  8.17794391e-01,  3.75011998e-01, -8.19617448e-01,\n",
       "        1.80436619e-01,  9.04172916e-01, -7.42976234e-02, -1.27550068e+00,\n",
       "       -1.98862076e-01, -1.24522326e+00, -4.32088200e-01, -1.17671145e+00,\n",
       "       -7.96281511e-02, -1.18889423e-01,  3.43504511e-01,  1.52654440e+00,\n",
       "        1.92090709e-01,  5.22660209e-01,  6.05579436e-01, -6.72401500e-01,\n",
       "        8.53227826e-01, -4.30634325e-01,  1.21462746e+00,  7.40957848e-01,\n",
       "       -1.09050903e+00, -1.26129681e+00, -4.53207306e-01,  3.35012043e-01,\n",
       "       -6.98445533e-01, -7.41052910e-01, -1.30085973e+00, -7.14226638e-01,\n",
       "       -3.53247882e-01,  1.51843988e+00, -3.33827508e-01,  1.97581360e+00,\n",
       "       -1.97591684e+00, -1.33195511e+00,  1.47557217e+00,  1.40141448e+00,\n",
       "        3.80126898e-01, -1.46064966e-01,  1.00416961e-01, -1.67577006e+00,\n",
       "       -1.39479491e+00, -2.36681776e+00,  1.86300257e+00, -1.32265062e+00,\n",
       "       -1.31660131e-01, -1.23567727e+00, -1.64380562e+00,  6.51706793e-01,\n",
       "        1.48468346e+00, -9.89925716e-02, -6.71441980e-01,  2.56488490e-01,\n",
       "       -7.00857868e-01,  2.98499779e+00, -5.38373988e-01, -3.47822088e-01,\n",
       "        1.72244659e+00,  6.73177034e-01,  1.11672007e+00,  1.65600771e+00,\n",
       "       -1.28962176e+00,  5.41964540e-01,  3.68500735e-01, -4.45632853e-01,\n",
       "        5.90444473e-02, -5.98465289e-01, -4.57094569e-01, -1.53426825e+00,\n",
       "       -2.42243402e-01, -6.97636305e-01, -1.69648349e-01,  1.17946396e-01,\n",
       "       -3.29083306e-01,  8.74910287e-01,  8.31695492e-01,  4.42869551e-01,\n",
       "        2.93193850e-01, -5.56924909e-01, -1.30491950e+00,  2.74254184e-02,\n",
       "       -6.53187446e-01, -8.78920853e-01, -4.95662680e-01,  5.46238434e-01,\n",
       "        1.36203101e+00, -2.97462090e+00,  1.02390717e+00, -8.66896029e-01,\n",
       "        5.50120623e-01, -5.11989521e-02,  1.49083781e+00, -8.88043604e-01,\n",
       "        2.87657925e-01, -9.24073224e-01, -8.03830335e-01,  2.20782023e+00,\n",
       "        4.76239272e-01, -1.63674372e+00,  8.43494746e-02,  3.42465877e-02,\n",
       "       -1.82978975e+00, -7.94405908e-01,  1.96633555e+00, -3.12659100e-02,\n",
       "        4.27383347e-01,  2.26287328e-01,  1.27759373e+00,  1.20715356e+00,\n",
       "       -1.38541096e+00,  1.29526335e+00, -1.13976621e+00,  1.69044367e+00,\n",
       "        5.76692580e-01,  3.60591190e-01,  8.63083731e-01,  1.56303288e+00,\n",
       "        9.10556334e-01,  6.67899759e-02,  8.90583880e-01, -4.68786476e-01,\n",
       "       -1.76057626e+00,  1.40469911e+00,  5.99887935e-01, -4.32336687e-01,\n",
       "        1.29114809e-02,  1.35886354e+00,  1.15868811e-01, -1.15209602e+00,\n",
       "       -4.80278888e-01, -9.08453493e-01,  6.41286602e-01,  3.14762084e-01,\n",
       "        9.53082406e-01, -2.02920777e+00, -2.78367473e-01, -8.93394234e-01,\n",
       "       -2.15603875e-01, -1.92276648e+00, -1.23122830e+00,  1.64588653e-02,\n",
       "       -6.95964281e-01,  7.04575629e-01,  6.63620228e-01, -1.79184954e+00,\n",
       "       -5.36093155e-01, -7.26269617e-01,  3.00097427e-01, -7.29543716e-01,\n",
       "        1.11027716e+00, -1.71237145e+00,  7.85004619e-02, -4.23625960e-01,\n",
       "        5.34546744e-01, -1.04099974e+00, -1.26638789e-01, -3.99130081e-01,\n",
       "        6.47427830e-01,  1.93027950e+00, -7.79434071e-01, -2.33925968e-01,\n",
       "        9.29924309e-02,  1.13803248e-01, -8.99290494e-01, -1.14294969e+00,\n",
       "        1.21404102e-01,  1.47231733e+00,  7.82534137e-01,  1.80479378e-01,\n",
       "       -1.94372099e+00,  4.40581632e-01,  1.34043666e+00,  8.90933081e-01,\n",
       "       -9.09217148e-02, -3.03084809e-02,  3.40200118e-01, -3.23701247e-01,\n",
       "       -1.06321333e+00,  2.78856785e-01,  1.61248343e+00, -3.69287709e-01,\n",
       "        9.87899589e-01, -3.99453165e-01,  1.10719635e+00, -1.18431142e+00,\n",
       "        2.43258284e+00, -2.84378796e-01, -4.49016070e-01,  1.31061226e-01,\n",
       "       -4.04565970e-01,  1.12288358e+00, -2.83351338e-01,  5.99584381e-01,\n",
       "       -2.18536235e-01, -1.35740571e+00,  4.00339759e-02, -2.44356188e+00,\n",
       "       -1.51252245e+00,  5.74418951e-01, -2.03786891e-01, -6.74283140e-01,\n",
       "       -4.72043684e-01,  2.33638587e+00, -1.55964533e+00, -7.38331824e-01,\n",
       "        1.06052527e+00,  6.08009704e-01, -1.72076253e+00,  1.95391924e+00,\n",
       "        2.35000089e-01,  6.88571469e-01,  3.65435502e-01,  1.61062344e+00,\n",
       "        3.11054516e-01,  9.84481337e-01, -1.11011162e+00,  4.59754151e-01,\n",
       "        2.07074563e-01,  1.02169325e+00,  3.78672518e-01, -6.50170492e-02,\n",
       "       -3.18006220e-01, -1.34188894e+00, -2.86341543e-01,  1.06682223e+00,\n",
       "        4.14168533e-01,  1.23440803e+00, -6.60547110e-01,  7.11068576e-01,\n",
       "        9.61692727e-01, -1.84096251e+00,  3.01540974e-01, -1.05191779e-01,\n",
       "       -6.95688339e-01,  2.01537267e+00,  9.66309447e-01, -1.51492640e+00,\n",
       "        1.70014971e+00,  1.91271647e+00,  1.44625753e-01, -2.83366491e-01,\n",
       "       -5.23697655e-01,  6.80095370e-01,  9.31069457e-02, -1.44090803e-01,\n",
       "        8.27801764e-01,  4.90752783e-01,  1.95826472e+00,  2.71209325e-01,\n",
       "       -6.92674898e-01,  2.83442477e-01,  1.06543556e+00, -1.85403879e-01,\n",
       "       -1.29876497e+00,  9.20955355e-01,  1.74480609e+00,  5.60207628e-01,\n",
       "       -6.60648419e-01, -9.67839038e-02, -3.96542048e-01, -8.17801505e-01,\n",
       "       -5.41913823e-01,  2.46343105e-01,  2.28127986e+00, -1.26039497e-01,\n",
       "        3.49651137e-01, -2.20620575e+00, -6.85019459e-01, -6.90596611e-01,\n",
       "        1.57813187e+00,  5.34671400e-01, -1.64712070e+00, -6.77368479e-01,\n",
       "       -7.73767240e-01, -1.19472672e+00,  1.29913080e+00,  8.70015356e-01,\n",
       "       -6.35812929e-01, -4.27270754e-01, -3.78604426e-01, -1.47444652e+00,\n",
       "        9.23595850e-01, -2.94164733e-01, -8.46849018e-01,  5.03245918e-01,\n",
       "        8.56541334e-01,  5.60123638e-01, -5.75598542e-01, -3.43534166e-01,\n",
       "       -7.57737131e-01,  1.06405241e+00,  6.82283799e-01, -6.92226126e-01,\n",
       "       -1.73148270e-01,  5.97037718e-01,  1.88377257e+00, -2.21243268e+00,\n",
       "       -9.59328712e-01, -5.84716116e-01, -1.19572948e+00,  1.34894191e+00,\n",
       "       -2.57702925e+00,  1.03896479e+00, -3.38347394e-01,  4.75734732e-01,\n",
       "        2.67350302e-01, -2.33187523e+00,  4.58915999e-01, -1.03994695e+00,\n",
       "       -1.91545125e-01,  1.65048888e+00, -4.08636518e-03, -7.73892048e-01,\n",
       "       -5.50477314e-01, -5.40455586e-01, -7.58653112e-01, -1.44286502e-01,\n",
       "       -6.50377033e-01, -7.35042967e-01, -8.42746253e-02,  3.64999377e-01,\n",
       "        1.05474097e-02,  1.46513095e-01, -1.47841882e+00, -1.33876046e+00,\n",
       "       -2.90518107e-01,  5.63061478e-02, -7.55190636e-02, -2.50865192e+00,\n",
       "       -2.08970620e-01, -7.76129094e-01,  1.57384137e+00, -1.49490139e-01,\n",
       "       -8.93662835e-01,  9.44973701e-01, -9.13192970e-02, -5.96464350e-01,\n",
       "        2.76699401e-01, -1.46316996e+00, -1.28432451e+00, -1.08946202e+00,\n",
       "       -3.45825790e-01, -7.91903509e-01,  2.02311100e-01,  1.31861151e+00,\n",
       "        9.61944530e-01, -9.03420053e-01,  7.66568050e-01, -3.30727308e-01,\n",
       "       -2.61499828e-01,  1.19369454e+00,  1.63680178e-01, -2.68716868e-01,\n",
       "       -3.18976452e-01, -6.37719024e-01,  1.81883191e+00,  5.91522326e-01,\n",
       "       -1.55494307e+00, -6.19249848e-01,  4.50959530e-01, -1.95059901e+00,\n",
       "       -6.90623333e-01, -6.58559765e-01,  1.02510008e-01, -1.42553234e-01,\n",
       "       -1.08847266e+00, -6.46073266e-01, -3.51427512e-02,  1.42388573e-02,\n",
       "       -1.69241600e-01,  2.09374852e+00, -5.29099328e-01,  1.35850899e+00])"
      ]
     },
     "execution_count": 3,
     "metadata": {},
     "output_type": "execute_result"
    }
   ],
   "source": [
    "data"
   ]
  },
  {
   "cell_type": "code",
   "execution_count": 4,
   "metadata": {},
   "outputs": [
    {
     "name": "stderr",
     "output_type": "stream",
     "text": [
      "D:\\Anaconda\\lib\\site-packages\\scipy\\stats\\stats.py:1713: FutureWarning: Using a non-tuple sequence for multidimensional indexing is deprecated; use `arr[tuple(seq)]` instead of `arr[seq]`. In the future this will be interpreted as an array index, `arr[np.array(seq)]`, which will result either in an error or a different result.\n",
      "  return np.add.reduce(sorted[indexer] * weights, axis=axis) / sumval\n"
     ]
    },
    {
     "data": {
      "image/png": "[encoded data removed]",
      "text/plain": [
       "<Figure size 432x288 with 1 Axes>"
      ]
     },
     "metadata": {
      "needs_background": "light"
     },
     "output_type": "display_data"
    }
   ],
   "source": [
    "#画一个简单的密度图\n",
    "sns.kdeplot(data);"
   ]
  },
  {
   "cell_type": "code",
   "execution_count": 7,
   "metadata": {},
   "outputs": [
    {
     "name": "stderr",
     "output_type": "stream",
     "text": [
      "D:\\Anaconda\\lib\\site-packages\\scipy\\stats\\stats.py:1713: FutureWarning: Using a non-tuple sequence for multidimensional indexing is deprecated; use `arr[tuple(seq)]` instead of `arr[seq]`. In the future this will be interpreted as an array index, `arr[np.array(seq)]`, which will result either in an error or a different result.\n",
      "  return np.add.reduce(sorted[indexer] * weights, axis=axis) / sumval\n"
     ]
    },
    {
     "data": {
      "image/png": "[encoded data removed]",
      "text/plain": [
       "<Figure size 432x288 with 1 Axes>"
      ]
     },
     "metadata": {
      "needs_background": "light"
     },
     "output_type": "display_data"
    }
   ],
   "source": [
    "#给密度图添加一些简单装饰\n",
    "sns.kdeplot(data\n",
    "            ,shade=True       #填充曲线下阴影的控制参数\n",
    "            #,vertical=True\n",
    "            ,color='r'   #控制颜色\n",
    "            #,alpha=0.8  #控制颜色的色彩饱和度\n",
    "            ,linewidth=3\n",
    "            ,linestyle='--'\n",
    "           );"
   ]
  },
  {
   "cell_type": "code",
   "execution_count": 7,
   "metadata": {},
   "outputs": [
    {
     "data": {
      "image/png": "[encoded data removed]",
      "text/plain": [
       "<Figure size 432x288 with 1 Axes>"
      ]
     },
     "metadata": {
      "needs_background": "light"
     },
     "output_type": "display_data"
    }
   ],
   "source": [
    "plt.hist(data);"
   ]
  },
  {
   "cell_type": "markdown",
   "metadata": {},
   "source": [
    "### 3.认识所用数据集"
   ]
  },
  {
   "cell_type": "code",
   "execution_count": 8,
   "metadata": {},
   "outputs": [],
   "source": [
    "#导入数据\n",
    "df = pd.read_csv(\"data/mpg_ggplot2.csv\")"
   ]
  },
  {
   "cell_type": "code",
   "execution_count": 9,
   "metadata": {},
   "outputs": [
    {
     "data": {
      "text/html": [
       "<div>\n",
       "<style scoped>\n",
       "    .dataframe tbody tr th:only-of-type {\n",
       "        vertical-align: middle;\n",
       "    }\n",
       "\n",
       "    .dataframe tbody tr th {\n",
       "        vertical-align: top;\n",
       "    }\n",
       "\n",
       "    .dataframe thead th {\n",
       "        text-align: right;\n",
       "    }\n",
       "</style>\n",
       "<table border=\"1\" class=\"dataframe\">\n",
       "  <thead>\n",
       "    <tr style=\"text-align: right;\">\n",
       "      <th></th>\n",
       "      <th>manufacturer</th>\n",
       "      <th>model</th>\n",
       "      <th>displ</th>\n",
       "      <th>year</th>\n",
       "      <th>cyl</th>\n",
       "      <th>trans</th>\n",
       "      <th>drv</th>\n",
       "      <th>cty</th>\n",
       "      <th>hwy</th>\n",
       "      <th>fl</th>\n",
       "      <th>class</th>\n",
       "    </tr>\n",
       "  </thead>\n",
       "  <tbody>\n",
       "    <tr>\n",
       "      <th>0</th>\n",
       "      <td>audi</td>\n",
       "      <td>a4</td>\n",
       "      <td>1.8</td>\n",
       "      <td>1999</td>\n",
       "      <td>4</td>\n",
       "      <td>auto(l5)</td>\n",
       "      <td>f</td>\n",
       "      <td>18</td>\n",
       "      <td>29</td>\n",
       "      <td>p</td>\n",
       "      <td>compact</td>\n",
       "    </tr>\n",
       "    <tr>\n",
       "      <th>1</th>\n",
       "      <td>audi</td>\n",
       "      <td>a4</td>\n",
       "      <td>1.8</td>\n",
       "      <td>1999</td>\n",
       "      <td>4</td>\n",
       "      <td>manual(m5)</td>\n",
       "      <td>f</td>\n",
       "      <td>21</td>\n",
       "      <td>29</td>\n",
       "      <td>p</td>\n",
       "      <td>compact</td>\n",
       "    </tr>\n",
       "    <tr>\n",
       "      <th>2</th>\n",
       "      <td>audi</td>\n",
       "      <td>a4</td>\n",
       "      <td>2.0</td>\n",
       "      <td>2008</td>\n",
       "      <td>4</td>\n",
       "      <td>manual(m6)</td>\n",
       "      <td>f</td>\n",
       "      <td>20</td>\n",
       "      <td>31</td>\n",
       "      <td>p</td>\n",
       "      <td>compact</td>\n",
       "    </tr>\n",
       "    <tr>\n",
       "      <th>3</th>\n",
       "      <td>audi</td>\n",
       "      <td>a4</td>\n",
       "      <td>2.0</td>\n",
       "      <td>2008</td>\n",
       "      <td>4</td>\n",
       "      <td>auto(av)</td>\n",
       "      <td>f</td>\n",
       "      <td>21</td>\n",
       "      <td>30</td>\n",
       "      <td>p</td>\n",
       "      <td>compact</td>\n",
       "    </tr>\n",
       "    <tr>\n",
       "      <th>4</th>\n",
       "      <td>audi</td>\n",
       "      <td>a4</td>\n",
       "      <td>2.8</td>\n",
       "      <td>1999</td>\n",
       "      <td>6</td>\n",
       "      <td>auto(l5)</td>\n",
       "      <td>f</td>\n",
       "      <td>16</td>\n",
       "      <td>26</td>\n",
       "      <td>p</td>\n",
       "      <td>compact</td>\n",
       "    </tr>\n",
       "  </tbody>\n",
       "</table>\n",
       "</div>"
      ],
      "text/plain": [
       "  manufacturer model  displ  year  cyl       trans drv  cty  hwy fl    class\n",
       "0         audi    a4    1.8  1999    4    auto(l5)   f   18   29  p  compact\n",
       "1         audi    a4    1.8  1999    4  manual(m5)   f   21   29  p  compact\n",
       "2         audi    a4    2.0  2008    4  manual(m6)   f   20   31  p  compact\n",
       "3         audi    a4    2.0  2008    4    auto(av)   f   21   30  p  compact\n",
       "4         audi    a4    2.8  1999    6    auto(l5)   f   16   26  p  compact"
      ]
     },
     "execution_count": 9,
     "metadata": {},
     "output_type": "execute_result"
    }
   ],
   "source": [
    "df.head()"
   ]
  },
  {
   "cell_type": "code",
   "execution_count": 10,
   "metadata": {},
   "outputs": [
    {
     "data": {
      "text/plain": [
       "(234, 11)"
      ]
     },
     "execution_count": 10,
     "metadata": {},
     "output_type": "execute_result"
    }
   ],
   "source": [
    "df.shape"
   ]
  },
  {
   "cell_type": "code",
   "execution_count": 12,
   "metadata": {},
   "outputs": [
    {
     "data": {
      "text/plain": [
       "Index(['manufacturer', 'model', 'displ', 'year', 'cyl', 'trans', 'drv', 'cty',\n",
       "       'hwy', 'fl', 'class'],\n",
       "      dtype='object')"
      ]
     },
     "execution_count": 12,
     "metadata": {},
     "output_type": "execute_result"
    }
   ],
   "source": [
    "df.columns"
   ]
  },
  {
   "cell_type": "code",
   "execution_count": 11,
   "metadata": {},
   "outputs": [],
   "source": [
    "name = [\"汽车制造商\",\"型号名称\",\"发动机排量(L)\",\"制造年份\",\"气缸数量\",\"手动/自动\"\n",
    "              ,\"驱动类型\",\"城市里程/加仑\",\"公路里程/加仑\",\"汽油种类\",\"车辆类型\"]"
   ]
  },
  {
   "cell_type": "code",
   "execution_count": 12,
   "metadata": {},
   "outputs": [
    {
     "data": {
      "text/plain": [
       "<zip at 0xa831c88>"
      ]
     },
     "execution_count": 12,
     "metadata": {},
     "output_type": "execute_result"
    }
   ],
   "source": [
    "zip(df.columns,np.array(name))"
   ]
  },
  {
   "cell_type": "code",
   "execution_count": 13,
   "metadata": {},
   "outputs": [
    {
     "data": {
      "text/plain": [
       "[('manufacturer', '汽车制造商'),\n",
       " ('model', '型号名称'),\n",
       " ('displ', '发动机排量(L)'),\n",
       " ('year', '制造年份'),\n",
       " ('cyl', '气缸数量'),\n",
       " ('trans', '手动/自动'),\n",
       " ('drv', '驱动类型'),\n",
       " ('cty', '城市里程/加仑'),\n",
       " ('hwy', '公路里程/加仑'),\n",
       " ('fl', '汽油种类'),\n",
       " ('class', '车辆类型')]"
      ]
     },
     "execution_count": 13,
     "metadata": {},
     "output_type": "execute_result"
    }
   ],
   "source": [
    "[*zip(df.columns,np.array(name))]"
   ]
  },
  {
   "cell_type": "markdown",
   "metadata": {},
   "source": [
    "### 4.绘制密度图   \n",
    "今天绘制的目标图形是城市里程随气缸数变化的密度图"
   ]
  },
  {
   "cell_type": "code",
   "execution_count": 14,
   "metadata": {},
   "outputs": [
    {
     "data": {
      "text/plain": [
       "array([18, 21, 20, 21, 16, 18, 18, 18, 16, 20, 19, 15, 17, 17, 15, 15, 17,\n",
       "       16, 14, 11, 14, 13, 12, 16, 15, 16, 15, 15, 14, 11, 11, 14, 19, 22,\n",
       "       18, 18, 17, 18, 17, 16, 16, 17, 17, 11, 15, 15, 16, 16, 15, 14, 13,\n",
       "       14, 14, 14,  9, 11, 11, 13, 13,  9, 13, 11, 13, 11, 12,  9, 13, 13,\n",
       "       12,  9, 11, 11, 13, 11, 11, 11, 12, 14, 15, 14, 13, 13, 13, 14, 14,\n",
       "       13, 13, 13, 11, 13, 18, 18, 17, 16, 15, 15, 15, 15, 14, 28, 24, 25,\n",
       "       23, 24, 26, 25, 24, 21, 18, 18, 21, 21, 18, 18, 19, 19, 19, 20, 20,\n",
       "       17, 16, 17, 17, 15, 15, 14,  9, 14, 13, 11, 11, 12, 12, 11, 11, 11,\n",
       "       12, 14, 13, 13, 13, 21, 19, 23, 23, 19, 19, 18, 19, 19, 14, 15, 14,\n",
       "       12, 18, 16, 17, 18, 16, 18, 18, 20, 19, 20, 18, 21, 19, 19, 19, 20,\n",
       "       20, 19, 20, 15, 16, 15, 15, 16, 14, 21, 21, 21, 21, 18, 18, 19, 21,\n",
       "       21, 21, 22, 18, 18, 18, 24, 24, 26, 28, 26, 11, 13, 15, 16, 17, 15,\n",
       "       15, 15, 16, 21, 19, 21, 22, 17, 33, 21, 19, 22, 21, 21, 21, 16, 17,\n",
       "       35, 29, 21, 19, 20, 20, 21, 18, 19, 21, 16, 18, 17], dtype=int64)"
      ]
     },
     "execution_count": 14,
     "metadata": {},
     "output_type": "execute_result"
    }
   ],
   "source": [
    "#首先我们一起来看一下城市里程\n",
    "df.cty.values"
   ]
  },
  {
   "cell_type": "code",
   "execution_count": 15,
   "metadata": {},
   "outputs": [
    {
     "data": {
      "text/plain": [
       "4    81\n",
       "6    79\n",
       "8    70\n",
       "5     4\n",
       "Name: cyl, dtype: int64"
      ]
     },
     "execution_count": 15,
     "metadata": {},
     "output_type": "execute_result"
    }
   ],
   "source": [
    "#气缸数\n",
    "df.cyl.value_counts()  #可以看出气缸数有4种类型：4缸、5缸、6缸、8缸"
   ]
  },
  {
   "cell_type": "markdown",
   "metadata": {},
   "source": [
    "绘制气缸数为4的城市里程密度图"
   ]
  },
  {
   "cell_type": "code",
   "execution_count": 16,
   "metadata": {},
   "outputs": [
    {
     "data": {
      "text/plain": [
       "array([18, 21, 20, 21, 18, 16, 20, 19, 19, 22, 18, 28, 24, 25, 23, 24, 26,\n",
       "       25, 24, 21, 18, 18, 21, 21, 19, 19, 20, 20, 21, 19, 23, 23, 18, 18,\n",
       "       20, 19, 20, 18, 21, 19, 19, 19, 20, 20, 19, 20, 15, 16, 21, 21, 21,\n",
       "       21, 21, 21, 21, 22, 24, 24, 26, 28, 26, 15, 16, 17, 21, 19, 21, 22,\n",
       "       33, 21, 19, 22, 21, 35, 29, 21, 19, 21, 18, 19, 21], dtype=int64)"
      ]
     },
     "execution_count": 16,
     "metadata": {},
     "output_type": "execute_result"
    }
   ],
   "source": [
    "df.loc[df.cyl==4,'cty'].values"
   ]
  },
  {
   "cell_type": "code",
   "execution_count": 17,
   "metadata": {},
   "outputs": [
    {
     "data": {
      "text/plain": [
       "array([18, 21, 20, 21, 18, 16, 20, 19, 19, 22, 18, 28, 24, 25, 23, 24, 26,\n",
       "       25, 24, 21, 18, 18, 21, 21, 19, 19, 20, 20, 21, 19, 23, 23, 18, 18,\n",
       "       20, 19, 20, 18, 21, 19, 19, 19, 20, 20, 19, 20, 15, 16, 21, 21, 21,\n",
       "       21, 21, 21, 21, 22, 24, 24, 26, 28, 26, 15, 16, 17, 21, 19, 21, 22,\n",
       "       33, 21, 19, 22, 21, 35, 29, 21, 19, 21, 18, 19, 21], dtype=int64)"
      ]
     },
     "execution_count": 17,
     "metadata": {},
     "output_type": "execute_result"
    }
   ],
   "source": [
    "#筛选出气缸数为4的城市里程\n",
    "c4 = df.loc[df.cyl==4,'cty'].values\n",
    "c4"
   ]
  },
  {
   "cell_type": "code",
   "execution_count": 18,
   "metadata": {},
   "outputs": [
    {
     "name": "stderr",
     "output_type": "stream",
     "text": [
      "D:\\Anaconda\\lib\\site-packages\\scipy\\stats\\stats.py:1713: FutureWarning: Using a non-tuple sequence for multidimensional indexing is deprecated; use `arr[tuple(seq)]` instead of `arr[seq]`. In the future this will be interpreted as an array index, `arr[np.array(seq)]`, which will result either in an error or a different result.\n",
      "  return np.add.reduce(sorted[indexer] * weights, axis=axis) / sumval\n"
     ]
    },
    {
     "data": {
      "image/png": "[encoded data removed]",
      "text/plain": [
       "<Figure size 432x288 with 1 Axes>"
      ]
     },
     "metadata": {
      "needs_background": "light"
     },
     "output_type": "display_data"
    }
   ],
   "source": [
    "#绘制图形\n",
    "sns.kdeplot(c4\n",
    "            ,shade=True\n",
    "            ,color='r'\n",
    "            ,alpha=0.3\n",
    "            ,label='Cyl=4'\n",
    "           );"
   ]
  },
  {
   "cell_type": "markdown",
   "metadata": {},
   "source": [
    "同样的方法可以依次绘制出5缸、6缸、8缸的城市里程密度图"
   ]
  },
  {
   "cell_type": "code",
   "execution_count": 22,
   "metadata": {},
   "outputs": [
    {
     "name": "stderr",
     "output_type": "stream",
     "text": [
      "D:\\Anaconda\\lib\\site-packages\\scipy\\stats\\stats.py:1713: FutureWarning: Using a non-tuple sequence for multidimensional indexing is deprecated; use `arr[tuple(seq)]` instead of `arr[seq]`. In the future this will be interpreted as an array index, `arr[np.array(seq)]`, which will result either in an error or a different result.\n",
      "  return np.add.reduce(sorted[indexer] * weights, axis=axis) / sumval\n"
     ]
    },
    {
     "data": {
      "image/png": "[encoded data removed]",
      "text/plain": [
       "<Figure size 720x480 with 1 Axes>"
      ]
     },
     "metadata": {
      "needs_background": "light"
     },
     "output_type": "display_data"
    }
   ],
   "source": [
    "#提取绘图数据\n",
    "c4 = df.loc[df.cyl==4,'cty'].values\n",
    "c5 = df.loc[df.cyl==5,'cty'].values\n",
    "c6 = df.loc[df.cyl==6,'cty'].values\n",
    "c8 = df.loc[df.cyl==8,'cty'].values\n",
    "\n",
    "#创建画布并设定画布尺寸\n",
    "plt.figure(figsize=(12,8),dpi=60)\n",
    "\n",
    "#绘制图形\n",
    "sns.kdeplot(c4,shade=True,color='deeppink',alpha=0.6,label='Cyl = 4')\n",
    "sns.kdeplot(c5,shade=True,color='green',alpha=0.6,label='Cyl = 5')\n",
    "sns.kdeplot(c6,shade=True,color='blue',alpha=0.6,label='Cyl = 6')\n",
    "sns.kdeplot(c8,shade=True,color='orange',alpha=0.6,label='Cyl = 8')\n",
    "\n",
    "#添加装饰\n",
    "plt.title('城市里程随气缸数变化密度图',fontsize=20)\n",
    "plt.xlabel('城市里程（cty）',fontsize=18)\n",
    "plt.xticks(fontsize=15)\n",
    "plt.yticks(fontsize=15)\n",
    "plt.legend(fontsize=13,loc=0,frameon=False);"
   ]
  },
  {
   "cell_type": "code",
   "execution_count": 23,
   "metadata": {},
   "outputs": [
    {
     "name": "stderr",
     "output_type": "stream",
     "text": [
      "D:\\Anaconda\\lib\\site-packages\\scipy\\stats\\stats.py:1713: FutureWarning: Using a non-tuple sequence for multidimensional indexing is deprecated; use `arr[tuple(seq)]` instead of `arr[seq]`. In the future this will be interpreted as an array index, `arr[np.array(seq)]`, which will result either in an error or a different result.\n",
      "  return np.add.reduce(sorted[indexer] * weights, axis=axis) / sumval\n"
     ]
    },
    {
     "data": {
      "image/png": "[encoded data removed]",
      "text/plain": [
       "<Figure size 720x480 with 1 Axes>"
      ]
     },
     "metadata": {
      "needs_background": "light"
     },
     "output_type": "display_data"
    }
   ],
   "source": [
    "#源代码\n",
    "\n",
    "# Import Data\n",
    "df = pd.read_csv(\"data/mpg_ggplot2.csv\") #导入数据集\n",
    "\n",
    "# Draw Plot\n",
    "plt.figure(figsize=(12,8), dpi= 60) #创建画布并设定画布大小\n",
    "sns.kdeplot(df.loc[df['cyl'] == 4, \"cty\"], shade=True, color=\"g\", label=\"Cyl=4\", alpha=.7)           #绘制气缸数为4的密度曲线\n",
    "sns.kdeplot(df.loc[df['cyl'] == 5, \"cty\"], shade=True, color=\"deeppink\", label=\"Cyl=5\", alpha=.7)    #绘制气缸数为5的密度曲线\n",
    "sns.kdeplot(df.loc[df['cyl'] == 6, \"cty\"], shade=True, color=\"dodgerblue\", label=\"Cyl=6\", alpha=.7)  #绘制气缸数为6的密度曲线\n",
    "sns.kdeplot(df.loc[df['cyl'] == 8, \"cty\"], shade=True, color=\"orange\", label=\"Cyl=8\", alpha=.7)      #绘制气缸数为8的密度曲线\n",
    "\n",
    "# Decoration\n",
    "plt.title('Density Plot of City Mileage by n_Cylinders', fontsize=22) #添加标题\n",
    "plt.legend(frameon=False) #添加图例\n",
    "plt.show()   #本地显示图形"
   ]
  },
  {
   "cell_type": "markdown",
   "metadata": {},
   "source": [
    "### 5. 图像解读"
   ]
  },
  {
   "cell_type": "markdown",
   "metadata": {},
   "source": [
    "#### 看分布"
   ]
  },
  {
   "cell_type": "markdown",
   "metadata": {},
   "source": [
    "### <font color=bule> 23/50 直方密度曲线图（Density Curves with Histogram）"
   ]
  },
  {
   "cell_type": "markdown",
   "metadata": {},
   "source": [
    "直方密度曲线图其实就是直方图和密度图的结合，把两种图放在同一个图形里面。所以我们可以从这一个图里面同时看到直方图和密度图两个图传达出来的信息"
   ]
  },
  {
   "cell_type": "markdown",
   "metadata": {},
   "source": [
    "<img src='http://pictes.oss-cn-beijing.aliyuncs.com/microclass-virtualisation/week4%20Distribution/%E7%9B%B4%E6%96%B9%E5%AF%86%E5%BA%A6%E7%BA%BF%E5%9B%BE.png' width=500>"
   ]
  },
  {
   "cell_type": "markdown",
   "metadata": {},
   "source": [
    "横坐标：城市里程   \n",
    "纵坐标：概率密度   \n",
    "图例：汽车类型   "
   ]
  },
  {
   "cell_type": "markdown",
   "metadata": {},
   "source": [
    "### 1.导入相应的绘图包"
   ]
  },
  {
   "cell_type": "code",
   "execution_count": 1,
   "metadata": {},
   "outputs": [],
   "source": [
    "import pandas as pd\n",
    "import numpy as np\n",
    "import seaborn as sns\n",
    "import matplotlib.pyplot as plt\n",
    "%matplotlib inline\n",
    "#如果用jupyter notebook则需要这行代码让你的图像显示，如果是jupyterlab则不需要\n",
    "\n",
    "plt.rcParams['font.sans-serif']=['Simhei'] #显示中文\n",
    "plt.rcParams['axes.unicode_minus']=False   #显示负号"
   ]
  },
  {
   "cell_type": "markdown",
   "metadata": {},
   "source": [
    "### 2. 认识绘制直方密度曲线图的函数"
   ]
  },
  {
   "cell_type": "markdown",
   "metadata": {},
   "source": [
    "**sns.distplot()**\n",
    "> 重要参数   \n",
    ">> a：绘制图形的数据   \n",
    ">> bins：直方图参数,把数据分成多少个箱子   \n",
    ">> hist：控制直方图显示的参数（True/False,默认是True）   \n",
    ">> kde：控制密度曲线显示的参数（True/False,默认是True）    \n",
    ">> hist_kws：直方图控制参数  \n",
    ">> kde_kws：密度图控制参数  "
   ]
  },
  {
   "cell_type": "markdown",
   "metadata": {},
   "source": [
    "#### 绘制简单的直方密度曲线图"
   ]
  },
  {
   "cell_type": "code",
   "execution_count": 2,
   "metadata": {},
   "outputs": [],
   "source": [
    "#创建100个满足正态分布的数据\n",
    "X = np.random.randn(100)"
   ]
  },
  {
   "cell_type": "code",
   "execution_count": 3,
   "metadata": {},
   "outputs": [
    {
     "data": {
      "text/plain": [
       "array([ 0.61250908,  1.05217208, -0.04533961, -1.70040041,  0.18470593,\n",
       "        1.03118022, -0.72220456,  0.57306419, -1.9768683 ,  1.18601828,\n",
       "       -0.33835056,  0.58408009,  0.57617869,  1.70157899,  1.07067758,\n",
       "        0.41135862,  0.81590964,  0.43809111,  0.70600511, -0.74052621,\n",
       "        0.51817708, -0.35937174, -0.30356366, -1.89454244,  0.72917115,\n",
       "        1.09242681,  0.78290279, -0.58485278,  1.55560506,  0.5756382 ,\n",
       "        1.61688993,  1.07401647,  1.90942082, -1.35612051,  1.09375191,\n",
       "       -0.98048532, -0.15078804,  0.75981013,  0.8315625 , -0.12192692,\n",
       "        1.88218669, -1.1449066 , -0.43771444,  1.05141371,  0.32233945,\n",
       "       -0.30499131,  0.08113158,  0.28415047, -1.44580089,  0.23195859,\n",
       "        1.11815324, -0.29280238,  0.60100482, -1.48062664, -0.95600848,\n",
       "       -0.01988271,  0.60609689, -1.90270796, -0.76252284,  0.83903644,\n",
       "       -0.80836947, -0.63544426,  2.03183553,  0.48618348,  0.83888957,\n",
       "       -1.2668462 , -0.86219997,  0.26532019, -0.69989603, -0.38728911,\n",
       "        0.76338087, -0.49270007,  0.35911201,  2.90006648,  0.3211081 ,\n",
       "       -0.06161516, -0.8090654 , -0.23127962,  0.57504116, -0.23571444,\n",
       "       -0.40326973, -0.60972238,  0.86203537,  2.59300562, -0.18200927,\n",
       "        0.59307356, -0.92559375, -1.1791451 , -1.624414  , -1.4818802 ,\n",
       "        0.38484954,  0.43384138,  1.38965813, -0.06823484, -1.38983905,\n",
       "       -0.84585889, -0.47902162, -0.64555121, -0.77040878, -2.11304449])"
      ]
     },
     "execution_count": 3,
     "metadata": {},
     "output_type": "execute_result"
    }
   ],
   "source": [
    "X"
   ]
  },
  {
   "cell_type": "code",
   "execution_count": 26,
   "metadata": {},
   "outputs": [
    {
     "data": {
      "image/png": "[encoded data removed]",
      "text/plain": [
       "<Figure size 432x288 with 1 Axes>"
      ]
     },
     "metadata": {
      "needs_background": "light"
     },
     "output_type": "display_data"
    }
   ],
   "source": [
    "#绘制简单的直方密度线图\n",
    "sns.distplot(X);"
   ]
  },
  {
   "cell_type": "code",
   "execution_count": 6,
   "metadata": {
    "scrolled": true
   },
   "outputs": [
    {
     "name": "stderr",
     "output_type": "stream",
     "text": [
      "D:\\Anaconda\\lib\\site-packages\\scipy\\stats\\stats.py:1713: FutureWarning: Using a non-tuple sequence for multidimensional indexing is deprecated; use `arr[tuple(seq)]` instead of `arr[seq]`. In the future this will be interpreted as an array index, `arr[np.array(seq)]`, which will result either in an error or a different result.\n",
      "  return np.add.reduce(sorted[indexer] * weights, axis=axis) / sumval\n"
     ]
    },
    {
     "data": {
      "image/png": "[encoded data removed]",
      "text/plain": [
       "<Figure size 432x288 with 1 Axes>"
      ]
     },
     "metadata": {
      "needs_background": "light"
     },
     "output_type": "display_data"
    }
   ],
   "source": [
    "#尝试图形中的参数\n",
    "sns.distplot(X\n",
    "             ,bins=10\n",
    "             #,hist=False  # 只显示密度图\n",
    "             #,kde=False   # 只显示直方图\n",
    "             ,hist_kws={'color':'g','histtype':'bar','alpha':0.4} \n",
    "             ,kde_kws={'color':'r','linestyle':'-.','linewidth':3,'alpha':0.7}\n",
    "            );"
   ]
  },
  {
   "cell_type": "markdown",
   "metadata": {},
   "source": [
    "条形图的种类有四种：  \n",
    "- bar：简单的条形图（默认）\n",
    "- barstacked：堆积条形图\n",
    "- step：默认未填充的线图\n",
    "- stepfilled：默认被填充的线图"
   ]
  },
  {
   "cell_type": "markdown",
   "metadata": {},
   "source": [
    "### 3.认识绘制图形的数据集"
   ]
  },
  {
   "cell_type": "code",
   "execution_count": 7,
   "metadata": {},
   "outputs": [],
   "source": [
    "df = pd.read_csv(\"data/mpg_ggplot2.csv\")"
   ]
  },
  {
   "cell_type": "code",
   "execution_count": 8,
   "metadata": {},
   "outputs": [
    {
     "data": {
      "text/html": [
       "<div>\n",
       "<style scoped>\n",
       "    .dataframe tbody tr th:only-of-type {\n",
       "        vertical-align: middle;\n",
       "    }\n",
       "\n",
       "    .dataframe tbody tr th {\n",
       "        vertical-align: top;\n",
       "    }\n",
       "\n",
       "    .dataframe thead th {\n",
       "        text-align: right;\n",
       "    }\n",
       "</style>\n",
       "<table border=\"1\" class=\"dataframe\">\n",
       "  <thead>\n",
       "    <tr style=\"text-align: right;\">\n",
       "      <th></th>\n",
       "      <th>manufacturer</th>\n",
       "      <th>model</th>\n",
       "      <th>displ</th>\n",
       "      <th>year</th>\n",
       "      <th>cyl</th>\n",
       "      <th>trans</th>\n",
       "      <th>drv</th>\n",
       "      <th>cty</th>\n",
       "      <th>hwy</th>\n",
       "      <th>fl</th>\n",
       "      <th>class</th>\n",
       "    </tr>\n",
       "  </thead>\n",
       "  <tbody>\n",
       "    <tr>\n",
       "      <th>0</th>\n",
       "      <td>audi</td>\n",
       "      <td>a4</td>\n",
       "      <td>1.8</td>\n",
       "      <td>1999</td>\n",
       "      <td>4</td>\n",
       "      <td>auto(l5)</td>\n",
       "      <td>f</td>\n",
       "      <td>18</td>\n",
       "      <td>29</td>\n",
       "      <td>p</td>\n",
       "      <td>compact</td>\n",
       "    </tr>\n",
       "    <tr>\n",
       "      <th>1</th>\n",
       "      <td>audi</td>\n",
       "      <td>a4</td>\n",
       "      <td>1.8</td>\n",
       "      <td>1999</td>\n",
       "      <td>4</td>\n",
       "      <td>manual(m5)</td>\n",
       "      <td>f</td>\n",
       "      <td>21</td>\n",
       "      <td>29</td>\n",
       "      <td>p</td>\n",
       "      <td>compact</td>\n",
       "    </tr>\n",
       "    <tr>\n",
       "      <th>2</th>\n",
       "      <td>audi</td>\n",
       "      <td>a4</td>\n",
       "      <td>2.0</td>\n",
       "      <td>2008</td>\n",
       "      <td>4</td>\n",
       "      <td>manual(m6)</td>\n",
       "      <td>f</td>\n",
       "      <td>20</td>\n",
       "      <td>31</td>\n",
       "      <td>p</td>\n",
       "      <td>compact</td>\n",
       "    </tr>\n",
       "    <tr>\n",
       "      <th>3</th>\n",
       "      <td>audi</td>\n",
       "      <td>a4</td>\n",
       "      <td>2.0</td>\n",
       "      <td>2008</td>\n",
       "      <td>4</td>\n",
       "      <td>auto(av)</td>\n",
       "      <td>f</td>\n",
       "      <td>21</td>\n",
       "      <td>30</td>\n",
       "      <td>p</td>\n",
       "      <td>compact</td>\n",
       "    </tr>\n",
       "    <tr>\n",
       "      <th>4</th>\n",
       "      <td>audi</td>\n",
       "      <td>a4</td>\n",
       "      <td>2.8</td>\n",
       "      <td>1999</td>\n",
       "      <td>6</td>\n",
       "      <td>auto(l5)</td>\n",
       "      <td>f</td>\n",
       "      <td>16</td>\n",
       "      <td>26</td>\n",
       "      <td>p</td>\n",
       "      <td>compact</td>\n",
       "    </tr>\n",
       "  </tbody>\n",
       "</table>\n",
       "</div>"
      ],
      "text/plain": [
       "  manufacturer model  displ  year  cyl       trans drv  cty  hwy fl    class\n",
       "0         audi    a4    1.8  1999    4    auto(l5)   f   18   29  p  compact\n",
       "1         audi    a4    1.8  1999    4  manual(m5)   f   21   29  p  compact\n",
       "2         audi    a4    2.0  2008    4  manual(m6)   f   20   31  p  compact\n",
       "3         audi    a4    2.0  2008    4    auto(av)   f   21   30  p  compact\n",
       "4         audi    a4    2.8  1999    6    auto(l5)   f   16   26  p  compact"
      ]
     },
     "execution_count": 8,
     "metadata": {},
     "output_type": "execute_result"
    }
   ],
   "source": [
    "df.head()"
   ]
  },
  {
   "cell_type": "code",
   "execution_count": 9,
   "metadata": {},
   "outputs": [
    {
     "data": {
      "text/plain": [
       "(234, 11)"
      ]
     },
     "execution_count": 9,
     "metadata": {},
     "output_type": "execute_result"
    }
   ],
   "source": [
    "df.shape"
   ]
  },
  {
   "cell_type": "code",
   "execution_count": 10,
   "metadata": {},
   "outputs": [
    {
     "data": {
      "text/plain": [
       "Index(['manufacturer', 'model', 'displ', 'year', 'cyl', 'trans', 'drv', 'cty',\n",
       "       'hwy', 'fl', 'class'],\n",
       "      dtype='object')"
      ]
     },
     "execution_count": 10,
     "metadata": {},
     "output_type": "execute_result"
    }
   ],
   "source": [
    "df.columns"
   ]
  },
  {
   "cell_type": "code",
   "execution_count": 11,
   "metadata": {},
   "outputs": [],
   "source": [
    "name = [\"汽车制造商\",\"型号名称\",\"发动机排量(L)\",\"制造年份\"\n",
    "        ,\"气缸数量\",\"手动/自动\",\"驱动类型\",\"城市里程/加仑\"\n",
    "        ,\"公路里程/加仑\",\"汽油种类\",\"车辆类型\"]"
   ]
  },
  {
   "cell_type": "code",
   "execution_count": 33,
   "metadata": {},
   "outputs": [
    {
     "data": {
      "text/plain": [
       "[('manufacturer', '汽车制造商'),\n",
       " ('model', '型号名称'),\n",
       " ('displ', '发动机排量(L)'),\n",
       " ('year', '制造年份'),\n",
       " ('cyl', '气缸数量'),\n",
       " ('trans', '手动/自动'),\n",
       " ('drv', '驱动类型'),\n",
       " ('cty', '城市里程/加仑'),\n",
       " ('hwy', '公路里程/加仑'),\n",
       " ('fl', '汽油种类'),\n",
       " ('class', '车辆类型')]"
      ]
     },
     "execution_count": 33,
     "metadata": {},
     "output_type": "execute_result"
    }
   ],
   "source": [
    "[*zip(df.columns,np.array(name))]"
   ]
  },
  {
   "cell_type": "markdown",
   "metadata": {},
   "source": [
    "### 4.绘制直方密度曲线图"
   ]
  },
  {
   "cell_type": "markdown",
   "metadata": {},
   "source": [
    "我们绘制目标图形需要的数据是：城市里程，汽车种类"
   ]
  },
  {
   "cell_type": "code",
   "execution_count": 12,
   "metadata": {},
   "outputs": [
    {
     "data": {
      "text/plain": [
       "array([18, 21, 20, 21, 16, 18, 18, 18, 16, 20, 19, 15, 17, 17, 15, 15, 17,\n",
       "       16, 14, 11, 14, 13, 12, 16, 15, 16, 15, 15, 14, 11, 11, 14, 19, 22,\n",
       "       18, 18, 17, 18, 17, 16, 16, 17, 17, 11, 15, 15, 16, 16, 15, 14, 13,\n",
       "       14, 14, 14,  9, 11, 11, 13, 13,  9, 13, 11, 13, 11, 12,  9, 13, 13,\n",
       "       12,  9, 11, 11, 13, 11, 11, 11, 12, 14, 15, 14, 13, 13, 13, 14, 14,\n",
       "       13, 13, 13, 11, 13, 18, 18, 17, 16, 15, 15, 15, 15, 14, 28, 24, 25,\n",
       "       23, 24, 26, 25, 24, 21, 18, 18, 21, 21, 18, 18, 19, 19, 19, 20, 20,\n",
       "       17, 16, 17, 17, 15, 15, 14,  9, 14, 13, 11, 11, 12, 12, 11, 11, 11,\n",
       "       12, 14, 13, 13, 13, 21, 19, 23, 23, 19, 19, 18, 19, 19, 14, 15, 14,\n",
       "       12, 18, 16, 17, 18, 16, 18, 18, 20, 19, 20, 18, 21, 19, 19, 19, 20,\n",
       "       20, 19, 20, 15, 16, 15, 15, 16, 14, 21, 21, 21, 21, 18, 18, 19, 21,\n",
       "       21, 21, 22, 18, 18, 18, 24, 24, 26, 28, 26, 11, 13, 15, 16, 17, 15,\n",
       "       15, 15, 16, 21, 19, 21, 22, 17, 33, 21, 19, 22, 21, 21, 21, 16, 17,\n",
       "       35, 29, 21, 19, 20, 20, 21, 18, 19, 21, 16, 18, 17], dtype=int64)"
      ]
     },
     "execution_count": 12,
     "metadata": {},
     "output_type": "execute_result"
    }
   ],
   "source": [
    "#查看城市里程\n",
    "df['cty'].values"
   ]
  },
  {
   "cell_type": "code",
   "execution_count": 13,
   "metadata": {},
   "outputs": [
    {
     "data": {
      "text/plain": [
       "suv           62\n",
       "compact       47\n",
       "midsize       41\n",
       "subcompact    35\n",
       "pickup        33\n",
       "minivan       11\n",
       "2seater        5\n",
       "Name: class, dtype: int64"
      ]
     },
     "execution_count": 13,
     "metadata": {},
     "output_type": "execute_result"
    }
   ],
   "source": [
    "#查看汽车类型\n",
    "df['class'].value_counts()"
   ]
  },
  {
   "cell_type": "markdown",
   "metadata": {},
   "source": [
    "汽车种类一共有7种，分别是：SUV、小型车、中型车、迷你车、皮卡、迷你卡车、2座车"
   ]
  },
  {
   "cell_type": "code",
   "execution_count": 14,
   "metadata": {},
   "outputs": [],
   "source": [
    "#以SUV为例，绘制直方密度图\n",
    "\n",
    "#提取SUV类型车的城市里程\n",
    "x1 = df.loc[df['class'] == 'suv','cty'].values"
   ]
  },
  {
   "cell_type": "code",
   "execution_count": 15,
   "metadata": {},
   "outputs": [
    {
     "data": {
      "text/plain": [
       "array([14, 11, 14, 13, 12, 14, 11, 11, 14, 13, 13,  9, 13, 11, 13, 11, 11,\n",
       "       11, 12, 14, 15, 14, 13, 13, 13, 17, 15, 15, 14,  9, 14, 13, 11, 11,\n",
       "       12, 12, 11, 11, 11, 12, 14, 13, 13, 13, 14, 15, 14, 12, 18, 18, 20,\n",
       "       19, 20, 18, 15, 16, 15, 15, 16, 14, 11, 13], dtype=int64)"
      ]
     },
     "execution_count": 15,
     "metadata": {},
     "output_type": "execute_result"
    }
   ],
   "source": [
    "x1"
   ]
  },
  {
   "cell_type": "code",
   "execution_count": 16,
   "metadata": {},
   "outputs": [
    {
     "name": "stderr",
     "output_type": "stream",
     "text": [
      "D:\\Anaconda\\lib\\site-packages\\scipy\\stats\\stats.py:1713: FutureWarning: Using a non-tuple sequence for multidimensional indexing is deprecated; use `arr[tuple(seq)]` instead of `arr[seq]`. In the future this will be interpreted as an array index, `arr[np.array(seq)]`, which will result either in an error or a different result.\n",
      "  return np.add.reduce(sorted[indexer] * weights, axis=axis) / sumval\n"
     ]
    },
    {
     "data": {
      "image/png": "[encoded data removed]",
      "text/plain": [
       "<Figure size 432x288 with 1 Axes>"
      ]
     },
     "metadata": {
      "needs_background": "light"
     },
     "output_type": "display_data"
    }
   ],
   "source": [
    "#绘制图形\n",
    "sns.distplot(x1,label='suv');"
   ]
  },
  {
   "cell_type": "markdown",
   "metadata": {},
   "source": [
    "如果想要把7种类型车的城市里程全部绘制出来的话，可以尝试用循环的方式"
   ]
  },
  {
   "cell_type": "code",
   "execution_count": 17,
   "metadata": {
    "collapsed": true
   },
   "outputs": [
    {
     "data": {
      "text/plain": [
       "array(['compact', 'compact', 'compact', 'compact', 'compact', 'compact',\n",
       "       'compact', 'compact', 'compact', 'compact', 'compact', 'compact',\n",
       "       'compact', 'compact', 'compact', 'midsize', 'midsize', 'midsize',\n",
       "       'suv', 'suv', 'suv', 'suv', 'suv', '2seater', '2seater', '2seater',\n",
       "       '2seater', '2seater', 'suv', 'suv', 'suv', 'suv', 'midsize',\n",
       "       'midsize', 'midsize', 'midsize', 'midsize', 'minivan', 'minivan',\n",
       "       'minivan', 'minivan', 'minivan', 'minivan', 'minivan', 'minivan',\n",
       "       'minivan', 'minivan', 'minivan', 'pickup', 'pickup', 'pickup',\n",
       "       'pickup', 'pickup', 'pickup', 'pickup', 'pickup', 'pickup', 'suv',\n",
       "       'suv', 'suv', 'suv', 'suv', 'suv', 'suv', 'pickup', 'pickup',\n",
       "       'pickup', 'pickup', 'pickup', 'pickup', 'pickup', 'pickup',\n",
       "       'pickup', 'pickup', 'suv', 'suv', 'suv', 'suv', 'suv', 'suv',\n",
       "       'suv', 'suv', 'suv', 'pickup', 'pickup', 'pickup', 'pickup',\n",
       "       'pickup', 'pickup', 'pickup', 'subcompact', 'subcompact',\n",
       "       'subcompact', 'subcompact', 'subcompact', 'subcompact',\n",
       "       'subcompact', 'subcompact', 'subcompact', 'subcompact',\n",
       "       'subcompact', 'subcompact', 'subcompact', 'subcompact',\n",
       "       'subcompact', 'subcompact', 'subcompact', 'subcompact', 'midsize',\n",
       "       'midsize', 'midsize', 'midsize', 'midsize', 'midsize', 'midsize',\n",
       "       'subcompact', 'subcompact', 'subcompact', 'subcompact',\n",
       "       'subcompact', 'subcompact', 'subcompact', 'suv', 'suv', 'suv',\n",
       "       'suv', 'suv', 'suv', 'suv', 'suv', 'suv', 'suv', 'suv', 'suv',\n",
       "       'suv', 'suv', 'suv', 'suv', 'suv', 'suv', 'suv', 'compact',\n",
       "       'compact', 'midsize', 'midsize', 'midsize', 'midsize', 'midsize',\n",
       "       'midsize', 'midsize', 'suv', 'suv', 'suv', 'suv', 'midsize',\n",
       "       'midsize', 'midsize', 'midsize', 'midsize', 'suv', 'suv', 'suv',\n",
       "       'suv', 'suv', 'suv', 'subcompact', 'subcompact', 'subcompact',\n",
       "       'subcompact', 'compact', 'compact', 'compact', 'compact', 'suv',\n",
       "       'suv', 'suv', 'suv', 'suv', 'suv', 'midsize', 'midsize', 'midsize',\n",
       "       'midsize', 'midsize', 'midsize', 'midsize', 'compact', 'compact',\n",
       "       'compact', 'compact', 'compact', 'compact', 'compact', 'compact',\n",
       "       'compact', 'compact', 'compact', 'compact', 'suv', 'suv', 'pickup',\n",
       "       'pickup', 'pickup', 'pickup', 'pickup', 'pickup', 'pickup',\n",
       "       'compact', 'compact', 'compact', 'compact', 'compact', 'compact',\n",
       "       'compact', 'compact', 'compact', 'compact', 'compact', 'compact',\n",
       "       'compact', 'compact', 'subcompact', 'subcompact', 'subcompact',\n",
       "       'subcompact', 'subcompact', 'subcompact', 'midsize', 'midsize',\n",
       "       'midsize', 'midsize', 'midsize', 'midsize', 'midsize'],\n",
       "      dtype=object)"
      ]
     },
     "execution_count": 17,
     "metadata": {},
     "output_type": "execute_result"
    }
   ],
   "source": [
    "df['class'].values"
   ]
  },
  {
   "cell_type": "code",
   "execution_count": 18,
   "metadata": {},
   "outputs": [
    {
     "data": {
      "text/plain": [
       "{'2seater', 'compact', 'midsize', 'minivan', 'pickup', 'subcompact', 'suv'}"
      ]
     },
     "execution_count": 18,
     "metadata": {},
     "output_type": "execute_result"
    }
   ],
   "source": [
    "set(df['class'].values)"
   ]
  },
  {
   "cell_type": "code",
   "execution_count": 19,
   "metadata": {},
   "outputs": [
    {
     "data": {
      "text/plain": [
       "['suv', 'pickup', 'midsize', 'subcompact', 'compact', '2seater', 'minivan']"
      ]
     },
     "execution_count": 19,
     "metadata": {},
     "output_type": "execute_result"
    }
   ],
   "source": [
    "#将所有类型放到一个列表中\n",
    "clas = list(set(df['class'].values))\n",
    "clas"
   ]
  },
  {
   "cell_type": "code",
   "execution_count": 20,
   "metadata": {},
   "outputs": [
    {
     "name": "stderr",
     "output_type": "stream",
     "text": [
      "D:\\Anaconda\\lib\\site-packages\\scipy\\stats\\stats.py:1713: FutureWarning: Using a non-tuple sequence for multidimensional indexing is deprecated; use `arr[tuple(seq)]` instead of `arr[seq]`. In the future this will be interpreted as an array index, `arr[np.array(seq)]`, which will result either in an error or a different result.\n",
      "  return np.add.reduce(sorted[indexer] * weights, axis=axis) / sumval\n"
     ]
    },
    {
     "data": {
      "image/png": "[encoded data removed]",
      "text/plain": [
       "<Figure size 840x480 with 1 Axes>"
      ]
     },
     "metadata": {
      "needs_background": "light"
     },
     "output_type": "display_data"
    }
   ],
   "source": [
    "#创建画布\n",
    "plt.figure(figsize = (14,8),dpi = 60)\n",
    "\n",
    "#对每一种类型的车进行绘图\n",
    "for i in clas:\n",
    "    sns.distplot(df.loc[df['class'] == i,'cty'].values,label=i\n",
    "                 #,hist=False\n",
    "                )\n",
    "\n",
    "#添加装饰\n",
    "plt.title('城市里程随车类型变化的分布图',fontsize=20)\n",
    "plt.ylim(0,0.65)  # y轴范围\n",
    "plt.xlim(5,30)  # x轴范围\n",
    "plt.legend(fontsize=15);"
   ]
  },
  {
   "cell_type": "markdown",
   "metadata": {},
   "source": [
    "如果分类特别多的话，各种图形的交错就会更加复杂，那这样的绘图就不是很合适了    \n",
    "而实际应用中，我们也不会将特别多的种类放到一起进行比较    \n",
    "通常来说，会选择几个比较重要的分类来进行对比"
   ]
  },
  {
   "cell_type": "markdown",
   "metadata": {},
   "source": [
    "### **绘制compact/suv/minivan这三种车的城市里程分布**"
   ]
  },
  {
   "cell_type": "code",
   "execution_count": 22,
   "metadata": {},
   "outputs": [
    {
     "name": "stderr",
     "output_type": "stream",
     "text": [
      "D:\\Anaconda\\lib\\site-packages\\scipy\\stats\\stats.py:1713: FutureWarning: Using a non-tuple sequence for multidimensional indexing is deprecated; use `arr[tuple(seq)]` instead of `arr[seq]`. In the future this will be interpreted as an array index, `arr[np.array(seq)]`, which will result either in an error or a different result.\n",
      "  return np.add.reduce(sorted[indexer] * weights, axis=axis) / sumval\n"
     ]
    },
    {
     "data": {
      "image/png": "[encoded data removed]",
      "text/plain": [
       "<Figure size 840x480 with 1 Axes>"
      ]
     },
     "metadata": {
      "needs_background": "light"
     },
     "output_type": "display_data"
    }
   ],
   "source": [
    "#提取出compact/suv/minivan这三种车的城市里程\n",
    "compact = df.loc[df['class'] == 'compact', 'cty'].values\n",
    "suv = df.loc[df['class'] == 'suv', 'cty'].values\n",
    "minivan = df.loc[df['class'] == 'minivan', 'cty'].values\n",
    "\n",
    "#创建画布\n",
    "plt.figure(figsize = (14,8),dpi = 60)\n",
    "\n",
    "#绘制图形\n",
    "sns.distplot(compact,color='b',label='compact', hist_kws={'alpha':.4},kde_kws={'linewidth':3,'alpha':.7})\n",
    "sns.distplot(suv,color='r',label='suv', hist_kws={'alpha':.4},kde_kws={'linewidth':3,'alpha':.7})\n",
    "sns.distplot(minivan,color='g',label='minivan', hist_kws={'alpha':.4},kde_kws={'linewidth':3,'alpha':.7})\n",
    "\n",
    "#装饰图形\n",
    "plt.title('compact/suv/minivan三种车的城市里程分布',fontsize=20)\n",
    "plt.xlabel('城市里程（cty）',fontsize=15)\n",
    "plt.xticks(fontsize=12)\n",
    "plt.yticks(fontsize=12)\n",
    "plt.legend(fontsize=15);"
   ]
  },
  {
   "cell_type": "code",
   "execution_count": 24,
   "metadata": {},
   "outputs": [
    {
     "name": "stderr",
     "output_type": "stream",
     "text": [
      "D:\\Anaconda\\lib\\site-packages\\scipy\\stats\\stats.py:1713: FutureWarning: Using a non-tuple sequence for multidimensional indexing is deprecated; use `arr[tuple(seq)]` instead of `arr[seq]`. In the future this will be interpreted as an array index, `arr[np.array(seq)]`, which will result either in an error or a different result.\n",
      "  return np.add.reduce(sorted[indexer] * weights, axis=axis) / sumval\n"
     ]
    },
    {
     "data": {
      "image/png": "[encoded data removed]",
      "text/plain": [
       "<Figure size 780x480 with 1 Axes>"
      ]
     },
     "metadata": {
      "needs_background": "light"
     },
     "output_type": "display_data"
    }
   ],
   "source": [
    "#源代码\n",
    "\n",
    "# Import Data\n",
    "df = pd.read_csv(\"data/mpg_ggplot2.csv\") #导入数据集\n",
    "\n",
    "# Draw Plot\n",
    "plt.figure(figsize=(13,8), dpi= 60) #创建画布\n",
    "sns.distplot(df.loc[df['class'] == 'compact', \"cty\"], color=\"dodgerblue\", label=\"Compact\", hist_kws={'alpha':.7}, kde_kws={'linewidth':3})\n",
    "sns.distplot(df.loc[df['class'] == 'suv', \"cty\"], color=\"orange\", label=\"SUV\", hist_kws={'alpha':.7}, kde_kws={'linewidth':3})\n",
    "sns.distplot(df.loc[df['class'] == 'minivan', \"cty\"], color=\"g\", label=\"minivan\", hist_kws={'alpha':.7}, kde_kws={'linewidth':3})\n",
    "plt.ylim(0, 0.35)#设定Y轴刻度范围\n",
    "\n",
    "# Decoration\n",
    "plt.title('Density Plot of City Mileage by Vehicle Type', fontsize=22) #添加标题\n",
    "plt.legend(frameon=False) #添加图例\n",
    "plt.show() #本地显示图形"
   ]
  },
  {
   "cell_type": "markdown",
   "metadata": {},
   "source": [
    "### 5.图像解读"
   ]
  }
 ],
 "metadata": {
  "kernelspec": {
   "display_name": "Python 3",
   "language": "python",
   "name": "python3"
  },
  "language_info": {
   "codemirror_mode": {
    "name": "ipython",
    "version": 3
   },
   "file_extension": ".py",
   "mimetype": "text/x-python",
   "name": "python",
   "nbconvert_exporter": "python",
   "pygments_lexer": "ipython3",
   "version": "3.7.0"
  }
 },
 "nbformat": 4,
 "nbformat_minor": 2
}
