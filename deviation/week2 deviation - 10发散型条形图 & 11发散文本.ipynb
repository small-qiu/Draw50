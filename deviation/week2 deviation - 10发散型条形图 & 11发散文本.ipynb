{
 "cells": [
  {
   "cell_type": "markdown",
   "metadata": {},
   "source": [
    "## <font color='bule' >第二章 偏差图 deviation </font>"
   ]
  },
  {
   "cell_type": "markdown",
   "metadata": {},
   "source": [
    "偏差图是单个特征中的所有值与特定值之间的关系图，它反映的是所有值偏离特定值的距离   \n",
    "典型的偏差图有：发散型条形图，面积图，……    \n",
    "\n",
    "<img src='http://pictes.oss-cn-beijing.aliyuncs.com/microclass-virtualisation/week2%20deviation/%E5%81%8F%E5%B7%AE%E5%9B%BE.png'>"
   ]
  },
  {
   "cell_type": "markdown",
   "metadata": {},
   "source": [
    "### **我们什么时候需要偏差图呢？**\n"
   ]
  },
  {
   "cell_type": "markdown",
   "metadata": {},
   "source": [
    "1. 数据探索 & 数据解读：  \n",
    "> 探索某一特征的分布，探索该特征偏离某个特定值（均值、方差等）的程度   \n",
    "\n",
    "2. 结果展示 & 报告呈现：   \n",
    "> 直观展示某个特征的分布状况，快速得出结论  "
   ]
  },
  {
   "cell_type": "markdown",
   "metadata": {},
   "source": [
    "<img src=\"http://pictes.oss-cn-beijing.aliyuncs.com/microclass-virtualisation/week1correlation/line4.png\" align=\"center\" />"
   ]
  },
  {
   "cell_type": "markdown",
   "metadata": {},
   "source": [
    "## <font color='bule'>第二期 偏差图：10发散条形图 & 11发散型文本"
   ]
  },
  {
   "cell_type": "markdown",
   "metadata": {},
   "source": [
    "## o新知识点\n",
    "\n",
    "1.plt.hlines()\n",
    "\n",
    "2.df.cars.values\n",
    "\n",
    "3.['green' if i>0 else 'red' for i in df['mpg_z']]\n",
    "\n",
    "4.cluster = KMeans(n_clusters=2, random_state=0).fit(data_x)"
   ]
  },
  {
   "cell_type": "markdown",
   "metadata": {},
   "source": [
    "<img src=\"http://pictes.oss-cn-beijing.aliyuncs.com/microclass-virtualisation/week1correlation/line4.png\" align=\"center\" />"
   ]
  },
  {
   "cell_type": "markdown",
   "metadata": {},
   "source": [
    "\n",
    "### <font color='blue' > 10/50 发散条形图（Diverging Bars） </font>\n",
    "\n",
    "如果你想根据单个指标查看项目的变化情况，并可视化此差异的顺序和数量，那么发散条形图是一个很好的工具。    \n",
    "它有助于快速区分数据中的组的性能，并且非常直观，可以立即传达这一点。"
   ]
  },
  {
   "cell_type": "markdown",
   "metadata": {},
   "source": [
    "<img src='http://pictes.oss-cn-beijing.aliyuncs.com/microclass-virtualisation/week2%20deviation/%E5%8F%91%E6%95%A3%E5%9E%8B%E6%9D%A1%E5%BD%A2%E5%9B%BE.png' height='500' width='700'>"
   ]
  },
  {
   "cell_type": "markdown",
   "metadata": {},
   "source": [
    "- 横坐标：里程\n",
    "- 纵坐标：各品牌汽车\n",
    "- 颜色：＜0显示红色，＞0显示绿色"
   ]
  },
  {
   "cell_type": "markdown",
   "metadata": {},
   "source": [
    "### **我们的目标就是绘制出这张图，并且利用现有数据解读图内信息**"
   ]
  },
  {
   "cell_type": "markdown",
   "metadata": {},
   "source": [
    "### 1. 导入需要的绘图库"
   ]
  },
  {
   "cell_type": "code",
   "execution_count": 4,
   "metadata": {},
   "outputs": [],
   "source": [
    "import pandas as pd\n",
    "import numpy as np\n",
    "import matplotlib.pyplot as plt\n",
    "import seaborn as sns\n",
    "%matplotlib inline\n",
    "#如果用jupyter notebook则需要这行代码让你的图像显示，如果是jupyterlab则不需要"
   ]
  },
  {
   "cell_type": "markdown",
   "metadata": {},
   "source": [
    "### 2.先来认识一下绘制发散型条形图的函数\n",
    "#### **plt.hlines()**"
   ]
  },
  {
   "cell_type": "markdown",
   "metadata": {},
   "source": [
    "plt.hlines()表示水平的条形图，类似的还有垂直的条形图plt.vlines()    \n",
    "\n",
    "参数说明：    \n",
    "y: y轴索引    \n",
    "xmin: 每行的开头    \n",
    "xmax: 每行的结尾   \n",
    "colors: 颜色，默认是‘k’(黑色)    \n",
    "linestyles : 线的类型，可选择{'solid', 'dashed', 'dashdot', 'dotted'}  \n",
    "label: 标签，默认为空   \n",
    "\n",
    "*linewidth：线的宽度       \n",
    "*alpha：色彩饱和度"
   ]
  },
  {
   "cell_type": "code",
   "execution_count": 140,
   "metadata": {},
   "outputs": [],
   "source": [
    " plt.hlines?"
   ]
  },
  {
   "cell_type": "markdown",
   "metadata": {},
   "source": [
    "#### 绘制一个超级简单的条形图"
   ]
  },
  {
   "cell_type": "code",
   "execution_count": 141,
   "metadata": {},
   "outputs": [],
   "source": [
    "#定义数据\n",
    "x = np.random.rand(10) #随机生成10个[0,1)的数字"
   ]
  },
  {
   "cell_type": "code",
   "execution_count": 142,
   "metadata": {},
   "outputs": [
    {
     "data": {
      "text/plain": [
       "array([0.37059469, 0.61721343, 0.18034121, 0.02867052, 0.28553307,\n",
       "       0.25165391, 0.9574537 , 0.05103239, 0.22481387, 0.98787729])"
      ]
     },
     "execution_count": 142,
     "metadata": {},
     "output_type": "execute_result"
    }
   ],
   "source": [
    "x"
   ]
  },
  {
   "cell_type": "code",
   "execution_count": 143,
   "metadata": {},
   "outputs": [
    {
     "data": {
      "image/png": "[encoded data removed]",
      "text/plain": [
       "<Figure size 432x288 with 1 Axes>"
      ]
     },
     "metadata": {
      "needs_background": "light"
     },
     "output_type": "display_data"
    }
   ],
   "source": [
    "#绘图\n",
    "plt.hlines(y=range(10),xmin=0,xmax=x);"
   ]
  },
  {
   "cell_type": "markdown",
   "metadata": {},
   "source": [
    "### **与我们的目标图像相比，你发现了什么？**\n",
    "- 目标图像是从大到小顺序排列的\n",
    "- 目标图像的线比较宽\n",
    "- 目标图像是基于某个特定值将数据分为了两部分，并用不同颜色表示"
   ]
  },
  {
   "cell_type": "markdown",
   "metadata": {},
   "source": [
    "**(1)让图像顺序排列**"
   ]
  },
  {
   "cell_type": "code",
   "execution_count": 144,
   "metadata": {},
   "outputs": [],
   "source": [
    "#定义数据\n",
    "x = np.random.rand(10)"
   ]
  },
  {
   "cell_type": "code",
   "execution_count": 145,
   "metadata": {},
   "outputs": [
    {
     "data": {
      "text/plain": [
       "array([0.68283402, 0.08214753, 0.14888821, 0.62417316, 0.58876782,\n",
       "       0.76818338, 0.7344739 , 0.27986132, 0.96704365, 0.08643529])"
      ]
     },
     "execution_count": 145,
     "metadata": {},
     "output_type": "execute_result"
    }
   ],
   "source": [
    "x"
   ]
  },
  {
   "cell_type": "markdown",
   "metadata": {},
   "source": [
    "方法一："
   ]
  },
  {
   "cell_type": "code",
   "execution_count": 146,
   "metadata": {},
   "outputs": [],
   "source": [
    "a = sorted(x,reverse=True) #默认从小到大排列，reverse=True可以实现从大到小的排列,不会改变原数据的顺序"
   ]
  },
  {
   "cell_type": "code",
   "execution_count": 147,
   "metadata": {},
   "outputs": [
    {
     "data": {
      "text/plain": [
       "[0.967043650005163,\n",
       " 0.768183379060335,\n",
       " 0.734473895692893,\n",
       " 0.682834016791215,\n",
       " 0.6241731561557032,\n",
       " 0.5887678207621826,\n",
       " 0.27986131577542883,\n",
       " 0.14888821239093875,\n",
       " 0.08643528928557087,\n",
       " 0.0821475323140517]"
      ]
     },
     "execution_count": 147,
     "metadata": {},
     "output_type": "execute_result"
    }
   ],
   "source": [
    "a"
   ]
  },
  {
   "cell_type": "code",
   "execution_count": 148,
   "metadata": {},
   "outputs": [
    {
     "data": {
      "text/plain": [
       "array([0.68283402, 0.08214753, 0.14888821, 0.62417316, 0.58876782,\n",
       "       0.76818338, 0.7344739 , 0.27986132, 0.96704365, 0.08643529])"
      ]
     },
     "execution_count": 148,
     "metadata": {},
     "output_type": "execute_result"
    }
   ],
   "source": [
    "x"
   ]
  },
  {
   "cell_type": "markdown",
   "metadata": {},
   "source": [
    "方法二："
   ]
  },
  {
   "cell_type": "code",
   "execution_count": 149,
   "metadata": {},
   "outputs": [],
   "source": [
    "x.sort() #从小到大排列，并且会直接改变原数据"
   ]
  },
  {
   "cell_type": "code",
   "execution_count": 150,
   "metadata": {},
   "outputs": [
    {
     "data": {
      "text/plain": [
       "array([0.08214753, 0.08643529, 0.14888821, 0.27986132, 0.58876782,\n",
       "       0.62417316, 0.68283402, 0.7344739 , 0.76818338, 0.96704365])"
      ]
     },
     "execution_count": 150,
     "metadata": {},
     "output_type": "execute_result"
    }
   ],
   "source": [
    "x"
   ]
  },
  {
   "cell_type": "code",
   "execution_count": 151,
   "metadata": {},
   "outputs": [
    {
     "data": {
      "image/png": "[encoded data removed]",
      "text/plain": [
       "<Figure size 432x288 with 1 Axes>"
      ]
     },
     "metadata": {
      "needs_background": "light"
     },
     "output_type": "display_data"
    }
   ],
   "source": [
    "#定义数据\n",
    "x = np.random.rand(10)\n",
    "\n",
    "#对数据进行排序\n",
    "x.sort()\n",
    "#x = sorted(x,reverse=False)\n",
    "\n",
    "#绘图\n",
    "plt.hlines(y=range(10),xmin=0,xmax=x);"
   ]
  },
  {
   "cell_type": "markdown",
   "metadata": {},
   "source": [
    "<font color='bule'>【注意】plt.hlines()的图像是从下往上依次画出的，.sort()返回的结果是从小到大排列，与图像从下往上的顺序吻合"
   ]
  },
  {
   "cell_type": "markdown",
   "metadata": {},
   "source": [
    "**(2)让图像的线变宽一点**"
   ]
  },
  {
   "cell_type": "code",
   "execution_count": 152,
   "metadata": {},
   "outputs": [
    {
     "data": {
      "image/png": "[encoded data removed]",
      "text/plain": [
       "<Figure size 432x288 with 1 Axes>"
      ]
     },
     "metadata": {
      "needs_background": "light"
     },
     "output_type": "display_data"
    }
   ],
   "source": [
    "#定义数据\n",
    "x = np.random.rand(10)\n",
    "x.sort()\n",
    "#x = sorted(x,reverse=False)\n",
    "\n",
    "#绘图\n",
    "plt.hlines(y=range(10),xmin=0,xmax=x\n",
    "          ,linewidth=5\n",
    "          ,color='b'\n",
    "          );"
   ]
  },
  {
   "cell_type": "markdown",
   "metadata": {},
   "source": [
    "**(3)让图像基于均值分成两部分**"
   ]
  },
  {
   "cell_type": "code",
   "execution_count": 153,
   "metadata": {},
   "outputs": [],
   "source": [
    "#定义数据\n",
    "x = np.random.rand(10)\n",
    "x = x-x.mean() #均值变为0\n",
    "x.sort()"
   ]
  },
  {
   "cell_type": "code",
   "execution_count": 154,
   "metadata": {},
   "outputs": [
    {
     "data": {
      "text/plain": [
       "array([-0.57090503, -0.25837367, -0.13328156,  0.00952403,  0.11472881,\n",
       "        0.12510699,  0.14525378,  0.15433401,  0.17262044,  0.2409922 ])"
      ]
     },
     "execution_count": 154,
     "metadata": {},
     "output_type": "execute_result"
    }
   ],
   "source": [
    "x"
   ]
  },
  {
   "cell_type": "code",
   "execution_count": 155,
   "metadata": {},
   "outputs": [
    {
     "data": {
      "image/png": "[encoded data removed]",
      "text/plain": [
       "<Figure size 432x288 with 1 Axes>"
      ]
     },
     "metadata": {
      "needs_background": "light"
     },
     "output_type": "display_data"
    }
   ],
   "source": [
    "#绘图\n",
    "plt.hlines(y=range(10),xmin=0,xmax=x\n",
    "          ,linewidth=5\n",
    "          ,color='red');"
   ]
  },
  {
   "cell_type": "markdown",
   "metadata": {},
   "source": [
    "**(4)让两部分显示不同的颜色**"
   ]
  },
  {
   "cell_type": "markdown",
   "metadata": {},
   "source": [
    "直接让颜色color = ['red','green'] 可行吗？"
   ]
  },
  {
   "cell_type": "code",
   "execution_count": 156,
   "metadata": {},
   "outputs": [
    {
     "data": {
      "image/png": "[encoded data removed]",
      "text/plain": [
       "<Figure size 432x288 with 1 Axes>"
      ]
     },
     "metadata": {
      "needs_background": "light"
     },
     "output_type": "display_data"
    }
   ],
   "source": [
    "#定义数据\n",
    "x = np.random.rand(10)\n",
    "x = x-x.mean()\n",
    "x.sort()\n",
    "\n",
    "#绘图\n",
    "plt.hlines(y=range(10),xmin=0,xmax=x\n",
    "          ,linewidth=5\n",
    "          ,color=['red','green']);"
   ]
  },
  {
   "cell_type": "code",
   "execution_count": 157,
   "metadata": {},
   "outputs": [],
   "source": [
    "#创建颜色列表\n",
    "colors = []\n",
    "for i in x:\n",
    "    if i<0:\n",
    "        colors.append('red')\n",
    "    else:\n",
    "        colors.append('green')"
   ]
  },
  {
   "cell_type": "code",
   "execution_count": 158,
   "metadata": {},
   "outputs": [
    {
     "data": {
      "text/plain": [
       "['red',\n",
       " 'red',\n",
       " 'red',\n",
       " 'red',\n",
       " 'green',\n",
       " 'green',\n",
       " 'green',\n",
       " 'green',\n",
       " 'green',\n",
       " 'green']"
      ]
     },
     "execution_count": 158,
     "metadata": {},
     "output_type": "execute_result"
    }
   ],
   "source": [
    "colors"
   ]
  },
  {
   "cell_type": "code",
   "execution_count": 159,
   "metadata": {},
   "outputs": [
    {
     "data": {
      "image/png": "[encoded data removed]",
      "text/plain": [
       "<Figure size 432x288 with 1 Axes>"
      ]
     },
     "metadata": {
      "needs_background": "light"
     },
     "output_type": "display_data"
    }
   ],
   "source": [
    "#绘图\n",
    "plt.hlines(y=range(10),xmin=0,xmax=x\n",
    "          ,linewidth=5\n",
    "          ,color=colors);"
   ]
  },
  {
   "cell_type": "code",
   "execution_count": 160,
   "metadata": {},
   "outputs": [
    {
     "data": {
      "text/plain": [
       "['red',\n",
       " 'red',\n",
       " 'red',\n",
       " 'red',\n",
       " 'green',\n",
       " 'green',\n",
       " 'green',\n",
       " 'green',\n",
       " 'green',\n",
       " 'green']"
      ]
     },
     "execution_count": 160,
     "metadata": {},
     "output_type": "execute_result"
    }
   ],
   "source": [
    "colors"
   ]
  },
  {
   "cell_type": "code",
   "execution_count": 161,
   "metadata": {},
   "outputs": [
    {
     "data": {
      "text/plain": [
       "['red',\n",
       " 'red',\n",
       " 'red',\n",
       " 'red',\n",
       " 'green',\n",
       " 'green',\n",
       " 'green',\n",
       " 'green',\n",
       " 'green',\n",
       " 'green']"
      ]
     },
     "execution_count": 161,
     "metadata": {},
     "output_type": "execute_result"
    }
   ],
   "source": [
    "#color参数用列表推导式写\n",
    "['red' if i<0 else 'green' for i in x]"
   ]
  },
  {
   "cell_type": "code",
   "execution_count": 162,
   "metadata": {},
   "outputs": [
    {
     "data": {
      "image/png": "[encoded data removed]",
      "text/plain": [
       "<Figure size 432x288 with 1 Axes>"
      ]
     },
     "metadata": {
      "needs_background": "light"
     },
     "output_type": "display_data"
    }
   ],
   "source": [
    "#定义数据\n",
    "x = np.random.rand(10)\n",
    "x = x-x.mean()\n",
    "x.sort()\n",
    "\n",
    "#绘图\n",
    "plt.hlines(y=range(10),xmin=0,xmax=x\n",
    "          ,linewidth=5\n",
    "          ,color=['red' if i<0 else 'green' for i in x]\n",
    "          );"
   ]
  },
  {
   "cell_type": "markdown",
   "metadata": {},
   "source": [
    "**(5)让颜色变浅一点**   \n",
    "参数alpha是颜色饱和度，默认值为1     \n",
    "alpha取值范围是[0,1],越接近1颜色越饱和，也就是颜色越艳丽"
   ]
  },
  {
   "cell_type": "code",
   "execution_count": 163,
   "metadata": {},
   "outputs": [
    {
     "data": {
      "image/png": "[encoded data removed]",
      "text/plain": [
       "<Figure size 432x288 with 1 Axes>"
      ]
     },
     "metadata": {
      "needs_background": "light"
     },
     "output_type": "display_data"
    }
   ],
   "source": [
    "#定义数据\n",
    "x = np.random.rand(10)\n",
    "x = x-x.mean()\n",
    "x.sort()\n",
    "\n",
    "#绘图\n",
    "plt.hlines(y=range(10),xmin=0,xmax=x\n",
    "          ,linewidth=5\n",
    "          ,color=['red' if i<0 else 'green' for i in x]\n",
    "          ,alpha=0.5\n",
    "          );"
   ]
  },
  {
   "cell_type": "markdown",
   "metadata": {},
   "source": [
    "#### 到这里为止，绘制发散型条形图的基本知识点你已经掌握啦~~~"
   ]
  },
  {
   "cell_type": "markdown",
   "metadata": {},
   "source": [
    "### 3. 认识绘图所需的数据集"
   ]
  },
  {
   "cell_type": "code",
   "execution_count": 5,
   "metadata": {},
   "outputs": [],
   "source": [
    "#导入数据\n",
    "df = pd.read_csv(\"data/mtcars.csv\")"
   ]
  },
  {
   "cell_type": "code",
   "execution_count": 165,
   "metadata": {},
   "outputs": [
    {
     "data": {
      "text/html": [
       "<div>\n",
       "<style scoped>\n",
       "    .dataframe tbody tr th:only-of-type {\n",
       "        vertical-align: middle;\n",
       "    }\n",
       "\n",
       "    .dataframe tbody tr th {\n",
       "        vertical-align: top;\n",
       "    }\n",
       "\n",
       "    .dataframe thead th {\n",
       "        text-align: right;\n",
       "    }\n",
       "</style>\n",
       "<table border=\"1\" class=\"dataframe\">\n",
       "  <thead>\n",
       "    <tr style=\"text-align: right;\">\n",
       "      <th></th>\n",
       "      <th>mpg</th>\n",
       "      <th>cyl</th>\n",
       "      <th>disp</th>\n",
       "      <th>hp</th>\n",
       "      <th>drat</th>\n",
       "      <th>wt</th>\n",
       "      <th>qsec</th>\n",
       "      <th>vs</th>\n",
       "      <th>am</th>\n",
       "      <th>gear</th>\n",
       "      <th>carb</th>\n",
       "      <th>fast</th>\n",
       "      <th>cars</th>\n",
       "      <th>carname</th>\n",
       "    </tr>\n",
       "  </thead>\n",
       "  <tbody>\n",
       "    <tr>\n",
       "      <th>0</th>\n",
       "      <td>4.582576</td>\n",
       "      <td>6</td>\n",
       "      <td>160.0</td>\n",
       "      <td>110</td>\n",
       "      <td>3.90</td>\n",
       "      <td>2.620</td>\n",
       "      <td>16.46</td>\n",
       "      <td>0</td>\n",
       "      <td>1</td>\n",
       "      <td>4</td>\n",
       "      <td>4</td>\n",
       "      <td>1</td>\n",
       "      <td>Mazda RX4</td>\n",
       "      <td>Mazda RX4</td>\n",
       "    </tr>\n",
       "    <tr>\n",
       "      <th>1</th>\n",
       "      <td>4.582576</td>\n",
       "      <td>6</td>\n",
       "      <td>160.0</td>\n",
       "      <td>110</td>\n",
       "      <td>3.90</td>\n",
       "      <td>2.875</td>\n",
       "      <td>17.02</td>\n",
       "      <td>0</td>\n",
       "      <td>1</td>\n",
       "      <td>4</td>\n",
       "      <td>4</td>\n",
       "      <td>1</td>\n",
       "      <td>Mazda RX4 Wag</td>\n",
       "      <td>Mazda RX4 Wag</td>\n",
       "    </tr>\n",
       "    <tr>\n",
       "      <th>2</th>\n",
       "      <td>4.774935</td>\n",
       "      <td>4</td>\n",
       "      <td>108.0</td>\n",
       "      <td>93</td>\n",
       "      <td>3.85</td>\n",
       "      <td>2.320</td>\n",
       "      <td>18.61</td>\n",
       "      <td>1</td>\n",
       "      <td>1</td>\n",
       "      <td>4</td>\n",
       "      <td>1</td>\n",
       "      <td>1</td>\n",
       "      <td>Datsun 710</td>\n",
       "      <td>Datsun 710</td>\n",
       "    </tr>\n",
       "    <tr>\n",
       "      <th>3</th>\n",
       "      <td>4.626013</td>\n",
       "      <td>6</td>\n",
       "      <td>258.0</td>\n",
       "      <td>110</td>\n",
       "      <td>3.08</td>\n",
       "      <td>3.215</td>\n",
       "      <td>19.44</td>\n",
       "      <td>1</td>\n",
       "      <td>0</td>\n",
       "      <td>3</td>\n",
       "      <td>1</td>\n",
       "      <td>1</td>\n",
       "      <td>Hornet 4 Drive</td>\n",
       "      <td>Hornet 4 Drive</td>\n",
       "    </tr>\n",
       "    <tr>\n",
       "      <th>4</th>\n",
       "      <td>4.324350</td>\n",
       "      <td>8</td>\n",
       "      <td>360.0</td>\n",
       "      <td>175</td>\n",
       "      <td>3.15</td>\n",
       "      <td>3.440</td>\n",
       "      <td>17.02</td>\n",
       "      <td>0</td>\n",
       "      <td>0</td>\n",
       "      <td>3</td>\n",
       "      <td>2</td>\n",
       "      <td>1</td>\n",
       "      <td>Hornet Sportabout</td>\n",
       "      <td>Hornet Sportabout</td>\n",
       "    </tr>\n",
       "  </tbody>\n",
       "</table>\n",
       "</div>"
      ],
      "text/plain": [
       "        mpg  cyl   disp   hp  drat     wt   qsec  vs  am  gear  carb  fast  \\\n",
       "0  4.582576    6  160.0  110  3.90  2.620  16.46   0   1     4     4     1   \n",
       "1  4.582576    6  160.0  110  3.90  2.875  17.02   0   1     4     4     1   \n",
       "2  4.774935    4  108.0   93  3.85  2.320  18.61   1   1     4     1     1   \n",
       "3  4.626013    6  258.0  110  3.08  3.215  19.44   1   0     3     1     1   \n",
       "4  4.324350    8  360.0  175  3.15  3.440  17.02   0   0     3     2     1   \n",
       "\n",
       "                cars            carname  \n",
       "0          Mazda RX4          Mazda RX4  \n",
       "1      Mazda RX4 Wag      Mazda RX4 Wag  \n",
       "2         Datsun 710         Datsun 710  \n",
       "3     Hornet 4 Drive     Hornet 4 Drive  \n",
       "4  Hornet Sportabout  Hornet Sportabout  "
      ]
     },
     "execution_count": 165,
     "metadata": {},
     "output_type": "execute_result"
    }
   ],
   "source": [
    "#探索数据\n",
    "df.head()"
   ]
  },
  {
   "cell_type": "code",
   "execution_count": 166,
   "metadata": {},
   "outputs": [
    {
     "data": {
      "text/plain": [
       "(32, 14)"
      ]
     },
     "execution_count": 166,
     "metadata": {},
     "output_type": "execute_result"
    }
   ],
   "source": [
    "df.shape"
   ]
  },
  {
   "cell_type": "code",
   "execution_count": 167,
   "metadata": {},
   "outputs": [
    {
     "data": {
      "text/html": [
       "<div>\n",
       "<style scoped>\n",
       "    .dataframe tbody tr th:only-of-type {\n",
       "        vertical-align: middle;\n",
       "    }\n",
       "\n",
       "    .dataframe tbody tr th {\n",
       "        vertical-align: top;\n",
       "    }\n",
       "\n",
       "    .dataframe thead th {\n",
       "        text-align: right;\n",
       "    }\n",
       "</style>\n",
       "<table border=\"1\" class=\"dataframe\">\n",
       "  <thead>\n",
       "    <tr style=\"text-align: right;\">\n",
       "      <th></th>\n",
       "      <th>mpg</th>\n",
       "      <th>cyl</th>\n",
       "      <th>disp</th>\n",
       "      <th>hp</th>\n",
       "      <th>drat</th>\n",
       "      <th>wt</th>\n",
       "      <th>qsec</th>\n",
       "      <th>vs</th>\n",
       "      <th>am</th>\n",
       "      <th>gear</th>\n",
       "      <th>carb</th>\n",
       "      <th>fast</th>\n",
       "      <th>cars</th>\n",
       "      <th>carname</th>\n",
       "    </tr>\n",
       "  </thead>\n",
       "  <tbody>\n",
       "    <tr>\n",
       "      <th>0</th>\n",
       "      <td>4.582576</td>\n",
       "      <td>6</td>\n",
       "      <td>160.0</td>\n",
       "      <td>110</td>\n",
       "      <td>3.90</td>\n",
       "      <td>2.620</td>\n",
       "      <td>16.46</td>\n",
       "      <td>0</td>\n",
       "      <td>1</td>\n",
       "      <td>4</td>\n",
       "      <td>4</td>\n",
       "      <td>1</td>\n",
       "      <td>Mazda RX4</td>\n",
       "      <td>Mazda RX4</td>\n",
       "    </tr>\n",
       "    <tr>\n",
       "      <th>1</th>\n",
       "      <td>4.582576</td>\n",
       "      <td>6</td>\n",
       "      <td>160.0</td>\n",
       "      <td>110</td>\n",
       "      <td>3.90</td>\n",
       "      <td>2.875</td>\n",
       "      <td>17.02</td>\n",
       "      <td>0</td>\n",
       "      <td>1</td>\n",
       "      <td>4</td>\n",
       "      <td>4</td>\n",
       "      <td>1</td>\n",
       "      <td>Mazda RX4 Wag</td>\n",
       "      <td>Mazda RX4 Wag</td>\n",
       "    </tr>\n",
       "    <tr>\n",
       "      <th>2</th>\n",
       "      <td>4.774935</td>\n",
       "      <td>4</td>\n",
       "      <td>108.0</td>\n",
       "      <td>93</td>\n",
       "      <td>3.85</td>\n",
       "      <td>2.320</td>\n",
       "      <td>18.61</td>\n",
       "      <td>1</td>\n",
       "      <td>1</td>\n",
       "      <td>4</td>\n",
       "      <td>1</td>\n",
       "      <td>1</td>\n",
       "      <td>Datsun 710</td>\n",
       "      <td>Datsun 710</td>\n",
       "    </tr>\n",
       "    <tr>\n",
       "      <th>3</th>\n",
       "      <td>4.626013</td>\n",
       "      <td>6</td>\n",
       "      <td>258.0</td>\n",
       "      <td>110</td>\n",
       "      <td>3.08</td>\n",
       "      <td>3.215</td>\n",
       "      <td>19.44</td>\n",
       "      <td>1</td>\n",
       "      <td>0</td>\n",
       "      <td>3</td>\n",
       "      <td>1</td>\n",
       "      <td>1</td>\n",
       "      <td>Hornet 4 Drive</td>\n",
       "      <td>Hornet 4 Drive</td>\n",
       "    </tr>\n",
       "    <tr>\n",
       "      <th>4</th>\n",
       "      <td>4.324350</td>\n",
       "      <td>8</td>\n",
       "      <td>360.0</td>\n",
       "      <td>175</td>\n",
       "      <td>3.15</td>\n",
       "      <td>3.440</td>\n",
       "      <td>17.02</td>\n",
       "      <td>0</td>\n",
       "      <td>0</td>\n",
       "      <td>3</td>\n",
       "      <td>2</td>\n",
       "      <td>1</td>\n",
       "      <td>Hornet Sportabout</td>\n",
       "      <td>Hornet Sportabout</td>\n",
       "    </tr>\n",
       "    <tr>\n",
       "      <th>5</th>\n",
       "      <td>4.254409</td>\n",
       "      <td>6</td>\n",
       "      <td>225.0</td>\n",
       "      <td>105</td>\n",
       "      <td>2.76</td>\n",
       "      <td>3.460</td>\n",
       "      <td>20.22</td>\n",
       "      <td>1</td>\n",
       "      <td>0</td>\n",
       "      <td>3</td>\n",
       "      <td>1</td>\n",
       "      <td>1</td>\n",
       "      <td>Valiant</td>\n",
       "      <td>Valiant</td>\n",
       "    </tr>\n",
       "    <tr>\n",
       "      <th>6</th>\n",
       "      <td>3.781534</td>\n",
       "      <td>8</td>\n",
       "      <td>360.0</td>\n",
       "      <td>245</td>\n",
       "      <td>3.21</td>\n",
       "      <td>3.570</td>\n",
       "      <td>15.84</td>\n",
       "      <td>0</td>\n",
       "      <td>0</td>\n",
       "      <td>3</td>\n",
       "      <td>4</td>\n",
       "      <td>0</td>\n",
       "      <td>Duster 360</td>\n",
       "      <td>Duster 360</td>\n",
       "    </tr>\n",
       "    <tr>\n",
       "      <th>7</th>\n",
       "      <td>4.939636</td>\n",
       "      <td>4</td>\n",
       "      <td>146.7</td>\n",
       "      <td>62</td>\n",
       "      <td>3.69</td>\n",
       "      <td>3.190</td>\n",
       "      <td>20.00</td>\n",
       "      <td>1</td>\n",
       "      <td>0</td>\n",
       "      <td>4</td>\n",
       "      <td>2</td>\n",
       "      <td>1</td>\n",
       "      <td>Merc 240D</td>\n",
       "      <td>Merc 240D</td>\n",
       "    </tr>\n",
       "    <tr>\n",
       "      <th>8</th>\n",
       "      <td>4.774935</td>\n",
       "      <td>4</td>\n",
       "      <td>140.8</td>\n",
       "      <td>95</td>\n",
       "      <td>3.92</td>\n",
       "      <td>3.150</td>\n",
       "      <td>22.90</td>\n",
       "      <td>1</td>\n",
       "      <td>0</td>\n",
       "      <td>4</td>\n",
       "      <td>2</td>\n",
       "      <td>1</td>\n",
       "      <td>Merc 230</td>\n",
       "      <td>Merc 230</td>\n",
       "    </tr>\n",
       "    <tr>\n",
       "      <th>9</th>\n",
       "      <td>4.381780</td>\n",
       "      <td>6</td>\n",
       "      <td>167.6</td>\n",
       "      <td>123</td>\n",
       "      <td>3.92</td>\n",
       "      <td>3.440</td>\n",
       "      <td>18.30</td>\n",
       "      <td>1</td>\n",
       "      <td>0</td>\n",
       "      <td>4</td>\n",
       "      <td>4</td>\n",
       "      <td>1</td>\n",
       "      <td>Merc 280</td>\n",
       "      <td>Merc 280</td>\n",
       "    </tr>\n",
       "    <tr>\n",
       "      <th>10</th>\n",
       "      <td>4.219005</td>\n",
       "      <td>6</td>\n",
       "      <td>167.6</td>\n",
       "      <td>123</td>\n",
       "      <td>3.92</td>\n",
       "      <td>3.440</td>\n",
       "      <td>18.90</td>\n",
       "      <td>1</td>\n",
       "      <td>0</td>\n",
       "      <td>4</td>\n",
       "      <td>4</td>\n",
       "      <td>1</td>\n",
       "      <td>Merc 280C</td>\n",
       "      <td>Merc 280C</td>\n",
       "    </tr>\n",
       "    <tr>\n",
       "      <th>11</th>\n",
       "      <td>4.049691</td>\n",
       "      <td>8</td>\n",
       "      <td>275.8</td>\n",
       "      <td>180</td>\n",
       "      <td>3.07</td>\n",
       "      <td>4.070</td>\n",
       "      <td>17.40</td>\n",
       "      <td>0</td>\n",
       "      <td>0</td>\n",
       "      <td>3</td>\n",
       "      <td>3</td>\n",
       "      <td>1</td>\n",
       "      <td>Merc 450SE</td>\n",
       "      <td>Merc 450SE</td>\n",
       "    </tr>\n",
       "    <tr>\n",
       "      <th>12</th>\n",
       "      <td>4.159327</td>\n",
       "      <td>8</td>\n",
       "      <td>275.8</td>\n",
       "      <td>180</td>\n",
       "      <td>3.07</td>\n",
       "      <td>3.730</td>\n",
       "      <td>17.60</td>\n",
       "      <td>0</td>\n",
       "      <td>0</td>\n",
       "      <td>3</td>\n",
       "      <td>3</td>\n",
       "      <td>1</td>\n",
       "      <td>Merc 450SL</td>\n",
       "      <td>Merc 450SL</td>\n",
       "    </tr>\n",
       "    <tr>\n",
       "      <th>13</th>\n",
       "      <td>3.898718</td>\n",
       "      <td>8</td>\n",
       "      <td>275.8</td>\n",
       "      <td>180</td>\n",
       "      <td>3.07</td>\n",
       "      <td>3.780</td>\n",
       "      <td>18.00</td>\n",
       "      <td>0</td>\n",
       "      <td>0</td>\n",
       "      <td>3</td>\n",
       "      <td>3</td>\n",
       "      <td>0</td>\n",
       "      <td>Merc 450SLC</td>\n",
       "      <td>Merc 450SLC</td>\n",
       "    </tr>\n",
       "    <tr>\n",
       "      <th>14</th>\n",
       "      <td>3.224903</td>\n",
       "      <td>8</td>\n",
       "      <td>472.0</td>\n",
       "      <td>205</td>\n",
       "      <td>2.93</td>\n",
       "      <td>5.250</td>\n",
       "      <td>17.98</td>\n",
       "      <td>0</td>\n",
       "      <td>0</td>\n",
       "      <td>3</td>\n",
       "      <td>4</td>\n",
       "      <td>0</td>\n",
       "      <td>Cadillac Fleetwood</td>\n",
       "      <td>Cadillac Fleetwood</td>\n",
       "    </tr>\n",
       "    <tr>\n",
       "      <th>15</th>\n",
       "      <td>3.224903</td>\n",
       "      <td>8</td>\n",
       "      <td>460.0</td>\n",
       "      <td>215</td>\n",
       "      <td>3.00</td>\n",
       "      <td>5.424</td>\n",
       "      <td>17.82</td>\n",
       "      <td>0</td>\n",
       "      <td>0</td>\n",
       "      <td>3</td>\n",
       "      <td>4</td>\n",
       "      <td>0</td>\n",
       "      <td>Lincoln Continental</td>\n",
       "      <td>Lincoln Continental</td>\n",
       "    </tr>\n",
       "    <tr>\n",
       "      <th>16</th>\n",
       "      <td>3.834058</td>\n",
       "      <td>8</td>\n",
       "      <td>440.0</td>\n",
       "      <td>230</td>\n",
       "      <td>3.23</td>\n",
       "      <td>5.345</td>\n",
       "      <td>17.42</td>\n",
       "      <td>0</td>\n",
       "      <td>0</td>\n",
       "      <td>3</td>\n",
       "      <td>4</td>\n",
       "      <td>0</td>\n",
       "      <td>Chrysler Imperial</td>\n",
       "      <td>Chrysler Imperial</td>\n",
       "    </tr>\n",
       "    <tr>\n",
       "      <th>17</th>\n",
       "      <td>5.692100</td>\n",
       "      <td>4</td>\n",
       "      <td>78.7</td>\n",
       "      <td>66</td>\n",
       "      <td>4.08</td>\n",
       "      <td>2.200</td>\n",
       "      <td>19.47</td>\n",
       "      <td>1</td>\n",
       "      <td>1</td>\n",
       "      <td>4</td>\n",
       "      <td>1</td>\n",
       "      <td>1</td>\n",
       "      <td>Fiat 128</td>\n",
       "      <td>Fiat 128</td>\n",
       "    </tr>\n",
       "    <tr>\n",
       "      <th>18</th>\n",
       "      <td>5.513620</td>\n",
       "      <td>4</td>\n",
       "      <td>75.7</td>\n",
       "      <td>52</td>\n",
       "      <td>4.93</td>\n",
       "      <td>1.615</td>\n",
       "      <td>18.52</td>\n",
       "      <td>1</td>\n",
       "      <td>1</td>\n",
       "      <td>4</td>\n",
       "      <td>2</td>\n",
       "      <td>1</td>\n",
       "      <td>Honda Civic</td>\n",
       "      <td>Honda Civic</td>\n",
       "    </tr>\n",
       "    <tr>\n",
       "      <th>19</th>\n",
       "      <td>5.822371</td>\n",
       "      <td>4</td>\n",
       "      <td>71.1</td>\n",
       "      <td>65</td>\n",
       "      <td>4.22</td>\n",
       "      <td>1.835</td>\n",
       "      <td>19.90</td>\n",
       "      <td>1</td>\n",
       "      <td>1</td>\n",
       "      <td>4</td>\n",
       "      <td>1</td>\n",
       "      <td>1</td>\n",
       "      <td>Toyota Corolla</td>\n",
       "      <td>Toyota Corolla</td>\n",
       "    </tr>\n",
       "    <tr>\n",
       "      <th>20</th>\n",
       "      <td>4.636809</td>\n",
       "      <td>4</td>\n",
       "      <td>120.1</td>\n",
       "      <td>97</td>\n",
       "      <td>3.70</td>\n",
       "      <td>2.465</td>\n",
       "      <td>20.01</td>\n",
       "      <td>1</td>\n",
       "      <td>0</td>\n",
       "      <td>3</td>\n",
       "      <td>1</td>\n",
       "      <td>1</td>\n",
       "      <td>Toyota Corona</td>\n",
       "      <td>Toyota Corona</td>\n",
       "    </tr>\n",
       "    <tr>\n",
       "      <th>21</th>\n",
       "      <td>3.937004</td>\n",
       "      <td>8</td>\n",
       "      <td>318.0</td>\n",
       "      <td>150</td>\n",
       "      <td>2.76</td>\n",
       "      <td>3.520</td>\n",
       "      <td>16.87</td>\n",
       "      <td>0</td>\n",
       "      <td>0</td>\n",
       "      <td>3</td>\n",
       "      <td>2</td>\n",
       "      <td>0</td>\n",
       "      <td>Dodge Challenger</td>\n",
       "      <td>Dodge Challenger</td>\n",
       "    </tr>\n",
       "    <tr>\n",
       "      <th>22</th>\n",
       "      <td>3.898718</td>\n",
       "      <td>8</td>\n",
       "      <td>304.0</td>\n",
       "      <td>150</td>\n",
       "      <td>3.15</td>\n",
       "      <td>3.435</td>\n",
       "      <td>17.30</td>\n",
       "      <td>0</td>\n",
       "      <td>0</td>\n",
       "      <td>3</td>\n",
       "      <td>2</td>\n",
       "      <td>0</td>\n",
       "      <td>AMC Javelin</td>\n",
       "      <td>AMC Javelin</td>\n",
       "    </tr>\n",
       "    <tr>\n",
       "      <th>23</th>\n",
       "      <td>3.646917</td>\n",
       "      <td>8</td>\n",
       "      <td>350.0</td>\n",
       "      <td>245</td>\n",
       "      <td>3.73</td>\n",
       "      <td>3.840</td>\n",
       "      <td>15.41</td>\n",
       "      <td>0</td>\n",
       "      <td>0</td>\n",
       "      <td>3</td>\n",
       "      <td>4</td>\n",
       "      <td>0</td>\n",
       "      <td>Camaro Z28</td>\n",
       "      <td>Camaro Z28</td>\n",
       "    </tr>\n",
       "    <tr>\n",
       "      <th>24</th>\n",
       "      <td>4.381780</td>\n",
       "      <td>8</td>\n",
       "      <td>400.0</td>\n",
       "      <td>175</td>\n",
       "      <td>3.08</td>\n",
       "      <td>3.845</td>\n",
       "      <td>17.05</td>\n",
       "      <td>0</td>\n",
       "      <td>0</td>\n",
       "      <td>3</td>\n",
       "      <td>2</td>\n",
       "      <td>1</td>\n",
       "      <td>Pontiac Firebird</td>\n",
       "      <td>Pontiac Firebird</td>\n",
       "    </tr>\n",
       "    <tr>\n",
       "      <th>25</th>\n",
       "      <td>5.224940</td>\n",
       "      <td>4</td>\n",
       "      <td>79.0</td>\n",
       "      <td>66</td>\n",
       "      <td>4.08</td>\n",
       "      <td>1.935</td>\n",
       "      <td>18.90</td>\n",
       "      <td>1</td>\n",
       "      <td>1</td>\n",
       "      <td>4</td>\n",
       "      <td>1</td>\n",
       "      <td>1</td>\n",
       "      <td>Fiat X1-9</td>\n",
       "      <td>Fiat X1-9</td>\n",
       "    </tr>\n",
       "    <tr>\n",
       "      <th>26</th>\n",
       "      <td>5.099020</td>\n",
       "      <td>4</td>\n",
       "      <td>120.3</td>\n",
       "      <td>91</td>\n",
       "      <td>4.43</td>\n",
       "      <td>2.140</td>\n",
       "      <td>16.70</td>\n",
       "      <td>0</td>\n",
       "      <td>1</td>\n",
       "      <td>5</td>\n",
       "      <td>2</td>\n",
       "      <td>1</td>\n",
       "      <td>Porsche 914-2</td>\n",
       "      <td>Porsche 914-2</td>\n",
       "    </tr>\n",
       "    <tr>\n",
       "      <th>27</th>\n",
       "      <td>5.513620</td>\n",
       "      <td>4</td>\n",
       "      <td>95.1</td>\n",
       "      <td>113</td>\n",
       "      <td>3.77</td>\n",
       "      <td>1.513</td>\n",
       "      <td>16.90</td>\n",
       "      <td>1</td>\n",
       "      <td>1</td>\n",
       "      <td>5</td>\n",
       "      <td>2</td>\n",
       "      <td>1</td>\n",
       "      <td>Lotus Europa</td>\n",
       "      <td>Lotus Europa</td>\n",
       "    </tr>\n",
       "    <tr>\n",
       "      <th>28</th>\n",
       "      <td>3.974921</td>\n",
       "      <td>8</td>\n",
       "      <td>351.0</td>\n",
       "      <td>264</td>\n",
       "      <td>4.22</td>\n",
       "      <td>3.170</td>\n",
       "      <td>14.50</td>\n",
       "      <td>0</td>\n",
       "      <td>1</td>\n",
       "      <td>5</td>\n",
       "      <td>4</td>\n",
       "      <td>0</td>\n",
       "      <td>Ford Pantera L</td>\n",
       "      <td>Ford Pantera L</td>\n",
       "    </tr>\n",
       "    <tr>\n",
       "      <th>29</th>\n",
       "      <td>4.438468</td>\n",
       "      <td>6</td>\n",
       "      <td>145.0</td>\n",
       "      <td>175</td>\n",
       "      <td>3.62</td>\n",
       "      <td>2.770</td>\n",
       "      <td>15.50</td>\n",
       "      <td>0</td>\n",
       "      <td>1</td>\n",
       "      <td>5</td>\n",
       "      <td>6</td>\n",
       "      <td>1</td>\n",
       "      <td>Ferrari Dino</td>\n",
       "      <td>Ferrari Dino</td>\n",
       "    </tr>\n",
       "    <tr>\n",
       "      <th>30</th>\n",
       "      <td>3.872983</td>\n",
       "      <td>8</td>\n",
       "      <td>301.0</td>\n",
       "      <td>335</td>\n",
       "      <td>3.54</td>\n",
       "      <td>3.570</td>\n",
       "      <td>14.60</td>\n",
       "      <td>0</td>\n",
       "      <td>1</td>\n",
       "      <td>5</td>\n",
       "      <td>8</td>\n",
       "      <td>0</td>\n",
       "      <td>Maserati Bora</td>\n",
       "      <td>Maserati Bora</td>\n",
       "    </tr>\n",
       "    <tr>\n",
       "      <th>31</th>\n",
       "      <td>4.626013</td>\n",
       "      <td>4</td>\n",
       "      <td>121.0</td>\n",
       "      <td>109</td>\n",
       "      <td>4.11</td>\n",
       "      <td>2.780</td>\n",
       "      <td>18.60</td>\n",
       "      <td>1</td>\n",
       "      <td>1</td>\n",
       "      <td>4</td>\n",
       "      <td>2</td>\n",
       "      <td>1</td>\n",
       "      <td>Volvo 142E</td>\n",
       "      <td>Volvo 142E</td>\n",
       "    </tr>\n",
       "  </tbody>\n",
       "</table>\n",
       "</div>"
      ],
      "text/plain": [
       "         mpg  cyl   disp   hp  drat     wt   qsec  vs  am  gear  carb  fast  \\\n",
       "0   4.582576    6  160.0  110  3.90  2.620  16.46   0   1     4     4     1   \n",
       "1   4.582576    6  160.0  110  3.90  2.875  17.02   0   1     4     4     1   \n",
       "2   4.774935    4  108.0   93  3.85  2.320  18.61   1   1     4     1     1   \n",
       "3   4.626013    6  258.0  110  3.08  3.215  19.44   1   0     3     1     1   \n",
       "4   4.324350    8  360.0  175  3.15  3.440  17.02   0   0     3     2     1   \n",
       "5   4.254409    6  225.0  105  2.76  3.460  20.22   1   0     3     1     1   \n",
       "6   3.781534    8  360.0  245  3.21  3.570  15.84   0   0     3     4     0   \n",
       "7   4.939636    4  146.7   62  3.69  3.190  20.00   1   0     4     2     1   \n",
       "8   4.774935    4  140.8   95  3.92  3.150  22.90   1   0     4     2     1   \n",
       "9   4.381780    6  167.6  123  3.92  3.440  18.30   1   0     4     4     1   \n",
       "10  4.219005    6  167.6  123  3.92  3.440  18.90   1   0     4     4     1   \n",
       "11  4.049691    8  275.8  180  3.07  4.070  17.40   0   0     3     3     1   \n",
       "12  4.159327    8  275.8  180  3.07  3.730  17.60   0   0     3     3     1   \n",
       "13  3.898718    8  275.8  180  3.07  3.780  18.00   0   0     3     3     0   \n",
       "14  3.224903    8  472.0  205  2.93  5.250  17.98   0   0     3     4     0   \n",
       "15  3.224903    8  460.0  215  3.00  5.424  17.82   0   0     3     4     0   \n",
       "16  3.834058    8  440.0  230  3.23  5.345  17.42   0   0     3     4     0   \n",
       "17  5.692100    4   78.7   66  4.08  2.200  19.47   1   1     4     1     1   \n",
       "18  5.513620    4   75.7   52  4.93  1.615  18.52   1   1     4     2     1   \n",
       "19  5.822371    4   71.1   65  4.22  1.835  19.90   1   1     4     1     1   \n",
       "20  4.636809    4  120.1   97  3.70  2.465  20.01   1   0     3     1     1   \n",
       "21  3.937004    8  318.0  150  2.76  3.520  16.87   0   0     3     2     0   \n",
       "22  3.898718    8  304.0  150  3.15  3.435  17.30   0   0     3     2     0   \n",
       "23  3.646917    8  350.0  245  3.73  3.840  15.41   0   0     3     4     0   \n",
       "24  4.381780    8  400.0  175  3.08  3.845  17.05   0   0     3     2     1   \n",
       "25  5.224940    4   79.0   66  4.08  1.935  18.90   1   1     4     1     1   \n",
       "26  5.099020    4  120.3   91  4.43  2.140  16.70   0   1     5     2     1   \n",
       "27  5.513620    4   95.1  113  3.77  1.513  16.90   1   1     5     2     1   \n",
       "28  3.974921    8  351.0  264  4.22  3.170  14.50   0   1     5     4     0   \n",
       "29  4.438468    6  145.0  175  3.62  2.770  15.50   0   1     5     6     1   \n",
       "30  3.872983    8  301.0  335  3.54  3.570  14.60   0   1     5     8     0   \n",
       "31  4.626013    4  121.0  109  4.11  2.780  18.60   1   1     4     2     1   \n",
       "\n",
       "                   cars              carname  \n",
       "0             Mazda RX4            Mazda RX4  \n",
       "1         Mazda RX4 Wag        Mazda RX4 Wag  \n",
       "2            Datsun 710           Datsun 710  \n",
       "3        Hornet 4 Drive       Hornet 4 Drive  \n",
       "4     Hornet Sportabout    Hornet Sportabout  \n",
       "5               Valiant              Valiant  \n",
       "6            Duster 360           Duster 360  \n",
       "7             Merc 240D            Merc 240D  \n",
       "8              Merc 230             Merc 230  \n",
       "9              Merc 280             Merc 280  \n",
       "10            Merc 280C            Merc 280C  \n",
       "11           Merc 450SE           Merc 450SE  \n",
       "12           Merc 450SL           Merc 450SL  \n",
       "13          Merc 450SLC          Merc 450SLC  \n",
       "14   Cadillac Fleetwood   Cadillac Fleetwood  \n",
       "15  Lincoln Continental  Lincoln Continental  \n",
       "16    Chrysler Imperial    Chrysler Imperial  \n",
       "17             Fiat 128             Fiat 128  \n",
       "18          Honda Civic          Honda Civic  \n",
       "19       Toyota Corolla       Toyota Corolla  \n",
       "20        Toyota Corona        Toyota Corona  \n",
       "21     Dodge Challenger     Dodge Challenger  \n",
       "22          AMC Javelin          AMC Javelin  \n",
       "23           Camaro Z28           Camaro Z28  \n",
       "24     Pontiac Firebird     Pontiac Firebird  \n",
       "25            Fiat X1-9            Fiat X1-9  \n",
       "26        Porsche 914-2        Porsche 914-2  \n",
       "27         Lotus Europa         Lotus Europa  \n",
       "28       Ford Pantera L       Ford Pantera L  \n",
       "29         Ferrari Dino         Ferrari Dino  \n",
       "30        Maserati Bora        Maserati Bora  \n",
       "31           Volvo 142E           Volvo 142E  "
      ]
     },
     "execution_count": 167,
     "metadata": {},
     "output_type": "execute_result"
    }
   ],
   "source": [
    "df"
   ]
  },
  {
   "cell_type": "code",
   "execution_count": 168,
   "metadata": {},
   "outputs": [
    {
     "name": "stdout",
     "output_type": "stream",
     "text": [
      "<class 'pandas.core.frame.DataFrame'>\n",
      "RangeIndex: 32 entries, 0 to 31\n",
      "Data columns (total 14 columns):\n",
      "mpg        32 non-null float64\n",
      "cyl        32 non-null int64\n",
      "disp       32 non-null float64\n",
      "hp         32 non-null int64\n",
      "drat       32 non-null float64\n",
      "wt         32 non-null float64\n",
      "qsec       32 non-null float64\n",
      "vs         32 non-null int64\n",
      "am         32 non-null int64\n",
      "gear       32 non-null int64\n",
      "carb       32 non-null int64\n",
      "fast       32 non-null int64\n",
      "cars       32 non-null object\n",
      "carname    32 non-null object\n",
      "dtypes: float64(5), int64(7), object(2)\n",
      "memory usage: 3.6+ KB\n"
     ]
    }
   ],
   "source": [
    "df.info()"
   ]
  },
  {
   "cell_type": "code",
   "execution_count": 169,
   "metadata": {},
   "outputs": [
    {
     "data": {
      "text/plain": [
       "0     True\n",
       "1     True\n",
       "2     True\n",
       "3     True\n",
       "4     True\n",
       "5     True\n",
       "6     True\n",
       "7     True\n",
       "8     True\n",
       "9     True\n",
       "10    True\n",
       "11    True\n",
       "12    True\n",
       "13    True\n",
       "14    True\n",
       "15    True\n",
       "16    True\n",
       "17    True\n",
       "18    True\n",
       "19    True\n",
       "20    True\n",
       "21    True\n",
       "22    True\n",
       "23    True\n",
       "24    True\n",
       "25    True\n",
       "26    True\n",
       "27    True\n",
       "28    True\n",
       "29    True\n",
       "30    True\n",
       "31    True\n",
       "dtype: bool"
      ]
     },
     "execution_count": 169,
     "metadata": {},
     "output_type": "execute_result"
    }
   ],
   "source": [
    "df.cars==df.carname"
   ]
  },
  {
   "cell_type": "code",
   "execution_count": 170,
   "metadata": {},
   "outputs": [
    {
     "data": {
      "text/plain": [
       "32"
      ]
     },
     "execution_count": 170,
     "metadata": {},
     "output_type": "execute_result"
    }
   ],
   "source": [
    "#判断特征cars与carname的区别\n",
    "sum(df.cars==df.carname)"
   ]
  },
  {
   "cell_type": "code",
   "execution_count": 171,
   "metadata": {},
   "outputs": [
    {
     "data": {
      "text/plain": [
       "0"
      ]
     },
     "execution_count": 171,
     "metadata": {},
     "output_type": "execute_result"
    }
   ],
   "source": [
    "sum(df.cars!=df.carname)"
   ]
  },
  {
   "cell_type": "code",
   "execution_count": 172,
   "metadata": {},
   "outputs": [
    {
     "data": {
      "text/plain": [
       "Index(['mpg', 'cyl', 'disp', 'hp', 'drat', 'wt', 'qsec', 'vs', 'am', 'gear',\n",
       "       'carb', 'fast', 'cars', 'carname'],\n",
       "      dtype='object')"
      ]
     },
     "execution_count": 172,
     "metadata": {},
     "output_type": "execute_result"
    }
   ],
   "source": [
    "df.columns"
   ]
  },
  {
   "cell_type": "code",
   "execution_count": 173,
   "metadata": {},
   "outputs": [
    {
     "data": {
      "text/html": [
       "<div>\n",
       "<style scoped>\n",
       "    .dataframe tbody tr th:only-of-type {\n",
       "        vertical-align: middle;\n",
       "    }\n",
       "\n",
       "    .dataframe tbody tr th {\n",
       "        vertical-align: top;\n",
       "    }\n",
       "\n",
       "    .dataframe thead th {\n",
       "        text-align: right;\n",
       "    }\n",
       "</style>\n",
       "<table border=\"1\" class=\"dataframe\">\n",
       "  <thead>\n",
       "    <tr style=\"text-align: right;\">\n",
       "      <th></th>\n",
       "      <th>mpg</th>\n",
       "      <th>cyl</th>\n",
       "      <th>disp</th>\n",
       "      <th>hp</th>\n",
       "      <th>drat</th>\n",
       "      <th>wt</th>\n",
       "      <th>qsec</th>\n",
       "      <th>vs</th>\n",
       "      <th>am</th>\n",
       "      <th>gear</th>\n",
       "      <th>carb</th>\n",
       "      <th>fast</th>\n",
       "      <th>cars</th>\n",
       "      <th>carname</th>\n",
       "    </tr>\n",
       "  </thead>\n",
       "  <tbody>\n",
       "    <tr>\n",
       "      <th>0</th>\n",
       "      <td>4.582576</td>\n",
       "      <td>6</td>\n",
       "      <td>160.0</td>\n",
       "      <td>110</td>\n",
       "      <td>3.90</td>\n",
       "      <td>2.620</td>\n",
       "      <td>16.46</td>\n",
       "      <td>0</td>\n",
       "      <td>1</td>\n",
       "      <td>4</td>\n",
       "      <td>4</td>\n",
       "      <td>1</td>\n",
       "      <td>Mazda RX4</td>\n",
       "      <td>Mazda RX4</td>\n",
       "    </tr>\n",
       "    <tr>\n",
       "      <th>1</th>\n",
       "      <td>4.582576</td>\n",
       "      <td>6</td>\n",
       "      <td>160.0</td>\n",
       "      <td>110</td>\n",
       "      <td>3.90</td>\n",
       "      <td>2.875</td>\n",
       "      <td>17.02</td>\n",
       "      <td>0</td>\n",
       "      <td>1</td>\n",
       "      <td>4</td>\n",
       "      <td>4</td>\n",
       "      <td>1</td>\n",
       "      <td>Mazda RX4 Wag</td>\n",
       "      <td>Mazda RX4 Wag</td>\n",
       "    </tr>\n",
       "    <tr>\n",
       "      <th>2</th>\n",
       "      <td>4.774935</td>\n",
       "      <td>4</td>\n",
       "      <td>108.0</td>\n",
       "      <td>93</td>\n",
       "      <td>3.85</td>\n",
       "      <td>2.320</td>\n",
       "      <td>18.61</td>\n",
       "      <td>1</td>\n",
       "      <td>1</td>\n",
       "      <td>4</td>\n",
       "      <td>1</td>\n",
       "      <td>1</td>\n",
       "      <td>Datsun 710</td>\n",
       "      <td>Datsun 710</td>\n",
       "    </tr>\n",
       "    <tr>\n",
       "      <th>3</th>\n",
       "      <td>4.626013</td>\n",
       "      <td>6</td>\n",
       "      <td>258.0</td>\n",
       "      <td>110</td>\n",
       "      <td>3.08</td>\n",
       "      <td>3.215</td>\n",
       "      <td>19.44</td>\n",
       "      <td>1</td>\n",
       "      <td>0</td>\n",
       "      <td>3</td>\n",
       "      <td>1</td>\n",
       "      <td>1</td>\n",
       "      <td>Hornet 4 Drive</td>\n",
       "      <td>Hornet 4 Drive</td>\n",
       "    </tr>\n",
       "    <tr>\n",
       "      <th>4</th>\n",
       "      <td>4.324350</td>\n",
       "      <td>8</td>\n",
       "      <td>360.0</td>\n",
       "      <td>175</td>\n",
       "      <td>3.15</td>\n",
       "      <td>3.440</td>\n",
       "      <td>17.02</td>\n",
       "      <td>0</td>\n",
       "      <td>0</td>\n",
       "      <td>3</td>\n",
       "      <td>2</td>\n",
       "      <td>1</td>\n",
       "      <td>Hornet Sportabout</td>\n",
       "      <td>Hornet Sportabout</td>\n",
       "    </tr>\n",
       "    <tr>\n",
       "      <th>5</th>\n",
       "      <td>4.254409</td>\n",
       "      <td>6</td>\n",
       "      <td>225.0</td>\n",
       "      <td>105</td>\n",
       "      <td>2.76</td>\n",
       "      <td>3.460</td>\n",
       "      <td>20.22</td>\n",
       "      <td>1</td>\n",
       "      <td>0</td>\n",
       "      <td>3</td>\n",
       "      <td>1</td>\n",
       "      <td>1</td>\n",
       "      <td>Valiant</td>\n",
       "      <td>Valiant</td>\n",
       "    </tr>\n",
       "    <tr>\n",
       "      <th>6</th>\n",
       "      <td>3.781534</td>\n",
       "      <td>8</td>\n",
       "      <td>360.0</td>\n",
       "      <td>245</td>\n",
       "      <td>3.21</td>\n",
       "      <td>3.570</td>\n",
       "      <td>15.84</td>\n",
       "      <td>0</td>\n",
       "      <td>0</td>\n",
       "      <td>3</td>\n",
       "      <td>4</td>\n",
       "      <td>0</td>\n",
       "      <td>Duster 360</td>\n",
       "      <td>Duster 360</td>\n",
       "    </tr>\n",
       "    <tr>\n",
       "      <th>7</th>\n",
       "      <td>4.939636</td>\n",
       "      <td>4</td>\n",
       "      <td>146.7</td>\n",
       "      <td>62</td>\n",
       "      <td>3.69</td>\n",
       "      <td>3.190</td>\n",
       "      <td>20.00</td>\n",
       "      <td>1</td>\n",
       "      <td>0</td>\n",
       "      <td>4</td>\n",
       "      <td>2</td>\n",
       "      <td>1</td>\n",
       "      <td>Merc 240D</td>\n",
       "      <td>Merc 240D</td>\n",
       "    </tr>\n",
       "    <tr>\n",
       "      <th>8</th>\n",
       "      <td>4.774935</td>\n",
       "      <td>4</td>\n",
       "      <td>140.8</td>\n",
       "      <td>95</td>\n",
       "      <td>3.92</td>\n",
       "      <td>3.150</td>\n",
       "      <td>22.90</td>\n",
       "      <td>1</td>\n",
       "      <td>0</td>\n",
       "      <td>4</td>\n",
       "      <td>2</td>\n",
       "      <td>1</td>\n",
       "      <td>Merc 230</td>\n",
       "      <td>Merc 230</td>\n",
       "    </tr>\n",
       "    <tr>\n",
       "      <th>9</th>\n",
       "      <td>4.381780</td>\n",
       "      <td>6</td>\n",
       "      <td>167.6</td>\n",
       "      <td>123</td>\n",
       "      <td>3.92</td>\n",
       "      <td>3.440</td>\n",
       "      <td>18.30</td>\n",
       "      <td>1</td>\n",
       "      <td>0</td>\n",
       "      <td>4</td>\n",
       "      <td>4</td>\n",
       "      <td>1</td>\n",
       "      <td>Merc 280</td>\n",
       "      <td>Merc 280</td>\n",
       "    </tr>\n",
       "    <tr>\n",
       "      <th>10</th>\n",
       "      <td>4.219005</td>\n",
       "      <td>6</td>\n",
       "      <td>167.6</td>\n",
       "      <td>123</td>\n",
       "      <td>3.92</td>\n",
       "      <td>3.440</td>\n",
       "      <td>18.90</td>\n",
       "      <td>1</td>\n",
       "      <td>0</td>\n",
       "      <td>4</td>\n",
       "      <td>4</td>\n",
       "      <td>1</td>\n",
       "      <td>Merc 280C</td>\n",
       "      <td>Merc 280C</td>\n",
       "    </tr>\n",
       "    <tr>\n",
       "      <th>11</th>\n",
       "      <td>4.049691</td>\n",
       "      <td>8</td>\n",
       "      <td>275.8</td>\n",
       "      <td>180</td>\n",
       "      <td>3.07</td>\n",
       "      <td>4.070</td>\n",
       "      <td>17.40</td>\n",
       "      <td>0</td>\n",
       "      <td>0</td>\n",
       "      <td>3</td>\n",
       "      <td>3</td>\n",
       "      <td>1</td>\n",
       "      <td>Merc 450SE</td>\n",
       "      <td>Merc 450SE</td>\n",
       "    </tr>\n",
       "    <tr>\n",
       "      <th>12</th>\n",
       "      <td>4.159327</td>\n",
       "      <td>8</td>\n",
       "      <td>275.8</td>\n",
       "      <td>180</td>\n",
       "      <td>3.07</td>\n",
       "      <td>3.730</td>\n",
       "      <td>17.60</td>\n",
       "      <td>0</td>\n",
       "      <td>0</td>\n",
       "      <td>3</td>\n",
       "      <td>3</td>\n",
       "      <td>1</td>\n",
       "      <td>Merc 450SL</td>\n",
       "      <td>Merc 450SL</td>\n",
       "    </tr>\n",
       "    <tr>\n",
       "      <th>13</th>\n",
       "      <td>3.898718</td>\n",
       "      <td>8</td>\n",
       "      <td>275.8</td>\n",
       "      <td>180</td>\n",
       "      <td>3.07</td>\n",
       "      <td>3.780</td>\n",
       "      <td>18.00</td>\n",
       "      <td>0</td>\n",
       "      <td>0</td>\n",
       "      <td>3</td>\n",
       "      <td>3</td>\n",
       "      <td>0</td>\n",
       "      <td>Merc 450SLC</td>\n",
       "      <td>Merc 450SLC</td>\n",
       "    </tr>\n",
       "    <tr>\n",
       "      <th>14</th>\n",
       "      <td>3.224903</td>\n",
       "      <td>8</td>\n",
       "      <td>472.0</td>\n",
       "      <td>205</td>\n",
       "      <td>2.93</td>\n",
       "      <td>5.250</td>\n",
       "      <td>17.98</td>\n",
       "      <td>0</td>\n",
       "      <td>0</td>\n",
       "      <td>3</td>\n",
       "      <td>4</td>\n",
       "      <td>0</td>\n",
       "      <td>Cadillac Fleetwood</td>\n",
       "      <td>Cadillac Fleetwood</td>\n",
       "    </tr>\n",
       "    <tr>\n",
       "      <th>15</th>\n",
       "      <td>3.224903</td>\n",
       "      <td>8</td>\n",
       "      <td>460.0</td>\n",
       "      <td>215</td>\n",
       "      <td>3.00</td>\n",
       "      <td>5.424</td>\n",
       "      <td>17.82</td>\n",
       "      <td>0</td>\n",
       "      <td>0</td>\n",
       "      <td>3</td>\n",
       "      <td>4</td>\n",
       "      <td>0</td>\n",
       "      <td>Lincoln Continental</td>\n",
       "      <td>Lincoln Continental</td>\n",
       "    </tr>\n",
       "    <tr>\n",
       "      <th>16</th>\n",
       "      <td>3.834058</td>\n",
       "      <td>8</td>\n",
       "      <td>440.0</td>\n",
       "      <td>230</td>\n",
       "      <td>3.23</td>\n",
       "      <td>5.345</td>\n",
       "      <td>17.42</td>\n",
       "      <td>0</td>\n",
       "      <td>0</td>\n",
       "      <td>3</td>\n",
       "      <td>4</td>\n",
       "      <td>0</td>\n",
       "      <td>Chrysler Imperial</td>\n",
       "      <td>Chrysler Imperial</td>\n",
       "    </tr>\n",
       "    <tr>\n",
       "      <th>17</th>\n",
       "      <td>5.692100</td>\n",
       "      <td>4</td>\n",
       "      <td>78.7</td>\n",
       "      <td>66</td>\n",
       "      <td>4.08</td>\n",
       "      <td>2.200</td>\n",
       "      <td>19.47</td>\n",
       "      <td>1</td>\n",
       "      <td>1</td>\n",
       "      <td>4</td>\n",
       "      <td>1</td>\n",
       "      <td>1</td>\n",
       "      <td>Fiat 128</td>\n",
       "      <td>Fiat 128</td>\n",
       "    </tr>\n",
       "    <tr>\n",
       "      <th>18</th>\n",
       "      <td>5.513620</td>\n",
       "      <td>4</td>\n",
       "      <td>75.7</td>\n",
       "      <td>52</td>\n",
       "      <td>4.93</td>\n",
       "      <td>1.615</td>\n",
       "      <td>18.52</td>\n",
       "      <td>1</td>\n",
       "      <td>1</td>\n",
       "      <td>4</td>\n",
       "      <td>2</td>\n",
       "      <td>1</td>\n",
       "      <td>Honda Civic</td>\n",
       "      <td>Honda Civic</td>\n",
       "    </tr>\n",
       "    <tr>\n",
       "      <th>19</th>\n",
       "      <td>5.822371</td>\n",
       "      <td>4</td>\n",
       "      <td>71.1</td>\n",
       "      <td>65</td>\n",
       "      <td>4.22</td>\n",
       "      <td>1.835</td>\n",
       "      <td>19.90</td>\n",
       "      <td>1</td>\n",
       "      <td>1</td>\n",
       "      <td>4</td>\n",
       "      <td>1</td>\n",
       "      <td>1</td>\n",
       "      <td>Toyota Corolla</td>\n",
       "      <td>Toyota Corolla</td>\n",
       "    </tr>\n",
       "    <tr>\n",
       "      <th>20</th>\n",
       "      <td>4.636809</td>\n",
       "      <td>4</td>\n",
       "      <td>120.1</td>\n",
       "      <td>97</td>\n",
       "      <td>3.70</td>\n",
       "      <td>2.465</td>\n",
       "      <td>20.01</td>\n",
       "      <td>1</td>\n",
       "      <td>0</td>\n",
       "      <td>3</td>\n",
       "      <td>1</td>\n",
       "      <td>1</td>\n",
       "      <td>Toyota Corona</td>\n",
       "      <td>Toyota Corona</td>\n",
       "    </tr>\n",
       "    <tr>\n",
       "      <th>21</th>\n",
       "      <td>3.937004</td>\n",
       "      <td>8</td>\n",
       "      <td>318.0</td>\n",
       "      <td>150</td>\n",
       "      <td>2.76</td>\n",
       "      <td>3.520</td>\n",
       "      <td>16.87</td>\n",
       "      <td>0</td>\n",
       "      <td>0</td>\n",
       "      <td>3</td>\n",
       "      <td>2</td>\n",
       "      <td>0</td>\n",
       "      <td>Dodge Challenger</td>\n",
       "      <td>Dodge Challenger</td>\n",
       "    </tr>\n",
       "    <tr>\n",
       "      <th>22</th>\n",
       "      <td>3.898718</td>\n",
       "      <td>8</td>\n",
       "      <td>304.0</td>\n",
       "      <td>150</td>\n",
       "      <td>3.15</td>\n",
       "      <td>3.435</td>\n",
       "      <td>17.30</td>\n",
       "      <td>0</td>\n",
       "      <td>0</td>\n",
       "      <td>3</td>\n",
       "      <td>2</td>\n",
       "      <td>0</td>\n",
       "      <td>AMC Javelin</td>\n",
       "      <td>AMC Javelin</td>\n",
       "    </tr>\n",
       "    <tr>\n",
       "      <th>23</th>\n",
       "      <td>3.646917</td>\n",
       "      <td>8</td>\n",
       "      <td>350.0</td>\n",
       "      <td>245</td>\n",
       "      <td>3.73</td>\n",
       "      <td>3.840</td>\n",
       "      <td>15.41</td>\n",
       "      <td>0</td>\n",
       "      <td>0</td>\n",
       "      <td>3</td>\n",
       "      <td>4</td>\n",
       "      <td>0</td>\n",
       "      <td>Camaro Z28</td>\n",
       "      <td>Camaro Z28</td>\n",
       "    </tr>\n",
       "    <tr>\n",
       "      <th>24</th>\n",
       "      <td>4.381780</td>\n",
       "      <td>8</td>\n",
       "      <td>400.0</td>\n",
       "      <td>175</td>\n",
       "      <td>3.08</td>\n",
       "      <td>3.845</td>\n",
       "      <td>17.05</td>\n",
       "      <td>0</td>\n",
       "      <td>0</td>\n",
       "      <td>3</td>\n",
       "      <td>2</td>\n",
       "      <td>1</td>\n",
       "      <td>Pontiac Firebird</td>\n",
       "      <td>Pontiac Firebird</td>\n",
       "    </tr>\n",
       "    <tr>\n",
       "      <th>25</th>\n",
       "      <td>5.224940</td>\n",
       "      <td>4</td>\n",
       "      <td>79.0</td>\n",
       "      <td>66</td>\n",
       "      <td>4.08</td>\n",
       "      <td>1.935</td>\n",
       "      <td>18.90</td>\n",
       "      <td>1</td>\n",
       "      <td>1</td>\n",
       "      <td>4</td>\n",
       "      <td>1</td>\n",
       "      <td>1</td>\n",
       "      <td>Fiat X1-9</td>\n",
       "      <td>Fiat X1-9</td>\n",
       "    </tr>\n",
       "    <tr>\n",
       "      <th>26</th>\n",
       "      <td>5.099020</td>\n",
       "      <td>4</td>\n",
       "      <td>120.3</td>\n",
       "      <td>91</td>\n",
       "      <td>4.43</td>\n",
       "      <td>2.140</td>\n",
       "      <td>16.70</td>\n",
       "      <td>0</td>\n",
       "      <td>1</td>\n",
       "      <td>5</td>\n",
       "      <td>2</td>\n",
       "      <td>1</td>\n",
       "      <td>Porsche 914-2</td>\n",
       "      <td>Porsche 914-2</td>\n",
       "    </tr>\n",
       "    <tr>\n",
       "      <th>27</th>\n",
       "      <td>5.513620</td>\n",
       "      <td>4</td>\n",
       "      <td>95.1</td>\n",
       "      <td>113</td>\n",
       "      <td>3.77</td>\n",
       "      <td>1.513</td>\n",
       "      <td>16.90</td>\n",
       "      <td>1</td>\n",
       "      <td>1</td>\n",
       "      <td>5</td>\n",
       "      <td>2</td>\n",
       "      <td>1</td>\n",
       "      <td>Lotus Europa</td>\n",
       "      <td>Lotus Europa</td>\n",
       "    </tr>\n",
       "    <tr>\n",
       "      <th>28</th>\n",
       "      <td>3.974921</td>\n",
       "      <td>8</td>\n",
       "      <td>351.0</td>\n",
       "      <td>264</td>\n",
       "      <td>4.22</td>\n",
       "      <td>3.170</td>\n",
       "      <td>14.50</td>\n",
       "      <td>0</td>\n",
       "      <td>1</td>\n",
       "      <td>5</td>\n",
       "      <td>4</td>\n",
       "      <td>0</td>\n",
       "      <td>Ford Pantera L</td>\n",
       "      <td>Ford Pantera L</td>\n",
       "    </tr>\n",
       "    <tr>\n",
       "      <th>29</th>\n",
       "      <td>4.438468</td>\n",
       "      <td>6</td>\n",
       "      <td>145.0</td>\n",
       "      <td>175</td>\n",
       "      <td>3.62</td>\n",
       "      <td>2.770</td>\n",
       "      <td>15.50</td>\n",
       "      <td>0</td>\n",
       "      <td>1</td>\n",
       "      <td>5</td>\n",
       "      <td>6</td>\n",
       "      <td>1</td>\n",
       "      <td>Ferrari Dino</td>\n",
       "      <td>Ferrari Dino</td>\n",
       "    </tr>\n",
       "    <tr>\n",
       "      <th>30</th>\n",
       "      <td>3.872983</td>\n",
       "      <td>8</td>\n",
       "      <td>301.0</td>\n",
       "      <td>335</td>\n",
       "      <td>3.54</td>\n",
       "      <td>3.570</td>\n",
       "      <td>14.60</td>\n",
       "      <td>0</td>\n",
       "      <td>1</td>\n",
       "      <td>5</td>\n",
       "      <td>8</td>\n",
       "      <td>0</td>\n",
       "      <td>Maserati Bora</td>\n",
       "      <td>Maserati Bora</td>\n",
       "    </tr>\n",
       "    <tr>\n",
       "      <th>31</th>\n",
       "      <td>4.626013</td>\n",
       "      <td>4</td>\n",
       "      <td>121.0</td>\n",
       "      <td>109</td>\n",
       "      <td>4.11</td>\n",
       "      <td>2.780</td>\n",
       "      <td>18.60</td>\n",
       "      <td>1</td>\n",
       "      <td>1</td>\n",
       "      <td>4</td>\n",
       "      <td>2</td>\n",
       "      <td>1</td>\n",
       "      <td>Volvo 142E</td>\n",
       "      <td>Volvo 142E</td>\n",
       "    </tr>\n",
       "  </tbody>\n",
       "</table>\n",
       "</div>"
      ],
      "text/plain": [
       "         mpg  cyl   disp   hp  drat     wt   qsec  vs  am  gear  carb  fast  \\\n",
       "0   4.582576    6  160.0  110  3.90  2.620  16.46   0   1     4     4     1   \n",
       "1   4.582576    6  160.0  110  3.90  2.875  17.02   0   1     4     4     1   \n",
       "2   4.774935    4  108.0   93  3.85  2.320  18.61   1   1     4     1     1   \n",
       "3   4.626013    6  258.0  110  3.08  3.215  19.44   1   0     3     1     1   \n",
       "4   4.324350    8  360.0  175  3.15  3.440  17.02   0   0     3     2     1   \n",
       "5   4.254409    6  225.0  105  2.76  3.460  20.22   1   0     3     1     1   \n",
       "6   3.781534    8  360.0  245  3.21  3.570  15.84   0   0     3     4     0   \n",
       "7   4.939636    4  146.7   62  3.69  3.190  20.00   1   0     4     2     1   \n",
       "8   4.774935    4  140.8   95  3.92  3.150  22.90   1   0     4     2     1   \n",
       "9   4.381780    6  167.6  123  3.92  3.440  18.30   1   0     4     4     1   \n",
       "10  4.219005    6  167.6  123  3.92  3.440  18.90   1   0     4     4     1   \n",
       "11  4.049691    8  275.8  180  3.07  4.070  17.40   0   0     3     3     1   \n",
       "12  4.159327    8  275.8  180  3.07  3.730  17.60   0   0     3     3     1   \n",
       "13  3.898718    8  275.8  180  3.07  3.780  18.00   0   0     3     3     0   \n",
       "14  3.224903    8  472.0  205  2.93  5.250  17.98   0   0     3     4     0   \n",
       "15  3.224903    8  460.0  215  3.00  5.424  17.82   0   0     3     4     0   \n",
       "16  3.834058    8  440.0  230  3.23  5.345  17.42   0   0     3     4     0   \n",
       "17  5.692100    4   78.7   66  4.08  2.200  19.47   1   1     4     1     1   \n",
       "18  5.513620    4   75.7   52  4.93  1.615  18.52   1   1     4     2     1   \n",
       "19  5.822371    4   71.1   65  4.22  1.835  19.90   1   1     4     1     1   \n",
       "20  4.636809    4  120.1   97  3.70  2.465  20.01   1   0     3     1     1   \n",
       "21  3.937004    8  318.0  150  2.76  3.520  16.87   0   0     3     2     0   \n",
       "22  3.898718    8  304.0  150  3.15  3.435  17.30   0   0     3     2     0   \n",
       "23  3.646917    8  350.0  245  3.73  3.840  15.41   0   0     3     4     0   \n",
       "24  4.381780    8  400.0  175  3.08  3.845  17.05   0   0     3     2     1   \n",
       "25  5.224940    4   79.0   66  4.08  1.935  18.90   1   1     4     1     1   \n",
       "26  5.099020    4  120.3   91  4.43  2.140  16.70   0   1     5     2     1   \n",
       "27  5.513620    4   95.1  113  3.77  1.513  16.90   1   1     5     2     1   \n",
       "28  3.974921    8  351.0  264  4.22  3.170  14.50   0   1     5     4     0   \n",
       "29  4.438468    6  145.0  175  3.62  2.770  15.50   0   1     5     6     1   \n",
       "30  3.872983    8  301.0  335  3.54  3.570  14.60   0   1     5     8     0   \n",
       "31  4.626013    4  121.0  109  4.11  2.780  18.60   1   1     4     2     1   \n",
       "\n",
       "                   cars              carname  \n",
       "0             Mazda RX4            Mazda RX4  \n",
       "1         Mazda RX4 Wag        Mazda RX4 Wag  \n",
       "2            Datsun 710           Datsun 710  \n",
       "3        Hornet 4 Drive       Hornet 4 Drive  \n",
       "4     Hornet Sportabout    Hornet Sportabout  \n",
       "5               Valiant              Valiant  \n",
       "6            Duster 360           Duster 360  \n",
       "7             Merc 240D            Merc 240D  \n",
       "8              Merc 230             Merc 230  \n",
       "9              Merc 280             Merc 280  \n",
       "10            Merc 280C            Merc 280C  \n",
       "11           Merc 450SE           Merc 450SE  \n",
       "12           Merc 450SL           Merc 450SL  \n",
       "13          Merc 450SLC          Merc 450SLC  \n",
       "14   Cadillac Fleetwood   Cadillac Fleetwood  \n",
       "15  Lincoln Continental  Lincoln Continental  \n",
       "16    Chrysler Imperial    Chrysler Imperial  \n",
       "17             Fiat 128             Fiat 128  \n",
       "18          Honda Civic          Honda Civic  \n",
       "19       Toyota Corolla       Toyota Corolla  \n",
       "20        Toyota Corona        Toyota Corona  \n",
       "21     Dodge Challenger     Dodge Challenger  \n",
       "22          AMC Javelin          AMC Javelin  \n",
       "23           Camaro Z28           Camaro Z28  \n",
       "24     Pontiac Firebird     Pontiac Firebird  \n",
       "25            Fiat X1-9            Fiat X1-9  \n",
       "26        Porsche 914-2        Porsche 914-2  \n",
       "27         Lotus Europa         Lotus Europa  \n",
       "28       Ford Pantera L       Ford Pantera L  \n",
       "29         Ferrari Dino         Ferrari Dino  \n",
       "30        Maserati Bora        Maserati Bora  \n",
       "31           Volvo 142E           Volvo 142E  "
      ]
     },
     "execution_count": 173,
     "metadata": {},
     "output_type": "execute_result"
    }
   ],
   "source": [
    "df"
   ]
  },
  {
   "cell_type": "markdown",
   "metadata": {},
   "source": [
    "所用数据集mtcars 记录了32种不同品牌的轿车的14个属性，如下所示：\n",
    "\n",
    "> mpg：英里每加仑（Miles per gallon）  值越大性能越好，或许是能源利用效率更高，或许速度较快   \n",
    "> cyl：气缸数量（Number of cylinders）   \n",
    "> disp：排量（Displacement）   \n",
    "> hp：总马力（horsepower）   \n",
    "> drat：驱动轴比（drive axle ratio）   \n",
    "> wt：重量（Weight (lb/1000)）    \n",
    "> qsec：1/4英里所用时间（quarter mile time(secend)）    \n",
    "> vs：引擎（0-V shape，1-straight）     \n",
    "> am：变速器（Transmission，0-automatic,1-manual）    \n",
    "> gear：前进档数（Number of forward gears）  #除了倒挡之外还有几个档    \n",
    "> carb：化油器数量（Number of carburetors）  #内燃机中用于混合空气和液体燃料的精细喷雾的装置。    \n",
    "> fast: 用油是否高效（mpg>4 即为1，反之为0）   \n",
    "> cars：汽车名称    \n",
    "> carname：汽车名称（与cars完全相同）"
   ]
  },
  {
   "cell_type": "markdown",
   "metadata": {},
   "source": [
    "#### 大家找到我们绘制目标图所需的特征了嘛？\n",
    ">横坐标mileage指的是里程，所以可以推断所需要的特征就是mpg(消耗每加仑油跑多少英里)    \n",
    ">纵坐标model指的是汽车的种类，所以我们直接用汽车名称cars或者caname都可以"
   ]
  },
  {
   "cell_type": "code",
   "execution_count": 174,
   "metadata": {},
   "outputs": [
    {
     "data": {
      "text/plain": [
       "array([4.58257569, 4.58257569, 4.77493455, 4.6260134 , 4.32434966,\n",
       "       4.25440948, 3.78153408, 4.93963561, 4.77493455, 4.38178046,\n",
       "       4.21900462, 4.04969135, 4.15932687, 3.89871774, 3.2249031 ,\n",
       "       3.2249031 , 3.8340579 , 5.69209979, 5.5136195 , 5.82237065,\n",
       "       4.63680925, 3.93700394, 3.89871774, 3.64691651, 4.38178046,\n",
       "       5.22494019, 5.09901951, 5.5136195 , 3.97492138, 4.4384682 ,\n",
       "       3.87298335, 4.6260134 ])"
      ]
     },
     "execution_count": 174,
     "metadata": {},
     "output_type": "execute_result"
    }
   ],
   "source": [
    "#横坐标\n",
    "df.mpg.values"
   ]
  },
  {
   "cell_type": "code",
   "execution_count": 175,
   "metadata": {},
   "outputs": [
    {
     "data": {
      "text/plain": [
       "array(['Mazda RX4', 'Mazda RX4 Wag', 'Datsun 710', 'Hornet 4 Drive',\n",
       "       'Hornet Sportabout', 'Valiant', 'Duster 360', 'Merc 240D',\n",
       "       'Merc 230', 'Merc 280', 'Merc 280C', 'Merc 450SE', 'Merc 450SL',\n",
       "       'Merc 450SLC', 'Cadillac Fleetwood', 'Lincoln Continental',\n",
       "       'Chrysler Imperial', 'Fiat 128', 'Honda Civic', 'Toyota Corolla',\n",
       "       'Toyota Corona', 'Dodge Challenger', 'AMC Javelin', 'Camaro Z28',\n",
       "       'Pontiac Firebird', 'Fiat X1-9', 'Porsche 914-2', 'Lotus Europa',\n",
       "       'Ford Pantera L', 'Ferrari Dino', 'Maserati Bora', 'Volvo 142E'],\n",
       "      dtype=object)"
      ]
     },
     "execution_count": 175,
     "metadata": {},
     "output_type": "execute_result"
    }
   ],
   "source": [
    "#纵坐标\n",
    "df.cars.values"
   ]
  },
  {
   "cell_type": "markdown",
   "metadata": {},
   "source": [
    "### 4. 绘制基础图形"
   ]
  },
  {
   "cell_type": "code",
   "execution_count": 176,
   "metadata": {},
   "outputs": [
    {
     "data": {
      "image/png": "[encoded data removed]",
      "text/plain": [
       "<Figure size 864x576 with 1 Axes>"
      ]
     },
     "metadata": {
      "needs_background": "light"
     },
     "output_type": "display_data"
    }
   ],
   "source": [
    "#添加画布，设置画布大小\n",
    "plt.figure(figsize=(12,8))\n",
    "\n",
    "#绘图\n",
    "plt.hlines(y=df.cars, xmin=0, xmax=df.mpg\n",
    "          ,color='b'\n",
    "          ,alpha=0.5\n",
    "          ,linewidth=5);"
   ]
  },
  {
   "cell_type": "markdown",
   "metadata": {},
   "source": [
    "从这张图中，能看出的信息很少：   \n",
    "- 每种汽车的里程数    \n",
    "- 不同种类汽车里程数的相对大小"
   ]
  },
  {
   "cell_type": "markdown",
   "metadata": {},
   "source": [
    "### 5. 对目标数据进行格式变换"
   ]
  },
  {
   "cell_type": "markdown",
   "metadata": {},
   "source": [
    "#### 5.1 提取目标数据并进行标准化处理"
   ]
  },
  {
   "cell_type": "code",
   "execution_count": 7,
   "metadata": {},
   "outputs": [],
   "source": [
    "#提取出mpg这一列所有的数据\n",
    "x = df.loc[:,'mpg']"
   ]
  },
  {
   "cell_type": "code",
   "execution_count": 178,
   "metadata": {},
   "outputs": [
    {
     "data": {
      "text/plain": [
       "0     4.582576\n",
       "1     4.582576\n",
       "2     4.774935\n",
       "3     4.626013\n",
       "4     4.324350\n",
       "5     4.254409\n",
       "6     3.781534\n",
       "7     4.939636\n",
       "8     4.774935\n",
       "9     4.381780\n",
       "10    4.219005\n",
       "11    4.049691\n",
       "12    4.159327\n",
       "13    3.898718\n",
       "14    3.224903\n",
       "15    3.224903\n",
       "16    3.834058\n",
       "17    5.692100\n",
       "18    5.513620\n",
       "19    5.822371\n",
       "20    4.636809\n",
       "21    3.937004\n",
       "22    3.898718\n",
       "23    3.646917\n",
       "24    4.381780\n",
       "25    5.224940\n",
       "26    5.099020\n",
       "27    5.513620\n",
       "28    3.974921\n",
       "29    4.438468\n",
       "30    3.872983\n",
       "31    4.626013\n",
       "Name: mpg, dtype: float64"
      ]
     },
     "execution_count": 178,
     "metadata": {},
     "output_type": "execute_result"
    }
   ],
   "source": [
    "x"
   ]
  },
  {
   "cell_type": "code",
   "execution_count": 8,
   "metadata": {},
   "outputs": [],
   "source": [
    "#对目标数据进行标准化处理\n",
    "#这里采用的是z-score标准化\n",
    "#只是将原始数据进行了线性变换，并没有改变一个数据在该数据集中的位置\n",
    "#也没有改变该组数据的分布，而只是将均值变为0，标准差变为1\n",
    "df['mpg_z'] = (x - x.mean())/x.std() "
   ]
  },
  {
   "cell_type": "code",
   "execution_count": 180,
   "metadata": {},
   "outputs": [
    {
     "data": {
      "text/html": [
       "<div>\n",
       "<style scoped>\n",
       "    .dataframe tbody tr th:only-of-type {\n",
       "        vertical-align: middle;\n",
       "    }\n",
       "\n",
       "    .dataframe tbody tr th {\n",
       "        vertical-align: top;\n",
       "    }\n",
       "\n",
       "    .dataframe thead th {\n",
       "        text-align: right;\n",
       "    }\n",
       "</style>\n",
       "<table border=\"1\" class=\"dataframe\">\n",
       "  <thead>\n",
       "    <tr style=\"text-align: right;\">\n",
       "      <th></th>\n",
       "      <th>mpg</th>\n",
       "      <th>cyl</th>\n",
       "      <th>disp</th>\n",
       "      <th>hp</th>\n",
       "      <th>drat</th>\n",
       "      <th>wt</th>\n",
       "      <th>qsec</th>\n",
       "      <th>vs</th>\n",
       "      <th>am</th>\n",
       "      <th>gear</th>\n",
       "      <th>carb</th>\n",
       "      <th>fast</th>\n",
       "      <th>cars</th>\n",
       "      <th>carname</th>\n",
       "      <th>mpg_z</th>\n",
       "    </tr>\n",
       "  </thead>\n",
       "  <tbody>\n",
       "    <tr>\n",
       "      <th>0</th>\n",
       "      <td>4.582576</td>\n",
       "      <td>6</td>\n",
       "      <td>160.0</td>\n",
       "      <td>110</td>\n",
       "      <td>3.90</td>\n",
       "      <td>2.620</td>\n",
       "      <td>16.46</td>\n",
       "      <td>0</td>\n",
       "      <td>1</td>\n",
       "      <td>4</td>\n",
       "      <td>4</td>\n",
       "      <td>1</td>\n",
       "      <td>Mazda RX4</td>\n",
       "      <td>Mazda RX4</td>\n",
       "      <td>0.223563</td>\n",
       "    </tr>\n",
       "    <tr>\n",
       "      <th>1</th>\n",
       "      <td>4.582576</td>\n",
       "      <td>6</td>\n",
       "      <td>160.0</td>\n",
       "      <td>110</td>\n",
       "      <td>3.90</td>\n",
       "      <td>2.875</td>\n",
       "      <td>17.02</td>\n",
       "      <td>0</td>\n",
       "      <td>1</td>\n",
       "      <td>4</td>\n",
       "      <td>4</td>\n",
       "      <td>1</td>\n",
       "      <td>Mazda RX4 Wag</td>\n",
       "      <td>Mazda RX4 Wag</td>\n",
       "      <td>0.223563</td>\n",
       "    </tr>\n",
       "    <tr>\n",
       "      <th>2</th>\n",
       "      <td>4.774935</td>\n",
       "      <td>4</td>\n",
       "      <td>108.0</td>\n",
       "      <td>93</td>\n",
       "      <td>3.85</td>\n",
       "      <td>2.320</td>\n",
       "      <td>18.61</td>\n",
       "      <td>1</td>\n",
       "      <td>1</td>\n",
       "      <td>4</td>\n",
       "      <td>1</td>\n",
       "      <td>1</td>\n",
       "      <td>Datsun 710</td>\n",
       "      <td>Datsun 710</td>\n",
       "      <td>0.514515</td>\n",
       "    </tr>\n",
       "    <tr>\n",
       "      <th>3</th>\n",
       "      <td>4.626013</td>\n",
       "      <td>6</td>\n",
       "      <td>258.0</td>\n",
       "      <td>110</td>\n",
       "      <td>3.08</td>\n",
       "      <td>3.215</td>\n",
       "      <td>19.44</td>\n",
       "      <td>1</td>\n",
       "      <td>0</td>\n",
       "      <td>3</td>\n",
       "      <td>1</td>\n",
       "      <td>1</td>\n",
       "      <td>Hornet 4 Drive</td>\n",
       "      <td>Hornet 4 Drive</td>\n",
       "      <td>0.289265</td>\n",
       "    </tr>\n",
       "    <tr>\n",
       "      <th>4</th>\n",
       "      <td>4.324350</td>\n",
       "      <td>8</td>\n",
       "      <td>360.0</td>\n",
       "      <td>175</td>\n",
       "      <td>3.15</td>\n",
       "      <td>3.440</td>\n",
       "      <td>17.02</td>\n",
       "      <td>0</td>\n",
       "      <td>0</td>\n",
       "      <td>3</td>\n",
       "      <td>2</td>\n",
       "      <td>1</td>\n",
       "      <td>Hornet Sportabout</td>\n",
       "      <td>Hornet Sportabout</td>\n",
       "      <td>-0.167015</td>\n",
       "    </tr>\n",
       "  </tbody>\n",
       "</table>\n",
       "</div>"
      ],
      "text/plain": [
       "        mpg  cyl   disp   hp  drat     wt   qsec  vs  am  gear  carb  fast  \\\n",
       "0  4.582576    6  160.0  110  3.90  2.620  16.46   0   1     4     4     1   \n",
       "1  4.582576    6  160.0  110  3.90  2.875  17.02   0   1     4     4     1   \n",
       "2  4.774935    4  108.0   93  3.85  2.320  18.61   1   1     4     1     1   \n",
       "3  4.626013    6  258.0  110  3.08  3.215  19.44   1   0     3     1     1   \n",
       "4  4.324350    8  360.0  175  3.15  3.440  17.02   0   0     3     2     1   \n",
       "\n",
       "                cars            carname     mpg_z  \n",
       "0          Mazda RX4          Mazda RX4  0.223563  \n",
       "1      Mazda RX4 Wag      Mazda RX4 Wag  0.223563  \n",
       "2         Datsun 710         Datsun 710  0.514515  \n",
       "3     Hornet 4 Drive     Hornet 4 Drive  0.289265  \n",
       "4  Hornet Sportabout  Hornet Sportabout -0.167015  "
      ]
     },
     "execution_count": 180,
     "metadata": {},
     "output_type": "execute_result"
    }
   ],
   "source": [
    "df.head()"
   ]
  },
  {
   "cell_type": "code",
   "execution_count": 181,
   "metadata": {},
   "outputs": [
    {
     "data": {
      "text/plain": [
       "array([ 0.22356336,  0.22356336,  0.51451502,  0.2892649 , -0.16701545,\n",
       "       -0.27280321, -0.98804909,  0.76363298,  0.51451502, -0.08014871,\n",
       "       -0.32635469, -0.58244884, -0.41662005, -0.8108034 , -1.82997917,\n",
       "       -1.82997917, -0.90860438,  1.9017698 ,  1.63181012,  2.0988105 ,\n",
       "        0.30559411, -0.75289375, -0.8108034 , -1.19166439, -0.08014871,\n",
       "        1.19516933,  1.00470849,  1.63181012, -0.69554186,  0.00559412,\n",
       "       -0.84972785,  0.2892649 ])"
      ]
     },
     "execution_count": 181,
     "metadata": {},
     "output_type": "execute_result"
    }
   ],
   "source": [
    "df['mpg_z'].values"
   ]
  },
  {
   "cell_type": "markdown",
   "metadata": {},
   "source": [
    "#### 5.2 生成颜色标签"
   ]
  },
  {
   "cell_type": "code",
   "execution_count": 182,
   "metadata": {},
   "outputs": [],
   "source": [
    "color=[]\n",
    "for i in df['mpg_z']:\n",
    "    if i>0:\n",
    "        color.append('green')\n",
    "    else:\n",
    "        color.append('red')"
   ]
  },
  {
   "cell_type": "code",
   "execution_count": 183,
   "metadata": {},
   "outputs": [
    {
     "name": "stdout",
     "output_type": "stream",
     "text": [
      "['green', 'green', 'green', 'green', 'red', 'red', 'red', 'green', 'green', 'red', 'red', 'red', 'red', 'red', 'red', 'red', 'red', 'green', 'green', 'green', 'green', 'red', 'red', 'red', 'red', 'green', 'green', 'green', 'red', 'green', 'red', 'green']\n"
     ]
    }
   ],
   "source": [
    "print(color)"
   ]
  },
  {
   "cell_type": "code",
   "execution_count": 184,
   "metadata": {},
   "outputs": [
    {
     "name": "stdout",
     "output_type": "stream",
     "text": [
      "['green', 'green', 'green', 'green', 'red', 'red', 'red', 'green', 'green', 'red', 'red', 'red', 'red', 'red', 'red', 'red', 'red', 'green', 'green', 'green', 'green', 'red', 'red', 'red', 'red', 'green', 'green', 'green', 'red', 'green', 'red', 'green']\n"
     ]
    }
   ],
   "source": [
    "print(['green' if i>0 else 'red' for i in df['mpg_z']])"
   ]
  },
  {
   "cell_type": "code",
   "execution_count": 9,
   "metadata": {},
   "outputs": [],
   "source": [
    "#根据标准化后的数据mpg_z,将数据分类（正数为绿色，负数为红色）\n",
    "#这里直接使用列表推导式\n",
    "df['colors'] = ['green' if i>0 else 'red' for i in df['mpg_z']]"
   ]
  },
  {
   "cell_type": "code",
   "execution_count": 186,
   "metadata": {},
   "outputs": [
    {
     "data": {
      "text/html": [
       "<div>\n",
       "<style scoped>\n",
       "    .dataframe tbody tr th:only-of-type {\n",
       "        vertical-align: middle;\n",
       "    }\n",
       "\n",
       "    .dataframe tbody tr th {\n",
       "        vertical-align: top;\n",
       "    }\n",
       "\n",
       "    .dataframe thead th {\n",
       "        text-align: right;\n",
       "    }\n",
       "</style>\n",
       "<table border=\"1\" class=\"dataframe\">\n",
       "  <thead>\n",
       "    <tr style=\"text-align: right;\">\n",
       "      <th></th>\n",
       "      <th>mpg</th>\n",
       "      <th>cyl</th>\n",
       "      <th>disp</th>\n",
       "      <th>hp</th>\n",
       "      <th>drat</th>\n",
       "      <th>wt</th>\n",
       "      <th>qsec</th>\n",
       "      <th>vs</th>\n",
       "      <th>am</th>\n",
       "      <th>gear</th>\n",
       "      <th>carb</th>\n",
       "      <th>fast</th>\n",
       "      <th>cars</th>\n",
       "      <th>carname</th>\n",
       "      <th>mpg_z</th>\n",
       "      <th>colors</th>\n",
       "    </tr>\n",
       "  </thead>\n",
       "  <tbody>\n",
       "    <tr>\n",
       "      <th>0</th>\n",
       "      <td>4.582576</td>\n",
       "      <td>6</td>\n",
       "      <td>160.0</td>\n",
       "      <td>110</td>\n",
       "      <td>3.90</td>\n",
       "      <td>2.620</td>\n",
       "      <td>16.46</td>\n",
       "      <td>0</td>\n",
       "      <td>1</td>\n",
       "      <td>4</td>\n",
       "      <td>4</td>\n",
       "      <td>1</td>\n",
       "      <td>Mazda RX4</td>\n",
       "      <td>Mazda RX4</td>\n",
       "      <td>0.223563</td>\n",
       "      <td>green</td>\n",
       "    </tr>\n",
       "    <tr>\n",
       "      <th>1</th>\n",
       "      <td>4.582576</td>\n",
       "      <td>6</td>\n",
       "      <td>160.0</td>\n",
       "      <td>110</td>\n",
       "      <td>3.90</td>\n",
       "      <td>2.875</td>\n",
       "      <td>17.02</td>\n",
       "      <td>0</td>\n",
       "      <td>1</td>\n",
       "      <td>4</td>\n",
       "      <td>4</td>\n",
       "      <td>1</td>\n",
       "      <td>Mazda RX4 Wag</td>\n",
       "      <td>Mazda RX4 Wag</td>\n",
       "      <td>0.223563</td>\n",
       "      <td>green</td>\n",
       "    </tr>\n",
       "    <tr>\n",
       "      <th>2</th>\n",
       "      <td>4.774935</td>\n",
       "      <td>4</td>\n",
       "      <td>108.0</td>\n",
       "      <td>93</td>\n",
       "      <td>3.85</td>\n",
       "      <td>2.320</td>\n",
       "      <td>18.61</td>\n",
       "      <td>1</td>\n",
       "      <td>1</td>\n",
       "      <td>4</td>\n",
       "      <td>1</td>\n",
       "      <td>1</td>\n",
       "      <td>Datsun 710</td>\n",
       "      <td>Datsun 710</td>\n",
       "      <td>0.514515</td>\n",
       "      <td>green</td>\n",
       "    </tr>\n",
       "    <tr>\n",
       "      <th>3</th>\n",
       "      <td>4.626013</td>\n",
       "      <td>6</td>\n",
       "      <td>258.0</td>\n",
       "      <td>110</td>\n",
       "      <td>3.08</td>\n",
       "      <td>3.215</td>\n",
       "      <td>19.44</td>\n",
       "      <td>1</td>\n",
       "      <td>0</td>\n",
       "      <td>3</td>\n",
       "      <td>1</td>\n",
       "      <td>1</td>\n",
       "      <td>Hornet 4 Drive</td>\n",
       "      <td>Hornet 4 Drive</td>\n",
       "      <td>0.289265</td>\n",
       "      <td>green</td>\n",
       "    </tr>\n",
       "    <tr>\n",
       "      <th>4</th>\n",
       "      <td>4.324350</td>\n",
       "      <td>8</td>\n",
       "      <td>360.0</td>\n",
       "      <td>175</td>\n",
       "      <td>3.15</td>\n",
       "      <td>3.440</td>\n",
       "      <td>17.02</td>\n",
       "      <td>0</td>\n",
       "      <td>0</td>\n",
       "      <td>3</td>\n",
       "      <td>2</td>\n",
       "      <td>1</td>\n",
       "      <td>Hornet Sportabout</td>\n",
       "      <td>Hornet Sportabout</td>\n",
       "      <td>-0.167015</td>\n",
       "      <td>red</td>\n",
       "    </tr>\n",
       "  </tbody>\n",
       "</table>\n",
       "</div>"
      ],
      "text/plain": [
       "        mpg  cyl   disp   hp  drat     wt   qsec  vs  am  gear  carb  fast  \\\n",
       "0  4.582576    6  160.0  110  3.90  2.620  16.46   0   1     4     4     1   \n",
       "1  4.582576    6  160.0  110  3.90  2.875  17.02   0   1     4     4     1   \n",
       "2  4.774935    4  108.0   93  3.85  2.320  18.61   1   1     4     1     1   \n",
       "3  4.626013    6  258.0  110  3.08  3.215  19.44   1   0     3     1     1   \n",
       "4  4.324350    8  360.0  175  3.15  3.440  17.02   0   0     3     2     1   \n",
       "\n",
       "                cars            carname     mpg_z colors  \n",
       "0          Mazda RX4          Mazda RX4  0.223563  green  \n",
       "1      Mazda RX4 Wag      Mazda RX4 Wag  0.223563  green  \n",
       "2         Datsun 710         Datsun 710  0.514515  green  \n",
       "3     Hornet 4 Drive     Hornet 4 Drive  0.289265  green  \n",
       "4  Hornet Sportabout  Hornet Sportabout -0.167015    red  "
      ]
     },
     "execution_count": 186,
     "metadata": {},
     "output_type": "execute_result"
    }
   ],
   "source": [
    "df.head()"
   ]
  },
  {
   "cell_type": "code",
   "execution_count": 187,
   "metadata": {},
   "outputs": [
    {
     "data": {
      "text/plain": [
       "red      17\n",
       "green    15\n",
       "Name: colors, dtype: int64"
      ]
     },
     "execution_count": 187,
     "metadata": {},
     "output_type": "execute_result"
    }
   ],
   "source": [
    "df['colors'].value_counts()"
   ]
  },
  {
   "cell_type": "markdown",
   "metadata": {},
   "source": [
    "#### 5.3 对数据集进行排序"
   ]
  },
  {
   "cell_type": "code",
   "execution_count": 188,
   "metadata": {},
   "outputs": [],
   "source": [
    "#原数据是无序排列的，我们需要对数据进行排序\n",
    "#这里需要注意的是，我们不止要对x进行排序，还需要确保y索引跟着一起变化\n",
    "#所以我们应该对整个数据集进行排序\n",
    "df.sort_values('mpg_z',inplace=True)"
   ]
  },
  {
   "cell_type": "code",
   "execution_count": 189,
   "metadata": {},
   "outputs": [
    {
     "data": {
      "text/html": [
       "<div>\n",
       "<style scoped>\n",
       "    .dataframe tbody tr th:only-of-type {\n",
       "        vertical-align: middle;\n",
       "    }\n",
       "\n",
       "    .dataframe tbody tr th {\n",
       "        vertical-align: top;\n",
       "    }\n",
       "\n",
       "    .dataframe thead th {\n",
       "        text-align: right;\n",
       "    }\n",
       "</style>\n",
       "<table border=\"1\" class=\"dataframe\">\n",
       "  <thead>\n",
       "    <tr style=\"text-align: right;\">\n",
       "      <th></th>\n",
       "      <th>mpg</th>\n",
       "      <th>cyl</th>\n",
       "      <th>disp</th>\n",
       "      <th>hp</th>\n",
       "      <th>drat</th>\n",
       "      <th>wt</th>\n",
       "      <th>qsec</th>\n",
       "      <th>vs</th>\n",
       "      <th>am</th>\n",
       "      <th>gear</th>\n",
       "      <th>carb</th>\n",
       "      <th>fast</th>\n",
       "      <th>cars</th>\n",
       "      <th>carname</th>\n",
       "      <th>mpg_z</th>\n",
       "      <th>colors</th>\n",
       "    </tr>\n",
       "  </thead>\n",
       "  <tbody>\n",
       "    <tr>\n",
       "      <th>15</th>\n",
       "      <td>3.224903</td>\n",
       "      <td>8</td>\n",
       "      <td>460.0</td>\n",
       "      <td>215</td>\n",
       "      <td>3.00</td>\n",
       "      <td>5.424</td>\n",
       "      <td>17.82</td>\n",
       "      <td>0</td>\n",
       "      <td>0</td>\n",
       "      <td>3</td>\n",
       "      <td>4</td>\n",
       "      <td>0</td>\n",
       "      <td>Lincoln Continental</td>\n",
       "      <td>Lincoln Continental</td>\n",
       "      <td>-1.829979</td>\n",
       "      <td>red</td>\n",
       "    </tr>\n",
       "    <tr>\n",
       "      <th>14</th>\n",
       "      <td>3.224903</td>\n",
       "      <td>8</td>\n",
       "      <td>472.0</td>\n",
       "      <td>205</td>\n",
       "      <td>2.93</td>\n",
       "      <td>5.250</td>\n",
       "      <td>17.98</td>\n",
       "      <td>0</td>\n",
       "      <td>0</td>\n",
       "      <td>3</td>\n",
       "      <td>4</td>\n",
       "      <td>0</td>\n",
       "      <td>Cadillac Fleetwood</td>\n",
       "      <td>Cadillac Fleetwood</td>\n",
       "      <td>-1.829979</td>\n",
       "      <td>red</td>\n",
       "    </tr>\n",
       "    <tr>\n",
       "      <th>23</th>\n",
       "      <td>3.646917</td>\n",
       "      <td>8</td>\n",
       "      <td>350.0</td>\n",
       "      <td>245</td>\n",
       "      <td>3.73</td>\n",
       "      <td>3.840</td>\n",
       "      <td>15.41</td>\n",
       "      <td>0</td>\n",
       "      <td>0</td>\n",
       "      <td>3</td>\n",
       "      <td>4</td>\n",
       "      <td>0</td>\n",
       "      <td>Camaro Z28</td>\n",
       "      <td>Camaro Z28</td>\n",
       "      <td>-1.191664</td>\n",
       "      <td>red</td>\n",
       "    </tr>\n",
       "    <tr>\n",
       "      <th>6</th>\n",
       "      <td>3.781534</td>\n",
       "      <td>8</td>\n",
       "      <td>360.0</td>\n",
       "      <td>245</td>\n",
       "      <td>3.21</td>\n",
       "      <td>3.570</td>\n",
       "      <td>15.84</td>\n",
       "      <td>0</td>\n",
       "      <td>0</td>\n",
       "      <td>3</td>\n",
       "      <td>4</td>\n",
       "      <td>0</td>\n",
       "      <td>Duster 360</td>\n",
       "      <td>Duster 360</td>\n",
       "      <td>-0.988049</td>\n",
       "      <td>red</td>\n",
       "    </tr>\n",
       "    <tr>\n",
       "      <th>16</th>\n",
       "      <td>3.834058</td>\n",
       "      <td>8</td>\n",
       "      <td>440.0</td>\n",
       "      <td>230</td>\n",
       "      <td>3.23</td>\n",
       "      <td>5.345</td>\n",
       "      <td>17.42</td>\n",
       "      <td>0</td>\n",
       "      <td>0</td>\n",
       "      <td>3</td>\n",
       "      <td>4</td>\n",
       "      <td>0</td>\n",
       "      <td>Chrysler Imperial</td>\n",
       "      <td>Chrysler Imperial</td>\n",
       "      <td>-0.908604</td>\n",
       "      <td>red</td>\n",
       "    </tr>\n",
       "  </tbody>\n",
       "</table>\n",
       "</div>"
      ],
      "text/plain": [
       "         mpg  cyl   disp   hp  drat     wt   qsec  vs  am  gear  carb  fast  \\\n",
       "15  3.224903    8  460.0  215  3.00  5.424  17.82   0   0     3     4     0   \n",
       "14  3.224903    8  472.0  205  2.93  5.250  17.98   0   0     3     4     0   \n",
       "23  3.646917    8  350.0  245  3.73  3.840  15.41   0   0     3     4     0   \n",
       "6   3.781534    8  360.0  245  3.21  3.570  15.84   0   0     3     4     0   \n",
       "16  3.834058    8  440.0  230  3.23  5.345  17.42   0   0     3     4     0   \n",
       "\n",
       "                   cars              carname     mpg_z colors  \n",
       "15  Lincoln Continental  Lincoln Continental -1.829979    red  \n",
       "14   Cadillac Fleetwood   Cadillac Fleetwood -1.829979    red  \n",
       "23           Camaro Z28           Camaro Z28 -1.191664    red  \n",
       "6            Duster 360           Duster 360 -0.988049    red  \n",
       "16    Chrysler Imperial    Chrysler Imperial -0.908604    red  "
      ]
     },
     "execution_count": 189,
     "metadata": {},
     "output_type": "execute_result"
    }
   ],
   "source": [
    "df.head()"
   ]
  },
  {
   "cell_type": "code",
   "execution_count": 190,
   "metadata": {},
   "outputs": [],
   "source": [
    "#排序之后索引也会跟着一起打乱\n",
    "#需要重置索引\n",
    "df.reset_index(drop=True,inplace=True) #drop参数是不要增加新的索引"
   ]
  },
  {
   "cell_type": "code",
   "execution_count": 191,
   "metadata": {},
   "outputs": [
    {
     "data": {
      "text/html": [
       "<div>\n",
       "<style scoped>\n",
       "    .dataframe tbody tr th:only-of-type {\n",
       "        vertical-align: middle;\n",
       "    }\n",
       "\n",
       "    .dataframe tbody tr th {\n",
       "        vertical-align: top;\n",
       "    }\n",
       "\n",
       "    .dataframe thead th {\n",
       "        text-align: right;\n",
       "    }\n",
       "</style>\n",
       "<table border=\"1\" class=\"dataframe\">\n",
       "  <thead>\n",
       "    <tr style=\"text-align: right;\">\n",
       "      <th></th>\n",
       "      <th>mpg</th>\n",
       "      <th>cyl</th>\n",
       "      <th>disp</th>\n",
       "      <th>hp</th>\n",
       "      <th>drat</th>\n",
       "      <th>wt</th>\n",
       "      <th>qsec</th>\n",
       "      <th>vs</th>\n",
       "      <th>am</th>\n",
       "      <th>gear</th>\n",
       "      <th>carb</th>\n",
       "      <th>fast</th>\n",
       "      <th>cars</th>\n",
       "      <th>carname</th>\n",
       "      <th>mpg_z</th>\n",
       "      <th>colors</th>\n",
       "    </tr>\n",
       "  </thead>\n",
       "  <tbody>\n",
       "    <tr>\n",
       "      <th>0</th>\n",
       "      <td>3.224903</td>\n",
       "      <td>8</td>\n",
       "      <td>460.0</td>\n",
       "      <td>215</td>\n",
       "      <td>3.00</td>\n",
       "      <td>5.424</td>\n",
       "      <td>17.82</td>\n",
       "      <td>0</td>\n",
       "      <td>0</td>\n",
       "      <td>3</td>\n",
       "      <td>4</td>\n",
       "      <td>0</td>\n",
       "      <td>Lincoln Continental</td>\n",
       "      <td>Lincoln Continental</td>\n",
       "      <td>-1.829979</td>\n",
       "      <td>red</td>\n",
       "    </tr>\n",
       "    <tr>\n",
       "      <th>1</th>\n",
       "      <td>3.224903</td>\n",
       "      <td>8</td>\n",
       "      <td>472.0</td>\n",
       "      <td>205</td>\n",
       "      <td>2.93</td>\n",
       "      <td>5.250</td>\n",
       "      <td>17.98</td>\n",
       "      <td>0</td>\n",
       "      <td>0</td>\n",
       "      <td>3</td>\n",
       "      <td>4</td>\n",
       "      <td>0</td>\n",
       "      <td>Cadillac Fleetwood</td>\n",
       "      <td>Cadillac Fleetwood</td>\n",
       "      <td>-1.829979</td>\n",
       "      <td>red</td>\n",
       "    </tr>\n",
       "    <tr>\n",
       "      <th>2</th>\n",
       "      <td>3.646917</td>\n",
       "      <td>8</td>\n",
       "      <td>350.0</td>\n",
       "      <td>245</td>\n",
       "      <td>3.73</td>\n",
       "      <td>3.840</td>\n",
       "      <td>15.41</td>\n",
       "      <td>0</td>\n",
       "      <td>0</td>\n",
       "      <td>3</td>\n",
       "      <td>4</td>\n",
       "      <td>0</td>\n",
       "      <td>Camaro Z28</td>\n",
       "      <td>Camaro Z28</td>\n",
       "      <td>-1.191664</td>\n",
       "      <td>red</td>\n",
       "    </tr>\n",
       "    <tr>\n",
       "      <th>3</th>\n",
       "      <td>3.781534</td>\n",
       "      <td>8</td>\n",
       "      <td>360.0</td>\n",
       "      <td>245</td>\n",
       "      <td>3.21</td>\n",
       "      <td>3.570</td>\n",
       "      <td>15.84</td>\n",
       "      <td>0</td>\n",
       "      <td>0</td>\n",
       "      <td>3</td>\n",
       "      <td>4</td>\n",
       "      <td>0</td>\n",
       "      <td>Duster 360</td>\n",
       "      <td>Duster 360</td>\n",
       "      <td>-0.988049</td>\n",
       "      <td>red</td>\n",
       "    </tr>\n",
       "    <tr>\n",
       "      <th>4</th>\n",
       "      <td>3.834058</td>\n",
       "      <td>8</td>\n",
       "      <td>440.0</td>\n",
       "      <td>230</td>\n",
       "      <td>3.23</td>\n",
       "      <td>5.345</td>\n",
       "      <td>17.42</td>\n",
       "      <td>0</td>\n",
       "      <td>0</td>\n",
       "      <td>3</td>\n",
       "      <td>4</td>\n",
       "      <td>0</td>\n",
       "      <td>Chrysler Imperial</td>\n",
       "      <td>Chrysler Imperial</td>\n",
       "      <td>-0.908604</td>\n",
       "      <td>red</td>\n",
       "    </tr>\n",
       "  </tbody>\n",
       "</table>\n",
       "</div>"
      ],
      "text/plain": [
       "        mpg  cyl   disp   hp  drat     wt   qsec  vs  am  gear  carb  fast  \\\n",
       "0  3.224903    8  460.0  215  3.00  5.424  17.82   0   0     3     4     0   \n",
       "1  3.224903    8  472.0  205  2.93  5.250  17.98   0   0     3     4     0   \n",
       "2  3.646917    8  350.0  245  3.73  3.840  15.41   0   0     3     4     0   \n",
       "3  3.781534    8  360.0  245  3.21  3.570  15.84   0   0     3     4     0   \n",
       "4  3.834058    8  440.0  230  3.23  5.345  17.42   0   0     3     4     0   \n",
       "\n",
       "                  cars              carname     mpg_z colors  \n",
       "0  Lincoln Continental  Lincoln Continental -1.829979    red  \n",
       "1   Cadillac Fleetwood   Cadillac Fleetwood -1.829979    red  \n",
       "2           Camaro Z28           Camaro Z28 -1.191664    red  \n",
       "3           Duster 360           Duster 360 -0.988049    red  \n",
       "4    Chrysler Imperial    Chrysler Imperial -0.908604    red  "
      ]
     },
     "execution_count": 191,
     "metadata": {},
     "output_type": "execute_result"
    }
   ],
   "source": [
    "df.head()"
   ]
  },
  {
   "cell_type": "markdown",
   "metadata": {},
   "source": [
    "### 6. 绘制目标图形"
   ]
  },
  {
   "cell_type": "code",
   "execution_count": 192,
   "metadata": {},
   "outputs": [
    {
     "data": {
      "image/png": "[encoded data removed]",
      "text/plain": [
       "<Figure size 910x650 with 1 Axes>"
      ]
     },
     "metadata": {
      "needs_background": "light"
     },
     "output_type": "display_data"
    }
   ],
   "source": [
    "#创建画布\n",
    "plt.figure(figsize=(14,10), dpi= 65)\n",
    "\n",
    "#绘制基础图形\n",
    "plt.hlines(y=df.cars, xmin=0, xmax=df.mpg_z\n",
    "           ,color=df.colors\n",
    "           ,alpha=0.4\n",
    "           ,linewidth=5);\n",
    "\n",
    "#添加装饰\n",
    "plt.ylabel('$model$',fontsize=15)   #设置y轴标签，fontsize调节文字大小，$斜体\n",
    "plt.xlabel('$mileage$',fontsize=15) #设置x轴标签，fontsize调节文字大小\n",
    "plt.yticks(fontsize=12)         #y轴刻度标签\n",
    "plt.title('Diverging Bars of Car Mileage', fontdict={'size':20,'color':'k'}) #设置图形标题\n",
    "plt.grid(linestyle='-.', alpha=0.5);  #配置网格线"
   ]
  },
  {
   "cell_type": "markdown",
   "metadata": {},
   "source": [
    "**原图形代码**"
   ]
  },
  {
   "cell_type": "code",
   "execution_count": 82,
   "metadata": {},
   "outputs": [
    {
     "data": {
      "image/png": "[encoded data removed]",
      "text/plain": [
       "<Figure size 910x650 with 1 Axes>"
      ]
     },
     "metadata": {
      "needs_background": "light"
     },
     "output_type": "display_data"
    }
   ],
   "source": [
    "#下面这一整段代码为原始代码\n",
    "\n",
    "# Prepare Data\n",
    "df = pd.read_csv(\"data/mtcars.csv\")  #导入数据集\n",
    "x = df.loc[:, ['mpg']]   #提取目标数据\n",
    "df['mpg_z'] = (x - x.mean())/x.std()  #对目标数据进行z-score标准化处理\n",
    "df['colors'] = ['red' if x < 0 else 'green' for x in df['mpg_z']] #生成颜色标签列\n",
    "df.sort_values('mpg_z', inplace=True) #根据标准化后的数据对整个数据集进行排序\n",
    "df.reset_index(drop=Talse,inplace=True) #重置数据集的索引（这里是新增加了一列索引）\n",
    "\n",
    "# Draw plot\n",
    "plt.figure(figsize=(14,10), dpi= 65) #创建画布并设置画布大小\n",
    "plt.hlines(y=df.index, xmin=0, xmax=df.mpg_z, color=df.colors, alpha=0.4, linewidth=5)#绘制基础图形\n",
    "\n",
    "# Decorations\n",
    "plt.gca().set(ylabel='$Model$', xlabel='$Mileage$')#get current axes,获取当前子图，若果没有子图则创建一个子图，并设置横纵轴名称\n",
    "plt.yticks(df.index, df.cars, fontsize=12)  #将y轴刻度标签修改为汽车名称，并设置字体大小\n",
    "plt.title('Diverging Bars of Car Mileage', fontdict={'size':20}) #添加图标标题，并设置标题字体大小\n",
    "plt.grid(linestyle='--', alpha=0.5) #配置网格线\n",
    "plt.show() #本地显示图像"
   ]
  },
  {
   "cell_type": "markdown",
   "metadata": {},
   "source": [
    "### 7. 图形解读"
   ]
  },
  {
   "cell_type": "markdown",
   "metadata": {},
   "source": [
    "#### （1）相同油耗内里程数最小的是林肯大陆 （Lincoln Continental）\n",
    "> 这款车一开始是福特汽车公司总裁Edsel Ford的私人车辆     \n",
    "> 从1939年至今已经更新十代   \n",
    "> 林肯系列车走的是高端路线，油耗里程已经不再是它关注的重点,耗油    \n",
    "\n",
    "#### （2）位于均值线上的是法拉利迪诺（Ferrari Dino）\n",
    "> “Dino”品牌的诞生是为了推出一款价格较低，“价格合理”的跑车     \n",
    "> “Dino”这个名字是为了纪念这位创始人已故的儿子Alfredo“Dino”Ferrari，他因设计用于汽车的V6发动机而受到赞誉   \n",
    "\n",
    "#### （3）油耗里程数最大的是丰田卡罗拉（Toyota Corolla）\n",
    "> 这是丰田生产的一系列超小型和紧凑型轿车    \n",
    "> 从1966年至今，已经更新十二代   \n",
    "> 卡罗拉于1966年推出，是1974年全球最畅销的汽车，自那时起成为全球最畅销的汽车之一    \n",
    "\n",
    "#### （4）从图形上来看，这32款汽车根据相同油耗内的里程数被分成了两组\n",
    "> 一组高于平均值，从图中可以看出基本上都是一些民用车（除了那款保时捷914之外）    \n",
    "> 一组低于平均值，基本上都是高端车，要不就是跑车，要不就是商用车    \n",
    "\n",
    "#### （5）大胆猜想：发散型条形图完成了聚类功能"
   ]
  },
  {
   "cell_type": "markdown",
   "metadata": {},
   "source": []
  },
  {
   "cell_type": "markdown",
   "metadata": {},
   "source": [
    "### 8. 用Kmeans聚类验证发散型条形图聚类效果"
   ]
  },
  {
   "cell_type": "markdown",
   "metadata": {},
   "source": [
    "#### 8.1 根据发散型条形图结果给原数据集添加标签"
   ]
  },
  {
   "cell_type": "code",
   "execution_count": 193,
   "metadata": {},
   "outputs": [
    {
     "data": {
      "text/html": [
       "<div>\n",
       "<style scoped>\n",
       "    .dataframe tbody tr th:only-of-type {\n",
       "        vertical-align: middle;\n",
       "    }\n",
       "\n",
       "    .dataframe tbody tr th {\n",
       "        vertical-align: top;\n",
       "    }\n",
       "\n",
       "    .dataframe thead th {\n",
       "        text-align: right;\n",
       "    }\n",
       "</style>\n",
       "<table border=\"1\" class=\"dataframe\">\n",
       "  <thead>\n",
       "    <tr style=\"text-align: right;\">\n",
       "      <th></th>\n",
       "      <th>mpg</th>\n",
       "      <th>cyl</th>\n",
       "      <th>disp</th>\n",
       "      <th>hp</th>\n",
       "      <th>drat</th>\n",
       "      <th>wt</th>\n",
       "      <th>qsec</th>\n",
       "      <th>vs</th>\n",
       "      <th>am</th>\n",
       "      <th>gear</th>\n",
       "      <th>carb</th>\n",
       "      <th>fast</th>\n",
       "      <th>cars</th>\n",
       "      <th>carname</th>\n",
       "      <th>mpg_z</th>\n",
       "      <th>colors</th>\n",
       "    </tr>\n",
       "  </thead>\n",
       "  <tbody>\n",
       "    <tr>\n",
       "      <th>0</th>\n",
       "      <td>3.224903</td>\n",
       "      <td>8</td>\n",
       "      <td>460.0</td>\n",
       "      <td>215</td>\n",
       "      <td>3.00</td>\n",
       "      <td>5.424</td>\n",
       "      <td>17.82</td>\n",
       "      <td>0</td>\n",
       "      <td>0</td>\n",
       "      <td>3</td>\n",
       "      <td>4</td>\n",
       "      <td>0</td>\n",
       "      <td>Lincoln Continental</td>\n",
       "      <td>Lincoln Continental</td>\n",
       "      <td>-1.829979</td>\n",
       "      <td>red</td>\n",
       "    </tr>\n",
       "    <tr>\n",
       "      <th>1</th>\n",
       "      <td>3.224903</td>\n",
       "      <td>8</td>\n",
       "      <td>472.0</td>\n",
       "      <td>205</td>\n",
       "      <td>2.93</td>\n",
       "      <td>5.250</td>\n",
       "      <td>17.98</td>\n",
       "      <td>0</td>\n",
       "      <td>0</td>\n",
       "      <td>3</td>\n",
       "      <td>4</td>\n",
       "      <td>0</td>\n",
       "      <td>Cadillac Fleetwood</td>\n",
       "      <td>Cadillac Fleetwood</td>\n",
       "      <td>-1.829979</td>\n",
       "      <td>red</td>\n",
       "    </tr>\n",
       "    <tr>\n",
       "      <th>2</th>\n",
       "      <td>3.646917</td>\n",
       "      <td>8</td>\n",
       "      <td>350.0</td>\n",
       "      <td>245</td>\n",
       "      <td>3.73</td>\n",
       "      <td>3.840</td>\n",
       "      <td>15.41</td>\n",
       "      <td>0</td>\n",
       "      <td>0</td>\n",
       "      <td>3</td>\n",
       "      <td>4</td>\n",
       "      <td>0</td>\n",
       "      <td>Camaro Z28</td>\n",
       "      <td>Camaro Z28</td>\n",
       "      <td>-1.191664</td>\n",
       "      <td>red</td>\n",
       "    </tr>\n",
       "    <tr>\n",
       "      <th>3</th>\n",
       "      <td>3.781534</td>\n",
       "      <td>8</td>\n",
       "      <td>360.0</td>\n",
       "      <td>245</td>\n",
       "      <td>3.21</td>\n",
       "      <td>3.570</td>\n",
       "      <td>15.84</td>\n",
       "      <td>0</td>\n",
       "      <td>0</td>\n",
       "      <td>3</td>\n",
       "      <td>4</td>\n",
       "      <td>0</td>\n",
       "      <td>Duster 360</td>\n",
       "      <td>Duster 360</td>\n",
       "      <td>-0.988049</td>\n",
       "      <td>red</td>\n",
       "    </tr>\n",
       "    <tr>\n",
       "      <th>4</th>\n",
       "      <td>3.834058</td>\n",
       "      <td>8</td>\n",
       "      <td>440.0</td>\n",
       "      <td>230</td>\n",
       "      <td>3.23</td>\n",
       "      <td>5.345</td>\n",
       "      <td>17.42</td>\n",
       "      <td>0</td>\n",
       "      <td>0</td>\n",
       "      <td>3</td>\n",
       "      <td>4</td>\n",
       "      <td>0</td>\n",
       "      <td>Chrysler Imperial</td>\n",
       "      <td>Chrysler Imperial</td>\n",
       "      <td>-0.908604</td>\n",
       "      <td>red</td>\n",
       "    </tr>\n",
       "  </tbody>\n",
       "</table>\n",
       "</div>"
      ],
      "text/plain": [
       "        mpg  cyl   disp   hp  drat     wt   qsec  vs  am  gear  carb  fast  \\\n",
       "0  3.224903    8  460.0  215  3.00  5.424  17.82   0   0     3     4     0   \n",
       "1  3.224903    8  472.0  205  2.93  5.250  17.98   0   0     3     4     0   \n",
       "2  3.646917    8  350.0  245  3.73  3.840  15.41   0   0     3     4     0   \n",
       "3  3.781534    8  360.0  245  3.21  3.570  15.84   0   0     3     4     0   \n",
       "4  3.834058    8  440.0  230  3.23  5.345  17.42   0   0     3     4     0   \n",
       "\n",
       "                  cars              carname     mpg_z colors  \n",
       "0  Lincoln Continental  Lincoln Continental -1.829979    red  \n",
       "1   Cadillac Fleetwood   Cadillac Fleetwood -1.829979    red  \n",
       "2           Camaro Z28           Camaro Z28 -1.191664    red  \n",
       "3           Duster 360           Duster 360 -0.988049    red  \n",
       "4    Chrysler Imperial    Chrysler Imperial -0.908604    red  "
      ]
     },
     "execution_count": 193,
     "metadata": {},
     "output_type": "execute_result"
    }
   ],
   "source": [
    "df.head()"
   ]
  },
  {
   "cell_type": "code",
   "execution_count": 194,
   "metadata": {},
   "outputs": [],
   "source": [
    "df['label']= [1 if i=='red' else 0 for i in df.colors]"
   ]
  },
  {
   "cell_type": "code",
   "execution_count": 195,
   "metadata": {},
   "outputs": [
    {
     "data": {
      "text/html": [
       "<div>\n",
       "<style scoped>\n",
       "    .dataframe tbody tr th:only-of-type {\n",
       "        vertical-align: middle;\n",
       "    }\n",
       "\n",
       "    .dataframe tbody tr th {\n",
       "        vertical-align: top;\n",
       "    }\n",
       "\n",
       "    .dataframe thead th {\n",
       "        text-align: right;\n",
       "    }\n",
       "</style>\n",
       "<table border=\"1\" class=\"dataframe\">\n",
       "  <thead>\n",
       "    <tr style=\"text-align: right;\">\n",
       "      <th></th>\n",
       "      <th>mpg</th>\n",
       "      <th>cyl</th>\n",
       "      <th>disp</th>\n",
       "      <th>hp</th>\n",
       "      <th>drat</th>\n",
       "      <th>wt</th>\n",
       "      <th>qsec</th>\n",
       "      <th>vs</th>\n",
       "      <th>am</th>\n",
       "      <th>gear</th>\n",
       "      <th>carb</th>\n",
       "      <th>fast</th>\n",
       "      <th>cars</th>\n",
       "      <th>carname</th>\n",
       "      <th>mpg_z</th>\n",
       "      <th>colors</th>\n",
       "      <th>label</th>\n",
       "    </tr>\n",
       "  </thead>\n",
       "  <tbody>\n",
       "    <tr>\n",
       "      <th>0</th>\n",
       "      <td>3.224903</td>\n",
       "      <td>8</td>\n",
       "      <td>460.0</td>\n",
       "      <td>215</td>\n",
       "      <td>3.00</td>\n",
       "      <td>5.424</td>\n",
       "      <td>17.82</td>\n",
       "      <td>0</td>\n",
       "      <td>0</td>\n",
       "      <td>3</td>\n",
       "      <td>4</td>\n",
       "      <td>0</td>\n",
       "      <td>Lincoln Continental</td>\n",
       "      <td>Lincoln Continental</td>\n",
       "      <td>-1.829979</td>\n",
       "      <td>red</td>\n",
       "      <td>1</td>\n",
       "    </tr>\n",
       "    <tr>\n",
       "      <th>1</th>\n",
       "      <td>3.224903</td>\n",
       "      <td>8</td>\n",
       "      <td>472.0</td>\n",
       "      <td>205</td>\n",
       "      <td>2.93</td>\n",
       "      <td>5.250</td>\n",
       "      <td>17.98</td>\n",
       "      <td>0</td>\n",
       "      <td>0</td>\n",
       "      <td>3</td>\n",
       "      <td>4</td>\n",
       "      <td>0</td>\n",
       "      <td>Cadillac Fleetwood</td>\n",
       "      <td>Cadillac Fleetwood</td>\n",
       "      <td>-1.829979</td>\n",
       "      <td>red</td>\n",
       "      <td>1</td>\n",
       "    </tr>\n",
       "    <tr>\n",
       "      <th>2</th>\n",
       "      <td>3.646917</td>\n",
       "      <td>8</td>\n",
       "      <td>350.0</td>\n",
       "      <td>245</td>\n",
       "      <td>3.73</td>\n",
       "      <td>3.840</td>\n",
       "      <td>15.41</td>\n",
       "      <td>0</td>\n",
       "      <td>0</td>\n",
       "      <td>3</td>\n",
       "      <td>4</td>\n",
       "      <td>0</td>\n",
       "      <td>Camaro Z28</td>\n",
       "      <td>Camaro Z28</td>\n",
       "      <td>-1.191664</td>\n",
       "      <td>red</td>\n",
       "      <td>1</td>\n",
       "    </tr>\n",
       "    <tr>\n",
       "      <th>3</th>\n",
       "      <td>3.781534</td>\n",
       "      <td>8</td>\n",
       "      <td>360.0</td>\n",
       "      <td>245</td>\n",
       "      <td>3.21</td>\n",
       "      <td>3.570</td>\n",
       "      <td>15.84</td>\n",
       "      <td>0</td>\n",
       "      <td>0</td>\n",
       "      <td>3</td>\n",
       "      <td>4</td>\n",
       "      <td>0</td>\n",
       "      <td>Duster 360</td>\n",
       "      <td>Duster 360</td>\n",
       "      <td>-0.988049</td>\n",
       "      <td>red</td>\n",
       "      <td>1</td>\n",
       "    </tr>\n",
       "    <tr>\n",
       "      <th>4</th>\n",
       "      <td>3.834058</td>\n",
       "      <td>8</td>\n",
       "      <td>440.0</td>\n",
       "      <td>230</td>\n",
       "      <td>3.23</td>\n",
       "      <td>5.345</td>\n",
       "      <td>17.42</td>\n",
       "      <td>0</td>\n",
       "      <td>0</td>\n",
       "      <td>3</td>\n",
       "      <td>4</td>\n",
       "      <td>0</td>\n",
       "      <td>Chrysler Imperial</td>\n",
       "      <td>Chrysler Imperial</td>\n",
       "      <td>-0.908604</td>\n",
       "      <td>red</td>\n",
       "      <td>1</td>\n",
       "    </tr>\n",
       "  </tbody>\n",
       "</table>\n",
       "</div>"
      ],
      "text/plain": [
       "        mpg  cyl   disp   hp  drat     wt   qsec  vs  am  gear  carb  fast  \\\n",
       "0  3.224903    8  460.0  215  3.00  5.424  17.82   0   0     3     4     0   \n",
       "1  3.224903    8  472.0  205  2.93  5.250  17.98   0   0     3     4     0   \n",
       "2  3.646917    8  350.0  245  3.73  3.840  15.41   0   0     3     4     0   \n",
       "3  3.781534    8  360.0  245  3.21  3.570  15.84   0   0     3     4     0   \n",
       "4  3.834058    8  440.0  230  3.23  5.345  17.42   0   0     3     4     0   \n",
       "\n",
       "                  cars              carname     mpg_z colors  label  \n",
       "0  Lincoln Continental  Lincoln Continental -1.829979    red      1  \n",
       "1   Cadillac Fleetwood   Cadillac Fleetwood -1.829979    red      1  \n",
       "2           Camaro Z28           Camaro Z28 -1.191664    red      1  \n",
       "3           Duster 360           Duster 360 -0.988049    red      1  \n",
       "4    Chrysler Imperial    Chrysler Imperial -0.908604    red      1  "
      ]
     },
     "execution_count": 195,
     "metadata": {},
     "output_type": "execute_result"
    }
   ],
   "source": [
    "df.head()"
   ]
  },
  {
   "cell_type": "markdown",
   "metadata": {},
   "source": [
    "#### 8.2 利用Kmeans算法对原数据集进行聚类"
   ]
  },
  {
   "cell_type": "code",
   "execution_count": 196,
   "metadata": {},
   "outputs": [],
   "source": [
    "#导入Kmeans库\n",
    "from sklearn.cluster import KMeans"
   ]
  },
  {
   "cell_type": "code",
   "execution_count": 197,
   "metadata": {},
   "outputs": [],
   "source": [
    "#导入原数据集\n",
    "df1 = pd.read_csv(\"data/mtcars.csv\")"
   ]
  },
  {
   "cell_type": "code",
   "execution_count": 198,
   "metadata": {},
   "outputs": [
    {
     "data": {
      "text/html": [
       "<div>\n",
       "<style scoped>\n",
       "    .dataframe tbody tr th:only-of-type {\n",
       "        vertical-align: middle;\n",
       "    }\n",
       "\n",
       "    .dataframe tbody tr th {\n",
       "        vertical-align: top;\n",
       "    }\n",
       "\n",
       "    .dataframe thead th {\n",
       "        text-align: right;\n",
       "    }\n",
       "</style>\n",
       "<table border=\"1\" class=\"dataframe\">\n",
       "  <thead>\n",
       "    <tr style=\"text-align: right;\">\n",
       "      <th></th>\n",
       "      <th>mpg</th>\n",
       "      <th>cyl</th>\n",
       "      <th>disp</th>\n",
       "      <th>hp</th>\n",
       "      <th>drat</th>\n",
       "      <th>wt</th>\n",
       "      <th>qsec</th>\n",
       "      <th>vs</th>\n",
       "      <th>am</th>\n",
       "      <th>gear</th>\n",
       "      <th>carb</th>\n",
       "      <th>fast</th>\n",
       "      <th>cars</th>\n",
       "      <th>carname</th>\n",
       "    </tr>\n",
       "  </thead>\n",
       "  <tbody>\n",
       "    <tr>\n",
       "      <th>0</th>\n",
       "      <td>4.582576</td>\n",
       "      <td>6</td>\n",
       "      <td>160.0</td>\n",
       "      <td>110</td>\n",
       "      <td>3.90</td>\n",
       "      <td>2.620</td>\n",
       "      <td>16.46</td>\n",
       "      <td>0</td>\n",
       "      <td>1</td>\n",
       "      <td>4</td>\n",
       "      <td>4</td>\n",
       "      <td>1</td>\n",
       "      <td>Mazda RX4</td>\n",
       "      <td>Mazda RX4</td>\n",
       "    </tr>\n",
       "    <tr>\n",
       "      <th>1</th>\n",
       "      <td>4.582576</td>\n",
       "      <td>6</td>\n",
       "      <td>160.0</td>\n",
       "      <td>110</td>\n",
       "      <td>3.90</td>\n",
       "      <td>2.875</td>\n",
       "      <td>17.02</td>\n",
       "      <td>0</td>\n",
       "      <td>1</td>\n",
       "      <td>4</td>\n",
       "      <td>4</td>\n",
       "      <td>1</td>\n",
       "      <td>Mazda RX4 Wag</td>\n",
       "      <td>Mazda RX4 Wag</td>\n",
       "    </tr>\n",
       "    <tr>\n",
       "      <th>2</th>\n",
       "      <td>4.774935</td>\n",
       "      <td>4</td>\n",
       "      <td>108.0</td>\n",
       "      <td>93</td>\n",
       "      <td>3.85</td>\n",
       "      <td>2.320</td>\n",
       "      <td>18.61</td>\n",
       "      <td>1</td>\n",
       "      <td>1</td>\n",
       "      <td>4</td>\n",
       "      <td>1</td>\n",
       "      <td>1</td>\n",
       "      <td>Datsun 710</td>\n",
       "      <td>Datsun 710</td>\n",
       "    </tr>\n",
       "    <tr>\n",
       "      <th>3</th>\n",
       "      <td>4.626013</td>\n",
       "      <td>6</td>\n",
       "      <td>258.0</td>\n",
       "      <td>110</td>\n",
       "      <td>3.08</td>\n",
       "      <td>3.215</td>\n",
       "      <td>19.44</td>\n",
       "      <td>1</td>\n",
       "      <td>0</td>\n",
       "      <td>3</td>\n",
       "      <td>1</td>\n",
       "      <td>1</td>\n",
       "      <td>Hornet 4 Drive</td>\n",
       "      <td>Hornet 4 Drive</td>\n",
       "    </tr>\n",
       "    <tr>\n",
       "      <th>4</th>\n",
       "      <td>4.324350</td>\n",
       "      <td>8</td>\n",
       "      <td>360.0</td>\n",
       "      <td>175</td>\n",
       "      <td>3.15</td>\n",
       "      <td>3.440</td>\n",
       "      <td>17.02</td>\n",
       "      <td>0</td>\n",
       "      <td>0</td>\n",
       "      <td>3</td>\n",
       "      <td>2</td>\n",
       "      <td>1</td>\n",
       "      <td>Hornet Sportabout</td>\n",
       "      <td>Hornet Sportabout</td>\n",
       "    </tr>\n",
       "  </tbody>\n",
       "</table>\n",
       "</div>"
      ],
      "text/plain": [
       "        mpg  cyl   disp   hp  drat     wt   qsec  vs  am  gear  carb  fast  \\\n",
       "0  4.582576    6  160.0  110  3.90  2.620  16.46   0   1     4     4     1   \n",
       "1  4.582576    6  160.0  110  3.90  2.875  17.02   0   1     4     4     1   \n",
       "2  4.774935    4  108.0   93  3.85  2.320  18.61   1   1     4     1     1   \n",
       "3  4.626013    6  258.0  110  3.08  3.215  19.44   1   0     3     1     1   \n",
       "4  4.324350    8  360.0  175  3.15  3.440  17.02   0   0     3     2     1   \n",
       "\n",
       "                cars            carname  \n",
       "0          Mazda RX4          Mazda RX4  \n",
       "1      Mazda RX4 Wag      Mazda RX4 Wag  \n",
       "2         Datsun 710         Datsun 710  \n",
       "3     Hornet 4 Drive     Hornet 4 Drive  \n",
       "4  Hornet Sportabout  Hornet Sportabout  "
      ]
     },
     "execution_count": 198,
     "metadata": {},
     "output_type": "execute_result"
    }
   ],
   "source": [
    "df1.head()"
   ]
  },
  {
   "cell_type": "code",
   "execution_count": 199,
   "metadata": {},
   "outputs": [
    {
     "data": {
      "text/plain": [
       "array([4.58257569, 4.58257569, 4.77493455, 4.6260134 , 4.32434966,\n",
       "       4.25440948, 3.78153408, 4.93963561, 4.77493455, 4.38178046,\n",
       "       4.21900462, 4.04969135, 4.15932687, 3.89871774, 3.2249031 ,\n",
       "       3.2249031 , 3.8340579 , 5.69209979, 5.5136195 , 5.82237065,\n",
       "       4.63680925, 3.93700394, 3.89871774, 3.64691651, 4.38178046,\n",
       "       5.22494019, 5.09901951, 5.5136195 , 3.97492138, 4.4384682 ,\n",
       "       3.87298335, 4.6260134 ])"
      ]
     },
     "execution_count": 199,
     "metadata": {},
     "output_type": "execute_result"
    }
   ],
   "source": [
    "df1.mpg.values"
   ]
  },
  {
   "cell_type": "code",
   "execution_count": 200,
   "metadata": {},
   "outputs": [
    {
     "data": {
      "text/plain": [
       "(32, 1)"
      ]
     },
     "execution_count": 200,
     "metadata": {},
     "output_type": "execute_result"
    }
   ],
   "source": [
    "df1.mpg.values.reshape(-1,1).shape"
   ]
  },
  {
   "cell_type": "code",
   "execution_count": 201,
   "metadata": {},
   "outputs": [],
   "source": [
    "#提取出目标数据，由于sklearn不接受一维数据，所以需要对目标数据进行变形\n",
    "data_x = df1.mpg.values.reshape(-1,1)"
   ]
  },
  {
   "cell_type": "code",
   "execution_count": 202,
   "metadata": {},
   "outputs": [
    {
     "data": {
      "text/plain": [
       "(32, 1)"
      ]
     },
     "execution_count": 202,
     "metadata": {},
     "output_type": "execute_result"
    }
   ],
   "source": [
    "data_x.shape"
   ]
  },
  {
   "cell_type": "code",
   "execution_count": 205,
   "metadata": {},
   "outputs": [],
   "source": [
    "#执行聚类\n",
    "cluster = KMeans(n_clusters=2, random_state=0).fit(data_x)"
   ]
  },
  {
   "cell_type": "code",
   "execution_count": 206,
   "metadata": {},
   "outputs": [
    {
     "data": {
      "text/plain": [
       "array([0, 0, 0, 0, 1, 1, 1, 0, 0, 1, 1, 1, 1, 1, 1, 1, 1, 0, 0, 0, 0, 1,\n",
       "       1, 1, 1, 0, 0, 0, 1, 1, 1, 0])"
      ]
     },
     "execution_count": 206,
     "metadata": {},
     "output_type": "execute_result"
    }
   ],
   "source": [
    "#查看聚好的类别，每个样本所对应的类\n",
    "cluster.labels_"
   ]
  },
  {
   "cell_type": "code",
   "execution_count": 207,
   "metadata": {},
   "outputs": [],
   "source": [
    "#新建一列标签列，将聚类的结果作为标签\n",
    "df1['label'] = cluster.labels_"
   ]
  },
  {
   "cell_type": "code",
   "execution_count": 208,
   "metadata": {},
   "outputs": [
    {
     "data": {
      "text/html": [
       "<div>\n",
       "<style scoped>\n",
       "    .dataframe tbody tr th:only-of-type {\n",
       "        vertical-align: middle;\n",
       "    }\n",
       "\n",
       "    .dataframe tbody tr th {\n",
       "        vertical-align: top;\n",
       "    }\n",
       "\n",
       "    .dataframe thead th {\n",
       "        text-align: right;\n",
       "    }\n",
       "</style>\n",
       "<table border=\"1\" class=\"dataframe\">\n",
       "  <thead>\n",
       "    <tr style=\"text-align: right;\">\n",
       "      <th></th>\n",
       "      <th>mpg</th>\n",
       "      <th>cyl</th>\n",
       "      <th>disp</th>\n",
       "      <th>hp</th>\n",
       "      <th>drat</th>\n",
       "      <th>wt</th>\n",
       "      <th>qsec</th>\n",
       "      <th>vs</th>\n",
       "      <th>am</th>\n",
       "      <th>gear</th>\n",
       "      <th>carb</th>\n",
       "      <th>fast</th>\n",
       "      <th>cars</th>\n",
       "      <th>carname</th>\n",
       "      <th>label</th>\n",
       "    </tr>\n",
       "  </thead>\n",
       "  <tbody>\n",
       "    <tr>\n",
       "      <th>0</th>\n",
       "      <td>4.582576</td>\n",
       "      <td>6</td>\n",
       "      <td>160.0</td>\n",
       "      <td>110</td>\n",
       "      <td>3.90</td>\n",
       "      <td>2.620</td>\n",
       "      <td>16.46</td>\n",
       "      <td>0</td>\n",
       "      <td>1</td>\n",
       "      <td>4</td>\n",
       "      <td>4</td>\n",
       "      <td>1</td>\n",
       "      <td>Mazda RX4</td>\n",
       "      <td>Mazda RX4</td>\n",
       "      <td>0</td>\n",
       "    </tr>\n",
       "    <tr>\n",
       "      <th>1</th>\n",
       "      <td>4.582576</td>\n",
       "      <td>6</td>\n",
       "      <td>160.0</td>\n",
       "      <td>110</td>\n",
       "      <td>3.90</td>\n",
       "      <td>2.875</td>\n",
       "      <td>17.02</td>\n",
       "      <td>0</td>\n",
       "      <td>1</td>\n",
       "      <td>4</td>\n",
       "      <td>4</td>\n",
       "      <td>1</td>\n",
       "      <td>Mazda RX4 Wag</td>\n",
       "      <td>Mazda RX4 Wag</td>\n",
       "      <td>0</td>\n",
       "    </tr>\n",
       "    <tr>\n",
       "      <th>2</th>\n",
       "      <td>4.774935</td>\n",
       "      <td>4</td>\n",
       "      <td>108.0</td>\n",
       "      <td>93</td>\n",
       "      <td>3.85</td>\n",
       "      <td>2.320</td>\n",
       "      <td>18.61</td>\n",
       "      <td>1</td>\n",
       "      <td>1</td>\n",
       "      <td>4</td>\n",
       "      <td>1</td>\n",
       "      <td>1</td>\n",
       "      <td>Datsun 710</td>\n",
       "      <td>Datsun 710</td>\n",
       "      <td>0</td>\n",
       "    </tr>\n",
       "    <tr>\n",
       "      <th>3</th>\n",
       "      <td>4.626013</td>\n",
       "      <td>6</td>\n",
       "      <td>258.0</td>\n",
       "      <td>110</td>\n",
       "      <td>3.08</td>\n",
       "      <td>3.215</td>\n",
       "      <td>19.44</td>\n",
       "      <td>1</td>\n",
       "      <td>0</td>\n",
       "      <td>3</td>\n",
       "      <td>1</td>\n",
       "      <td>1</td>\n",
       "      <td>Hornet 4 Drive</td>\n",
       "      <td>Hornet 4 Drive</td>\n",
       "      <td>0</td>\n",
       "    </tr>\n",
       "    <tr>\n",
       "      <th>4</th>\n",
       "      <td>4.324350</td>\n",
       "      <td>8</td>\n",
       "      <td>360.0</td>\n",
       "      <td>175</td>\n",
       "      <td>3.15</td>\n",
       "      <td>3.440</td>\n",
       "      <td>17.02</td>\n",
       "      <td>0</td>\n",
       "      <td>0</td>\n",
       "      <td>3</td>\n",
       "      <td>2</td>\n",
       "      <td>1</td>\n",
       "      <td>Hornet Sportabout</td>\n",
       "      <td>Hornet Sportabout</td>\n",
       "      <td>1</td>\n",
       "    </tr>\n",
       "  </tbody>\n",
       "</table>\n",
       "</div>"
      ],
      "text/plain": [
       "        mpg  cyl   disp   hp  drat     wt   qsec  vs  am  gear  carb  fast  \\\n",
       "0  4.582576    6  160.0  110  3.90  2.620  16.46   0   1     4     4     1   \n",
       "1  4.582576    6  160.0  110  3.90  2.875  17.02   0   1     4     4     1   \n",
       "2  4.774935    4  108.0   93  3.85  2.320  18.61   1   1     4     1     1   \n",
       "3  4.626013    6  258.0  110  3.08  3.215  19.44   1   0     3     1     1   \n",
       "4  4.324350    8  360.0  175  3.15  3.440  17.02   0   0     3     2     1   \n",
       "\n",
       "                cars            carname  label  \n",
       "0          Mazda RX4          Mazda RX4      0  \n",
       "1      Mazda RX4 Wag      Mazda RX4 Wag      0  \n",
       "2         Datsun 710         Datsun 710      0  \n",
       "3     Hornet 4 Drive     Hornet 4 Drive      0  \n",
       "4  Hornet Sportabout  Hornet Sportabout      1  "
      ]
     },
     "execution_count": 208,
     "metadata": {},
     "output_type": "execute_result"
    }
   ],
   "source": [
    "df1.head()"
   ]
  },
  {
   "cell_type": "code",
   "execution_count": 118,
   "metadata": {},
   "outputs": [
    {
     "data": {
      "text/html": [
       "<div>\n",
       "<style scoped>\n",
       "    .dataframe tbody tr th:only-of-type {\n",
       "        vertical-align: middle;\n",
       "    }\n",
       "\n",
       "    .dataframe tbody tr th {\n",
       "        vertical-align: top;\n",
       "    }\n",
       "\n",
       "    .dataframe thead th {\n",
       "        text-align: right;\n",
       "    }\n",
       "</style>\n",
       "<table border=\"1\" class=\"dataframe\">\n",
       "  <thead>\n",
       "    <tr style=\"text-align: right;\">\n",
       "      <th></th>\n",
       "      <th>index</th>\n",
       "      <th>mpg</th>\n",
       "      <th>cyl</th>\n",
       "      <th>disp</th>\n",
       "      <th>hp</th>\n",
       "      <th>drat</th>\n",
       "      <th>wt</th>\n",
       "      <th>qsec</th>\n",
       "      <th>vs</th>\n",
       "      <th>am</th>\n",
       "      <th>gear</th>\n",
       "      <th>carb</th>\n",
       "      <th>fast</th>\n",
       "      <th>cars</th>\n",
       "      <th>carname</th>\n",
       "      <th>mpg_z</th>\n",
       "      <th>colors</th>\n",
       "      <th>label</th>\n",
       "    </tr>\n",
       "  </thead>\n",
       "  <tbody>\n",
       "    <tr>\n",
       "      <th>0</th>\n",
       "      <td>15</td>\n",
       "      <td>3.224903</td>\n",
       "      <td>8</td>\n",
       "      <td>460.0</td>\n",
       "      <td>215</td>\n",
       "      <td>3.00</td>\n",
       "      <td>5.424</td>\n",
       "      <td>17.82</td>\n",
       "      <td>0</td>\n",
       "      <td>0</td>\n",
       "      <td>3</td>\n",
       "      <td>4</td>\n",
       "      <td>0</td>\n",
       "      <td>Lincoln Continental</td>\n",
       "      <td>Lincoln Continental</td>\n",
       "      <td>-1.829979</td>\n",
       "      <td>red</td>\n",
       "      <td>1</td>\n",
       "    </tr>\n",
       "    <tr>\n",
       "      <th>1</th>\n",
       "      <td>14</td>\n",
       "      <td>3.224903</td>\n",
       "      <td>8</td>\n",
       "      <td>472.0</td>\n",
       "      <td>205</td>\n",
       "      <td>2.93</td>\n",
       "      <td>5.250</td>\n",
       "      <td>17.98</td>\n",
       "      <td>0</td>\n",
       "      <td>0</td>\n",
       "      <td>3</td>\n",
       "      <td>4</td>\n",
       "      <td>0</td>\n",
       "      <td>Cadillac Fleetwood</td>\n",
       "      <td>Cadillac Fleetwood</td>\n",
       "      <td>-1.829979</td>\n",
       "      <td>red</td>\n",
       "      <td>1</td>\n",
       "    </tr>\n",
       "    <tr>\n",
       "      <th>2</th>\n",
       "      <td>23</td>\n",
       "      <td>3.646917</td>\n",
       "      <td>8</td>\n",
       "      <td>350.0</td>\n",
       "      <td>245</td>\n",
       "      <td>3.73</td>\n",
       "      <td>3.840</td>\n",
       "      <td>15.41</td>\n",
       "      <td>0</td>\n",
       "      <td>0</td>\n",
       "      <td>3</td>\n",
       "      <td>4</td>\n",
       "      <td>0</td>\n",
       "      <td>Camaro Z28</td>\n",
       "      <td>Camaro Z28</td>\n",
       "      <td>-1.191664</td>\n",
       "      <td>red</td>\n",
       "      <td>1</td>\n",
       "    </tr>\n",
       "    <tr>\n",
       "      <th>3</th>\n",
       "      <td>6</td>\n",
       "      <td>3.781534</td>\n",
       "      <td>8</td>\n",
       "      <td>360.0</td>\n",
       "      <td>245</td>\n",
       "      <td>3.21</td>\n",
       "      <td>3.570</td>\n",
       "      <td>15.84</td>\n",
       "      <td>0</td>\n",
       "      <td>0</td>\n",
       "      <td>3</td>\n",
       "      <td>4</td>\n",
       "      <td>0</td>\n",
       "      <td>Duster 360</td>\n",
       "      <td>Duster 360</td>\n",
       "      <td>-0.988049</td>\n",
       "      <td>red</td>\n",
       "      <td>1</td>\n",
       "    </tr>\n",
       "    <tr>\n",
       "      <th>4</th>\n",
       "      <td>16</td>\n",
       "      <td>3.834058</td>\n",
       "      <td>8</td>\n",
       "      <td>440.0</td>\n",
       "      <td>230</td>\n",
       "      <td>3.23</td>\n",
       "      <td>5.345</td>\n",
       "      <td>17.42</td>\n",
       "      <td>0</td>\n",
       "      <td>0</td>\n",
       "      <td>3</td>\n",
       "      <td>4</td>\n",
       "      <td>0</td>\n",
       "      <td>Chrysler Imperial</td>\n",
       "      <td>Chrysler Imperial</td>\n",
       "      <td>-0.908604</td>\n",
       "      <td>red</td>\n",
       "      <td>1</td>\n",
       "    </tr>\n",
       "  </tbody>\n",
       "</table>\n",
       "</div>"
      ],
      "text/plain": [
       "   index       mpg  cyl   disp   hp  drat     wt   qsec  vs  am  gear  carb  \\\n",
       "0     15  3.224903    8  460.0  215  3.00  5.424  17.82   0   0     3     4   \n",
       "1     14  3.224903    8  472.0  205  2.93  5.250  17.98   0   0     3     4   \n",
       "2     23  3.646917    8  350.0  245  3.73  3.840  15.41   0   0     3     4   \n",
       "3      6  3.781534    8  360.0  245  3.21  3.570  15.84   0   0     3     4   \n",
       "4     16  3.834058    8  440.0  230  3.23  5.345  17.42   0   0     3     4   \n",
       "\n",
       "   fast                 cars              carname     mpg_z colors  label  \n",
       "0     0  Lincoln Continental  Lincoln Continental -1.829979    red      1  \n",
       "1     0   Cadillac Fleetwood   Cadillac Fleetwood -1.829979    red      1  \n",
       "2     0           Camaro Z28           Camaro Z28 -1.191664    red      1  \n",
       "3     0           Duster 360           Duster 360 -0.988049    red      1  \n",
       "4     0    Chrysler Imperial    Chrysler Imperial -0.908604    red      1  "
      ]
     },
     "execution_count": 118,
     "metadata": {},
     "output_type": "execute_result"
    }
   ],
   "source": [
    "df.head()  # 重置没扔原标签"
   ]
  },
  {
   "cell_type": "markdown",
   "metadata": {},
   "source": [
    "【注意】 我们的发散型条形图的数据经过了排序，所以这里也需要将数据排序     \n",
    "需要保证的是两者排序的依据是一样的，都是根据mpg这个特征排序(原来的df排序过了）"
   ]
  },
  {
   "cell_type": "code",
   "execution_count": 209,
   "metadata": {},
   "outputs": [],
   "source": [
    "#对数据集进行排序\n",
    "df1.sort_values('mpg', inplace=True)"
   ]
  },
  {
   "cell_type": "code",
   "execution_count": 210,
   "metadata": {},
   "outputs": [
    {
     "data": {
      "text/html": [
       "<div>\n",
       "<style scoped>\n",
       "    .dataframe tbody tr th:only-of-type {\n",
       "        vertical-align: middle;\n",
       "    }\n",
       "\n",
       "    .dataframe tbody tr th {\n",
       "        vertical-align: top;\n",
       "    }\n",
       "\n",
       "    .dataframe thead th {\n",
       "        text-align: right;\n",
       "    }\n",
       "</style>\n",
       "<table border=\"1\" class=\"dataframe\">\n",
       "  <thead>\n",
       "    <tr style=\"text-align: right;\">\n",
       "      <th></th>\n",
       "      <th>mpg</th>\n",
       "      <th>cyl</th>\n",
       "      <th>disp</th>\n",
       "      <th>hp</th>\n",
       "      <th>drat</th>\n",
       "      <th>wt</th>\n",
       "      <th>qsec</th>\n",
       "      <th>vs</th>\n",
       "      <th>am</th>\n",
       "      <th>gear</th>\n",
       "      <th>carb</th>\n",
       "      <th>fast</th>\n",
       "      <th>cars</th>\n",
       "      <th>carname</th>\n",
       "      <th>label</th>\n",
       "    </tr>\n",
       "  </thead>\n",
       "  <tbody>\n",
       "    <tr>\n",
       "      <th>15</th>\n",
       "      <td>3.224903</td>\n",
       "      <td>8</td>\n",
       "      <td>460.0</td>\n",
       "      <td>215</td>\n",
       "      <td>3.00</td>\n",
       "      <td>5.424</td>\n",
       "      <td>17.82</td>\n",
       "      <td>0</td>\n",
       "      <td>0</td>\n",
       "      <td>3</td>\n",
       "      <td>4</td>\n",
       "      <td>0</td>\n",
       "      <td>Lincoln Continental</td>\n",
       "      <td>Lincoln Continental</td>\n",
       "      <td>1</td>\n",
       "    </tr>\n",
       "    <tr>\n",
       "      <th>14</th>\n",
       "      <td>3.224903</td>\n",
       "      <td>8</td>\n",
       "      <td>472.0</td>\n",
       "      <td>205</td>\n",
       "      <td>2.93</td>\n",
       "      <td>5.250</td>\n",
       "      <td>17.98</td>\n",
       "      <td>0</td>\n",
       "      <td>0</td>\n",
       "      <td>3</td>\n",
       "      <td>4</td>\n",
       "      <td>0</td>\n",
       "      <td>Cadillac Fleetwood</td>\n",
       "      <td>Cadillac Fleetwood</td>\n",
       "      <td>1</td>\n",
       "    </tr>\n",
       "    <tr>\n",
       "      <th>23</th>\n",
       "      <td>3.646917</td>\n",
       "      <td>8</td>\n",
       "      <td>350.0</td>\n",
       "      <td>245</td>\n",
       "      <td>3.73</td>\n",
       "      <td>3.840</td>\n",
       "      <td>15.41</td>\n",
       "      <td>0</td>\n",
       "      <td>0</td>\n",
       "      <td>3</td>\n",
       "      <td>4</td>\n",
       "      <td>0</td>\n",
       "      <td>Camaro Z28</td>\n",
       "      <td>Camaro Z28</td>\n",
       "      <td>1</td>\n",
       "    </tr>\n",
       "    <tr>\n",
       "      <th>6</th>\n",
       "      <td>3.781534</td>\n",
       "      <td>8</td>\n",
       "      <td>360.0</td>\n",
       "      <td>245</td>\n",
       "      <td>3.21</td>\n",
       "      <td>3.570</td>\n",
       "      <td>15.84</td>\n",
       "      <td>0</td>\n",
       "      <td>0</td>\n",
       "      <td>3</td>\n",
       "      <td>4</td>\n",
       "      <td>0</td>\n",
       "      <td>Duster 360</td>\n",
       "      <td>Duster 360</td>\n",
       "      <td>1</td>\n",
       "    </tr>\n",
       "    <tr>\n",
       "      <th>16</th>\n",
       "      <td>3.834058</td>\n",
       "      <td>8</td>\n",
       "      <td>440.0</td>\n",
       "      <td>230</td>\n",
       "      <td>3.23</td>\n",
       "      <td>5.345</td>\n",
       "      <td>17.42</td>\n",
       "      <td>0</td>\n",
       "      <td>0</td>\n",
       "      <td>3</td>\n",
       "      <td>4</td>\n",
       "      <td>0</td>\n",
       "      <td>Chrysler Imperial</td>\n",
       "      <td>Chrysler Imperial</td>\n",
       "      <td>1</td>\n",
       "    </tr>\n",
       "  </tbody>\n",
       "</table>\n",
       "</div>"
      ],
      "text/plain": [
       "         mpg  cyl   disp   hp  drat     wt   qsec  vs  am  gear  carb  fast  \\\n",
       "15  3.224903    8  460.0  215  3.00  5.424  17.82   0   0     3     4     0   \n",
       "14  3.224903    8  472.0  205  2.93  5.250  17.98   0   0     3     4     0   \n",
       "23  3.646917    8  350.0  245  3.73  3.840  15.41   0   0     3     4     0   \n",
       "6   3.781534    8  360.0  245  3.21  3.570  15.84   0   0     3     4     0   \n",
       "16  3.834058    8  440.0  230  3.23  5.345  17.42   0   0     3     4     0   \n",
       "\n",
       "                   cars              carname  label  \n",
       "15  Lincoln Continental  Lincoln Continental      1  \n",
       "14   Cadillac Fleetwood   Cadillac Fleetwood      1  \n",
       "23           Camaro Z28           Camaro Z28      1  \n",
       "6            Duster 360           Duster 360      1  \n",
       "16    Chrysler Imperial    Chrysler Imperial      1  "
      ]
     },
     "execution_count": 210,
     "metadata": {},
     "output_type": "execute_result"
    }
   ],
   "source": [
    "df1.head()"
   ]
  },
  {
   "cell_type": "code",
   "execution_count": 211,
   "metadata": {},
   "outputs": [],
   "source": [
    "#重置索引方法一：\n",
    "df1.reset_index(inplace=True)"
   ]
  },
  {
   "cell_type": "code",
   "execution_count": 212,
   "metadata": {},
   "outputs": [
    {
     "data": {
      "text/html": [
       "<div>\n",
       "<style scoped>\n",
       "    .dataframe tbody tr th:only-of-type {\n",
       "        vertical-align: middle;\n",
       "    }\n",
       "\n",
       "    .dataframe tbody tr th {\n",
       "        vertical-align: top;\n",
       "    }\n",
       "\n",
       "    .dataframe thead th {\n",
       "        text-align: right;\n",
       "    }\n",
       "</style>\n",
       "<table border=\"1\" class=\"dataframe\">\n",
       "  <thead>\n",
       "    <tr style=\"text-align: right;\">\n",
       "      <th></th>\n",
       "      <th>index</th>\n",
       "      <th>mpg</th>\n",
       "      <th>cyl</th>\n",
       "      <th>disp</th>\n",
       "      <th>hp</th>\n",
       "      <th>drat</th>\n",
       "      <th>wt</th>\n",
       "      <th>qsec</th>\n",
       "      <th>vs</th>\n",
       "      <th>am</th>\n",
       "      <th>gear</th>\n",
       "      <th>carb</th>\n",
       "      <th>fast</th>\n",
       "      <th>cars</th>\n",
       "      <th>carname</th>\n",
       "      <th>label</th>\n",
       "    </tr>\n",
       "  </thead>\n",
       "  <tbody>\n",
       "    <tr>\n",
       "      <th>0</th>\n",
       "      <td>15</td>\n",
       "      <td>3.224903</td>\n",
       "      <td>8</td>\n",
       "      <td>460.0</td>\n",
       "      <td>215</td>\n",
       "      <td>3.00</td>\n",
       "      <td>5.424</td>\n",
       "      <td>17.82</td>\n",
       "      <td>0</td>\n",
       "      <td>0</td>\n",
       "      <td>3</td>\n",
       "      <td>4</td>\n",
       "      <td>0</td>\n",
       "      <td>Lincoln Continental</td>\n",
       "      <td>Lincoln Continental</td>\n",
       "      <td>1</td>\n",
       "    </tr>\n",
       "    <tr>\n",
       "      <th>1</th>\n",
       "      <td>14</td>\n",
       "      <td>3.224903</td>\n",
       "      <td>8</td>\n",
       "      <td>472.0</td>\n",
       "      <td>205</td>\n",
       "      <td>2.93</td>\n",
       "      <td>5.250</td>\n",
       "      <td>17.98</td>\n",
       "      <td>0</td>\n",
       "      <td>0</td>\n",
       "      <td>3</td>\n",
       "      <td>4</td>\n",
       "      <td>0</td>\n",
       "      <td>Cadillac Fleetwood</td>\n",
       "      <td>Cadillac Fleetwood</td>\n",
       "      <td>1</td>\n",
       "    </tr>\n",
       "    <tr>\n",
       "      <th>2</th>\n",
       "      <td>23</td>\n",
       "      <td>3.646917</td>\n",
       "      <td>8</td>\n",
       "      <td>350.0</td>\n",
       "      <td>245</td>\n",
       "      <td>3.73</td>\n",
       "      <td>3.840</td>\n",
       "      <td>15.41</td>\n",
       "      <td>0</td>\n",
       "      <td>0</td>\n",
       "      <td>3</td>\n",
       "      <td>4</td>\n",
       "      <td>0</td>\n",
       "      <td>Camaro Z28</td>\n",
       "      <td>Camaro Z28</td>\n",
       "      <td>1</td>\n",
       "    </tr>\n",
       "    <tr>\n",
       "      <th>3</th>\n",
       "      <td>6</td>\n",
       "      <td>3.781534</td>\n",
       "      <td>8</td>\n",
       "      <td>360.0</td>\n",
       "      <td>245</td>\n",
       "      <td>3.21</td>\n",
       "      <td>3.570</td>\n",
       "      <td>15.84</td>\n",
       "      <td>0</td>\n",
       "      <td>0</td>\n",
       "      <td>3</td>\n",
       "      <td>4</td>\n",
       "      <td>0</td>\n",
       "      <td>Duster 360</td>\n",
       "      <td>Duster 360</td>\n",
       "      <td>1</td>\n",
       "    </tr>\n",
       "    <tr>\n",
       "      <th>4</th>\n",
       "      <td>16</td>\n",
       "      <td>3.834058</td>\n",
       "      <td>8</td>\n",
       "      <td>440.0</td>\n",
       "      <td>230</td>\n",
       "      <td>3.23</td>\n",
       "      <td>5.345</td>\n",
       "      <td>17.42</td>\n",
       "      <td>0</td>\n",
       "      <td>0</td>\n",
       "      <td>3</td>\n",
       "      <td>4</td>\n",
       "      <td>0</td>\n",
       "      <td>Chrysler Imperial</td>\n",
       "      <td>Chrysler Imperial</td>\n",
       "      <td>1</td>\n",
       "    </tr>\n",
       "  </tbody>\n",
       "</table>\n",
       "</div>"
      ],
      "text/plain": [
       "   index       mpg  cyl   disp   hp  drat     wt   qsec  vs  am  gear  carb  \\\n",
       "0     15  3.224903    8  460.0  215  3.00  5.424  17.82   0   0     3     4   \n",
       "1     14  3.224903    8  472.0  205  2.93  5.250  17.98   0   0     3     4   \n",
       "2     23  3.646917    8  350.0  245  3.73  3.840  15.41   0   0     3     4   \n",
       "3      6  3.781534    8  360.0  245  3.21  3.570  15.84   0   0     3     4   \n",
       "4     16  3.834058    8  440.0  230  3.23  5.345  17.42   0   0     3     4   \n",
       "\n",
       "   fast                 cars              carname  label  \n",
       "0     0  Lincoln Continental  Lincoln Continental      1  \n",
       "1     0   Cadillac Fleetwood   Cadillac Fleetwood      1  \n",
       "2     0           Camaro Z28           Camaro Z28      1  \n",
       "3     0           Duster 360           Duster 360      1  \n",
       "4     0    Chrysler Imperial    Chrysler Imperial      1  "
      ]
     },
     "execution_count": 212,
     "metadata": {},
     "output_type": "execute_result"
    }
   ],
   "source": [
    "df1.head()"
   ]
  },
  {
   "cell_type": "code",
   "execution_count": 213,
   "metadata": {},
   "outputs": [],
   "source": [
    "#重置索引方法二：\n",
    "df1.index = range(df1.shape[0])"
   ]
  },
  {
   "cell_type": "code",
   "execution_count": 214,
   "metadata": {},
   "outputs": [
    {
     "data": {
      "text/html": [
       "<div>\n",
       "<style scoped>\n",
       "    .dataframe tbody tr th:only-of-type {\n",
       "        vertical-align: middle;\n",
       "    }\n",
       "\n",
       "    .dataframe tbody tr th {\n",
       "        vertical-align: top;\n",
       "    }\n",
       "\n",
       "    .dataframe thead th {\n",
       "        text-align: right;\n",
       "    }\n",
       "</style>\n",
       "<table border=\"1\" class=\"dataframe\">\n",
       "  <thead>\n",
       "    <tr style=\"text-align: right;\">\n",
       "      <th></th>\n",
       "      <th>index</th>\n",
       "      <th>mpg</th>\n",
       "      <th>cyl</th>\n",
       "      <th>disp</th>\n",
       "      <th>hp</th>\n",
       "      <th>drat</th>\n",
       "      <th>wt</th>\n",
       "      <th>qsec</th>\n",
       "      <th>vs</th>\n",
       "      <th>am</th>\n",
       "      <th>gear</th>\n",
       "      <th>carb</th>\n",
       "      <th>fast</th>\n",
       "      <th>cars</th>\n",
       "      <th>carname</th>\n",
       "      <th>label</th>\n",
       "    </tr>\n",
       "  </thead>\n",
       "  <tbody>\n",
       "    <tr>\n",
       "      <th>0</th>\n",
       "      <td>15</td>\n",
       "      <td>3.224903</td>\n",
       "      <td>8</td>\n",
       "      <td>460.0</td>\n",
       "      <td>215</td>\n",
       "      <td>3.00</td>\n",
       "      <td>5.424</td>\n",
       "      <td>17.82</td>\n",
       "      <td>0</td>\n",
       "      <td>0</td>\n",
       "      <td>3</td>\n",
       "      <td>4</td>\n",
       "      <td>0</td>\n",
       "      <td>Lincoln Continental</td>\n",
       "      <td>Lincoln Continental</td>\n",
       "      <td>1</td>\n",
       "    </tr>\n",
       "    <tr>\n",
       "      <th>1</th>\n",
       "      <td>14</td>\n",
       "      <td>3.224903</td>\n",
       "      <td>8</td>\n",
       "      <td>472.0</td>\n",
       "      <td>205</td>\n",
       "      <td>2.93</td>\n",
       "      <td>5.250</td>\n",
       "      <td>17.98</td>\n",
       "      <td>0</td>\n",
       "      <td>0</td>\n",
       "      <td>3</td>\n",
       "      <td>4</td>\n",
       "      <td>0</td>\n",
       "      <td>Cadillac Fleetwood</td>\n",
       "      <td>Cadillac Fleetwood</td>\n",
       "      <td>1</td>\n",
       "    </tr>\n",
       "    <tr>\n",
       "      <th>2</th>\n",
       "      <td>23</td>\n",
       "      <td>3.646917</td>\n",
       "      <td>8</td>\n",
       "      <td>350.0</td>\n",
       "      <td>245</td>\n",
       "      <td>3.73</td>\n",
       "      <td>3.840</td>\n",
       "      <td>15.41</td>\n",
       "      <td>0</td>\n",
       "      <td>0</td>\n",
       "      <td>3</td>\n",
       "      <td>4</td>\n",
       "      <td>0</td>\n",
       "      <td>Camaro Z28</td>\n",
       "      <td>Camaro Z28</td>\n",
       "      <td>1</td>\n",
       "    </tr>\n",
       "    <tr>\n",
       "      <th>3</th>\n",
       "      <td>6</td>\n",
       "      <td>3.781534</td>\n",
       "      <td>8</td>\n",
       "      <td>360.0</td>\n",
       "      <td>245</td>\n",
       "      <td>3.21</td>\n",
       "      <td>3.570</td>\n",
       "      <td>15.84</td>\n",
       "      <td>0</td>\n",
       "      <td>0</td>\n",
       "      <td>3</td>\n",
       "      <td>4</td>\n",
       "      <td>0</td>\n",
       "      <td>Duster 360</td>\n",
       "      <td>Duster 360</td>\n",
       "      <td>1</td>\n",
       "    </tr>\n",
       "    <tr>\n",
       "      <th>4</th>\n",
       "      <td>16</td>\n",
       "      <td>3.834058</td>\n",
       "      <td>8</td>\n",
       "      <td>440.0</td>\n",
       "      <td>230</td>\n",
       "      <td>3.23</td>\n",
       "      <td>5.345</td>\n",
       "      <td>17.42</td>\n",
       "      <td>0</td>\n",
       "      <td>0</td>\n",
       "      <td>3</td>\n",
       "      <td>4</td>\n",
       "      <td>0</td>\n",
       "      <td>Chrysler Imperial</td>\n",
       "      <td>Chrysler Imperial</td>\n",
       "      <td>1</td>\n",
       "    </tr>\n",
       "  </tbody>\n",
       "</table>\n",
       "</div>"
      ],
      "text/plain": [
       "   index       mpg  cyl   disp   hp  drat     wt   qsec  vs  am  gear  carb  \\\n",
       "0     15  3.224903    8  460.0  215  3.00  5.424  17.82   0   0     3     4   \n",
       "1     14  3.224903    8  472.0  205  2.93  5.250  17.98   0   0     3     4   \n",
       "2     23  3.646917    8  350.0  245  3.73  3.840  15.41   0   0     3     4   \n",
       "3      6  3.781534    8  360.0  245  3.21  3.570  15.84   0   0     3     4   \n",
       "4     16  3.834058    8  440.0  230  3.23  5.345  17.42   0   0     3     4   \n",
       "\n",
       "   fast                 cars              carname  label  \n",
       "0     0  Lincoln Continental  Lincoln Continental      1  \n",
       "1     0   Cadillac Fleetwood   Cadillac Fleetwood      1  \n",
       "2     0           Camaro Z28           Camaro Z28      1  \n",
       "3     0           Duster 360           Duster 360      1  \n",
       "4     0    Chrysler Imperial    Chrysler Imperial      1  "
      ]
     },
     "execution_count": 214,
     "metadata": {},
     "output_type": "execute_result"
    }
   ],
   "source": [
    "df1.head()"
   ]
  },
  {
   "cell_type": "code",
   "execution_count": 215,
   "metadata": {},
   "outputs": [
    {
     "data": {
      "text/plain": [
       "array([1, 1, 1, 1, 1, 1, 1, 1, 1, 1, 1, 1, 1, 1, 1, 1, 1, 0, 0, 0, 0, 0,\n",
       "       0, 0, 0, 0, 0, 0, 0, 0, 0, 0], dtype=int64)"
      ]
     },
     "execution_count": 215,
     "metadata": {},
     "output_type": "execute_result"
    }
   ],
   "source": [
    "df['label'].values"
   ]
  },
  {
   "cell_type": "code",
   "execution_count": 216,
   "metadata": {},
   "outputs": [
    {
     "data": {
      "text/plain": [
       "array([1, 1, 1, 1, 1, 1, 1, 1, 1, 1, 1, 1, 1, 1, 1, 1, 1, 1, 0, 0, 0, 0,\n",
       "       0, 0, 0, 0, 0, 0, 0, 0, 0, 0])"
      ]
     },
     "execution_count": 216,
     "metadata": {},
     "output_type": "execute_result"
    }
   ],
   "source": [
    "df1['label'].values"
   ]
  },
  {
   "cell_type": "code",
   "execution_count": 217,
   "metadata": {},
   "outputs": [
    {
     "data": {
      "text/plain": [
       "31"
      ]
     },
     "execution_count": 217,
     "metadata": {},
     "output_type": "execute_result"
    }
   ],
   "source": [
    "sum(df['label']==df1['label']) #判断相等的个数有几个"
   ]
  },
  {
   "cell_type": "code",
   "execution_count": 218,
   "metadata": {},
   "outputs": [
    {
     "data": {
      "text/plain": [
       "32"
      ]
     },
     "execution_count": 218,
     "metadata": {},
     "output_type": "execute_result"
    }
   ],
   "source": [
    "df.shape[0]"
   ]
  },
  {
   "cell_type": "code",
   "execution_count": 128,
   "metadata": {},
   "outputs": [
    {
     "data": {
      "text/plain": [
       "0.96875"
      ]
     },
     "execution_count": 128,
     "metadata": {},
     "output_type": "execute_result"
    }
   ],
   "source": [
    "sum(df['label']==df1['label'])/df.shape[0]"
   ]
  },
  {
   "cell_type": "code",
   "execution_count": 129,
   "metadata": {},
   "outputs": [
    {
     "data": {
      "text/plain": [
       "0.96875"
      ]
     },
     "execution_count": 129,
     "metadata": {},
     "output_type": "execute_result"
    }
   ],
   "source": [
    "#准确率\n",
    "(df['label']==df1['label']).mean()"
   ]
  },
  {
   "cell_type": "code",
   "execution_count": null,
   "metadata": {},
   "outputs": [],
   "source": []
  },
  {
   "cell_type": "markdown",
   "metadata": {},
   "source": [
    "- 查看那唯一一个分错类的数据"
   ]
  },
  {
   "cell_type": "code",
   "execution_count": 130,
   "metadata": {},
   "outputs": [
    {
     "data": {
      "text/plain": [
       "0     False\n",
       "1     False\n",
       "2     False\n",
       "3     False\n",
       "4     False\n",
       "5     False\n",
       "6     False\n",
       "7     False\n",
       "8     False\n",
       "9     False\n",
       "10    False\n",
       "11    False\n",
       "12    False\n",
       "13    False\n",
       "14    False\n",
       "15    False\n",
       "16    False\n",
       "17     True\n",
       "18    False\n",
       "19    False\n",
       "20    False\n",
       "21    False\n",
       "22    False\n",
       "23    False\n",
       "24    False\n",
       "25    False\n",
       "26    False\n",
       "27    False\n",
       "28    False\n",
       "29    False\n",
       "30    False\n",
       "31    False\n",
       "Name: label, dtype: bool"
      ]
     },
     "execution_count": 130,
     "metadata": {},
     "output_type": "execute_result"
    }
   ],
   "source": [
    "df['label'] != df1['label']"
   ]
  },
  {
   "cell_type": "code",
   "execution_count": 131,
   "metadata": {},
   "outputs": [
    {
     "data": {
      "text/html": [
       "<div>\n",
       "<style scoped>\n",
       "    .dataframe tbody tr th:only-of-type {\n",
       "        vertical-align: middle;\n",
       "    }\n",
       "\n",
       "    .dataframe tbody tr th {\n",
       "        vertical-align: top;\n",
       "    }\n",
       "\n",
       "    .dataframe thead th {\n",
       "        text-align: right;\n",
       "    }\n",
       "</style>\n",
       "<table border=\"1\" class=\"dataframe\">\n",
       "  <thead>\n",
       "    <tr style=\"text-align: right;\">\n",
       "      <th></th>\n",
       "      <th>index</th>\n",
       "      <th>mpg</th>\n",
       "      <th>cyl</th>\n",
       "      <th>disp</th>\n",
       "      <th>hp</th>\n",
       "      <th>drat</th>\n",
       "      <th>wt</th>\n",
       "      <th>qsec</th>\n",
       "      <th>vs</th>\n",
       "      <th>am</th>\n",
       "      <th>gear</th>\n",
       "      <th>carb</th>\n",
       "      <th>fast</th>\n",
       "      <th>cars</th>\n",
       "      <th>carname</th>\n",
       "      <th>mpg_z</th>\n",
       "      <th>colors</th>\n",
       "      <th>label</th>\n",
       "    </tr>\n",
       "  </thead>\n",
       "  <tbody>\n",
       "    <tr>\n",
       "      <th>17</th>\n",
       "      <td>29</td>\n",
       "      <td>4.438468</td>\n",
       "      <td>6</td>\n",
       "      <td>145.0</td>\n",
       "      <td>175</td>\n",
       "      <td>3.62</td>\n",
       "      <td>2.77</td>\n",
       "      <td>15.5</td>\n",
       "      <td>0</td>\n",
       "      <td>1</td>\n",
       "      <td>5</td>\n",
       "      <td>6</td>\n",
       "      <td>1</td>\n",
       "      <td>Ferrari Dino</td>\n",
       "      <td>Ferrari Dino</td>\n",
       "      <td>0.005594</td>\n",
       "      <td>green</td>\n",
       "      <td>0</td>\n",
       "    </tr>\n",
       "  </tbody>\n",
       "</table>\n",
       "</div>"
      ],
      "text/plain": [
       "    index       mpg  cyl   disp   hp  drat    wt  qsec  vs  am  gear  carb  \\\n",
       "17     29  4.438468    6  145.0  175  3.62  2.77  15.5   0   1     5     6   \n",
       "\n",
       "    fast          cars       carname     mpg_z colors  label  \n",
       "17     1  Ferrari Dino  Ferrari Dino  0.005594  green      0  "
      ]
     },
     "execution_count": 131,
     "metadata": {},
     "output_type": "execute_result"
    }
   ],
   "source": [
    "df[df['label'] != df1['label']]"
   ]
  },
  {
   "cell_type": "code",
   "execution_count": 103,
   "metadata": {},
   "outputs": [],
   "source": [
    " #这个数据是最中间那个数，确实比较容易分错"
   ]
  },
  {
   "cell_type": "markdown",
   "metadata": {},
   "source": [
    "###  <font color='blue' > 11/50 发散型文本（Diverging Texts） </font>\n",
    "\n",
    "分散的文本类似于发散条形图     \n",
    "如果你想以一种漂亮和可呈现的方式显示图表中每个项目的价值，那么它就是一个比较适合的方式。  "
   ]
  },
  {
   "cell_type": "markdown",
   "metadata": {},
   "source": [
    "<img src='http://pictes.oss-cn-beijing.aliyuncs.com/microclass-virtualisation/week2%20deviation/%E5%8F%91%E6%95%A3%E5%9E%8B%E6%96%87%E6%9C%AC.png' height='380' width='700'>"
   ]
  },
  {
   "cell_type": "markdown",
   "metadata": {},
   "source": [
    "我们的目标图形与前面讲过的发散型条形图很相似，唯一不同的地方就是每一个条形上多了**带颜色的文字**"
   ]
  },
  {
   "cell_type": "markdown",
   "metadata": {},
   "source": [
    "### 1. 导入需要的库"
   ]
  },
  {
   "cell_type": "code",
   "execution_count": 1,
   "metadata": {},
   "outputs": [],
   "source": [
    "import pandas as pd\n",
    "import numpy as np\n",
    "import matplotlib.pyplot as plt\n",
    "%matplotlib inline\n",
    "#如果用jupyter notebook则需要这行代码让你的图像显示，如果是jupyterlab则不需要"
   ]
  },
  {
   "cell_type": "markdown",
   "metadata": {},
   "source": [
    "### 2. 来认识一下绘制文本的函数"
   ]
  },
  {
   "cell_type": "markdown",
   "metadata": {},
   "source": [
    "#### **plt.text()**"
   ]
  },
  {
   "cell_type": "markdown",
   "metadata": {},
   "source": [
    "参数说明：   \n",
    "- x,y：放置文本的位置。 默认情况下，就是数据坐标。   \n",
    "- s：要显示的文本内容   \n",
    "- fontdict：用于覆盖默认文本属性的字典。 fontdict的默认值是None，默认值由rc参数决定。"
   ]
  },
  {
   "cell_type": "code",
   "execution_count": 2,
   "metadata": {},
   "outputs": [],
   "source": [
    "plt.text?"
   ]
  },
  {
   "cell_type": "code",
   "execution_count": 6,
   "metadata": {},
   "outputs": [
    {
     "data": {
      "image/png": "[encoded data removed]",
      "text/plain": [
       "<Figure size 576x288 with 1 Axes>"
      ]
     },
     "metadata": {
      "needs_background": "light"
     },
     "output_type": "display_data"
    }
   ],
   "source": [
    "#绘制简单的文本图\n",
    "\n",
    "#定义数据\n",
    "x = np.random.rand(1)\n",
    "y = np.random.rand(1)\n",
    "\n",
    "#创建画布，并设定画布尺寸\n",
    "plt.figure(figsize=(8,4))\n",
    "\n",
    "#绘制图形\n",
    "plt.text(x,y,'text'\n",
    "         ,fontdict={'size':20,'color':'b'}\n",
    "        );"
   ]
  },
  {
   "cell_type": "markdown",
   "metadata": {},
   "source": [
    "【注意】plt.text()函数一次只能标注一个位置的文本~~~"
   ]
  },
  {
   "cell_type": "markdown",
   "metadata": {},
   "source": [
    "#### **如果想一次添加多个文本怎么办呢？**\n",
    "#### **写循环咯~~~~**"
   ]
  },
  {
   "cell_type": "code",
   "execution_count": 7,
   "metadata": {},
   "outputs": [
    {
     "data": {
      "image/png": "[encoded data removed]",
      "text/plain": [
       "<Figure size 576x288 with 1 Axes>"
      ]
     },
     "metadata": {
      "needs_background": "light"
     },
     "output_type": "display_data"
    }
   ],
   "source": [
    "#创建画布\n",
    "plt.figure(figsize=(8,4))\n",
    "\n",
    "#绘制图形\n",
    "for i in range(10):\n",
    "    x = np.random.rand(1)\n",
    "    y = np.random.rand(1)\n",
    "    plt.text(x,y,'text',fontdict={'size':16,'color':'b'});"
   ]
  },
  {
   "cell_type": "markdown",
   "metadata": {},
   "source": [
    "### 3. 绘制目标图像"
   ]
  },
  {
   "cell_type": "markdown",
   "metadata": {},
   "source": [
    "#### 3.1 准备数据"
   ]
  },
  {
   "cell_type": "code",
   "execution_count": 8,
   "metadata": {},
   "outputs": [],
   "source": [
    "# 准备数据\n",
    "df = pd.read_csv(\"data/mtcars.csv\")  #导入数据集\n",
    "x = df.loc[:, ['mpg']]   #提取目标数据\n",
    "df['mpg_z'] = (x - x.mean())/x.std()  #对目标数据进行z-score标准化处理\n",
    "df['colors'] = ['red' if x < 0 else 'green' for x in df['mpg_z']] #生成颜色标签列\n",
    "df.sort_values('mpg_z', inplace=True) #根据标准化后的数据对整个数据集进行排序\n",
    "df.reset_index(inplace=True,drop=True) #重置数据集的索引"
   ]
  },
  {
   "cell_type": "code",
   "execution_count": 9,
   "metadata": {},
   "outputs": [
    {
     "data": {
      "text/html": [
       "<div>\n",
       "<style scoped>\n",
       "    .dataframe tbody tr th:only-of-type {\n",
       "        vertical-align: middle;\n",
       "    }\n",
       "\n",
       "    .dataframe tbody tr th {\n",
       "        vertical-align: top;\n",
       "    }\n",
       "\n",
       "    .dataframe thead th {\n",
       "        text-align: right;\n",
       "    }\n",
       "</style>\n",
       "<table border=\"1\" class=\"dataframe\">\n",
       "  <thead>\n",
       "    <tr style=\"text-align: right;\">\n",
       "      <th></th>\n",
       "      <th>mpg</th>\n",
       "      <th>cyl</th>\n",
       "      <th>disp</th>\n",
       "      <th>hp</th>\n",
       "      <th>drat</th>\n",
       "      <th>wt</th>\n",
       "      <th>qsec</th>\n",
       "      <th>vs</th>\n",
       "      <th>am</th>\n",
       "      <th>gear</th>\n",
       "      <th>carb</th>\n",
       "      <th>fast</th>\n",
       "      <th>cars</th>\n",
       "      <th>carname</th>\n",
       "      <th>mpg_z</th>\n",
       "      <th>colors</th>\n",
       "    </tr>\n",
       "  </thead>\n",
       "  <tbody>\n",
       "    <tr>\n",
       "      <th>0</th>\n",
       "      <td>3.224903</td>\n",
       "      <td>8</td>\n",
       "      <td>460.0</td>\n",
       "      <td>215</td>\n",
       "      <td>3.00</td>\n",
       "      <td>5.424</td>\n",
       "      <td>17.82</td>\n",
       "      <td>0</td>\n",
       "      <td>0</td>\n",
       "      <td>3</td>\n",
       "      <td>4</td>\n",
       "      <td>0</td>\n",
       "      <td>Lincoln Continental</td>\n",
       "      <td>Lincoln Continental</td>\n",
       "      <td>-1.829979</td>\n",
       "      <td>red</td>\n",
       "    </tr>\n",
       "    <tr>\n",
       "      <th>1</th>\n",
       "      <td>3.224903</td>\n",
       "      <td>8</td>\n",
       "      <td>472.0</td>\n",
       "      <td>205</td>\n",
       "      <td>2.93</td>\n",
       "      <td>5.250</td>\n",
       "      <td>17.98</td>\n",
       "      <td>0</td>\n",
       "      <td>0</td>\n",
       "      <td>3</td>\n",
       "      <td>4</td>\n",
       "      <td>0</td>\n",
       "      <td>Cadillac Fleetwood</td>\n",
       "      <td>Cadillac Fleetwood</td>\n",
       "      <td>-1.829979</td>\n",
       "      <td>red</td>\n",
       "    </tr>\n",
       "    <tr>\n",
       "      <th>2</th>\n",
       "      <td>3.646917</td>\n",
       "      <td>8</td>\n",
       "      <td>350.0</td>\n",
       "      <td>245</td>\n",
       "      <td>3.73</td>\n",
       "      <td>3.840</td>\n",
       "      <td>15.41</td>\n",
       "      <td>0</td>\n",
       "      <td>0</td>\n",
       "      <td>3</td>\n",
       "      <td>4</td>\n",
       "      <td>0</td>\n",
       "      <td>Camaro Z28</td>\n",
       "      <td>Camaro Z28</td>\n",
       "      <td>-1.191664</td>\n",
       "      <td>red</td>\n",
       "    </tr>\n",
       "    <tr>\n",
       "      <th>3</th>\n",
       "      <td>3.781534</td>\n",
       "      <td>8</td>\n",
       "      <td>360.0</td>\n",
       "      <td>245</td>\n",
       "      <td>3.21</td>\n",
       "      <td>3.570</td>\n",
       "      <td>15.84</td>\n",
       "      <td>0</td>\n",
       "      <td>0</td>\n",
       "      <td>3</td>\n",
       "      <td>4</td>\n",
       "      <td>0</td>\n",
       "      <td>Duster 360</td>\n",
       "      <td>Duster 360</td>\n",
       "      <td>-0.988049</td>\n",
       "      <td>red</td>\n",
       "    </tr>\n",
       "    <tr>\n",
       "      <th>4</th>\n",
       "      <td>3.834058</td>\n",
       "      <td>8</td>\n",
       "      <td>440.0</td>\n",
       "      <td>230</td>\n",
       "      <td>3.23</td>\n",
       "      <td>5.345</td>\n",
       "      <td>17.42</td>\n",
       "      <td>0</td>\n",
       "      <td>0</td>\n",
       "      <td>3</td>\n",
       "      <td>4</td>\n",
       "      <td>0</td>\n",
       "      <td>Chrysler Imperial</td>\n",
       "      <td>Chrysler Imperial</td>\n",
       "      <td>-0.908604</td>\n",
       "      <td>red</td>\n",
       "    </tr>\n",
       "  </tbody>\n",
       "</table>\n",
       "</div>"
      ],
      "text/plain": [
       "        mpg  cyl   disp   hp  drat     wt   qsec  vs  am  gear  carb  fast  \\\n",
       "0  3.224903    8  460.0  215  3.00  5.424  17.82   0   0     3     4     0   \n",
       "1  3.224903    8  472.0  205  2.93  5.250  17.98   0   0     3     4     0   \n",
       "2  3.646917    8  350.0  245  3.73  3.840  15.41   0   0     3     4     0   \n",
       "3  3.781534    8  360.0  245  3.21  3.570  15.84   0   0     3     4     0   \n",
       "4  3.834058    8  440.0  230  3.23  5.345  17.42   0   0     3     4     0   \n",
       "\n",
       "                  cars              carname     mpg_z colors  \n",
       "0  Lincoln Continental  Lincoln Continental -1.829979    red  \n",
       "1   Cadillac Fleetwood   Cadillac Fleetwood -1.829979    red  \n",
       "2           Camaro Z28           Camaro Z28 -1.191664    red  \n",
       "3           Duster 360           Duster 360 -0.988049    red  \n",
       "4    Chrysler Imperial    Chrysler Imperial -0.908604    red  "
      ]
     },
     "execution_count": 9,
     "metadata": {},
     "output_type": "execute_result"
    }
   ],
   "source": [
    "df.head()"
   ]
  },
  {
   "cell_type": "markdown",
   "metadata": {},
   "source": [
    "#### 3.2 绘制基础图形并添加文本信息"
   ]
  },
  {
   "cell_type": "code",
   "execution_count": 10,
   "metadata": {},
   "outputs": [
    {
     "data": {
      "text/plain": [
       "0.57"
      ]
     },
     "execution_count": 10,
     "metadata": {},
     "output_type": "execute_result"
    }
   ],
   "source": [
    "round(0.56666,2) #保留两位小数"
   ]
  },
  {
   "cell_type": "code",
   "execution_count": 11,
   "metadata": {},
   "outputs": [
    {
     "data": {
      "text/plain": [
       "array([-1.82997917, -1.82997917, -1.19166439, -0.98804909, -0.90860438,\n",
       "       -0.84972785, -0.8108034 , -0.8108034 , -0.75289375, -0.69554186,\n",
       "       -0.58244884, -0.41662005, -0.32635469, -0.27280321, -0.16701545,\n",
       "       -0.08014871, -0.08014871,  0.00559412,  0.22356336,  0.22356336,\n",
       "        0.2892649 ,  0.2892649 ,  0.30559411,  0.51451502,  0.51451502,\n",
       "        0.76363298,  1.00470849,  1.19516933,  1.63181012,  1.63181012,\n",
       "        1.9017698 ,  2.0988105 ])"
      ]
     },
     "execution_count": 11,
     "metadata": {},
     "output_type": "execute_result"
    }
   ],
   "source": [
    "df.mpg_z.values"
   ]
  },
  {
   "cell_type": "code",
   "execution_count": 12,
   "metadata": {},
   "outputs": [
    {
     "data": {
      "text/plain": [
       "-1.83"
      ]
     },
     "execution_count": 12,
     "metadata": {},
     "output_type": "execute_result"
    }
   ],
   "source": [
    "#保留两位小数\n",
    "round(df.mpg_z.values[0],2)"
   ]
  },
  {
   "cell_type": "code",
   "execution_count": 13,
   "metadata": {},
   "outputs": [
    {
     "data": {
      "text/plain": [
       "32"
      ]
     },
     "execution_count": 13,
     "metadata": {},
     "output_type": "execute_result"
    }
   ],
   "source": [
    "df.shape[0]"
   ]
  },
  {
   "cell_type": "code",
   "execution_count": 14,
   "metadata": {},
   "outputs": [
    {
     "data": {
      "image/png": "[encoded data removed]",
      "text/plain": [
       "<Figure size 780x650 with 1 Axes>"
      ]
     },
     "metadata": {
      "needs_background": "light"
     },
     "output_type": "display_data"
    }
   ],
   "source": [
    "#创建画布\n",
    "plt.figure(figsize=(12,10), dpi= 65)\n",
    "\n",
    "#绘制基础图形\n",
    "plt.hlines(y=df.cars, xmin=0, xmax=df.mpg_z)\n",
    "\n",
    "#添加文本\n",
    "for i in range(df.shape[0]):            #对每一条数据进行循环\n",
    "    x = df.mpg_z[i]                     #获取一个x的值\n",
    "    y = df.index[i]                     #获取一个y的值\n",
    "    s = str(round(df.mpg_z[i],2))       #获取一个需要显示的文本，这里用了round函数，四舍五入保留两位小数\n",
    "    plt.text(x,y,s,color=df.colors[i] ) #绘制简单的文本图"
   ]
  },
  {
   "cell_type": "markdown",
   "metadata": {},
   "source": [
    "**这个基础图形有3个问题：**\n",
    "- 文本信息都显示在线的上方，而我们需要的是显示在线条正对着的位置（中间）\n",
    "- 红色文本显示在线条的右边，我们需要的是横坐标小于0的显示在左边，大于0的显示在右边\n",
    "- 文本字体有点小"
   ]
  },
  {
   "cell_type": "markdown",
   "metadata": {},
   "source": [
    "#### 3.3 修正文本信息"
   ]
  },
  {
   "cell_type": "code",
   "execution_count": 15,
   "metadata": {},
   "outputs": [
    {
     "data": {
      "image/png": "[encoded data removed]",
      "text/plain": [
       "<Figure size 910x650 with 1 Axes>"
      ]
     },
     "metadata": {
      "needs_background": "light"
     },
     "output_type": "display_data"
    }
   ],
   "source": [
    "#创建画布\n",
    "plt.figure(figsize=(14,10), dpi= 65)\n",
    "\n",
    "#绘制基础图形\n",
    "plt.hlines(y=df.cars, xmin=0, xmax=df.mpg_z)\n",
    "\n",
    "#添加文本\n",
    "for i in range(df.shape[0]):\n",
    "    x = df.mpg_z[i]\n",
    "    y = df.index[i]\n",
    "    s = str(round(df.mpg_z[i],2))\n",
    "    plt.text(x,y,s\n",
    "             ,fontdict={'color':df.colors[i],'size':12}         #此处添加了颜色和尺寸，以字典的形式打包\n",
    "             ,horizontalalignment='right' if x<0 else 'left'    #水平对齐参数，有left,right,center三种选择,指的是本文的哪一边与位置对齐\n",
    "             ,verticalalignment='center'                        #垂直对齐参数，常用的有bottom,top,center三种选择\n",
    "            )"
   ]
  },
  {
   "cell_type": "markdown",
   "metadata": {},
   "source": [
    "这里需要说明的是：    \n",
    "1. 水平对齐参数，用了类似于列表推导式的式子，不同的是这里只需要单个值不需要最后形成列表\n",
    "2. 另外，left和right这两个对齐方式很容易混淆    \n",
    "3. 以右对齐为例来说明：   \n",
    "首先我们需要知道的是文本放置的位置点其实就是线条的末端   \n",
    "所谓的右对齐就是要求文本的最右端要与这个位置点对齐"
   ]
  },
  {
   "cell_type": "markdown",
   "metadata": {},
   "source": [
    "#### 3.4 添加装饰"
   ]
  },
  {
   "cell_type": "code",
   "execution_count": 16,
   "metadata": {},
   "outputs": [
    {
     "data": {
      "image/png": "[encoded data removed]",
      "text/plain": [
       "<Figure size 910x780 with 1 Axes>"
      ]
     },
     "metadata": {
      "needs_background": "light"
     },
     "output_type": "display_data"
    }
   ],
   "source": [
    "#创建画布\n",
    "plt.figure(figsize=(14,12), dpi= 65)\n",
    "\n",
    "#绘制基础图形\n",
    "plt.hlines(y=df.cars, xmin=0, xmax=df.mpg_z)\n",
    "\n",
    "#添加文本\n",
    "for i in range(df.shape[0]):\n",
    "    x = df.mpg_z[i]\n",
    "    y = df.index[i]\n",
    "    s = str(round(df.mpg_z[i],2))\n",
    "    plt.text(x,y,s\n",
    "             ,fontdict={'color':df.colors[i],'size':12}         #此处添加了颜色和尺寸，以字典的形式打包\n",
    "             ,horizontalalignment='right' if x<0 else 'left'    #水平对齐参数，有left,right,center三种选择\n",
    "             ,verticalalignment='center'                        #垂直对齐参数，有bottom,top,center三种选择\n",
    "            )\n",
    "\n",
    "#添加装饰\n",
    "plt.yticks(fontsize=12)         #y轴刻度标签，并设置文字大小\n",
    "plt.title('Diverging text Bars of Car Mileage', fontdict={'size':20}) #设置图形标题\n",
    "plt.xlim(-2.5,2.5) #设定x轴的最大最小值\n",
    "plt.grid(linestyle='--', alpha=0.5);  #配置网格线"
   ]
  },
  {
   "cell_type": "markdown",
   "metadata": {},
   "source": [
    "### 4. 源码解读"
   ]
  },
  {
   "cell_type": "code",
   "execution_count": 173,
   "metadata": {},
   "outputs": [
    {
     "data": {
      "image/png": "[encoded data removed]",
      "text/plain": [
       "<Figure size 910x910 with 1 Axes>"
      ]
     },
     "metadata": {
      "needs_background": "light"
     },
     "output_type": "display_data"
    }
   ],
   "source": [
    "#这一整段都是原网站给出的代码\n",
    "\n",
    "# Prepare Data\n",
    "df = pd.read_csv(\"data/mtcars.csv\")   #导入原始数据集\n",
    "x = df.loc[:, ['mpg']]               #提取目标数据 \n",
    "df['mpg_z'] = (x - x.mean())/x.std() #对目标数据进行Z-score标准化处理\n",
    "df['colors'] = ['red' if x < 0 else 'green' for x in df['mpg_z']] #生成颜色标签列\n",
    "df.sort_values('mpg_z', inplace=True)  #根据标准化之后的目标数据对整个数据集进行排序\n",
    "df.reset_index(inplace=True)    #重置排序后的索引\n",
    "\n",
    "# Draw plot\n",
    "plt.figure(figsize=(14,14), dpi= 65)  #创建画布并设置画布尺寸\n",
    "plt.hlines(y=df.index, xmin=0, xmax=df.mpg_z) #绘制发散型条形图\n",
    "\n",
    "#绘制文本图\n",
    "for x, y, tex in zip(df.mpg_z, df.index, df.mpg_z): \n",
    "    t = plt.text(x, y, round(tex, 2)        \n",
    "                 , horizontalalignment='right' if x < 0 else 'left'\n",
    "                 , verticalalignment='center'\n",
    "                 , fontdict={'color':'red' if x < 0 else 'green', 'size':14})\n",
    "\n",
    "# Decorations    \n",
    "plt.yticks(df.index, df.cars, fontsize=12)  #添加y轴刻度标签，并设定文本大小\n",
    "plt.title('Diverging Text Bars of Car Mileage', fontdict={'size':20}) #添加图形标题\n",
    "plt.grid(linestyle='--', alpha=0.5)  #配置网格线\n",
    "plt.xlim(-2.5, 2.5)  #设定x轴最大最小值\n",
    "plt.show() #显示图形"
   ]
  },
  {
   "cell_type": "markdown",
   "metadata": {},
   "source": [
    "zip()函数解读：\n",
    "- 这是一个压缩函数，返回一个zip对象   \n",
    "- 其.__ next __（）方法返回一个元组，其中第i个元素来自第i个可迭代参数   \n",
    "-  .__ next __（）方法一直持续到参数序列中**最短的那一列元素耗尽**，然后它引发StopIteration（也就是停止迭代）。\n"
   ]
  },
  {
   "cell_type": "code",
   "execution_count": 160,
   "metadata": {},
   "outputs": [
    {
     "data": {
      "text/plain": [
       "<zip at 0x1e7f57abd08>"
      ]
     },
     "execution_count": 160,
     "metadata": {},
     "output_type": "execute_result"
    }
   ],
   "source": [
    "zip([1,2,3],['a','b','c','d'],[2,3,4,5,6])"
   ]
  },
  {
   "cell_type": "code",
   "execution_count": 161,
   "metadata": {},
   "outputs": [],
   "source": [
    "a = zip([1,2,3],['a','b','c','d'],[2,3,4,5,6])"
   ]
  },
  {
   "cell_type": "code",
   "execution_count": 162,
   "metadata": {},
   "outputs": [
    {
     "data": {
      "text/plain": [
       "(1, 'a', 2)"
      ]
     },
     "execution_count": 162,
     "metadata": {},
     "output_type": "execute_result"
    }
   ],
   "source": [
    "a.__next__()"
   ]
  },
  {
   "cell_type": "code",
   "execution_count": 163,
   "metadata": {},
   "outputs": [
    {
     "data": {
      "text/plain": [
       "(2, 'b', 3)"
      ]
     },
     "execution_count": 163,
     "metadata": {},
     "output_type": "execute_result"
    }
   ],
   "source": [
    "a.__next__()"
   ]
  },
  {
   "cell_type": "code",
   "execution_count": 164,
   "metadata": {},
   "outputs": [
    {
     "data": {
      "text/plain": [
       "(3, 'c', 4)"
      ]
     },
     "execution_count": 164,
     "metadata": {},
     "output_type": "execute_result"
    }
   ],
   "source": [
    "a.__next__()"
   ]
  },
  {
   "cell_type": "code",
   "execution_count": 166,
   "metadata": {},
   "outputs": [
    {
     "data": {
      "text/plain": [
       "[(1, 'a', 2), (2, 'b', 3), (3, 'c', 4)]"
      ]
     },
     "execution_count": 166,
     "metadata": {},
     "output_type": "execute_result"
    }
   ],
   "source": [
    "#若要查看压缩包中所有的元素，可以用[*]的方式解压缩\n",
    "[*zip([1,2,3],['a','b','c','d'],[2,3,4,5,6])]"
   ]
  },
  {
   "cell_type": "code",
   "execution_count": 167,
   "metadata": {},
   "outputs": [
    {
     "data": {
      "text/plain": [
       "[(-1.8299791661720348, 0, -1.8299791661720348),\n",
       " (-1.8299791661720348, 1, -1.8299791661720348),\n",
       " (-1.191664392938456, 2, -1.191664392938456),\n",
       " (-0.9880490925406551, 3, -0.9880490925406551),\n",
       " (-0.9086043848420455, 4, -0.9086043848420455),\n",
       " (-0.8497278530288042, 5, -0.8497278530288042),\n",
       " (-0.8108033966920296, 6, -0.8108033966920296),\n",
       " (-0.8108033966920296, 7, -0.8108033966920296),\n",
       " (-0.752893751851097, 8, -0.752893751851097),\n",
       " (-0.6955418632876929, 9, -0.6955418632876929),\n",
       " (-0.5824488394660823, 10, -0.5824488394660823),\n",
       " (-0.41662004701256034, 11, -0.41662004701256034),\n",
       " (-0.32635468813636953, 12, -0.32635468813636953),\n",
       " (-0.2728032088912669, 13, -0.2728032088912669),\n",
       " (-0.16701544823774078, 14, -0.16701544823774078),\n",
       " (-0.08014871317057487, 15, -0.08014871317057487),\n",
       " (-0.08014871317057487, 16, -0.08014871317057487),\n",
       " (0.0055941187568688405, 17, 0.0055941187568688405),\n",
       " (0.22356335588723736, 18, 0.22356335588723736),\n",
       " (0.22356335588723736, 19, 0.22356335588723736),\n",
       " (0.28926489524589327, 20, 0.28926489524589327),\n",
       " (0.28926489524589327, 21, 0.28926489524589327),\n",
       " (0.30559410994288183, 22, 0.30559410994288183),\n",
       " (0.5145150174957623, 23, 0.5145150174957623),\n",
       " (0.5145150174957623, 24, 0.5145150174957623),\n",
       " (0.7636329788762664, 25, 0.7636329788762664),\n",
       " (1.0047084900191428, 26, 1.0047084900191428),\n",
       " (1.195169331893869, 27, 1.195169331893869),\n",
       " (1.6318101242318221, 28, 1.6318101242318221),\n",
       " (1.6318101242318221, 29, 1.6318101242318221),\n",
       " (1.9017698043791682, 30, 1.9017698043791682),\n",
       " (2.0988105027123947, 31, 2.0988105027123947)]"
      ]
     },
     "execution_count": 167,
     "metadata": {},
     "output_type": "execute_result"
    }
   ],
   "source": [
    "#打开代码中的zip包\n",
    "[*zip(df.mpg_z, df.index, df.mpg_z)]"
   ]
  },
  {
   "cell_type": "code",
   "execution_count": 168,
   "metadata": {},
   "outputs": [],
   "source": [
    "b =[*zip(df.mpg_z, df.index, df.mpg_z)]"
   ]
  },
  {
   "cell_type": "code",
   "execution_count": 171,
   "metadata": {},
   "outputs": [
    {
     "data": {
      "text/plain": [
       "(-1.191664392938456, 2, -1.191664392938456)"
      ]
     },
     "execution_count": 171,
     "metadata": {},
     "output_type": "execute_result"
    }
   ],
   "source": [
    "b[2]"
   ]
  },
  {
   "cell_type": "code",
   "execution_count": 172,
   "metadata": {},
   "outputs": [
    {
     "name": "stdout",
     "output_type": "stream",
     "text": [
      "-1.8299791661720348 0 -1.8299791661720348\n",
      "-1.8299791661720348 1 -1.8299791661720348\n",
      "-1.191664392938456 2 -1.191664392938456\n",
      "-0.9880490925406551 3 -0.9880490925406551\n",
      "-0.9086043848420455 4 -0.9086043848420455\n",
      "-0.8497278530288042 5 -0.8497278530288042\n",
      "-0.8108033966920296 6 -0.8108033966920296\n",
      "-0.8108033966920296 7 -0.8108033966920296\n",
      "-0.752893751851097 8 -0.752893751851097\n",
      "-0.6955418632876929 9 -0.6955418632876929\n",
      "-0.5824488394660823 10 -0.5824488394660823\n",
      "-0.41662004701256034 11 -0.41662004701256034\n",
      "-0.32635468813636953 12 -0.32635468813636953\n",
      "-0.2728032088912669 13 -0.2728032088912669\n",
      "-0.16701544823774078 14 -0.16701544823774078\n",
      "-0.08014871317057487 15 -0.08014871317057487\n",
      "-0.08014871317057487 16 -0.08014871317057487\n",
      "0.0055941187568688405 17 0.0055941187568688405\n",
      "0.22356335588723736 18 0.22356335588723736\n",
      "0.22356335588723736 19 0.22356335588723736\n",
      "0.28926489524589327 20 0.28926489524589327\n",
      "0.28926489524589327 21 0.28926489524589327\n",
      "0.30559410994288183 22 0.30559410994288183\n",
      "0.5145150174957623 23 0.5145150174957623\n",
      "0.5145150174957623 24 0.5145150174957623\n",
      "0.7636329788762664 25 0.7636329788762664\n",
      "1.0047084900191428 26 1.0047084900191428\n",
      "1.195169331893869 27 1.195169331893869\n",
      "1.6318101242318221 28 1.6318101242318221\n",
      "1.6318101242318221 29 1.6318101242318221\n",
      "1.9017698043791682 30 1.9017698043791682\n",
      "2.0988105027123947 31 2.0988105027123947\n"
     ]
    }
   ],
   "source": [
    "# 也可以用循环的方式打开\n",
    "for x,y,z in zip(df.mpg_z, df.index, df.mpg_z):\n",
    "    print(x,y,z)"
   ]
  }
 ],
 "metadata": {
  "kernelspec": {
   "display_name": "Python 3",
   "language": "python",
   "name": "python3"
  },
  "language_info": {
   "codemirror_mode": {
    "name": "ipython",
    "version": 3
   },
   "file_extension": ".py",
   "mimetype": "text/x-python",
   "name": "python",
   "nbconvert_exporter": "python",
   "pygments_lexer": "ipython3",
   "version": "3.7.0"
  }
 },
 "nbformat": 4,
 "nbformat_minor": 2
}
