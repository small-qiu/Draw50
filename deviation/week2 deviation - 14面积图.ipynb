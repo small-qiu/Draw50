{
 "cells": [
  {
   "cell_type": "markdown",
   "metadata": {},
   "source": [
    "## <font color='bule'>第二期 偏差图：14面积图"
   ]
  },
  {
   "cell_type": "markdown",
   "metadata": {},
   "source": [
    "## o新知识点\n",
    "\n",
    "1.plt.fill_between(x,y1,y2,color='r',alpha=.7);\n",
    "\n",
    "2.df = pd.read_csv(\"data/economics.csv\",parse_dates=['date'])\n",
    "\n",
    "3.pd.to_datetime(df1.date)\n",
    "\n",
    "4.df1['date2'] = df1['date'].apply(lambda x:datetime.datetime.strptime(x, \"%Y-%m-%d\"))\n",
    "\n",
    "5.df.psavert.diff()\n",
    "\n",
    "6.re = (income/df.psavert.shift(1)).fillna(0)*100  #shift(1)往后移一位\n",
    "\n",
    "7.y = df.date.dt.year\n",
    "\n",
    "8.m = df.date.dt.month_name()"
   ]
  },
  {
   "cell_type": "markdown",
   "metadata": {},
   "source": [
    "### 14/50 面积图"
   ]
  },
  {
   "cell_type": "markdown",
   "metadata": {},
   "source": [
    "面积图就是通过对轴和线之间的区域进行着色形成的一种图形。    \n",
    "它不仅可以强调峰值与低谷，还可以强调高点和低点的持续时间，持续时间越长，面积就越大。"
   ]
  },
  {
   "cell_type": "markdown",
   "metadata": {},
   "source": [
    "<img src=\"http://pictes.oss-cn-beijing.aliyuncs.com/microclass-virtualisation/week2%20deviation/%E9%9D%A2%E7%A7%AF%E5%9B%BE.png\" align=\"center\" width=600/>"
   ]
  },
  {
   "cell_type": "markdown",
   "metadata": {},
   "source": [
    "横坐标：时间（月份）<br>\n",
    "纵坐标：月度收益率<br>\n",
    "颜色：>0显示绿色，<0显示红色    \n",
    "注释：收益率最高的点"
   ]
  },
  {
   "cell_type": "markdown",
   "metadata": {},
   "source": [
    "### 1. 导入需要的绘图库"
   ]
  },
  {
   "cell_type": "code",
   "execution_count": 1,
   "metadata": {},
   "outputs": [],
   "source": [
    "import numpy as np\n",
    "import pandas as pd\n",
    "import matplotlib.pyplot as plt\n",
    "%matplotlib inline\n",
    "#如果是jupyter notebook则需要运行这句代码，把生成的png图片嵌入到cell中\n",
    "#如果是jupyter lab则可以不用运行这句代码，它会自动将生成图片嵌入到cell中"
   ]
  },
  {
   "cell_type": "markdown",
   "metadata": {},
   "source": [
    "### 2. 认识绘制面积图的函数"
   ]
  },
  {
   "cell_type": "markdown",
   "metadata": {},
   "source": [
    "#### **plt.fill_between**  "
   ]
  },
  {
   "cell_type": "markdown",
   "metadata": {},
   "source": [
    "> 函数功能：   \n",
    ">> 填充两条水平曲线之间区域 \n",
    "\n",
    "> 重要参数说明：  \n",
    ">> x: 定义曲线的x坐标   \n",
    ">> y1: 定义第一条曲线的y坐标  \n",
    ">> y2: 定义第二条曲线的y坐标    \n",
    ">> where: 定义被填充的区域   \n",
    ">> interpolate: 控制交叉点位置的填充（仅在设定where并且两条曲线相交的时候起作用）"
   ]
  },
  {
   "cell_type": "markdown",
   "metadata": {},
   "source": [
    "官网参数说明：https://matplotlib.org/api/_as_gen/matplotlib.pyplot.fill_between.html"
   ]
  },
  {
   "cell_type": "code",
   "execution_count": 2,
   "metadata": {},
   "outputs": [
    {
     "data": {
      "text/plain": [
       "\u001b[1;31mSignature:\u001b[0m\n",
       "\u001b[0mplt\u001b[0m\u001b[1;33m.\u001b[0m\u001b[0mfill_between\u001b[0m\u001b[1;33m(\u001b[0m\u001b[1;33m\n",
       "\u001b[0m    \u001b[1;33m[\u001b[0m\u001b[1;34m'x'\u001b[0m\u001b[1;33m,\u001b[0m \u001b[1;34m'y1'\u001b[0m\u001b[1;33m,\u001b[0m \u001b[1;34m'y2=0'\u001b[0m\u001b[1;33m,\u001b[0m \u001b[1;34m'where=None'\u001b[0m\u001b[1;33m,\u001b[0m \u001b[1;34m'interpolate=False'\u001b[0m\u001b[1;33m,\u001b[0m \u001b[1;34m'step=None'\u001b[0m\u001b[1;33m,\u001b[0m \u001b[1;34m'*'\u001b[0m\u001b[1;33m,\u001b[0m \u001b[1;34m'data=None'\u001b[0m\u001b[1;33m,\u001b[0m \u001b[1;34m'**kwargs'\u001b[0m\u001b[1;33m]\u001b[0m\u001b[1;33m,\u001b[0m\u001b[1;33m\n",
       "\u001b[0m\u001b[1;33m)\u001b[0m\u001b[1;33m\u001b[0m\u001b[1;33m\u001b[0m\u001b[0m\n",
       "\u001b[1;31mDocstring:\u001b[0m\n",
       "Fill the area between two horizontal curves.\n",
       "\n",
       "The curves are defined by the points (*x*, *y1*) and (*x*, *y2*). This\n",
       "creates one or multiple polygons describing the filled area.\n",
       "\n",
       "You may exclude some horizontal sections from filling using *where*.\n",
       "\n",
       "By default, the edges connect the given points directly. Use *step* if\n",
       "the filling should be a step function, i.e. constant in between *x*.\n",
       "\n",
       "\n",
       "Parameters\n",
       "----------\n",
       "x : array (length N)\n",
       "    The x coordinates of the nodes defining the curves.\n",
       "\n",
       "y1 : array (length N) or scalar\n",
       "    The y coordinates of the nodes defining the first curve.\n",
       "\n",
       "y2 : array (length N) or scalar, optional, default: 0\n",
       "    The y coordinates of the nodes defining the second curve.\n",
       "\n",
       "where : array of bool (length N), optional, default: None\n",
       "    Define *where* to exclude some horizontal regions from being\n",
       "    filled. The filled regions are defined by the coordinates\n",
       "    ``x[where]``.  More precisely, fill between ``x[i]`` and ``x[i+1]``\n",
       "    if ``where[i] and where[i+1]``.  Note that this definition implies\n",
       "    that an isolated *True* value between two *False* values in\n",
       "    *where* will not result in filling.  Both sides of the *True*\n",
       "    position remain unfilled due to the adjacent *False* values.\n",
       "\n",
       "interpolate : bool, optional\n",
       "    This option is only relvant if *where* is used and the two curves\n",
       "    are crossing each other.\n",
       "\n",
       "    Semantically, *where* is often used for *y1* > *y2* or similar.\n",
       "    By default, the nodes of the polygon defining the filled region\n",
       "    will only be placed at the positions in the *x* array.  Such a\n",
       "    polygon cannot describe the above semantics close to the\n",
       "    intersection.  The x-sections containing the intersection are\n",
       "    simply clipped.\n",
       "\n",
       "    Setting *interpolate* to *True* will calculate the actual\n",
       "    intersection point and extend the filled region up to this point.\n",
       "\n",
       "step : {'pre', 'post', 'mid'}, optional\n",
       "    Define *step* if the filling should be a step function,\n",
       "    i.e. constant in between *x*. The value determines where the\n",
       "    step will occur:\n",
       "\n",
       "    - 'pre': The y value is continued constantly to the left from\n",
       "      every *x* position, i.e. the interval ``(x[i-1], x[i]]`` has the\n",
       "      value ``y[i]``.\n",
       "    - 'post': The y value is continued constantly to the right from\n",
       "      every *x* position, i.e. the interval ``[x[i], x[i+1])`` has the\n",
       "      value ``y[i]``.\n",
       "    - 'mid': Steps occur half-way between the *x* positions.\n",
       "\n",
       "Other Parameters\n",
       "----------------\n",
       "**kwargs\n",
       "    All other keyword arguments are passed on to `.PolyCollection`.\n",
       "    They control the `.Polygon` properties:\n",
       "\n",
       "      agg_filter: a filter function, which takes a (m, n, 3) float array and a dpi value, and returns a (m, n, 3) array \n",
       "  alpha: float or None\n",
       "  animated: bool\n",
       "  antialiased: bool or sequence of bools\n",
       "  array: ndarray\n",
       "  capstyle: {'butt', 'round', 'projecting'}\n",
       "  clim: a length 2 sequence of floats; may be overridden in methods that have ``vmin`` and ``vmax`` kwargs. \n",
       "  clip_box: `.Bbox`\n",
       "  clip_on: bool\n",
       "  clip_path: [(`~matplotlib.path.Path`, `.Transform`) | `.Patch` | None] \n",
       "  cmap: colormap or registered colormap name\n",
       "  color: matplotlib color arg or sequence of rgba tuples\n",
       "  contains: callable\n",
       "  edgecolor: color or sequence of colors\n",
       "  facecolor: color or sequence of colors\n",
       "  figure: `.Figure`\n",
       "  gid: str\n",
       "  hatch: {'/', '\\\\', '|', '-', '+', 'x', 'o', 'O', '.', '*'}\n",
       "  in_layout: bool\n",
       "  joinstyle: {'miter', 'round', 'bevel'}\n",
       "  label: object\n",
       "  linestyle: {'-', '--', '-.', ':', '', (offset, on-off-seq), ...}\n",
       "  linewidth: float or sequence of floats\n",
       "  norm: `.Normalize`\n",
       "  offset_position: {'screen', 'data'}\n",
       "  offsets: float or sequence of floats\n",
       "  path_effects: `.AbstractPathEffect`\n",
       "  picker: None or bool or float or callable\n",
       "  pickradius: unknown\n",
       "  rasterized: bool or None\n",
       "  sketch_params: (scale: float, length: float, randomness: float) \n",
       "  snap: bool or None\n",
       "  transform: `.Transform`\n",
       "  url: str\n",
       "  urls: List[str] or None\n",
       "  visible: bool\n",
       "  zorder: float\n",
       "\n",
       "Returns\n",
       "-------\n",
       "`.PolyCollection`\n",
       "    A `.PolyCollection` containing the plotted polygons.\n",
       "\n",
       "See Also\n",
       "--------\n",
       "fill_betweenx : Fill between two sets of x-values.\n",
       "\n",
       "Notes\n",
       "-----\n",
       ".. [notes section required to get data note injection right]\n",
       "\n",
       ".. note::\n",
       "    In addition to the above described arguments, this function can take a\n",
       "    **data** keyword argument. If such a **data** argument is given, the\n",
       "    following arguments are replaced by **data[<arg>]**:\n",
       "\n",
       "    * All arguments with the following names: 'where', 'x', 'y1', 'y2'.\n",
       "\n",
       "    Objects passed as **data** must support item access (``data[<arg>]``) and\n",
       "    membership test (``<arg> in data``).\n",
       "\u001b[1;31mFile:\u001b[0m      d:\\anaconda3\\lib\\site-packages\\matplotlib\\pyplot.py\n",
       "\u001b[1;31mType:\u001b[0m      function\n"
      ]
     },
     "metadata": {},
     "output_type": "display_data"
    }
   ],
   "source": [
    "plt.fill_between?"
   ]
  },
  {
   "cell_type": "markdown",
   "metadata": {},
   "source": [
    "### 3.绘制简单面积填充图"
   ]
  },
  {
   "cell_type": "code",
   "execution_count": 3,
   "metadata": {},
   "outputs": [],
   "source": [
    "#生成随机数\n",
    "x = np.random.randn(1000)\n",
    "x.sort()"
   ]
  },
  {
   "cell_type": "code",
   "execution_count": 4,
   "metadata": {},
   "outputs": [
    {
     "data": {
      "text/plain": [
       "array([-3.87246984, -3.63096045, -2.8263562 , -2.73207248, -2.71320714,\n",
       "       -2.70740912, -2.65644291, -2.64747407, -2.58681355, -2.42880138])"
      ]
     },
     "execution_count": 4,
     "metadata": {},
     "output_type": "execute_result"
    }
   ],
   "source": [
    "x[:10]"
   ]
  },
  {
   "cell_type": "code",
   "execution_count": 5,
   "metadata": {},
   "outputs": [],
   "source": [
    "y1 = np.sin(x)\n",
    "y2 = np.cos(x)"
   ]
  },
  {
   "cell_type": "code",
   "execution_count": 6,
   "metadata": {},
   "outputs": [
    {
     "data": {
      "text/plain": [
       "array([ 0.66752303,  0.47006798, -0.31004128, -0.39816922, -0.41540275,\n",
       "       -0.42066983, -0.46634083, -0.47425585, -0.52675555, -0.65394803])"
      ]
     },
     "execution_count": 6,
     "metadata": {},
     "output_type": "execute_result"
    }
   ],
   "source": [
    "y1[:10]"
   ]
  },
  {
   "cell_type": "code",
   "execution_count": 7,
   "metadata": {},
   "outputs": [
    {
     "data": {
      "text/plain": [
       "array([-0.74458915, -0.88263021, -0.9507231 , -0.91731198, -0.9096376 ,\n",
       "       -0.90721381, -0.88460513, -0.88038707, -0.85001682, -0.75653948])"
      ]
     },
     "execution_count": 7,
     "metadata": {},
     "output_type": "execute_result"
    }
   ],
   "source": [
    "y2[:10]"
   ]
  },
  {
   "cell_type": "code",
   "execution_count": 8,
   "metadata": {
    "scrolled": true
   },
   "outputs": [
    {
     "data": {
      "image/png": "[encoded data removed]",
      "text/plain": [
       "<Figure size 432x288 with 1 Axes>"
      ]
     },
     "metadata": {
      "needs_background": "light"
     },
     "output_type": "display_data"
    }
   ],
   "source": [
    "#绘制简单线形图\n",
    "plt.plot(x,y1)\n",
    "plt.plot(x,y2);"
   ]
  },
  {
   "cell_type": "code",
   "execution_count": 9,
   "metadata": {},
   "outputs": [
    {
     "data": {
      "image/png": "[encoded data removed]",
      "text/plain": [
       "<Figure size 432x288 with 1 Axes>"
      ]
     },
     "metadata": {
      "needs_background": "light"
     },
     "output_type": "display_data"
    }
   ],
   "source": [
    "#填充两条曲线之间的区域\n",
    "plt.fill_between(x,y1,y2,color='r',alpha=.7);"
   ]
  },
  {
   "cell_type": "markdown",
   "metadata": {},
   "source": [
    "从图中可以发现：两曲线之间的区域全部被填充成一种颜色"
   ]
  },
  {
   "cell_type": "markdown",
   "metadata": {},
   "source": [
    "增加难度：y1>y2的时候，填充红色，否则填充蓝色"
   ]
  },
  {
   "cell_type": "code",
   "execution_count": 10,
   "metadata": {},
   "outputs": [
    {
     "data": {
      "image/png": "[encoded data removed]",
      "text/plain": [
       "<Figure size 432x288 with 1 Axes>"
      ]
     },
     "metadata": {
      "needs_background": "light"
     },
     "output_type": "display_data"
    }
   ],
   "source": [
    "#y1>y2时，填充红色，否则填充蓝色\n",
    "plt.fill_between(x,y1,y2,where=y1>y2,color='r',alpha=.7,interpolate=True)\n",
    "plt.fill_between(x,y1,y2,where=y1<=y2,color='b',alpha=.7,interpolate=True);\n",
    "\n",
    "#注意：interpolate=True表示将计算实际交叉点并将填充区域扩展到此点"
   ]
  },
  {
   "cell_type": "markdown",
   "metadata": {},
   "source": [
    "#### 如果想要sin(x)>0填充红色，否则填充蓝色，该怎么操作呢？"
   ]
  },
  {
   "cell_type": "code",
   "execution_count": 11,
   "metadata": {},
   "outputs": [
    {
     "data": {
      "image/png": "[encoded data removed]",
      "text/plain": [
       "<Figure size 432x288 with 1 Axes>"
      ]
     },
     "metadata": {
      "needs_background": "light"
     },
     "output_type": "display_data"
    }
   ],
   "source": [
    "plt.fill_between(x,y1,0,where=y1>0,color='r',alpha=.7,interpolate=True)\n",
    "plt.fill_between(x,y1,0,where=y1<=0,color='b',alpha=.7,interpolate=True);"
   ]
  },
  {
   "cell_type": "markdown",
   "metadata": {},
   "source": [
    "### 4.认识绘图数据集"
   ]
  },
  {
   "cell_type": "markdown",
   "metadata": {},
   "source": [
    "该数据集来自美国经济时间序列数据，是R中的内置数据集，用来练习"
   ]
  },
  {
   "cell_type": "code",
   "execution_count": 4,
   "metadata": {},
   "outputs": [],
   "source": [
    "#导入数据集\n",
    "df = pd.read_csv(\"data/economics.csv\",parse_dates=['date'])\n",
    "\n",
    "#parse_dates的作用是将字符串序列转换为日期序列"
   ]
  },
  {
   "cell_type": "code",
   "execution_count": 5,
   "metadata": {
    "scrolled": true
   },
   "outputs": [
    {
     "data": {
      "text/html": [
       "<div>\n",
       "<style scoped>\n",
       "    .dataframe tbody tr th:only-of-type {\n",
       "        vertical-align: middle;\n",
       "    }\n",
       "\n",
       "    .dataframe tbody tr th {\n",
       "        vertical-align: top;\n",
       "    }\n",
       "\n",
       "    .dataframe thead th {\n",
       "        text-align: right;\n",
       "    }\n",
       "</style>\n",
       "<table border=\"1\" class=\"dataframe\">\n",
       "  <thead>\n",
       "    <tr style=\"text-align: right;\">\n",
       "      <th></th>\n",
       "      <th>date</th>\n",
       "      <th>pce</th>\n",
       "      <th>pop</th>\n",
       "      <th>psavert</th>\n",
       "      <th>uempmed</th>\n",
       "      <th>unemploy</th>\n",
       "    </tr>\n",
       "  </thead>\n",
       "  <tbody>\n",
       "    <tr>\n",
       "      <th>0</th>\n",
       "      <td>1967-07-01</td>\n",
       "      <td>507.4</td>\n",
       "      <td>198712</td>\n",
       "      <td>12.5</td>\n",
       "      <td>4.5</td>\n",
       "      <td>2944</td>\n",
       "    </tr>\n",
       "    <tr>\n",
       "      <th>1</th>\n",
       "      <td>1967-08-01</td>\n",
       "      <td>510.5</td>\n",
       "      <td>198911</td>\n",
       "      <td>12.5</td>\n",
       "      <td>4.7</td>\n",
       "      <td>2945</td>\n",
       "    </tr>\n",
       "    <tr>\n",
       "      <th>2</th>\n",
       "      <td>1967-09-01</td>\n",
       "      <td>516.3</td>\n",
       "      <td>199113</td>\n",
       "      <td>11.7</td>\n",
       "      <td>4.6</td>\n",
       "      <td>2958</td>\n",
       "    </tr>\n",
       "    <tr>\n",
       "      <th>3</th>\n",
       "      <td>1967-10-01</td>\n",
       "      <td>512.9</td>\n",
       "      <td>199311</td>\n",
       "      <td>12.5</td>\n",
       "      <td>4.9</td>\n",
       "      <td>3143</td>\n",
       "    </tr>\n",
       "    <tr>\n",
       "      <th>4</th>\n",
       "      <td>1967-11-01</td>\n",
       "      <td>518.1</td>\n",
       "      <td>199498</td>\n",
       "      <td>12.5</td>\n",
       "      <td>4.7</td>\n",
       "      <td>3066</td>\n",
       "    </tr>\n",
       "  </tbody>\n",
       "</table>\n",
       "</div>"
      ],
      "text/plain": [
       "        date    pce     pop  psavert  uempmed  unemploy\n",
       "0 1967-07-01  507.4  198712     12.5      4.5      2944\n",
       "1 1967-08-01  510.5  198911     12.5      4.7      2945\n",
       "2 1967-09-01  516.3  199113     11.7      4.6      2958\n",
       "3 1967-10-01  512.9  199311     12.5      4.9      3143\n",
       "4 1967-11-01  518.1  199498     12.5      4.7      3066"
      ]
     },
     "execution_count": 5,
     "metadata": {},
     "output_type": "execute_result"
    }
   ],
   "source": [
    "df.head()"
   ]
  },
  {
   "cell_type": "code",
   "execution_count": 6,
   "metadata": {},
   "outputs": [
    {
     "name": "stdout",
     "output_type": "stream",
     "text": [
      "<class 'pandas.core.frame.DataFrame'>\n",
      "RangeIndex: 574 entries, 0 to 573\n",
      "Data columns (total 6 columns):\n",
      "date        574 non-null datetime64[ns]\n",
      "pce         574 non-null float64\n",
      "pop         574 non-null int64\n",
      "psavert     574 non-null float64\n",
      "uempmed     574 non-null float64\n",
      "unemploy    574 non-null int64\n",
      "dtypes: datetime64[ns](1), float64(3), int64(2)\n",
      "memory usage: 27.0 KB\n"
     ]
    }
   ],
   "source": [
    "df.info()"
   ]
  },
  {
   "cell_type": "code",
   "execution_count": 7,
   "metadata": {},
   "outputs": [
    {
     "data": {
      "text/plain": [
       "(574, 6)"
      ]
     },
     "execution_count": 7,
     "metadata": {},
     "output_type": "execute_result"
    }
   ],
   "source": [
    "df.shape"
   ]
  },
  {
   "cell_type": "markdown",
   "metadata": {},
   "source": [
    "#### **将字符串本文转换为日期型文本**"
   ]
  },
  {
   "cell_type": "code",
   "execution_count": 8,
   "metadata": {},
   "outputs": [],
   "source": [
    "df1 = pd.read_csv(\"data/economics.csv\")"
   ]
  },
  {
   "cell_type": "code",
   "execution_count": 9,
   "metadata": {},
   "outputs": [
    {
     "name": "stdout",
     "output_type": "stream",
     "text": [
      "<class 'pandas.core.frame.DataFrame'>\n",
      "RangeIndex: 574 entries, 0 to 573\n",
      "Data columns (total 6 columns):\n",
      "date        574 non-null object\n",
      "pce         574 non-null float64\n",
      "pop         574 non-null int64\n",
      "psavert     574 non-null float64\n",
      "uempmed     574 non-null float64\n",
      "unemploy    574 non-null int64\n",
      "dtypes: float64(3), int64(2), object(1)\n",
      "memory usage: 27.0+ KB\n"
     ]
    }
   ],
   "source": [
    "df1.info()"
   ]
  },
  {
   "cell_type": "markdown",
   "metadata": {},
   "source": [
    "方法一：pd.to_datetime()"
   ]
  },
  {
   "cell_type": "code",
   "execution_count": 10,
   "metadata": {
    "scrolled": true
   },
   "outputs": [
    {
     "data": {
      "text/plain": [
       "0     1967-07-01\n",
       "1     1967-08-01\n",
       "2     1967-09-01\n",
       "3     1967-10-01\n",
       "4     1967-11-01\n",
       "5     1967-12-01\n",
       "6     1968-01-01\n",
       "7     1968-02-01\n",
       "8     1968-03-01\n",
       "9     1968-04-01\n",
       "10    1968-05-01\n",
       "11    1968-06-01\n",
       "12    1968-07-01\n",
       "13    1968-08-01\n",
       "14    1968-09-01\n",
       "15    1968-10-01\n",
       "16    1968-11-01\n",
       "17    1968-12-01\n",
       "18    1969-01-01\n",
       "19    1969-02-01\n",
       "20    1969-03-01\n",
       "21    1969-04-01\n",
       "22    1969-05-01\n",
       "23    1969-06-01\n",
       "24    1969-07-01\n",
       "25    1969-08-01\n",
       "26    1969-09-01\n",
       "27    1969-10-01\n",
       "28    1969-11-01\n",
       "29    1969-12-01\n",
       "         ...    \n",
       "544   2012-11-01\n",
       "545   2012-12-01\n",
       "546   2013-01-01\n",
       "547   2013-02-01\n",
       "548   2013-03-01\n",
       "549   2013-04-01\n",
       "550   2013-05-01\n",
       "551   2013-06-01\n",
       "552   2013-07-01\n",
       "553   2013-08-01\n",
       "554   2013-09-01\n",
       "555   2013-10-01\n",
       "556   2013-11-01\n",
       "557   2013-12-01\n",
       "558   2014-01-01\n",
       "559   2014-02-01\n",
       "560   2014-03-01\n",
       "561   2014-04-01\n",
       "562   2014-05-01\n",
       "563   2014-06-01\n",
       "564   2014-07-01\n",
       "565   2014-08-01\n",
       "566   2014-09-01\n",
       "567   2014-10-01\n",
       "568   2014-11-01\n",
       "569   2014-12-01\n",
       "570   2015-01-01\n",
       "571   2015-02-01\n",
       "572   2015-03-01\n",
       "573   2015-04-01\n",
       "Name: date, Length: 574, dtype: datetime64[ns]"
      ]
     },
     "execution_count": 10,
     "metadata": {},
     "output_type": "execute_result"
    }
   ],
   "source": [
    "pd.to_datetime(df1.date)"
   ]
  },
  {
   "cell_type": "code",
   "execution_count": 11,
   "metadata": {},
   "outputs": [],
   "source": [
    "df1['date1']=pd.to_datetime(df1.date)"
   ]
  },
  {
   "cell_type": "code",
   "execution_count": 12,
   "metadata": {},
   "outputs": [
    {
     "name": "stdout",
     "output_type": "stream",
     "text": [
      "<class 'pandas.core.frame.DataFrame'>\n",
      "RangeIndex: 574 entries, 0 to 573\n",
      "Data columns (total 7 columns):\n",
      "date        574 non-null object\n",
      "pce         574 non-null float64\n",
      "pop         574 non-null int64\n",
      "psavert     574 non-null float64\n",
      "uempmed     574 non-null float64\n",
      "unemploy    574 non-null int64\n",
      "date1       574 non-null datetime64[ns]\n",
      "dtypes: datetime64[ns](1), float64(3), int64(2), object(1)\n",
      "memory usage: 31.5+ KB\n"
     ]
    }
   ],
   "source": [
    "df1.info()"
   ]
  },
  {
   "cell_type": "code",
   "execution_count": null,
   "metadata": {},
   "outputs": [],
   "source": []
  },
  {
   "cell_type": "markdown",
   "metadata": {},
   "source": [
    "方法二：datetime.datetime.strptime()"
   ]
  },
  {
   "cell_type": "code",
   "execution_count": 13,
   "metadata": {},
   "outputs": [],
   "source": [
    "import datetime"
   ]
  },
  {
   "cell_type": "code",
   "execution_count": 14,
   "metadata": {},
   "outputs": [
    {
     "data": {
      "text/plain": [
       "datetime.datetime(2019, 1, 1, 0, 0)"
      ]
     },
     "execution_count": 14,
     "metadata": {},
     "output_type": "execute_result"
    }
   ],
   "source": [
    "datetime.datetime.strptime('2019-1-1','%Y-%m-%d')"
   ]
  },
  {
   "cell_type": "code",
   "execution_count": 15,
   "metadata": {},
   "outputs": [
    {
     "name": "stdout",
     "output_type": "stream",
     "text": [
      "2019-01-01 00:00:00\n"
     ]
    }
   ],
   "source": [
    "print(datetime.datetime.strptime('2019-1-1','%Y-%m-%d'))"
   ]
  },
  {
   "cell_type": "code",
   "execution_count": 16,
   "metadata": {},
   "outputs": [],
   "source": [
    "df1['date2'] = df1['date'].apply(lambda x:datetime.datetime.strptime(x, \"%Y-%m-%d\"))"
   ]
  },
  {
   "cell_type": "code",
   "execution_count": 17,
   "metadata": {
    "scrolled": true
   },
   "outputs": [
    {
     "name": "stdout",
     "output_type": "stream",
     "text": [
      "<class 'pandas.core.frame.DataFrame'>\n",
      "RangeIndex: 574 entries, 0 to 573\n",
      "Data columns (total 8 columns):\n",
      "date        574 non-null object\n",
      "pce         574 non-null float64\n",
      "pop         574 non-null int64\n",
      "psavert     574 non-null float64\n",
      "uempmed     574 non-null float64\n",
      "unemploy    574 non-null int64\n",
      "date1       574 non-null datetime64[ns]\n",
      "date2       574 non-null datetime64[ns]\n",
      "dtypes: datetime64[ns](2), float64(3), int64(2), object(1)\n",
      "memory usage: 36.0+ KB\n"
     ]
    }
   ],
   "source": [
    "df1.info()"
   ]
  },
  {
   "cell_type": "code",
   "execution_count": 18,
   "metadata": {},
   "outputs": [
    {
     "data": {
      "text/plain": [
       "Index(['date', 'pce', 'pop', 'psavert', 'uempmed', 'unemploy'], dtype='object')"
      ]
     },
     "execution_count": 18,
     "metadata": {},
     "output_type": "execute_result"
    }
   ],
   "source": [
    "df.columns"
   ]
  },
  {
   "cell_type": "code",
   "execution_count": 19,
   "metadata": {},
   "outputs": [
    {
     "data": {
      "text/html": [
       "<div>\n",
       "<style scoped>\n",
       "    .dataframe tbody tr th:only-of-type {\n",
       "        vertical-align: middle;\n",
       "    }\n",
       "\n",
       "    .dataframe tbody tr th {\n",
       "        vertical-align: top;\n",
       "    }\n",
       "\n",
       "    .dataframe thead th {\n",
       "        text-align: right;\n",
       "    }\n",
       "</style>\n",
       "<table border=\"1\" class=\"dataframe\">\n",
       "  <thead>\n",
       "    <tr style=\"text-align: right;\">\n",
       "      <th></th>\n",
       "      <th>date</th>\n",
       "      <th>pce</th>\n",
       "      <th>pop</th>\n",
       "      <th>psavert</th>\n",
       "      <th>uempmed</th>\n",
       "      <th>unemploy</th>\n",
       "    </tr>\n",
       "  </thead>\n",
       "  <tbody>\n",
       "    <tr>\n",
       "      <th>0</th>\n",
       "      <td>1967-07-01</td>\n",
       "      <td>507.4</td>\n",
       "      <td>198712</td>\n",
       "      <td>12.5</td>\n",
       "      <td>4.5</td>\n",
       "      <td>2944</td>\n",
       "    </tr>\n",
       "    <tr>\n",
       "      <th>1</th>\n",
       "      <td>1967-08-01</td>\n",
       "      <td>510.5</td>\n",
       "      <td>198911</td>\n",
       "      <td>12.5</td>\n",
       "      <td>4.7</td>\n",
       "      <td>2945</td>\n",
       "    </tr>\n",
       "  </tbody>\n",
       "</table>\n",
       "</div>"
      ],
      "text/plain": [
       "        date    pce     pop  psavert  uempmed  unemploy\n",
       "0 1967-07-01  507.4  198712     12.5      4.5      2944\n",
       "1 1967-08-01  510.5  198911     12.5      4.7      2945"
      ]
     },
     "execution_count": 19,
     "metadata": {},
     "output_type": "execute_result"
    }
   ],
   "source": [
    "df.head(2)"
   ]
  },
  {
   "cell_type": "code",
   "execution_count": 20,
   "metadata": {},
   "outputs": [],
   "source": [
    "name = ['日期','个人消费支出','总人口','个人储蓄率','失业时长中位数','失业人数']\n",
    "\n",
    "#pce: personal consumption expenditures（ in billions of dollars）个人消费支出\n",
    "#pop: total population（in thousands）总人口\n",
    "#psavert: personal savings rate（in month）个人储蓄率\n",
    "#uempmed：median duration of unemployment（in weeks）失业时长中位数\n",
    "#unemploy:number of unemployed（in thousands）失业人数"
   ]
  },
  {
   "cell_type": "code",
   "execution_count": 21,
   "metadata": {},
   "outputs": [
    {
     "data": {
      "text/plain": [
       "[('date', '日期'),\n",
       " ('pce', '个人消费支出'),\n",
       " ('pop', '总人口'),\n",
       " ('psavert', '个人储蓄率'),\n",
       " ('uempmed', '失业时长中位数'),\n",
       " ('unemploy', '失业人数')]"
      ]
     },
     "execution_count": 21,
     "metadata": {},
     "output_type": "execute_result"
    }
   ],
   "source": [
    "[*zip(df.columns,name)]"
   ]
  },
  {
   "cell_type": "markdown",
   "metadata": {},
   "source": [
    "#### 准备绘图所需数据"
   ]
  },
  {
   "cell_type": "markdown",
   "metadata": {},
   "source": [
    "绘制目标图形，我们需要的是月度收益率，纵观所有特征，与月度收益率有关的特征是个人储蓄率（psavert）   \n",
    "而且数据比较多，这里选取前100用来绘图   "
   ]
  },
  {
   "cell_type": "code",
   "execution_count": 22,
   "metadata": {},
   "outputs": [],
   "source": [
    "df = df[:100]"
   ]
  },
  {
   "cell_type": "code",
   "execution_count": 23,
   "metadata": {},
   "outputs": [
    {
     "data": {
      "text/plain": [
       "(100, 6)"
      ]
     },
     "execution_count": 23,
     "metadata": {},
     "output_type": "execute_result"
    }
   ],
   "source": [
    "df.shape"
   ]
  },
  {
   "cell_type": "code",
   "execution_count": 24,
   "metadata": {},
   "outputs": [
    {
     "data": {
      "text/plain": [
       "array([12.5, 12.5, 11.7, 12.5, 12.5, 12.1, 11.7, 12.2, 11.6, 12.2, 12. ,\n",
       "       11.6, 10.6, 10.4, 10.4, 10.6, 10.4, 10.9, 10. ,  9.4,  9.9,  9.5,\n",
       "       10. , 10.9, 11.7, 11.5, 11.5, 11.3, 11.5, 11.7, 11.7, 11.6, 12.3,\n",
       "       13.3, 12.3, 11.7, 13.2, 13.1, 12.9, 13. , 13.3, 12.9, 13.1, 13.1,\n",
       "       13.3, 13. , 13.4, 14.4, 13.6, 13.6, 12.9, 13. , 12.8, 12.9, 12.4,\n",
       "       12.6, 11.5, 11.3, 11.5, 11.4, 11.4, 11.8, 12. , 12.7, 13.4, 13.4,\n",
       "       12.1, 12.2, 12.4, 12.8, 12.8, 13.2, 12.8, 13.6, 12.8, 14. , 14. ,\n",
       "       14.4, 14. , 13.8, 13. , 12.7, 12.3, 12.5, 12.7, 11.6, 12.3, 13. ,\n",
       "       13.4, 13.6, 12.8, 12.1, 12.3, 13.9, 17. , 13.9, 12.3, 12.6, 12.6,\n",
       "       13. ])"
      ]
     },
     "execution_count": 24,
     "metadata": {},
     "output_type": "execute_result"
    }
   ],
   "source": [
    "#提取目标特征\n",
    "df.psavert.values"
   ]
  },
  {
   "cell_type": "code",
   "execution_count": 25,
   "metadata": {},
   "outputs": [
    {
     "data": {
      "image/png": "[encoded data removed]",
      "text/plain": [
       "<Figure size 432x288 with 1 Axes>"
      ]
     },
     "metadata": {
      "needs_background": "light"
     },
     "output_type": "display_data"
    }
   ],
   "source": [
    "plt.plot(df.psavert.values);"
   ]
  },
  {
   "cell_type": "code",
   "execution_count": 26,
   "metadata": {},
   "outputs": [
    {
     "data": {
      "text/plain": [
       "0     NaN\n",
       "1     0.0\n",
       "2    -0.8\n",
       "3     0.8\n",
       "4     0.0\n",
       "5    -0.4\n",
       "6    -0.4\n",
       "7     0.5\n",
       "8    -0.6\n",
       "9     0.6\n",
       "10   -0.2\n",
       "11   -0.4\n",
       "12   -1.0\n",
       "13   -0.2\n",
       "14    0.0\n",
       "15    0.2\n",
       "16   -0.2\n",
       "17    0.5\n",
       "18   -0.9\n",
       "19   -0.6\n",
       "20    0.5\n",
       "21   -0.4\n",
       "22    0.5\n",
       "23    0.9\n",
       "24    0.8\n",
       "25   -0.2\n",
       "26    0.0\n",
       "27   -0.2\n",
       "28    0.2\n",
       "29    0.2\n",
       "     ... \n",
       "70    0.0\n",
       "71    0.4\n",
       "72   -0.4\n",
       "73    0.8\n",
       "74   -0.8\n",
       "75    1.2\n",
       "76    0.0\n",
       "77    0.4\n",
       "78   -0.4\n",
       "79   -0.2\n",
       "80   -0.8\n",
       "81   -0.3\n",
       "82   -0.4\n",
       "83    0.2\n",
       "84    0.2\n",
       "85   -1.1\n",
       "86    0.7\n",
       "87    0.7\n",
       "88    0.4\n",
       "89    0.2\n",
       "90   -0.8\n",
       "91   -0.7\n",
       "92    0.2\n",
       "93    1.6\n",
       "94    3.1\n",
       "95   -3.1\n",
       "96   -1.6\n",
       "97    0.3\n",
       "98    0.0\n",
       "99    0.4\n",
       "Name: psavert, Length: 100, dtype: float64"
      ]
     },
     "execution_count": 26,
     "metadata": {},
     "output_type": "execute_result"
    }
   ],
   "source": [
    "df.psavert.diff()"
   ]
  },
  {
   "cell_type": "code",
   "execution_count": 27,
   "metadata": {},
   "outputs": [],
   "source": [
    "#计算收益（本身-前）\n",
    "income = df.psavert.diff().fillna(0) "
   ]
  },
  {
   "cell_type": "code",
   "execution_count": 28,
   "metadata": {},
   "outputs": [],
   "source": [
    "# 计算月度收益率（收益/本金 = (本身-前)/前）\n",
    "re = (income/df.psavert.shift(1)).fillna(0)*100  #shift(1)往后移一位"
   ]
  },
  {
   "cell_type": "code",
   "execution_count": 30,
   "metadata": {},
   "outputs": [
    {
     "data": {
      "text/plain": [
       "0      0.000000\n",
       "1      0.000000\n",
       "2     -6.400000\n",
       "3      6.837607\n",
       "4      0.000000\n",
       "5     -3.200000\n",
       "6     -3.305785\n",
       "7      4.273504\n",
       "8     -4.918033\n",
       "9      5.172414\n",
       "10    -1.639344\n",
       "11    -3.333333\n",
       "12    -8.620690\n",
       "13    -1.886792\n",
       "14     0.000000\n",
       "15     1.923077\n",
       "16    -1.886792\n",
       "17     4.807692\n",
       "18    -8.256881\n",
       "19    -6.000000\n",
       "20     5.319149\n",
       "21    -4.040404\n",
       "22     5.263158\n",
       "23     9.000000\n",
       "24     7.339450\n",
       "25    -1.709402\n",
       "26     0.000000\n",
       "27    -1.739130\n",
       "28     1.769912\n",
       "29     1.739130\n",
       "        ...    \n",
       "70     0.000000\n",
       "71     3.125000\n",
       "72    -3.030303\n",
       "73     6.250000\n",
       "74    -5.882353\n",
       "75     9.375000\n",
       "76     0.000000\n",
       "77     2.857143\n",
       "78    -2.777778\n",
       "79    -1.428571\n",
       "80    -5.797101\n",
       "81    -2.307692\n",
       "82    -3.149606\n",
       "83     1.626016\n",
       "84     1.600000\n",
       "85    -8.661417\n",
       "86     6.034483\n",
       "87     5.691057\n",
       "88     3.076923\n",
       "89     1.492537\n",
       "90    -5.882353\n",
       "91    -5.468750\n",
       "92     1.652893\n",
       "93    13.008130\n",
       "94    22.302158\n",
       "95   -18.235294\n",
       "96   -11.510791\n",
       "97     2.439024\n",
       "98     0.000000\n",
       "99     3.174603\n",
       "Name: psavert, Length: 100, dtype: float64"
      ]
     },
     "execution_count": 30,
     "metadata": {},
     "output_type": "execute_result"
    }
   ],
   "source": [
    "re"
   ]
  },
  {
   "cell_type": "code",
   "execution_count": 48,
   "metadata": {},
   "outputs": [
    {
     "data": {
      "text/plain": [
       "(95, -18.235294117647058)"
      ]
     },
     "execution_count": 48,
     "metadata": {},
     "output_type": "execute_result"
    }
   ],
   "source": [
    "(re.values.argmax(),re.values.max())  # 峰值点\n",
    "#(re.values.argmin(),re.values.min())  "
   ]
  },
  {
   "cell_type": "markdown",
   "metadata": {},
   "source": [
    "### 5.绘制目标图形"
   ]
  },
  {
   "cell_type": "code",
   "execution_count": 53,
   "metadata": {
    "scrolled": false
   },
   "outputs": [
    {
     "data": {
      "image/png": "[encoded data removed]",
      "text/plain": [
       "<Figure size 840x480 with 1 Axes>"
      ]
     },
     "metadata": {
      "needs_background": "light"
     },
     "output_type": "display_data"
    }
   ],
   "source": [
    "#创建画布并设定画布尺寸\n",
    "plt.figure(figsize=(14,8),dpi=60)\n",
    "\n",
    "#绘制面积图,y2=0\n",
    "plt.fill_between(range(df.shape[0]),re,0,where=re>0,color='g',interpolate=True, alpha=0.7)\n",
    "plt.fill_between(range(df.shape[0]),re,0,where=re<=0,color='r',interpolate=True, alpha=0.7);\n",
    "# df.shape[0] 100,没设置x坐标轴接不上"
   ]
  },
  {
   "cell_type": "markdown",
   "metadata": {},
   "source": [
    "#### 修改横坐标刻度"
   ]
  },
  {
   "cell_type": "code",
   "execution_count": 32,
   "metadata": {},
   "outputs": [],
   "source": [
    "#提取年份\n",
    "y = df.date.dt.year"
   ]
  },
  {
   "cell_type": "code",
   "execution_count": 51,
   "metadata": {
    "collapsed": true
   },
   "outputs": [
    {
     "data": {
      "text/plain": [
       "0     1967\n",
       "1     1967\n",
       "2     1967\n",
       "3     1967\n",
       "4     1967\n",
       "5     1967\n",
       "6     1968\n",
       "7     1968\n",
       "8     1968\n",
       "9     1968\n",
       "10    1968\n",
       "11    1968\n",
       "12    1968\n",
       "13    1968\n",
       "14    1968\n",
       "15    1968\n",
       "16    1968\n",
       "17    1968\n",
       "18    1969\n",
       "19    1969\n",
       "20    1969\n",
       "21    1969\n",
       "22    1969\n",
       "23    1969\n",
       "24    1969\n",
       "25    1969\n",
       "26    1969\n",
       "27    1969\n",
       "28    1969\n",
       "29    1969\n",
       "      ... \n",
       "70    1973\n",
       "71    1973\n",
       "72    1973\n",
       "73    1973\n",
       "74    1973\n",
       "75    1973\n",
       "76    1973\n",
       "77    1973\n",
       "78    1974\n",
       "79    1974\n",
       "80    1974\n",
       "81    1974\n",
       "82    1974\n",
       "83    1974\n",
       "84    1974\n",
       "85    1974\n",
       "86    1974\n",
       "87    1974\n",
       "88    1974\n",
       "89    1974\n",
       "90    1975\n",
       "91    1975\n",
       "92    1975\n",
       "93    1975\n",
       "94    1975\n",
       "95    1975\n",
       "96    1975\n",
       "97    1975\n",
       "98    1975\n",
       "99    1975\n",
       "Name: date, Length: 100, dtype: int64"
      ]
     },
     "execution_count": 51,
     "metadata": {},
     "output_type": "execute_result"
    }
   ],
   "source": [
    "y"
   ]
  },
  {
   "cell_type": "code",
   "execution_count": 33,
   "metadata": {},
   "outputs": [],
   "source": [
    "#提取月份,并且显示英文名字\n",
    "m = df.date.dt.month_name()"
   ]
  },
  {
   "cell_type": "code",
   "execution_count": 34,
   "metadata": {},
   "outputs": [
    {
     "data": {
      "text/plain": [
       "0          July\n",
       "1        August\n",
       "2     September\n",
       "3       October\n",
       "4      November\n",
       "5      December\n",
       "6       January\n",
       "7      February\n",
       "8         March\n",
       "9         April\n",
       "10          May\n",
       "11         June\n",
       "12         July\n",
       "13       August\n",
       "14    September\n",
       "15      October\n",
       "16     November\n",
       "17     December\n",
       "18      January\n",
       "19     February\n",
       "20        March\n",
       "21        April\n",
       "22          May\n",
       "23         June\n",
       "24         July\n",
       "25       August\n",
       "26    September\n",
       "27      October\n",
       "28     November\n",
       "29     December\n",
       "        ...    \n",
       "70          May\n",
       "71         June\n",
       "72         July\n",
       "73       August\n",
       "74    September\n",
       "75      October\n",
       "76     November\n",
       "77     December\n",
       "78      January\n",
       "79     February\n",
       "80        March\n",
       "81        April\n",
       "82          May\n",
       "83         June\n",
       "84         July\n",
       "85       August\n",
       "86    September\n",
       "87      October\n",
       "88     November\n",
       "89     December\n",
       "90      January\n",
       "91     February\n",
       "92        March\n",
       "93        April\n",
       "94          May\n",
       "95         June\n",
       "96         July\n",
       "97       August\n",
       "98    September\n",
       "99      October\n",
       "Name: date, Length: 100, dtype: object"
      ]
     },
     "execution_count": 34,
     "metadata": {},
     "output_type": "execute_result"
    }
   ],
   "source": [
    "m"
   ]
  },
  {
   "cell_type": "code",
   "execution_count": 35,
   "metadata": {
    "collapsed": true
   },
   "outputs": [
    {
     "data": {
      "text/plain": [
       "[(1967, 'July'),\n",
       " (1967, 'August'),\n",
       " (1967, 'September'),\n",
       " (1967, 'October'),\n",
       " (1967, 'November'),\n",
       " (1967, 'December'),\n",
       " (1968, 'January'),\n",
       " (1968, 'February'),\n",
       " (1968, 'March'),\n",
       " (1968, 'April'),\n",
       " (1968, 'May'),\n",
       " (1968, 'June'),\n",
       " (1968, 'July'),\n",
       " (1968, 'August'),\n",
       " (1968, 'September'),\n",
       " (1968, 'October'),\n",
       " (1968, 'November'),\n",
       " (1968, 'December'),\n",
       " (1969, 'January'),\n",
       " (1969, 'February'),\n",
       " (1969, 'March'),\n",
       " (1969, 'April'),\n",
       " (1969, 'May'),\n",
       " (1969, 'June'),\n",
       " (1969, 'July'),\n",
       " (1969, 'August'),\n",
       " (1969, 'September'),\n",
       " (1969, 'October'),\n",
       " (1969, 'November'),\n",
       " (1969, 'December'),\n",
       " (1970, 'January'),\n",
       " (1970, 'February'),\n",
       " (1970, 'March'),\n",
       " (1970, 'April'),\n",
       " (1970, 'May'),\n",
       " (1970, 'June'),\n",
       " (1970, 'July'),\n",
       " (1970, 'August'),\n",
       " (1970, 'September'),\n",
       " (1970, 'October'),\n",
       " (1970, 'November'),\n",
       " (1970, 'December'),\n",
       " (1971, 'January'),\n",
       " (1971, 'February'),\n",
       " (1971, 'March'),\n",
       " (1971, 'April'),\n",
       " (1971, 'May'),\n",
       " (1971, 'June'),\n",
       " (1971, 'July'),\n",
       " (1971, 'August'),\n",
       " (1971, 'September'),\n",
       " (1971, 'October'),\n",
       " (1971, 'November'),\n",
       " (1971, 'December'),\n",
       " (1972, 'January'),\n",
       " (1972, 'February'),\n",
       " (1972, 'March'),\n",
       " (1972, 'April'),\n",
       " (1972, 'May'),\n",
       " (1972, 'June'),\n",
       " (1972, 'July'),\n",
       " (1972, 'August'),\n",
       " (1972, 'September'),\n",
       " (1972, 'October'),\n",
       " (1972, 'November'),\n",
       " (1972, 'December'),\n",
       " (1973, 'January'),\n",
       " (1973, 'February'),\n",
       " (1973, 'March'),\n",
       " (1973, 'April'),\n",
       " (1973, 'May'),\n",
       " (1973, 'June'),\n",
       " (1973, 'July'),\n",
       " (1973, 'August'),\n",
       " (1973, 'September'),\n",
       " (1973, 'October'),\n",
       " (1973, 'November'),\n",
       " (1973, 'December'),\n",
       " (1974, 'January'),\n",
       " (1974, 'February'),\n",
       " (1974, 'March'),\n",
       " (1974, 'April'),\n",
       " (1974, 'May'),\n",
       " (1974, 'June'),\n",
       " (1974, 'July'),\n",
       " (1974, 'August'),\n",
       " (1974, 'September'),\n",
       " (1974, 'October'),\n",
       " (1974, 'November'),\n",
       " (1974, 'December'),\n",
       " (1975, 'January'),\n",
       " (1975, 'February'),\n",
       " (1975, 'March'),\n",
       " (1975, 'April'),\n",
       " (1975, 'May'),\n",
       " (1975, 'June'),\n",
       " (1975, 'July'),\n",
       " (1975, 'August'),\n",
       " (1975, 'September'),\n",
       " (1975, 'October')]"
      ]
     },
     "execution_count": 35,
     "metadata": {},
     "output_type": "execute_result"
    }
   ],
   "source": [
    "#将年份和月份打包\n",
    "[*zip(y,m)]"
   ]
  },
  {
   "cell_type": "code",
   "execution_count": 56,
   "metadata": {},
   "outputs": [
    {
     "data": {
      "text/plain": [
       "'AUG'"
      ]
     },
     "execution_count": 56,
     "metadata": {},
     "output_type": "execute_result"
    }
   ],
   "source": [
    "str(m[1])[:3].upper()"
   ]
  },
  {
   "cell_type": "code",
   "execution_count": 36,
   "metadata": {},
   "outputs": [
    {
     "data": {
      "text/plain": [
       "['JUL-1967',\n",
       " 'JAN-1968',\n",
       " 'JUL-1968',\n",
       " 'JAN-1969',\n",
       " 'JUL-1969',\n",
       " 'JAN-1970',\n",
       " 'JUL-1970',\n",
       " 'JAN-1971',\n",
       " 'JUL-1971',\n",
       " 'JAN-1972',\n",
       " 'JUL-1972',\n",
       " 'JAN-1973',\n",
       " 'JUL-1973',\n",
       " 'JAN-1974',\n",
       " 'JUL-1974',\n",
       " 'JAN-1975',\n",
       " 'JUL-1975']"
      ]
     },
     "execution_count": 36,
     "metadata": {},
     "output_type": "execute_result"
    }
   ],
   "source": [
    "#将月份和年份组合成‘JUL-1967’形式\n",
    "[str(m)[:3].upper()+'-'+str(y) for y,m in zip(y,m)][::6]  # 每隔6个提取一个数"
   ]
  },
  {
   "cell_type": "code",
   "execution_count": 37,
   "metadata": {},
   "outputs": [
    {
     "data": {
      "image/png": "[encoded data removed]",
      "text/plain": [
       "<Figure size 840x480 with 1 Axes>"
      ]
     },
     "metadata": {
      "needs_background": "light"
     },
     "output_type": "display_data"
    }
   ],
   "source": [
    "#创建画布并设定画布尺寸\n",
    "plt.figure(figsize=(14,8),dpi=60)\n",
    "\n",
    "#绘制面积图\n",
    "plt.fill_between(range(df.shape[0]),re,0,where=re>0,color='g',interpolate=True, alpha=0.7)\n",
    "plt.fill_between(range(df.shape[0]),re,0,where=re<=0,color='r',interpolate=True, alpha=0.7)\n",
    "\n",
    "#修改横坐标刻度\n",
    "xtickslabel = [str(m)[:3].upper()+'-'+str(y) for y,m in zip(y,m)][::6]\n",
    "plt.xticks(range(df.shape[0])[::6],xtickslabel,rotation=45,fontsize=12)  #位置,文本\n",
    "\n",
    "#添加装饰\n",
    "plt.title('Month Economics Return %',fontsize=20)\n",
    "plt.ylabel('Monthly returns %',fontsize=15)\n",
    "plt.ylim(-35,35)\n",
    "plt.xlim(1,100)\n",
    "plt.grid(alpha=.3);"
   ]
  },
  {
   "cell_type": "markdown",
   "metadata": {},
   "source": [
    "#### 添加注释"
   ]
  },
  {
   "cell_type": "code",
   "execution_count": 52,
   "metadata": {
    "scrolled": true
   },
   "outputs": [
    {
     "data": {
      "image/png": "[encoded data removed]",
      "text/plain": [
       "<Figure size 840x480 with 1 Axes>"
      ]
     },
     "metadata": {
      "needs_background": "light"
     },
     "output_type": "display_data"
    }
   ],
   "source": [
    "#创建画布并设定画布尺寸\n",
    "plt.figure(figsize=(14,8),dpi=60)\n",
    "\n",
    "#绘制面积图\n",
    "plt.fill_between(range(df.shape[0]),re,0,where=re>0,color='g',interpolate=True, alpha=0.7)\n",
    "plt.fill_between(range(df.shape[0]),re,0,where=re<=0,color='r',interpolate=True, alpha=0.7)\n",
    "\n",
    "#添加注释\n",
    "plt.annotate('Peak \\n1975',xy=(re.values.argmax(),re.values.max()),xytext=(85,27)\n",
    "             ,color='w',fontsize=15\n",
    "             ,bbox=dict(boxstyle='square',fc='firebrick')\n",
    "             ,arrowprops=dict(fc='steelblue',shrink=0.05)) \n",
    "\n",
    "#添加装饰\n",
    "plt.title('Month Economics Return %',fontsize=20)\n",
    "plt.ylabel('Monthly returns %')\n",
    "#修改横坐标刻度\n",
    "xticks = [str(m)[:3].upper()+'-'+str(y) for y,m in zip(y,m)][::6]\n",
    "plt.xticks(range(df.shape[0])[::6],xticks,rotation=45,fontsize=12)\n",
    "plt.ylim(-35,35)\n",
    "plt.xlim(1,100)\n",
    "plt.grid(alpha=.5);\n",
    "plt.show()"
   ]
  },
  {
   "cell_type": "code",
   "execution_count": 51,
   "metadata": {
    "scrolled": true
   },
   "outputs": [
    {
     "data": {
      "image/png": "[encoded data removed]",
      "text/plain": [
       "<Figure size 840x600 with 1 Axes>"
      ]
     },
     "metadata": {
      "needs_background": "light"
     },
     "output_type": "display_data"
    }
   ],
   "source": [
    "# Prepare Data\n",
    "df = pd.read_csv(\"data/economics.csv\", parse_dates=['date']).head(100) #导入数据集并且保留前100行\n",
    "x = np.arange(df.shape[0]) #生成一个与数据相同长度的序列\n",
    "y_returns = (df.psavert.diff().fillna(0)/df.psavert.shift(1)).fillna(0) * 100 #生成绘制图形的目标数据\n",
    "\n",
    "# Plot\n",
    "plt.figure(figsize=(14,10), dpi= 60) #创建画布并设定画布大小\n",
    "plt.fill_between(x[1:], y_returns[1:], 0, where=y_returns[1:] >= 0, facecolor='green', interpolate=True, alpha=0.7) #大于0的部分填充为绿色\n",
    "plt.fill_between(x[1:], y_returns[1:], 0, where=y_returns[1:] <= 0, facecolor='red', interpolate=True, alpha=0.7) #小于0的部分填充为红色\n",
    "\n",
    "# Annotate\n",
    "plt.annotate('Peak \\n1975', xy=(94.0, 21.0), xytext=(88.0, 28),\n",
    "             bbox=dict(boxstyle='square', fc='firebrick'),\n",
    "             arrowprops=dict(facecolor='steelblue', shrink=0.05), fontsize=15, color='white') #添加注释\n",
    "\n",
    "\n",
    "# Decorations\n",
    "xtickvals = [str(m)[:3].upper()+\"-\"+str(y) for y,m in zip(df.date.dt.year, df.date.dt.month_name())] #生成X轴标签\n",
    "plt.gca().set_xticks(x[::6]) #获取当前子图并设定子图的x刻度（每隔6隔保留一个）\n",
    "#获取当前子图并设定X轴的刻度标签\n",
    "plt.gca().set_xticklabels(xtickvals[::6], rotation=90, fontdict={'horizontalalignment': 'center', 'verticalalignment': 'center_baseline'})\n",
    "plt.ylim(-35,35) #设定Y轴的最大最小值\n",
    "plt.xlim(1,100) #设定X轴的最大最小值\n",
    "plt.title(\"Month Economics Return %\", fontsize=22) #添加标题\n",
    "plt.ylabel('Monthly returns %') #添加Y轴标签\n",
    "plt.grid(alpha=0.5) #配置网格线\n",
    "plt.show() #本地显示图形"
   ]
  },
  {
   "cell_type": "markdown",
   "metadata": {},
   "source": [
    "### 6.图像解读"
   ]
  }
 ],
 "metadata": {
  "kernelspec": {
   "display_name": "Python 3",
   "language": "python",
   "name": "python3"
  },
  "language_info": {
   "codemirror_mode": {
    "name": "ipython",
    "version": 3
   },
   "file_extension": ".py",
   "mimetype": "text/x-python",
   "name": "python",
   "nbconvert_exporter": "python",
   "pygments_lexer": "ipython3",
   "version": "3.7.0"
  }
 },
 "nbformat": 4,
 "nbformat_minor": 2
}
